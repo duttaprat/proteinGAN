{
 "cells": [
  {
   "cell_type": "code",
   "execution_count": 1,
   "metadata": {},
   "outputs": [],
   "source": [
    "import torch\n",
    "import torch.nn as nn\n",
    "import torch.nn.functional as F\n",
    "import torch.optim as optim\n",
    "from torch.utils.data import Dataset, DataLoader\n",
    "import numpy as np\n",
    "import json\n",
    "import fastai\n",
    "from random import randint\n",
    "from fastai.text import SortishSampler\n",
    "from fastai.basic_data import DataBunch"
   ]
  },
  {
   "cell_type": "code",
   "execution_count": 2,
   "metadata": {},
   "outputs": [],
   "source": [
    "ROOT = \"../../data/protein/structure/secondary_structure/\"\n",
    "DATA_PATH = ROOT+\"cullpdb\"\n",
    "EMBEDDING_PATH = \"../../data/protein/classification/data_sources/protVec_100d_3grams.csv\"\n",
    "MODEL_PATH = \"../../weights/protein/structure/secondary_structure/1_kmers/\"\n",
    "SEQUENCE_LENGTH=729\n",
    "NUM_CLASSES = 9"
   ]
  },
  {
   "cell_type": "code",
   "execution_count": 3,
   "metadata": {},
   "outputs": [],
   "source": [
    "features = np.array([16, 32, 64, 128, 256])*2\n",
    "num_workers = 8 # On cloud 8\n",
    "batch_size = 256"
   ]
  },
  {
   "cell_type": "code",
   "execution_count": 4,
   "metadata": {},
   "outputs": [
    {
     "data": {
      "text/plain": [
       "array([ 32,  64, 128, 256, 512])"
      ]
     },
     "execution_count": 4,
     "metadata": {},
     "output_type": "execute_result"
    }
   ],
   "source": [
    "features"
   ]
  },
  {
   "cell_type": "code",
   "execution_count": 5,
   "metadata": {},
   "outputs": [],
   "source": [
    "class EnzymeDataSet(Dataset):\n",
    "    \"\"\"Face Landmarks dataset.\"\"\"\n",
    "\n",
    "    def __init__(self, data, transform=None):\n",
    "        self.data = data\n",
    "\n",
    "    def __len__(self):\n",
    "        return len(self.data)\n",
    "\n",
    "    def __getitem__(self, idx):\n",
    "        row = self.data[idx]\n",
    "        return np.int64(row[0]), np.int64(row[1])"
   ]
  },
  {
   "cell_type": "code",
   "execution_count": 6,
   "metadata": {},
   "outputs": [],
   "source": [
    "embeddings = np.eye(22,22)\n",
    "#embeddings = np.loadtxt(open(EMBEDDING_PATH, \"rb\"), delimiter=\"\\t\", skiprows=1, usecols=[i for i in range(1,101)])"
   ]
  },
  {
   "cell_type": "code",
   "execution_count": 7,
   "metadata": {},
   "outputs": [],
   "source": [
    "train = np.load(DATA_PATH+\"/train/data.npy\")\n",
    "val = np.load(DATA_PATH+\"/val/data.npy\")\n",
    "test = np.concatenate([np.load(DATA_PATH+\"/test/data.npy\"),np.load(DATA_PATH+\"/test/data.npy\")],axis=0)\n",
    "#test = np.load(DATA_PATH+\"/test/data.npy\")"
   ]
  },
  {
   "cell_type": "code",
   "execution_count": 8,
   "metadata": {},
   "outputs": [
    {
     "data": {
      "text/plain": [
       "(array([0, 1, 2, 3, 4, 5, 6, 7, 8]),\n",
       " array([2751851,   12150,  225660,  253710,   45607,  401508,     222,   96906,  132386]))"
      ]
     },
     "execution_count": 8,
     "metadata": {},
     "output_type": "execute_result"
    }
   ],
   "source": [
    "len(train)\n",
    "np.unique(np.concatenate(train[:,1]).ravel(), return_counts=True)"
   ]
  },
  {
   "cell_type": "code",
   "execution_count": 9,
   "metadata": {},
   "outputs": [],
   "source": [
    "train_sampler = SortishSampler(train, key=lambda x: len(train[x][0]), bs=batch_size//2)\n",
    "val_sampler = SortishSampler(val, key=lambda x: len(val[x][0]), bs=batch_size//2)\n",
    "test_sampler = SortishSampler(test, key=lambda x: len(test[x][0]), bs=batch_size//2)"
   ]
  },
  {
   "cell_type": "code",
   "execution_count": 10,
   "metadata": {},
   "outputs": [],
   "source": [
    "def pad_tensor(seq, label, length):\n",
    "    seq_len = len(seq)\n",
    "    to_pad = length - seq_len\n",
    "    end_padding = randint(0, to_pad)\n",
    "    begin_padding = to_pad - end_padding\n",
    "    seq = np.pad(seq, mode=\"constant\", pad_width=(begin_padding,end_padding))\n",
    "    label = np.pad(label, mode=\"constant\", pad_width=(begin_padding,end_padding))\n",
    "    return seq,label"
   ]
  },
  {
   "cell_type": "code",
   "execution_count": 11,
   "metadata": {},
   "outputs": [],
   "source": [
    "def pad_collate(samples, random=True):\n",
    "    \"Function that collect samples and adds padding.\"\n",
    "    max_len = max(64 ,max(map(lambda x: len(x[0]), samples)))\n",
    "    batch = list(map(lambda x: pad_tensor(x[0], x[1], max_len), samples))\n",
    "    # stack all\n",
    "    x = torch.stack([torch.from_numpy(b[0]) for b in batch], 0)\n",
    "    y = torch.stack([torch.from_numpy(b[1]) for b in batch], 0)\n",
    "    return x, y"
   ]
  },
  {
   "cell_type": "code",
   "execution_count": 12,
   "metadata": {
    "scrolled": false
   },
   "outputs": [],
   "source": [
    "train_ds = EnzymeDataSet(train)\n",
    "val_ds = EnzymeDataSet(val)\n",
    "test_ds = EnzymeDataSet(test)"
   ]
  },
  {
   "cell_type": "code",
   "execution_count": 13,
   "metadata": {
    "scrolled": true
   },
   "outputs": [],
   "source": [
    "dls = [DataLoader(*o, num_workers=num_workers) for o in\n",
    "       zip((train_ds, val_ds, test_ds), (batch_size,batch_size*2,batch_size*2), \n",
    "           (False,False,False), (train_sampler, val_sampler, test_sampler))]\n",
    "data = DataBunch(*dls, collate_fn=pad_collate)"
   ]
  },
  {
   "cell_type": "code",
   "execution_count": 14,
   "metadata": {},
   "outputs": [],
   "source": [
    "class UnetDown(nn.Module):\n",
    "\n",
    "    def __init__(self, num_inputs, num_outputs, kernel_size, strides, dilation_rate=1, dropout=0.2, act=F.selu, pool=True):\n",
    "        super(UnetDown, self).__init__()\n",
    "        self.act = act\n",
    "        self.conv1 = nn.Conv1d(num_inputs, num_inputs, kernel_size, stride=1, dilation = 1)\n",
    "        self.conv2 = nn.Conv1d(num_inputs, num_inputs, kernel_size, stride=1, dilation = dilation_rate)\n",
    "        self.pool = nn.Conv1d(num_inputs, num_outputs, kernel_size, stride=strides, dilation = 1)\n",
    "        self.bn1 = nn.BatchNorm1d(num_inputs)\n",
    "        self.bn2 = nn.BatchNorm1d(num_inputs)\n",
    "        self.to_pool = pool\n",
    "        before = (kernel_size -1) // 2\n",
    "        after = (kernel_size -1) - before\n",
    "        self.padding = nn.ConstantPad1d((before,after), 0)\n",
    "        stride_padding = (strides - 1) // 2\n",
    "        self.padding_stride = nn.ConstantPad1d((before-stride_padding, after -((strides - 1)-stride_padding)), 0)\n",
    "        \n",
    "    def forward(self, x):\n",
    "        out = self.conv1(self.padding(x))\n",
    "        before_pooling = self.act(self.bn1(out))\n",
    "#         out = self.conv2(self.padding(out))\n",
    "#         before_pooling = self.act(self.bn2(out))\n",
    "        if self.to_pool:\n",
    "            out = self.pool(self.padding_stride(before_pooling))\n",
    "            return out, before_pooling\n",
    "        else:\n",
    "            return before_pooling"
   ]
  },
  {
   "cell_type": "code",
   "execution_count": 107,
   "metadata": {},
   "outputs": [],
   "source": [
    "class UnetUp(nn.Module):\n",
    "    def __init__(self,  num_inputs, num_outputs, kernel_size, strides, dilation_rate=1, dropout=0.2, act=F.relu):\n",
    "        super(UnetUp, self).__init__()\n",
    "        self.act = act\n",
    "        self.up = nn.ConvTranspose1d(num_inputs, num_outputs, kernel_size, stride=strides, dilation = 1, padding=kernel_size-1)\n",
    "        self.conv1 = nn.Conv1d(num_outputs*2, num_outputs, kernel_size, stride=1, dilation = dilation_rate)\n",
    "        self.conv2 = nn.Conv1d(num_inputs, num_outputs, kernel_size, stride=1, dilation = 1)\n",
    "        \n",
    "        self.bn1 = nn.BatchNorm1d(num_outputs)\n",
    "        self.bn2 = nn.BatchNorm1d(num_outputs)\n",
    "        self.before = (kernel_size -1) // 2\n",
    "        self.after = (kernel_size -1) - self.before\n",
    "        self.padding = nn.ConstantPad1d((self.before,self.after), 0)\n",
    "        self.strides = strides\n",
    "        \n",
    "    def forward(self, x, across):  \n",
    "#         stride_padding = self.strides//2\n",
    "#         extra = 1- across.shape[2]%2\n",
    "#         self.padding_stride = nn.ConstantPad1d((self.before-(stride_padding+extra), \n",
    "#                                                   self.after -((self.strides+1)-stride_padding)), 0)\n",
    "        out = self.act(self.bn2(self.conv2((self.padding(x)))))\n",
    "#         print(x.shape, out.shape, across.shape)\n",
    "#         if out.shape[2] != across.shape[2]:\n",
    "#             out = nn.ReflectionPad1d((0, 1))(out)\n",
    "        \n",
    "        out = torch.cat([out, across], 1)\n",
    "\n",
    "        out = self.conv1(self.padding(out))\n",
    "        out = self.act(self.bn1(out))\n",
    "#         out = self.conv2(self.padding(out))\n",
    "#         out = self.act(self.bn2(out))\n",
    "        return out"
   ]
  },
  {
   "cell_type": "code",
   "execution_count": 124,
   "metadata": {},
   "outputs": [],
   "source": [
    "class Unet(nn.Module):\n",
    "    def __init__(self):\n",
    "        super(Unet, self).__init__()\n",
    "        \n",
    "        #Encoder\n",
    "        self.embedding = nn.Embedding(embeddings.shape[0], embeddings.shape[1])\n",
    "        self.embedding.from_pretrained(torch.from_numpy(embeddings)) \n",
    "        self.emb_cov = nn.Conv1d(embeddings.shape[1], features[0], 1)\n",
    "        self.unet_down1 = UnetDown(features[0], features[1], 5, 1)   \n",
    "        self.unet_down2 = UnetDown(features[1], features[2], 5, 1)  \n",
    "        self.unet_down3 = UnetDown(features[2], features[3], 7, 1)\n",
    "        self.unet_down4 = UnetDown(features[3], features[4], 9, 1)        \n",
    "        \n",
    "        self.center = UnetDown(features[3], features[3], 9, 1, pool=False)        \n",
    "        #Decoder\n",
    "        self.unet_block1 = UnetUp(features[4], features[3], 9, 1)   \n",
    "        self.unet_block2 = UnetUp(features[3], features[2], 7, 1)  \n",
    "        self.unet_block3 = UnetUp(features[2], features[1], 5, 1)\n",
    "        self.unet_block4 = UnetUp(features[1], features[0], 5, 1)\n",
    "        self.classification = nn.Conv1d(features[0], NUM_CLASSES, 1)\n",
    "\n",
    "    def forward(self, x):\n",
    "        embedded_seq = self.embedding(x)\n",
    "        embedded_seq.transpose_(1, 2)\n",
    "        embedded_seq = self.emb_cov(embedded_seq)\n",
    "        d1, before_pooling1 = self.unet_down1(embedded_seq)\n",
    "        d1 = nn.Dropout(p=0.3)(d1)\n",
    "        d2, before_pooling2 = self.unet_down2(d1)\n",
    "        d2 = nn.Dropout(p=0.4)(d2)\n",
    "        d3, before_pooling3 = self.unet_down3(d2)\n",
    "        d3 = nn.Dropout(p=0.5)(d3)\n",
    "        #d4, before_pooling4 = self.unet_down4(d3)\n",
    "        \n",
    "        c = self.center(d3)\n",
    "        \n",
    "        #u1 = self.unet_block1(c, before_pooling4)\n",
    "        c = nn.Dropout(p=0.5)(c)\n",
    "        u2 = self.unet_block2(c, before_pooling3)\n",
    "        u2 = nn.Dropout(p=0.4)(u2)\n",
    "        u3 = self.unet_block3(u2, before_pooling2) \n",
    "        u3 = nn.Dropout(p=0.3)(u3)\n",
    "        u4 = self.unet_block4(u3, before_pooling1) \n",
    "        u4 = nn.Dropout(p=0.2)(u4)\n",
    "        output = self.classification(u4)\n",
    "        return output"
   ]
  },
  {
   "cell_type": "code",
   "execution_count": 125,
   "metadata": {},
   "outputs": [],
   "source": [
    "def accuracy(input, targs):\n",
    "    \"Compute accuracy with `targs` when `input` is bs * n_classes.\"\n",
    "    mask = (targs > 0)\n",
    "    targs = targs.masked_select(mask)\n",
    "    input = input.argmax(dim=1)\n",
    "    input = input.masked_select(mask)\n",
    "    return (input==targs).float().mean()"
   ]
  },
  {
   "cell_type": "code",
   "execution_count": 126,
   "metadata": {
    "scrolled": true
   },
   "outputs": [],
   "source": [
    "unet = Unet().cuda()"
   ]
  },
  {
   "cell_type": "code",
   "execution_count": 127,
   "metadata": {
    "scrolled": true
   },
   "outputs": [],
   "source": [
    "#criterion = nn.CrossEntropyLoss(weight=torch.tensor([0.1, 1, 1, 1, 1, 1, 1, 1, 1]).cuda())\n",
    "criterion = nn.CrossEntropyLoss(weight=torch.tensor([0.1, 4.4, 1.2, 1.4, 3.1, 1, 8.5, 2.4, 2]).cuda())\n",
    "optimizer = optim.Adam(unet.parameters(), lr=0.001)"
   ]
  },
  {
   "cell_type": "code",
   "execution_count": 128,
   "metadata": {},
   "outputs": [],
   "source": [
    "learner = fastai.basic_train.Learner(data, unet, \n",
    "        loss_func=criterion, \n",
    "        metrics=accuracy, \n",
    "        path=None, \n",
    "        model_dir='models')"
   ]
  },
  {
   "cell_type": "code",
   "execution_count": 129,
   "metadata": {
    "scrolled": false
   },
   "outputs": [
    {
     "name": "stdout",
     "output_type": "stream",
     "text": [
      "Total time: 00:40\n",
      "epoch  train_loss  valid_loss  accuracy\n",
      "1      1.956740    1.965885    0.349779  (00:08)\n",
      "2      1.823577    1.840537    0.418104  (00:08)\n",
      "3      1.722737    1.600625    0.495742  (00:07)\n",
      "4      1.640784    1.509838    0.482521  (00:07)\n",
      "5      1.571316    1.452152    0.509797  (00:08)\n",
      "\n"
     ]
    }
   ],
   "source": [
    "learner.fit(5, lr=0.001)"
   ]
  },
  {
   "cell_type": "code",
   "execution_count": 130,
   "metadata": {
    "scrolled": true
   },
   "outputs": [
    {
     "name": "stdout",
     "output_type": "stream",
     "text": [
      "Total time: 04:00\n",
      "epoch  train_loss  valid_loss  accuracy\n",
      "1      1.428238    1.415173    0.517290  (00:08)\n",
      "2      1.413039    1.389913    0.510252  (00:08)\n",
      "3      1.391551    1.388196    0.521880  (00:08)\n",
      "4      1.365236    1.323021    0.524024  (00:08)\n",
      "5      1.336712    1.288753    0.532218  (00:07)\n",
      "6      1.311779    1.316239    0.541456  (00:08)\n",
      "7      1.288687    1.245313    0.531118  (00:07)\n",
      "8      1.269979    1.278062    0.537757  (00:08)\n",
      "9      1.255617    1.276133    0.531080  (00:07)\n",
      "10     1.246099    1.230438    0.544965  (00:08)\n",
      "11     1.235908    1.353615    0.548986  (00:08)\n",
      "12     1.226104    1.212207    0.539483  (00:08)\n",
      "13     1.217496    1.208717    0.544699  (00:08)\n",
      "14     1.210322    1.206868    0.550807  (00:07)\n",
      "15     1.204957    1.210585    0.546596  (00:07)\n",
      "16     1.200524    1.193573    0.550579  (00:07)\n",
      "17     1.196165    1.205618    0.557598  (00:08)\n",
      "18     1.191939    1.187074    0.560500  (00:08)\n",
      "19     1.188269    1.191825    0.560140  (00:07)\n",
      "20     1.184743    1.189496    0.561695  (00:07)\n",
      "21     1.181862    1.186717    0.559779  (00:07)\n",
      "22     1.178267    1.180445    0.562378  (00:08)\n",
      "23     1.174931    1.180995    0.555473  (00:07)\n",
      "24     1.171807    1.223615    0.557712  (00:08)\n",
      "25     1.169401    1.177464    0.564540  (00:08)\n",
      "26     1.167036    1.178513    0.562473  (00:08)\n",
      "27     1.164841    1.175865    0.565337  (00:08)\n",
      "28     1.163292    1.178637    0.559798  (00:07)\n",
      "29     1.161939    1.174832    0.564009  (00:08)\n",
      "30     1.160603    1.173667    0.562643  (00:08)\n",
      "\n"
     ]
    }
   ],
   "source": [
    "learner.fit_one_cycle(30)"
   ]
  },
  {
   "cell_type": "code",
   "execution_count": 131,
   "metadata": {
    "scrolled": true
   },
   "outputs": [
    {
     "data": {
      "image/png": "[encoded data removed]",
      "text/plain": [
       "<Figure size 432x288 with 1 Axes>"
      ]
     },
     "metadata": {},
     "output_type": "display_data"
    }
   ],
   "source": [
    "learner.recorder.plot()"
   ]
  },
  {
   "cell_type": "code",
   "execution_count": 116,
   "metadata": {},
   "outputs": [],
   "source": [
    "preds, truth = learner.get_preds(is_test=True)"
   ]
  },
  {
   "cell_type": "code",
   "execution_count": 117,
   "metadata": {
    "scrolled": true
   },
   "outputs": [
    {
     "data": {
      "text/plain": [
       "tensor(0.5637)"
      ]
     },
     "execution_count": 117,
     "metadata": {},
     "output_type": "execute_result"
    }
   ],
   "source": [
    "accuracy(preds, truth)"
   ]
  },
  {
   "cell_type": "code",
   "execution_count": 118,
   "metadata": {},
   "outputs": [
    {
     "name": "stdout",
     "output_type": "stream",
     "text": [
      "0.5853871591714788\n"
     ]
    }
   ],
   "source": [
    "acc = []\n",
    "min_element = 0\n",
    "min_score = 1\n",
    "s = [0, 0, 0, 0, 0, 0, 0, 0, 0]\n",
    "s_t = [0, 0, 0, 0, 0, 0, 0, 0, 0]\n",
    "total = [0, 0, 0, 0, 0, 0, 0, 0, 0]\n",
    "for row in range(len(truth)):\n",
    "\n",
    "    a = preds.argmax(dim=1)[row]\n",
    "    correct = 0\n",
    "    actual = 0\n",
    "    for i, t in enumerate(truth[row]):\n",
    "        s[t] = s[t]+1\n",
    "        total[a[i]] = total[a[i]]+1\n",
    "        if t != 0: # and t != 1:\n",
    "            actual += 1\n",
    "            if a[i] == t:        \n",
    "                correct += 1\n",
    "                s_t[t] = s_t[t]+1\n",
    "    score = correct/actual\n",
    "    if min_score > score:\n",
    "        min_score = score\n",
    "        min_element = row\n",
    "    acc.append(score)\n",
    "\n",
    "print(np.mean(acc))"
   ]
  },
  {
   "cell_type": "code",
   "execution_count": 119,
   "metadata": {},
   "outputs": [
    {
     "name": "stderr",
     "output_type": "stream",
     "text": [
      "/home/donatas_repecka/anaconda3/lib/python3.6/site-packages/ipykernel_launcher.py:1: RuntimeWarning: invalid value encountered in true_divide\n",
      "  \"\"\"Entry point for launching an IPython kernel.\n"
     ]
    },
    {
     "data": {
      "text/plain": [
       "array([0.      , 0.007987, 0.348927, 0.704149, 0.175282, 0.752782,      nan, 0.244321, 0.468413])"
      ]
     },
     "execution_count": 119,
     "metadata": {},
     "output_type": "execute_result"
    }
   ],
   "source": [
    "np.array(s_t)/np.array(s)"
   ]
  },
  {
   "cell_type": "code",
   "execution_count": 120,
   "metadata": {},
   "outputs": [
    {
     "name": "stdout",
     "output_type": "stream",
     "text": [
      "0     |10    |7347  |17208 |807   |30444 |0     |2194  |5902  \n",
      "267428|1252  |21056 |24438 |4604  |40442 |0     |8980  |12600 \n",
      "267415|47    |13667 |30250 |4121  |39828 |0     |8813  |16659 \n"
     ]
    }
   ],
   "source": [
    "import pandas as pd\n",
    "print(\"|\".join([\"{0: <6}\".format(x) for x in s_t]))\n",
    "print(\"|\".join([\"{0: <6}\".format(x) for x in s]))\n",
    "print(\"|\".join([\"{0: <6}\".format(x) for x in total]))"
   ]
  },
  {
   "cell_type": "code",
   "execution_count": 121,
   "metadata": {
    "scrolled": true
   },
   "outputs": [
    {
     "name": "stdout",
     "output_type": "stream",
     "text": [
      "0.26262626262626265\n"
     ]
    },
    {
     "data": {
      "text/plain": [
       "(tensor([2, 2, 2, 2, 5, 5, 5, 5, 2, 8, 8, 7, 2, 5, 5, 5, 5, 5, 5, 5, 5, 5, 8, 8,\n",
       "         7, 2, 4, 4, 4, 3, 3, 3, 3, 8, 8, 7, 3, 3, 2, 4, 8, 8, 7, 2, 3, 3, 3, 3,\n",
       "         3, 5, 8, 2, 3, 3, 7, 7, 2, 7, 7, 7, 8, 7, 2, 2, 2, 4, 8, 3, 3, 3, 3, 3,\n",
       "         8, 8, 7, 8, 7, 2, 3, 3, 7, 2, 8, 8, 7, 8, 8, 2, 2, 8, 8, 7, 7, 2, 3, 3,\n",
       "         3, 3, 3, 3, 3, 7, 7, 2, 8, 7, 3, 3, 2, 3, 5, 7, 2, 5, 3, 3, 8, 8, 8, 8,\n",
       "         8, 3, 3, 3, 2, 2, 8, 8, 7, 2, 1, 7, 2, 7, 7, 3, 4, 8, 3, 3, 8, 7, 7, 8,\n",
       "         8, 2, 2, 8, 8, 8, 2, 4, 8, 3, 2, 7, 8, 8, 2, 3, 3, 2, 4, 4, 4, 4, 7, 8,\n",
       "         2, 3, 3, 3, 3, 7, 2, 4, 4, 4, 8, 8, 7, 7, 7, 7, 2, 3, 3, 3, 3, 3, 3, 3,\n",
       "         3, 3, 3, 3, 2, 2, 0, 0, 0, 0, 0, 0, 0, 0, 0, 0, 0, 0, 0, 0, 0, 0, 0, 0,\n",
       "         0, 0, 0, 0, 0, 0, 0, 0, 0, 0, 0, 0, 0, 0, 0, 0, 0, 0, 0, 0, 0, 0, 0, 0,\n",
       "         0, 0, 0, 0, 0, 0, 0, 0, 0, 0, 0, 0, 0, 0, 0, 0, 0, 0, 0, 0, 0, 0, 0, 0,\n",
       "         0, 0, 0, 0, 0, 0, 0, 0, 0, 0, 0, 0, 0, 0, 0, 0, 0, 0, 0, 0, 0, 0, 0, 0,\n",
       "         0, 0, 0, 0, 0, 0, 0, 0, 0, 0, 0, 0, 0, 0, 0, 0, 0, 0, 0, 0, 0, 0, 0, 0,\n",
       "         0, 0, 0, 0, 0, 0, 0, 0, 0, 0, 0, 0, 0, 0, 0, 0, 0, 0, 0, 0, 0, 0, 0, 0,\n",
       "         0, 0, 0, 0, 0, 0, 0, 0, 0, 0, 0, 0, 0, 0, 0, 0, 0, 0, 0, 0, 0, 0, 0, 0,\n",
       "         0, 0, 0, 0, 0, 0, 0, 0, 0, 0, 0, 0, 0, 0, 0, 0, 0, 0, 0, 0, 0, 0, 0, 0,\n",
       "         0, 0, 0, 0, 0, 0, 0, 0, 0, 0, 0, 0, 0, 0, 0, 0, 0, 0, 0, 0, 0, 0, 0, 0,\n",
       "         0, 0, 0, 0, 0, 0, 0, 0, 0, 0, 0, 0, 0, 0, 0, 0, 0, 0, 0, 0, 0, 0, 0, 0,\n",
       "         0, 0, 0, 0, 0, 0, 0, 0, 0, 0, 0, 0, 0, 0, 0, 0, 0, 0, 0, 0, 0, 0, 0, 0,\n",
       "         0, 0, 0, 0, 0, 0, 0, 0, 0, 0, 0, 0, 0, 0, 0, 0, 0, 0, 0, 0, 0, 0, 0, 0,\n",
       "         0, 0, 0, 0, 0, 0, 0, 0, 0, 0, 0, 0, 0, 0, 0, 0, 0, 0, 0, 0, 0, 0, 0, 0,\n",
       "         0, 0, 0, 0, 0, 0, 0, 0, 0, 0, 0, 0, 0, 0, 0, 0, 0, 0, 0, 0, 0, 0, 0, 0,\n",
       "         0, 0, 0, 0, 0, 0, 0, 0, 0, 0, 0, 0, 0, 0, 0, 0, 0, 0, 0, 0, 0, 0, 0, 0,\n",
       "         0, 0, 0, 0, 0, 0, 0, 0, 0, 0, 0, 0, 0, 0, 0, 0, 0, 0, 0, 0, 0, 0, 0, 0,\n",
       "         0, 0, 0, 0, 0, 0, 0, 0, 0, 0, 0, 0, 0, 0, 0, 0, 0, 0, 0, 0, 0, 0, 0, 0,\n",
       "         0, 0, 0, 0, 0, 0, 0, 0, 0, 0, 0, 0, 0, 0, 0, 0, 0, 0, 0, 0, 0, 0, 0, 0,\n",
       "         0, 0, 0, 0, 0, 0, 0, 0, 0, 0, 0, 0, 0, 0, 0, 0, 0, 0, 0, 0, 0, 0, 0, 0,\n",
       "         0, 0, 0, 0, 0, 0, 0, 0, 0, 0, 0, 0, 0, 0, 0, 0, 0, 0, 0, 0, 0, 0, 0, 0,\n",
       "         0, 0, 0, 0, 0, 0, 0, 0, 0, 0, 0, 0, 0, 0, 0, 0, 0, 0, 0, 0, 0, 0, 0, 0,\n",
       "         0, 0, 0, 0]),\n",
       " tensor([2, 2, 2, 2, 8, 5, 5, 5, 5, 5, 5, 7, 2, 8, 8, 2, 3, 3, 3, 3, 7, 7, 7, 7,\n",
       "         2, 7, 7, 8, 8, 3, 3, 3, 7, 1, 7, 2, 1, 2, 2, 8, 8, 8, 2, 5, 5, 5, 5, 5,\n",
       "         5, 8, 8, 8, 8, 8, 7, 1, 2, 7, 7, 7, 1, 1, 2, 2, 1, 2, 8, 8, 2, 2, 2, 2,\n",
       "         2, 7, 7, 2, 2, 5, 5, 5, 5, 2, 4, 4, 4, 7, 7, 1, 2, 8, 8, 7, 2, 1, 2, 8,\n",
       "         8, 8, 8, 2, 2, 2, 2, 7, 8, 8, 2, 2, 2, 2, 2, 2, 2, 2, 2, 2, 2, 2, 2, 2,\n",
       "         7, 2, 2, 2, 7, 7, 7, 2, 2, 8, 8, 2, 2, 2, 2, 7, 7, 7, 2, 2, 2, 2, 7, 7,\n",
       "         2, 2, 2, 7, 2, 2, 2, 2, 2, 2, 2, 2, 2, 7, 7, 2, 7, 7, 2, 4, 4, 4, 2, 2,\n",
       "         4, 4, 4, 2, 2, 7, 7, 8, 8, 2, 7, 7, 7, 2, 2, 2, 2, 7, 2, 2, 2, 2, 3, 3,\n",
       "         3, 3, 3, 2, 2, 2, 0, 0, 0, 0, 0, 0, 0, 0, 0, 0, 0, 0, 0, 0, 0, 0, 0, 0,\n",
       "         0, 0, 0, 0, 0, 0, 0, 0, 0, 0, 0, 0, 0, 0, 0, 0, 0, 0, 0, 0, 0, 0, 0, 0,\n",
       "         0, 0, 0, 0, 0, 0, 0, 0, 0, 0, 0, 0, 0, 0, 0, 0, 0, 0, 0, 0, 0, 0, 0, 0,\n",
       "         0, 0, 0, 0, 0, 0, 0, 0, 0, 0, 0, 0, 0, 0, 0, 0, 0, 0, 0, 0, 0, 0, 0, 0,\n",
       "         0, 0, 0, 0, 0, 0, 0, 0, 0, 0, 0, 0, 0, 0, 0, 0, 0, 0, 0, 0, 0, 0, 0, 0,\n",
       "         0, 0, 0, 0, 0, 0, 0, 0, 0, 0, 0, 0, 0, 0, 0, 0, 0, 0, 0, 0, 0, 0, 0, 0,\n",
       "         0, 0, 0, 0, 0, 0, 0, 0, 0, 0, 0, 0, 0, 0, 0, 0, 0, 0, 0, 0, 0, 0, 0, 0,\n",
       "         0, 0, 0, 0, 0, 0, 0, 0, 0, 0, 0, 0, 0, 0, 0, 0, 0, 0, 0, 0, 0, 0, 0, 0,\n",
       "         0, 0, 0, 0, 0, 0, 0, 0, 0, 0, 0, 0, 0, 0, 0, 0, 0, 0, 0, 0, 0, 0, 0, 0,\n",
       "         0, 0, 0, 0, 0, 0, 0, 0, 0, 0, 0, 0, 0, 0, 0, 0, 0, 0, 0, 0, 0, 0, 0, 0,\n",
       "         0, 0, 0, 0, 0, 0, 0, 0, 0, 0, 0, 0, 0, 0, 0, 0, 0, 0, 0, 0, 0, 0, 0, 0,\n",
       "         0, 0, 0, 0, 0, 0, 0, 0, 0, 0, 0, 0, 0, 0, 0, 0, 0, 0, 0, 0, 0, 0, 0, 0,\n",
       "         0, 0, 0, 0, 0, 0, 0, 0, 0, 0, 0, 0, 0, 0, 0, 0, 0, 0, 0, 0, 0, 0, 0, 0,\n",
       "         0, 0, 0, 0, 0, 0, 0, 0, 0, 0, 0, 0, 0, 0, 0, 0, 0, 0, 0, 0, 0, 0, 0, 0,\n",
       "         0, 0, 0, 0, 0, 0, 0, 0, 0, 0, 0, 0, 0, 0, 0, 0, 0, 0, 0, 0, 0, 0, 0, 0,\n",
       "         0, 0, 0, 0, 0, 0, 0, 0, 0, 0, 0, 0, 0, 0, 0, 0, 0, 0, 0, 0, 0, 0, 0, 0,\n",
       "         0, 0, 0, 0, 0, 0, 0, 0, 0, 0, 0, 0, 0, 0, 0, 0, 0, 0, 0, 0, 0, 0, 0, 0,\n",
       "         0, 0, 0, 0, 0, 0, 0, 0, 0, 0, 0, 0, 0, 0, 0, 0, 0, 0, 0, 0, 0, 0, 0, 0,\n",
       "         0, 0, 0, 0, 0, 0, 0, 0, 0, 0, 0, 0, 0, 0, 0, 0, 0, 0, 0, 0, 0, 0, 0, 0,\n",
       "         0, 0, 0, 0, 0, 0, 0, 0, 0, 0, 0, 0, 0, 0, 0, 0, 0, 0, 0, 0, 0, 0, 0, 0,\n",
       "         0, 0, 0, 0, 0, 0, 0, 0, 0, 0, 0, 0, 0, 0, 0, 0, 0, 0, 0, 0, 0, 0, 0, 0,\n",
       "         0, 0, 0, 0]))"
      ]
     },
     "execution_count": 121,
     "metadata": {},
     "output_type": "execute_result"
    }
   ],
   "source": [
    "print(min_score)\n",
    "preds.argmax(dim=1)[min_element], truth[min_element]"
   ]
  },
  {
   "cell_type": "code",
   "execution_count": 123,
   "metadata": {},
   "outputs": [
    {
     "name": "stdout",
     "output_type": "stream",
     "text": [
      "2333333244455555555555588733333337772721227333337255555555551288233333377722772233444555555555882233333333333388333337733333228872233333338872233333733333284444888444822222882233333337278822223333882233333333333338833333333333333333333332882255555555522722\n",
      "2333333332222885555333288333333333778727233333333785555555555888233333388888233372555555555555888223333333333358873333333333338887333333333338333333883333788723333333333332883333332877873333333332882333333777333338833382333333388733333322882333333355888822\n"
     ]
    }
   ],
   "source": [
    "t_s = \"\"\n",
    "p_s = \"\"\n",
    "element = 4\n",
    "p = preds.argmax(dim=1)[element]\n",
    "for i, t in enumerate(truth[element]):\n",
    "    if t != 0:\n",
    "        t_s += str(int(t))\n",
    "        p_s += str(int(p[i]))\n",
    "print(t_s)\n",
    "print(p_s)"
   ]
  },
  {
   "cell_type": "code",
   "execution_count": null,
   "metadata": {},
   "outputs": [],
   "source": []
  },
  {
   "cell_type": "code",
   "execution_count": null,
   "metadata": {},
   "outputs": [],
   "source": []
  }
 ],
 "metadata": {
  "kernelspec": {
   "display_name": "Python 3",
   "language": "python",
   "name": "python3"
  },
  "language_info": {
   "codemirror_mode": {
    "name": "ipython",
    "version": 3
   },
   "file_extension": ".py",
   "mimetype": "text/x-python",
   "name": "python",
   "nbconvert_exporter": "python",
   "pygments_lexer": "ipython3",
   "version": "3.6.5"
  }
 },
 "nbformat": 4,
 "nbformat_minor": 2
}
