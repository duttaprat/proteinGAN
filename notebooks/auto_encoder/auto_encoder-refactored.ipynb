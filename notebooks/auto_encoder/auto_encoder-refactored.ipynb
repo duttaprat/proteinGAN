{
 "cells": [
  {
   "cell_type": "markdown",
   "metadata": {},
   "source": [
    "# Global Parameters"
   ]
  },
  {
   "cell_type": "code",
   "execution_count": 1,
   "metadata": {
    "scrolled": false
   },
   "outputs": [
    {
     "name": "stdout",
     "output_type": "stream",
     "text": [
      "1.9.0\n"
     ]
    }
   ],
   "source": [
    "import tensorflow as tf\n",
    "import numpy as np\n",
    "print(tf.__version__)"
   ]
  },
  {
   "cell_type": "code",
   "execution_count": 2,
   "metadata": {},
   "outputs": [],
   "source": [
    "from common.model.autoencoder import auto_encoder"
   ]
  },
  {
   "cell_type": "markdown",
   "metadata": {
    "colab_type": "text",
    "id": "SeeOZueJy-fW"
   },
   "source": [
    "## Input"
   ]
  },
  {
   "cell_type": "code",
   "execution_count": 8,
   "metadata": {
    "colab": {
     "autoexec": {
      "startup": false,
      "wait_interval": 0
     },
     "base_uri": "https://localhost:8080/",
     "height": 86
    },
    "colab_type": "code",
    "executionInfo": {
     "elapsed": 1220,
     "status": "ok",
     "timestamp": 1522629683286,
     "user": {
      "displayName": "CeShine Lee",
      "photoUrl": "//lh6.googleusercontent.com/-TKaCzeGtBXw/AAAAAAAAAAI/AAAAAAAAjB4/Xqwbek0CNps/s50-c-k-no/photo.jpg",
      "userId": "114938319508229761672"
     },
     "user_tz": -480
    },
    "id": "5zj3MnAMy-fq",
    "outputId": "85b5cede-11ac-4182-f7e5-8deffffce67b",
    "scrolled": false
   },
   "outputs": [],
   "source": [
    "#train_data = np.load(\"../data/protein/classification/train_features_all.npy\")\n",
    "#val_data = np.load(\"../data/protein/classification/val_features_all.npy\")"
   ]
  },
  {
   "cell_type": "code",
   "execution_count": 9,
   "metadata": {},
   "outputs": [
    {
     "data": {
      "text/plain": [
       "((185137, 128), (46285, 128))"
      ]
     },
     "execution_count": 9,
     "metadata": {},
     "output_type": "execute_result"
    }
   ],
   "source": [
    "train_data = np.asarray([ np.asarray(element) for element in train_data[:,0]])\n",
    "val_data = np.asarray([ np.asarray(element) for element in val_data[:,0]])\n",
    "train_data = train_data[:,:128]\n",
    "val_data = val_data[:,:128]\n",
    "train_data.shape, val_data.shape"
   ]
  },
  {
   "cell_type": "code",
   "execution_count": 12,
   "metadata": {},
   "outputs": [],
   "source": [
    "train_data = np.load(\"../data/protein/cgan/full/train_features_smiles.npy\")\n",
    "val_data = np.load(\"../data/protein/cgan/full/val_features_smiles.npy\")"
   ]
  },
  {
   "cell_type": "code",
   "execution_count": 13,
   "metadata": {},
   "outputs": [
    {
     "data": {
      "text/plain": [
       "((11671, 275), (2918, 275))"
      ]
     },
     "execution_count": 13,
     "metadata": {},
     "output_type": "execute_result"
    }
   ],
   "source": [
    "train_data.shape, val_data.shape"
   ]
  },
  {
   "cell_type": "markdown",
   "metadata": {
    "colab_type": "text",
    "id": "5jYugVyby-g-"
   },
   "source": [
    "# Model"
   ]
  },
  {
   "cell_type": "code",
   "execution_count": 14,
   "metadata": {
    "colab": {
     "autoexec": {
      "startup": false,
      "wait_interval": 0
     },
     "base_uri": "https://localhost:8080/",
     "height": 34
    },
    "colab_type": "code",
    "executionInfo": {
     "elapsed": 1300,
     "status": "ok",
     "timestamp": 1522634805178,
     "user": {
      "displayName": "CeShine Lee",
      "photoUrl": "//lh6.googleusercontent.com/-TKaCzeGtBXw/AAAAAAAAAAI/AAAAAAAAjB4/Xqwbek0CNps/s50-c-k-no/photo.jpg",
      "userId": "114938319508229761672"
     },
     "user_tz": -480
    },
    "id": "41qAk9lAy-hC",
    "outputId": "a1607a69-b33e-4ef6-e792-360a4b0e250f"
   },
   "outputs": [
    {
     "name": "stdout",
     "output_type": "stream",
     "text": [
      "Number of epochs: 3 with batches size: 128\n"
     ]
    }
   ],
   "source": [
    "# Training Parameters\n",
    "LEARNING_RATE = 0.001\n",
    "DROPOUT_RATE = 0.4\n",
    "\n",
    "# Network parameters\n",
    "SEQUENCE_LENGTH=train_data.shape[1]\n",
    "ONE_HOT_LENGTH = train_data.max()+1\n",
    "\n",
    "# Training \n",
    "BATCH_SIZE = 128\n",
    "NUM_EPOCHS = 3\n",
    "\n",
    "print(\"Number of epochs: {} with batches size: {}\".format(NUM_EPOCHS, BATCH_SIZE))"
   ]
  },
  {
   "cell_type": "markdown",
   "metadata": {},
   "source": [
    "## Creating model"
   ]
  },
  {
   "cell_type": "code",
   "execution_count": 16,
   "metadata": {
    "scrolled": true
   },
   "outputs": [
    {
     "name": "stdout",
     "output_type": "stream",
     "text": [
      "All parameters: 86231133.0 (out of them 28742345 are trainable)\n",
      "\n",
      "encoder/dense0/kernel:0(14025, 1024)\n",
      "encoder/dense0/bias:0(1024,)\n",
      "encoder/batch_normalization_encoder/gamma:0(1024,)\n",
      "encoder/batch_normalization_encoder/beta:0(1024,)\n",
      "decoder/batch_normalization_decoder/gamma:0(1024,)\n",
      "decoder/batch_normalization_decoder/beta:0(1024,)\n",
      "decoder/final_dense/kernel:0(1024, 14025)\n",
      "decoder/final_dense/bias:0(14025,)\n"
     ]
    }
   ],
   "source": [
    "auto_encoder_instance = auto_encoder(SEQUENCE_LENGTH, ONE_HOT_LENGTH, model_version = 275)"
   ]
  },
  {
   "cell_type": "markdown",
   "metadata": {},
   "source": [
    "## Start training"
   ]
  },
  {
   "cell_type": "code",
   "execution_count": null,
   "metadata": {
    "scrolled": true
   },
   "outputs": [],
   "source": [
    "auto_encoder_instance.train(train_data, val_data)\n",
    "#auto_encoder_instance.restore()"
   ]
  },
  {
   "cell_type": "markdown",
   "metadata": {},
   "source": [
    "# Validation"
   ]
  },
  {
   "cell_type": "code",
   "execution_count": 19,
   "metadata": {},
   "outputs": [
    {
     "data": {
      "text/plain": [
       "(46285, 128)"
      ]
     },
     "execution_count": 19,
     "metadata": {},
     "output_type": "execute_result"
    }
   ],
   "source": [
    "val_data.shape"
   ]
  },
  {
   "cell_type": "code",
   "execution_count": 20,
   "metadata": {},
   "outputs": [],
   "source": [
    "original, decoded = auto_encoder_instance.predict(val_data)"
   ]
  },
  {
   "cell_type": "code",
   "execution_count": 21,
   "metadata": {},
   "outputs": [
    {
     "name": "stdout",
     "output_type": "stream",
     "text": [
      "MTKVFINGEFVNEEDAKVSYEDRGYVFGDGIYEYIRAYDGKLFTVKEHFERFLRSAEEIGLDLNYTIEELIELVRRLLKENNVVNGGIYIQATRGAAPRNHSFPTPPVKPVIMAFTKSYDRPYEELEQ\n",
      "MTKVFINGEFVNEEDAKVSYEDRGYVFGDGIYEYIKAYDGKLFTVKEHFERFLRSAEEIGLDLNYTIEELIELVRRLLKENNVVNGGIYIQATRGAAPRNHSFPTPPVKPVIMALTKSYDRPYEELEQ\n",
      "False\n"
     ]
    }
   ],
   "source": [
    "from common.bio.constants import *\n",
    "for example in range(len(original)):\n",
    "    original_restored = \"\".join([ID_TO_AMINO_ACID[acid_index] for acid_index in original[example]])\n",
    "    decoded_restored = \"\".join([ID_TO_AMINO_ACID[acid_index] for acid_index in decoded[example]])\n",
    "    print(original_restored)\n",
    "    print(decoded_restored)\n",
    "    print(original_restored==decoded_restored)\n",
    "    break;"
   ]
  },
  {
   "cell_type": "code",
   "execution_count": 22,
   "metadata": {},
   "outputs": [
    {
     "name": "stdout",
     "output_type": "stream",
     "text": [
      "Finished encoding. Encoded shape: (128, 1024)\n"
     ]
    }
   ],
   "source": [
    "encoded = auto_encoder_instance.encode(val_data[:128])"
   ]
  },
  {
   "cell_type": "code",
   "execution_count": 23,
   "metadata": {},
   "outputs": [
    {
     "data": {
      "text/plain": [
       "(128, 1024)"
      ]
     },
     "execution_count": 23,
     "metadata": {},
     "output_type": "execute_result"
    }
   ],
   "source": [
    "encoded.shape"
   ]
  },
  {
   "cell_type": "code",
   "execution_count": 24,
   "metadata": {},
   "outputs": [],
   "source": [
    "decoded = auto_encoder_instance.decode(encoded)"
   ]
  },
  {
   "cell_type": "code",
   "execution_count": 25,
   "metadata": {},
   "outputs": [
    {
     "data": {
      "text/plain": [
       "'MNFFHLAYWQDKALSLAIENRLFINGEITAAAENENFETVDPVTQAKLAKIARGKSVDIDRAMSAARGVFERGDLSLSSPAKRKAVLNKLADLQEAHAEELALLETLDTGKPIRHSLRDDIPGAARAI'"
      ]
     },
     "execution_count": 25,
     "metadata": {},
     "output_type": "execute_result"
    }
   ],
   "source": [
    "\"\".join([ID_TO_AMINO_ACID[acid_index] for acid_index in decoded[example]])"
   ]
  }
 ],
 "metadata": {
  "accelerator": "GPU",
  "colab": {
   "collapsed_sections": [],
   "default_view": {},
   "name": "tcn_mnist.ipynb",
   "provenance": [],
   "toc_visible": true,
   "version": "0.3.2",
   "views": {}
  },
  "kernelspec": {
   "display_name": "Python 3",
   "language": "python",
   "name": "python3"
  },
  "language_info": {
   "codemirror_mode": {
    "name": "ipython",
    "version": 3
   },
   "file_extension": ".py",
   "mimetype": "text/x-python",
   "name": "python",
   "nbconvert_exporter": "python",
   "pygments_lexer": "ipython3",
   "version": "3.6.6"
  }
 },
 "nbformat": 4,
 "nbformat_minor": 1
}
