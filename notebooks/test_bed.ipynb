{
 "cells": [
  {
   "cell_type": "code",
   "execution_count": 3,
   "metadata": {},
   "outputs": [],
   "source": [
    "import tensorflow as tf"
   ]
  },
  {
   "cell_type": "code",
   "execution_count": 4,
   "metadata": {},
   "outputs": [],
   "source": [
    "tf.enable_eager_execution()"
   ]
  },
  {
   "cell_type": "markdown",
   "metadata": {
    "heading_collapsed": true
   },
   "source": [
    "## Conv test"
   ]
  },
  {
   "cell_type": "code",
   "execution_count": 53,
   "metadata": {
    "hidden": true
   },
   "outputs": [],
   "source": [
    "s=[[1.0,2.0,3.0,4.0,5.0,6.0],[10.0,20.0,30.0,40.0,50.0,60.0]]"
   ]
  },
  {
   "cell_type": "code",
   "execution_count": 54,
   "metadata": {
    "hidden": true
   },
   "outputs": [],
   "source": [
    "s = tf.square(s)"
   ]
  },
  {
   "cell_type": "code",
   "execution_count": 55,
   "metadata": {
    "hidden": true
   },
   "outputs": [
    {
     "data": {
      "text/plain": [
       "TensorShape([Dimension(2), Dimension(6)])"
      ]
     },
     "execution_count": 55,
     "metadata": {},
     "output_type": "execute_result"
    }
   ],
   "source": [
    "s.shape"
   ]
  },
  {
   "cell_type": "code",
   "execution_count": 56,
   "metadata": {
    "hidden": true
   },
   "outputs": [],
   "source": [
    "a = [[1.0,2.0,3.0,4.0,5.0,6.0],[10.0,20.0,30.0,40.0,50.0,60.0],[100.0,200.0,300.0,400.0,500.0,600.0],\n",
    "     [-1.0,-20.,-3.0,-4.0,-5.0,-6.0],[-10.0,-20.0,-30.0,-40.0,-50.0,-60.0],[-100.0,-200.0,-300.0,-400.0,-500.0,-600.0]]"
   ]
  },
  {
   "cell_type": "code",
   "execution_count": 57,
   "metadata": {
    "hidden": true
   },
   "outputs": [],
   "source": [
    "a = tf.expand_dims(a, axis=0)\n",
    "a = tf.expand_dims(a, axis=3)"
   ]
  },
  {
   "cell_type": "code",
   "execution_count": 59,
   "metadata": {
    "hidden": true
   },
   "outputs": [
    {
     "data": {
      "text/plain": [
       "<tf.Tensor: id=215, shape=(6, 6), dtype=float32, numpy=\n",
       "array([[   1.,    2.,    3.,    4.,    5.,    6.],\n",
       "       [  10.,   20.,   30.,   40.,   50.,   60.],\n",
       "       [ 100.,  200.,  300.,  400.,  500.,  600.],\n",
       "       [  -1.,  -20.,   -3.,   -4.,   -5.,   -6.],\n",
       "       [ -10.,  -20.,  -30.,  -40.,  -50.,  -60.],\n",
       "       [-100., -200., -300., -400., -500., -600.]], dtype=float32)>"
      ]
     },
     "execution_count": 59,
     "metadata": {},
     "output_type": "execute_result"
    }
   ],
   "source": [
    "tf.squeeze(a)"
   ]
  },
  {
   "cell_type": "code",
   "execution_count": 60,
   "metadata": {
    "hidden": true
   },
   "outputs": [
    {
     "data": {
      "text/plain": [
       "<tf.Tensor: id=228, shape=(6, 1), dtype=float32, numpy=\n",
       "array([[10.],\n",
       "       [20.],\n",
       "       [30.],\n",
       "       [40.],\n",
       "       [50.],\n",
       "       [60.]], dtype=float32)>"
      ]
     },
     "execution_count": 60,
     "metadata": {},
     "output_type": "execute_result"
    }
   ],
   "source": [
    "a[0][1][:]"
   ]
  },
  {
   "cell_type": "code",
   "execution_count": 61,
   "metadata": {
    "hidden": true
   },
   "outputs": [],
   "source": [
    "kernel = [[1.0,1.0,1.0],[1.0,1.0,1.0],[1.0,1.0,1.0]]\n",
    "kernel = tf.expand_dims(kernel, axis=2)\n",
    "kernel = tf.expand_dims(kernel, axis=3)"
   ]
  },
  {
   "cell_type": "code",
   "execution_count": 62,
   "metadata": {
    "hidden": true,
    "scrolled": true
   },
   "outputs": [
    {
     "data": {
      "text/plain": [
       "<tf.Tensor: id=235, shape=(1, 2, 2, 1), dtype=float32, numpy=\n",
       "array([[[[ 666.],\n",
       "         [1332.]],\n",
       "\n",
       "        [[ 516.],\n",
       "         [1068.]]]], dtype=float32)>"
      ]
     },
     "execution_count": 62,
     "metadata": {},
     "output_type": "execute_result"
    }
   ],
   "source": [
    "tf.nn.conv2d(a, kernel, strides=[1,2,2,1], padding=\"VALID\")"
   ]
  },
  {
   "cell_type": "code",
   "execution_count": 68,
   "metadata": {
    "hidden": true
   },
   "outputs": [],
   "source": [
    "kernel_2 = [[1.0,1.0,1.0,1.0],[1.0,1.0,1.0,1.0],[1.0,1.0,1.0,1.0],[1.0,1.0,1.0,1.0]]\n",
    "kernel_2 = tf.expand_dims(kernel_2, axis=2)\n",
    "kernel_2 = tf.expand_dims(kernel_2, axis=3)"
   ]
  },
  {
   "cell_type": "code",
   "execution_count": 70,
   "metadata": {
    "hidden": true
   },
   "outputs": [
    {
     "data": {
      "text/plain": [
       "<tf.Tensor: id=254, shape=(3, 3), dtype=float32, numpy=\n",
       "array([[1082., 1522., 1980.],\n",
       "       [ 972., 1368., 1782.],\n",
       "       [-128., -172., -198.]], dtype=float32)>"
      ]
     },
     "execution_count": 70,
     "metadata": {},
     "output_type": "execute_result"
    }
   ],
   "source": [
    "tf.squeeze(tf.nn.conv2d(a, kernel_2, strides=[1,1,1,1], padding=\"VALID\"))"
   ]
  },
  {
   "cell_type": "markdown",
   "metadata": {
    "heading_collapsed": true
   },
   "source": [
    "## Conv test 2"
   ]
  },
  {
   "cell_type": "code",
   "execution_count": 3,
   "metadata": {
    "hidden": true
   },
   "outputs": [],
   "source": [
    "input_4x4 = tf.ones([4,4])\n",
    "input_4x4 = tf.expand_dims(input_4x4, axis=0)\n",
    "input_4x4 = tf.expand_dims(input_4x4, axis=3)"
   ]
  },
  {
   "cell_type": "code",
   "execution_count": 4,
   "metadata": {
    "hidden": true
   },
   "outputs": [
    {
     "data": {
      "text/plain": [
       "<tf.Tensor: id=7, shape=(1, 4, 4, 1), dtype=float32, numpy=\n",
       "array([[[[1.],\n",
       "         [1.],\n",
       "         [1.],\n",
       "         [1.]],\n",
       "\n",
       "        [[1.],\n",
       "         [1.],\n",
       "         [1.],\n",
       "         [1.]],\n",
       "\n",
       "        [[1.],\n",
       "         [1.],\n",
       "         [1.],\n",
       "         [1.]],\n",
       "\n",
       "        [[1.],\n",
       "         [1.],\n",
       "         [1.],\n",
       "         [1.]]]], dtype=float32)>"
      ]
     },
     "execution_count": 4,
     "metadata": {},
     "output_type": "execute_result"
    }
   ],
   "source": [
    "input_4x4"
   ]
  },
  {
   "cell_type": "code",
   "execution_count": 5,
   "metadata": {
    "hidden": true
   },
   "outputs": [],
   "source": [
    "kernel_1 = tf.ones([3,3,2])*2\n",
    "kernel_1 = tf.expand_dims(kernel_1, axis=2)\n",
    "#kernel = tf.expand_dims(kernel, axis=3)"
   ]
  },
  {
   "cell_type": "code",
   "execution_count": 6,
   "metadata": {
    "hidden": true
   },
   "outputs": [
    {
     "data": {
      "text/plain": [
       "<tf.Tensor: id=14, shape=(3, 3, 1, 2), dtype=float32, numpy=\n",
       "array([[[[2., 2.]],\n",
       "\n",
       "        [[2., 2.]],\n",
       "\n",
       "        [[2., 2.]]],\n",
       "\n",
       "\n",
       "       [[[2., 2.]],\n",
       "\n",
       "        [[2., 2.]],\n",
       "\n",
       "        [[2., 2.]]],\n",
       "\n",
       "\n",
       "       [[[2., 2.]],\n",
       "\n",
       "        [[2., 2.]],\n",
       "\n",
       "        [[2., 2.]]]], dtype=float32)>"
      ]
     },
     "execution_count": 6,
     "metadata": {},
     "output_type": "execute_result"
    }
   ],
   "source": [
    "kernel_1"
   ]
  },
  {
   "cell_type": "code",
   "execution_count": 7,
   "metadata": {
    "hidden": true
   },
   "outputs": [],
   "source": [
    "result = tf.nn.conv2d(input_4x4, kernel_1, strides=[1,1,1,1], padding=\"SAME\")"
   ]
  },
  {
   "cell_type": "code",
   "execution_count": 8,
   "metadata": {
    "hidden": true,
    "scrolled": false
   },
   "outputs": [
    {
     "data": {
      "text/plain": [
       "<tf.Tensor: id=19, shape=(2, 4, 4), dtype=float32, numpy=\n",
       "array([[[ 8., 12., 12.,  8.],\n",
       "        [12., 18., 18., 12.],\n",
       "        [12., 18., 18., 12.],\n",
       "        [ 8., 12., 12.,  8.]],\n",
       "\n",
       "       [[ 8., 12., 12.,  8.],\n",
       "        [12., 18., 18., 12.],\n",
       "        [12., 18., 18., 12.],\n",
       "        [ 8., 12., 12.,  8.]]], dtype=float32)>"
      ]
     },
     "execution_count": 8,
     "metadata": {},
     "output_type": "execute_result"
    }
   ],
   "source": [
    "tf.transpose(tf.squeeze(result), perm=[2,0,1])"
   ]
  },
  {
   "cell_type": "code",
   "execution_count": 11,
   "metadata": {
    "hidden": true
   },
   "outputs": [],
   "source": [
    "kernel_2 = tf.ones([3,3,2,2])*1\n",
    "#kernel = tf.expand_dims(kernel, axis=2)"
   ]
  },
  {
   "cell_type": "code",
   "execution_count": 13,
   "metadata": {
    "hidden": true
   },
   "outputs": [],
   "source": [
    "result_2 = tf.squeeze(tf.nn.conv2d(result, kernel_2, strides=[1,1,1,1], padding=\"SAME\"))"
   ]
  },
  {
   "cell_type": "code",
   "execution_count": 14,
   "metadata": {
    "hidden": true
   },
   "outputs": [
    {
     "data": {
      "text/plain": [
       "<tf.Tensor: id=37, shape=(2, 4, 4), dtype=float32, numpy=\n",
       "array([[[100., 160., 160., 100.],\n",
       "        [160., 256., 256., 160.],\n",
       "        [160., 256., 256., 160.],\n",
       "        [100., 160., 160., 100.]],\n",
       "\n",
       "       [[100., 160., 160., 100.],\n",
       "        [160., 256., 256., 160.],\n",
       "        [160., 256., 256., 160.],\n",
       "        [100., 160., 160., 100.]]], dtype=float32)>"
      ]
     },
     "execution_count": 14,
     "metadata": {},
     "output_type": "execute_result"
    }
   ],
   "source": [
    "tf.transpose(tf.squeeze(result_2), perm=[2,0,1])"
   ]
  },
  {
   "cell_type": "markdown",
   "metadata": {
    "heading_collapsed": true
   },
   "source": [
    "## Kernel initialization"
   ]
  },
  {
   "cell_type": "code",
   "execution_count": 109,
   "metadata": {
    "hidden": true
   },
   "outputs": [],
   "source": [
    "class ICNR:\n",
    "    \"\"\"ICNR initializer for checkerboard artifact free sub pixel convolution\n",
    "    Ref:\n",
    "     [1] Andrew Aitken et al. Checkerboard artifact free sub-pixel convolution\n",
    "     https://arxiv.org/pdf/1707.02937.pdf)\n",
    "    Args:\n",
    "    initializer: initializer used for sub kernels (orthogonal, glorot uniform, etc.)\n",
    "    scale: scale factor of sub pixel convolution\n",
    "    \"\"\"\n",
    "\n",
    "    def __init__(self, initializer, scale=1):\n",
    "        self.scale = scale\n",
    "        self.initializer = initializer\n",
    "\n",
    "    def __call__(self, shape, dtype, partition_info=None):\n",
    "        shape = list(shape)\n",
    "        if self.scale == 1:\n",
    "            return self.initializer(shape)\n",
    "\n",
    "        new_shape = shape[:3] + [shape[3] // (self.scale ** 2)]\n",
    "        print(new_shape)\n",
    "        x = self.initializer(new_shape, dtype, partition_info)\n",
    "        x = tf.transpose(x, perm=[2, 0, 1, 3])\n",
    "        x = tf.image.resize_nearest_neighbor(x, size=(shape[0] * self.scale, shape[1] * self.scale))\n",
    "        x = tf.space_to_depth(x, block_size=self.scale)\n",
    "        x = tf.transpose(x, perm=[1, 2, 0, 3])\n",
    "        return x"
   ]
  },
  {
   "cell_type": "code",
   "execution_count": 3,
   "metadata": {
    "hidden": true
   },
   "outputs": [],
   "source": [
    "i = tf.transpose(tf.contrib.layers.xavier_initializer()([3,3,2]), perm=[2,0,1])"
   ]
  },
  {
   "cell_type": "code",
   "execution_count": 12,
   "metadata": {
    "hidden": true,
    "scrolled": true
   },
   "outputs": [
    {
     "data": {
      "text/plain": [
       "<tf.Tensor: id=53, shape=(3, 3), dtype=float32, numpy=\n",
       "array([[ 0.33405572,  0.42739612, -0.13825992],\n",
       "       [ 0.2328617 , -0.18403801, -0.25328264],\n",
       "       [-0.5492743 ,  0.29721463,  0.5242116 ]], dtype=float32)>"
      ]
     },
     "execution_count": 12,
     "metadata": {},
     "output_type": "execute_result"
    }
   ],
   "source": [
    "i[0]"
   ]
  },
  {
   "cell_type": "code",
   "execution_count": 13,
   "metadata": {
    "hidden": true
   },
   "outputs": [
    {
     "data": {
      "text/plain": [
       "<tf.Tensor: id=58, shape=(3, 3), dtype=float32, numpy=\n",
       "array([[ 0.10076243, -0.19758129,  0.563247  ],\n",
       "       [ 0.41506392,  0.43393964, -0.3257768 ],\n",
       "       [ 0.34591526, -0.21252042,  0.13297117]], dtype=float32)>"
      ]
     },
     "execution_count": 13,
     "metadata": {},
     "output_type": "execute_result"
    }
   ],
   "source": [
    "i[1]"
   ]
  },
  {
   "cell_type": "code",
   "execution_count": 110,
   "metadata": {
    "hidden": true
   },
   "outputs": [
    {
     "name": "stdout",
     "output_type": "stream",
     "text": [
      "[3, 3, 2, 1]\n"
     ]
    }
   ],
   "source": [
    "ii = ICNR(tf.contrib.layers.xavier_initializer(), 2)([3,3,2,4], dtype=tf.float32)"
   ]
  },
  {
   "cell_type": "code",
   "execution_count": 112,
   "metadata": {
    "hidden": true
   },
   "outputs": [
    {
     "data": {
      "text/plain": [
       "<tf.Tensor: id=501, shape=(3, 3, 2, 4), dtype=float32, numpy=\n",
       "array([[[[-0.17929077, -0.17929077, -0.17929077, -0.17929077],\n",
       "         [-0.06559163, -0.06559163, -0.06559163, -0.06559163]],\n",
       "\n",
       "        [[-0.34732544, -0.34732544, -0.34732544, -0.34732544],\n",
       "         [ 0.23248968,  0.23248968,  0.23248968,  0.23248968]],\n",
       "\n",
       "        [[-0.09127253, -0.09127253, -0.09127253, -0.09127253],\n",
       "         [ 0.33163288,  0.33163288,  0.33163288,  0.33163288]]],\n",
       "\n",
       "\n",
       "       [[[ 0.10431412,  0.10431412,  0.10431412,  0.10431412],\n",
       "         [-0.10867593, -0.10867593, -0.10867593, -0.10867593]],\n",
       "\n",
       "        [[ 0.3513302 ,  0.3513302 ,  0.3513302 ,  0.3513302 ],\n",
       "         [-0.03575906, -0.03575906, -0.03575906, -0.03575906]],\n",
       "\n",
       "        [[ 0.29061893,  0.29061893,  0.29061893,  0.29061893],\n",
       "         [ 0.07268545,  0.07268545,  0.07268545,  0.07268545]]],\n",
       "\n",
       "\n",
       "       [[[ 0.00367993,  0.00367993,  0.00367993,  0.00367993],\n",
       "         [ 0.17776361,  0.17776361,  0.17776361,  0.17776361]],\n",
       "\n",
       "        [[ 0.29847756,  0.29847756,  0.29847756,  0.29847756],\n",
       "         [-0.05319721, -0.05319721, -0.05319721, -0.05319721]],\n",
       "\n",
       "        [[-0.17566559, -0.17566559, -0.17566559, -0.17566559],\n",
       "         [ 0.41524056,  0.41524056,  0.41524056,  0.41524056]]]],\n",
       "      dtype=float32)>"
      ]
     },
     "execution_count": 112,
     "metadata": {},
     "output_type": "execute_result"
    }
   ],
   "source": [
    "ii"
   ]
  },
  {
   "cell_type": "markdown",
   "metadata": {
    "heading_collapsed": true
   },
   "source": [
    "## Sub-Pixel Convolutional Neural Network"
   ]
  },
  {
   "cell_type": "code",
   "execution_count": 115,
   "metadata": {
    "hidden": true,
    "scrolled": true
   },
   "outputs": [],
   "source": [
    "input = tf.constant([[[[1.0,1.1,1.2,1.3], [2.0,2.1,2.2,2.3]],[[3.0,3.1,3.2,3.3], [4.0,4.1,4.2,4.3]]]])"
   ]
  },
  {
   "cell_type": "code",
   "execution_count": 116,
   "metadata": {
    "hidden": true
   },
   "outputs": [],
   "source": [
    "input_x_4 = input"
   ]
  },
  {
   "cell_type": "code",
   "execution_count": 134,
   "metadata": {
    "hidden": true
   },
   "outputs": [
    {
     "data": {
      "text/plain": [
       "<tf.Tensor: id=504, shape=(1, 2, 2, 4), dtype=float32, numpy=\n",
       "array([[[[1. , 1.1, 1.2, 1.3],\n",
       "         [2. , 2.1, 2.2, 2.3]],\n",
       "\n",
       "        [[3. , 3.1, 3.2, 3.3],\n",
       "         [4. , 4.1, 4.2, 4.3]]]], dtype=float32)>"
      ]
     },
     "execution_count": 134,
     "metadata": {},
     "output_type": "execute_result"
    }
   ],
   "source": [
    "input_x_4"
   ]
  },
  {
   "cell_type": "code",
   "execution_count": 159,
   "metadata": {
    "hidden": true
   },
   "outputs": [
    {
     "data": {
      "text/plain": [
       "<tf.Tensor: id=700, shape=(4, 4), dtype=float32, numpy=\n",
       "array([[1. , 1.1, 2. , 2.1],\n",
       "       [1.2, 1.3, 2.2, 2.3],\n",
       "       [3. , 3.1, 4. , 4.1],\n",
       "       [3.2, 3.3, 4.2, 4.3]], dtype=float32)>"
      ]
     },
     "execution_count": 159,
     "metadata": {},
     "output_type": "execute_result"
    }
   ],
   "source": [
    "tf.squeeze(tf.depth_to_space(input_x_4, 2))"
   ]
  },
  {
   "cell_type": "code",
   "execution_count": 391,
   "metadata": {
    "hidden": true
   },
   "outputs": [],
   "source": [
    "def _phase_shift(I, r, axis=1):\n",
    "    # Helper function with main phase shift operation\n",
    "    bsize, a, b, c = I.get_shape().as_list()\n",
    "    assert c % r == 0\n",
    "    remainder = c/r    \n",
    "    X = tf.reshape(I, (bsize, a, b, r, remainder))\n",
    "    X = tf.split(X, r, axis=3)  # a, [bsize, b, r, r]\n",
    "    X = tf.concat([tf.squeeze(x) for x in X], axis=axis)  # bsize, b, a*r, r\n",
    "    if axis == 1:\n",
    "        a = a*r\n",
    "    elif axis == 2:\n",
    "        b=b*r\n",
    "    else:\n",
    "        raise NotImplementedError\n",
    "    return tf.reshape(X, (bsize, a, b, remainder))\n",
    "\n",
    "def upsample_ps(X, r_h=1, r_w=1):   \n",
    "    X = _phase_shift(X, r_w, axis=2)\n",
    "    X = _phase_shift(X, r_h, axis=1)\n",
    "    return X"
   ]
  },
  {
   "cell_type": "code",
   "execution_count": 392,
   "metadata": {
    "hidden": true
   },
   "outputs": [
    {
     "data": {
      "text/plain": [
       "<tf.Tensor: id=2801, shape=(4, 4), dtype=float32, numpy=\n",
       "array([[1. , 1.2, 2. , 2.2],\n",
       "       [1.1, 1.3, 2.1, 2.3],\n",
       "       [3. , 3.2, 4. , 4.2],\n",
       "       [3.1, 3.3, 4.1, 4.3]], dtype=float32)>"
      ]
     },
     "execution_count": 392,
     "metadata": {},
     "output_type": "execute_result"
    }
   ],
   "source": [
    "tf.squeeze(PS(input_x_4,2,2))"
   ]
  },
  {
   "cell_type": "code",
   "execution_count": 393,
   "metadata": {
    "hidden": true
   },
   "outputs": [
    {
     "data": {
      "text/plain": [
       "<tf.Tensor: id=2824, shape=(2, 4, 2), dtype=float32, numpy=\n",
       "array([[[1. , 1.1],\n",
       "        [1.2, 1.3],\n",
       "        [2. , 2.1],\n",
       "        [2.2, 2.3]],\n",
       "\n",
       "       [[3. , 3.1],\n",
       "        [3.2, 3.3],\n",
       "        [4. , 4.1],\n",
       "        [4.2, 4.3]]], dtype=float32)>"
      ]
     },
     "execution_count": 393,
     "metadata": {},
     "output_type": "execute_result"
    }
   ],
   "source": [
    "tf.squeeze(PS(input_x_4,1,2))"
   ]
  },
  {
   "cell_type": "code",
   "execution_count": 394,
   "metadata": {
    "hidden": true
   },
   "outputs": [
    {
     "data": {
      "text/plain": [
       "<tf.Tensor: id=2845, shape=(4, 2, 2), dtype=float32, numpy=\n",
       "array([[[1. , 1.1],\n",
       "        [2. , 2.1]],\n",
       "\n",
       "       [[1.2, 1.3],\n",
       "        [2.2, 2.3]],\n",
       "\n",
       "       [[3. , 3.1],\n",
       "        [4. , 4.1]],\n",
       "\n",
       "       [[3.2, 3.3],\n",
       "        [4.2, 4.3]]], dtype=float32)>"
      ]
     },
     "execution_count": 394,
     "metadata": {},
     "output_type": "execute_result"
    }
   ],
   "source": [
    "tf.squeeze(PS(input_x_4,2,1))"
   ]
  },
  {
   "cell_type": "markdown",
   "metadata": {
    "heading_collapsed": true
   },
   "source": [
    "## Noise test"
   ]
  },
  {
   "cell_type": "code",
   "execution_count": 18,
   "metadata": {
    "hidden": true,
    "scrolled": false
   },
   "outputs": [
    {
     "data": {
      "text/plain": [
       "<tf.Tensor: id=99, shape=(3, 3), dtype=float32, numpy=\n",
       "array([[-0.1733081 , -0.49295354,  0.8526202 ],\n",
       "       [ 0.5798403 , -0.11558441,  0.8064895 ],\n",
       "       [ 0.04103291, -0.0288446 ,  0.9987414 ]], dtype=float32)>"
      ]
     },
     "execution_count": 18,
     "metadata": {},
     "output_type": "execute_result"
    }
   ],
   "source": [
    "tf.keras.utils.normalize(tf.random_normal([3,3], name='z0', dtype=tf.float32))"
   ]
  },
  {
   "cell_type": "code",
   "execution_count": 13,
   "metadata": {
    "hidden": true
   },
   "outputs": [
    {
     "data": {
      "text/plain": [
       "<tf.Tensor: id=86, shape=(8, 128), dtype=float32, numpy=\n",
       "array([[ 0.03334369, -0.03065756,  0.19843636, ...,  0.17525569,\n",
       "        -0.04270612,  0.10149204],\n",
       "       [ 0.12187111, -0.08422742,  0.07488698, ..., -0.03192599,\n",
       "        -0.03220674, -0.04852334],\n",
       "       [-0.03209723, -0.01738006, -0.18505864, ...,  0.02979561,\n",
       "        -0.0852069 ,  0.0940572 ],\n",
       "       ...,\n",
       "       [ 0.02103861, -0.11842715, -0.03833785, ..., -0.03886202,\n",
       "        -0.03241563,  0.12322578],\n",
       "       [ 0.09910917, -0.11831503, -0.04994023, ..., -0.08249813,\n",
       "        -0.05943928, -0.10112263],\n",
       "       [ 0.04425624, -0.02504752,  0.02116181, ..., -0.10031912,\n",
       "         0.1784842 ,  0.07876976]], dtype=float32)>"
      ]
     },
     "execution_count": 13,
     "metadata": {},
     "output_type": "execute_result"
    }
   ],
   "source": [
    "tf.keras.utils.normalize(tf.random_normal([8, 128], name='z0', dtype=tf.float32))"
   ]
  },
  {
   "cell_type": "code",
   "execution_count": 12,
   "metadata": {
    "hidden": true,
    "scrolled": false
   },
   "outputs": [
    {
     "data": {
      "text/plain": [
       "<tf.Tensor: id=76, shape=(8, 8), dtype=float32, numpy=\n",
       "array([[ 0.9376429 , -0.6114712 , -0.22678488,  0.5250845 , -0.9419259 ,\n",
       "        -0.27633157,  0.68459785, -0.03135049],\n",
       "       [ 0.42617553, -0.41427484, -0.96308625, -0.96106595, -0.9099926 ,\n",
       "        -0.96005845,  0.99580806,  0.07373111],\n",
       "       [-0.716177  ,  0.11160462,  0.04083412, -0.95256644,  0.15062657,\n",
       "        -0.6016784 , -0.90315837,  0.6733507 ],\n",
       "       [-0.10969668, -0.8416044 , -0.29712316, -0.98418516, -0.94672143,\n",
       "        -0.42189732,  0.16730301, -0.87664896],\n",
       "       [-0.34989217, -0.23602396, -0.22283761,  0.7627271 , -0.2914926 ,\n",
       "         0.5542742 ,  0.7353027 ,  0.63773686],\n",
       "       [ 0.01621382, -0.4598755 ,  0.6351701 , -0.18323036,  0.00471828,\n",
       "        -0.75313187,  0.35592487,  0.5342378 ],\n",
       "       [ 0.7636148 ,  0.08106321, -0.3997486 ,  0.39319247,  0.0805719 ,\n",
       "         0.825248  , -0.9638635 ,  0.2682678 ],\n",
       "       [-0.42851612, -0.46016702, -0.7868424 , -0.24242462, -0.43853644,\n",
       "         0.71402186, -0.80472577,  0.7657107 ]], dtype=float32)>"
      ]
     },
     "execution_count": 12,
     "metadata": {},
     "output_type": "execute_result"
    }
   ],
   "source": [
    "tf.nn.tanh(tf.random_normal([8, 8],dtype=tf.float32))"
   ]
  },
  {
   "cell_type": "code",
   "execution_count": 64,
   "metadata": {
    "hidden": true,
    "scrolled": false
   },
   "outputs": [
    {
     "data": {
      "text/plain": [
       "<tf.Tensor: id=270, shape=(10,), dtype=float32, numpy=\n",
       "array([ 0.20507137,  1.2693267 ,  0.5304849 , -1.5551072 , -0.6157462 ,\n",
       "        0.9527777 ,  0.18021934, -0.73273695, -0.6860755 , -1.2645137 ],\n",
       "      dtype=float32)>"
      ]
     },
     "execution_count": 64,
     "metadata": {},
     "output_type": "execute_result"
    }
   ],
   "source": [
    "tf.random_normal(\n",
    "                [10],\n",
    "                mean=0.0,\n",
    "                stddev=0.75,\n",
    "                dtype=tf.float32)"
   ]
  },
  {
   "cell_type": "code",
   "execution_count": 92,
   "metadata": {
    "hidden": true,
    "scrolled": true
   },
   "outputs": [
    {
     "data": {
      "text/plain": [
       "<tf.Tensor: id=413, shape=(10,), dtype=float32, numpy=\n",
       "array([ 0.00508721,  0.00151468, -0.01041873,  0.00784408, -0.01173892,\n",
       "        0.00415978,  0.00504796,  0.00296952,  0.00982569, -0.00112459],\n",
       "      dtype=float32)>"
      ]
     },
     "execution_count": 92,
     "metadata": {},
     "output_type": "execute_result"
    }
   ],
   "source": [
    "tf.truncated_normal([10],\n",
    "                mean=0.004996402837218333,\n",
    "                stddev=0.00906228284522334/2,\n",
    "                dtype=tf.float32)\n",
    "#MEAN:  0.004996402837218333\n",
    "#stddev:  0.00906228284522334\n",
    "#[-0.00406588  0.01405869]"
   ]
  },
  {
   "cell_type": "markdown",
   "metadata": {
    "heading_collapsed": true
   },
   "source": [
    "## Web crawler"
   ]
  },
  {
   "cell_type": "code",
   "execution_count": null,
   "metadata": {
    "hidden": true
   },
   "outputs": [],
   "source": [
    "all_classes = [\"2.1.1.185\", \"2.1.1.200\", \"2.1.1.206\", \"2.1.1.207\", \"2.1.1.220\", \"2.1.1.228\", \"2.1.1.257\", \"2.1.1.33\", \n",
    "\"2.1.1.45\", \"2.1.1.98\", \"2.1.2.11\", \"2.3.1.129\", \"2.3.1.210\", \"2.3.1.251\", \"2.3.1.82\", \"2.3.1.n2\", \"2.4.2.1\", \"2.4.2.10\",\n",
    "\"2.4.2.22\", \"2.4.2.3\", \"2.4.2.44\", \"2.4.2.7\", \"2.4.2.8\", \"2.4.2.9\", \"2.4.99.17\", \"2.5.1.129\", \"2.5.1.18\", \"2.5.1.31\", \n",
    "\"2.5.1.78\", \"2.5.1.89\", \"2.5.1.n9\", \"2.6.99.2\", \"2.7.1.21\", \"2.7.1.33\", \"2.7.1.71\", \"2.7.2.1\", \"2.7.2.3\", \"2.7.4.10\", \n",
    "\"2.7.4.14\", \"2.7.4.22\", \"2.7.4.26\", \"2.7.4.3\", \"2.7.4.6\", \"2.7.7.2\", \"2.7.7.3\", \"2.7.7.56\", \"2.7.7.60\", \"2.7.7.68\", \n",
    "\"2.7.7.77\", \"2.8.1.10\"]"
   ]
  },
  {
   "cell_type": "code",
   "execution_count": 9,
   "metadata": {
    "hidden": true
   },
   "outputs": [],
   "source": [
    "from requests import get\n",
    "from requests.exceptions import RequestException\n",
    "from contextlib import closing\n",
    "from bs4 import BeautifulSoup\n",
    "def simple_get(url):\n",
    "    \"\"\"\n",
    "    Attempts to get the content at `url` by making an HTTP GET request.\n",
    "    If the content-type of response is some kind of HTML/XML, return the\n",
    "    text content, otherwise return None.\n",
    "    \"\"\"\n",
    "    try:\n",
    "        with closing(get(url, stream=True)) as resp:\n",
    "            if is_good_response(resp):\n",
    "                return resp.content\n",
    "            else:\n",
    "                return None\n",
    "\n",
    "    except RequestException as e:\n",
    "        log_error('Error during requests to {0} : {1}'.format(url, str(e)))\n",
    "        return None\n",
    "\n",
    "\n",
    "def is_good_response(resp):\n",
    "    \"\"\"\n",
    "    Returns True if the response seems to be HTML, False otherwise.\n",
    "    \"\"\"\n",
    "    content_type = resp.headers['Content-Type'].lower()\n",
    "    return (resp.status_code == 200 \n",
    "            and content_type is not None \n",
    "            and content_type.find('html') > -1)\n",
    "\n",
    "\n",
    "def log_error(e):\n",
    "    \"\"\"\n",
    "    It is always a good idea to log errors. \n",
    "    This function just prints them, but you can\n",
    "    make it do anything.\n",
    "    \"\"\"\n",
    "    print(e)"
   ]
  },
  {
   "cell_type": "code",
   "execution_count": 32,
   "metadata": {
    "hidden": true
   },
   "outputs": [
    {
     "name": "stdout",
     "output_type": "stream",
     "text": [
      "\"2.1.1.185\": ['S-adenosyl-L-methionine', 'guanosine(2251) in 23S rRNA '], [' S-adenosyl-L-homocysteine', \"2'-O-methylguanosine(2251) in 23S rRNA\"]\n",
      "\"2.1.1.206\": ['S-adenosyl-L-methionine', 'cytidine(56) in tRNA '], [' S-adenosyl-L-homocysteine', \"2'-O-methylcytidine(56) in tRNA\"]\n",
      "\"2.1.1.220\": ['S-adenosyl-L-methionine', 'adenine(58) in tRNA '], [' S-adenosyl-L-homocysteine', 'N(1)-methyladenine(58) in tRNA']\n",
      "\"2.1.1.228\": ['S-adenosyl-L-methionine', 'guanine(37) in tRNA '], [' S-adenosyl-L-homocysteine', 'N(1)-methylguanine(37) in tRNA']\n",
      "\"2.1.1.257\": ['S-adenosyl-L-methionine', 'pseudouridine(54) in tRNA '], [' S-adenosyl-L-homocysteine', 'N(1)-methylpseudouridine(54) in tRNA']\n",
      "\"2.1.1.33\": ['S-adenosyl-L-methionine', 'guanine(46) in tRNA '], [' S-adenosyl-L-homocysteine', 'N(7)-methylguanine(46) in tRNA']\n",
      "\"2.1.1.45\": ['5,10-methylenetetrahydrofolate', 'dUMP '], [' dihydrofolate', 'dTMP']\n",
      "\"2.1.1.98\": ['3 S-adenosyl-L-methionine', '2-((3S)-3-carboxy-3-aminopropyl)-L-histidine-[translation elongation factor 2] '], [' 3 S-adenosyl-L-homocysteine', 'diphthine-[translation elongation factor 2]']\n",
      "\"2.3.1.129\": ['(R)-3-hydroxytetradecanoyl-[acyl-carrier-protein]', 'UDP-N-acetyl-alpha-D-glucosamine '], [' [acyl-carrier-protein]', 'UDP-3-O-(3-hydroxytetradecanoyl)-N-acetyl-alpha-D-glucosamine']\n",
      "\"2.3.1.210\": ['Acetyl-CoA', 'dTDP-4-amino-4,6-dideoxy-alpha-D-galactose '], [' CoA', 'dTDP-4-acetamido-4,6-dideoxy-alpha-D-galactose']\n",
      "\"2.3.1.82\": ['Acetyl-CoA', 'kanamycin-B '], [' CoA', \"N(6')-acetylkanamycin-B\"]\n",
      "\"2.3.1.n2\": ['Acyl-[acyl-carrier-protein]', 'phosphate '], [' acyl-phosphate', '[acyl-carrier-protein]']\n",
      "\"2.4.2.10\": [\"Orotidine 5'-phosphate\", 'diphosphate '], [' orotate', '5-phospho-alpha-D-ribose 1-diphosphate']\n",
      "\"2.4.2.22\": ['XMP', 'diphosphate '], [' 5-phospho-alpha-D-ribose 1-diphosphate', 'xanthine']\n",
      "\"2.4.2.3\": ['Uridine', 'phosphate '], [' uracil', 'alpha-D-ribose 1-phosphate']\n",
      "\"2.4.2.44\": [\"S-methyl-5'-thioinosine\", 'phosphate '], [' hypoxanthine', 'S-methyl-5-thio-alpha-D-ribose 1-phosphate']\n",
      "\"2.4.2.7\": ['AMP', 'diphosphate '], [' adenine', '5-phospho-alpha-D-ribose 1-diphosphate']\n",
      "\"2.4.2.8\": ['IMP', 'diphosphate '], [' hypoxanthine', '5-phospho-alpha-D-ribose 1-diphosphate']\n",
      "\"2.4.2.9\": ['UMP', 'diphosphate '], [' uracil', '5-phospho-alpha-D-ribose 1-diphosphate']\n",
      "\"2.5.1.129\": ['Dimethylallyl phosphate', 'FMNH(2) '], [' prenylated FMNH(2)', 'phosphate']\n",
      "\"2.5.1.18\": ['RX', 'glutathione '], [' HX', 'R-S-glutathione']\n",
      "\"2.5.1.31\": ['(2E,6E)-farnesyl diphosphate', '8 isopentenyl diphosphate '], [' 8 diphosphate', 'di-trans,octa-cis-undecaprenyl diphosphate']\n",
      "\"2.5.1.89\": ['Geranylgeranyl diphosphate', '7 isopentenyl diphosphate '], [' 7 diphosphate', 'tritrans,heptacis-undecaprenyl diphosphate']\n",
      "\"2.5.1.n9\": ['All-trans-heptaprenyl diphosphate', 'sn-glycerol 1-phosphate '], [' diphosphate', 'sn-3-O-(all-trans-heptaprenyl)glycerol 1-phosphate']\n",
      "\"2.7.1.21\": ['ATP', 'thymidine '], [' ADP', \"thymidine 5'-phosphate\"]\n",
      "\"2.7.1.33\": ['ATP', '(R)-pantothenate '], [' ADP', \"(R)-4'-phosphopantothenate\"]\n",
      "\"2.7.1.71\": ['ATP', 'shikimate '], [' ADP', 'shikimate 3-phosphate']\n",
      "\"2.7.2.1\": ['ATP', 'acetate '], [' ADP', 'acetyl phosphate']\n",
      "\"2.7.2.3\": ['ATP', '3-phospho-D-glycerate '], [' ADP', '3-phospho-D-glyceroyl phosphate']\n",
      "\"2.7.4.10\": ['NTP', 'AMP '], [' NDP', 'ADP']\n",
      "\"2.7.4.22\": ['ATP', 'UMP '], [' ADP', 'UDP']\n",
      "\"2.7.4.26\": ['ATP', 'isopentenyl phosphate '], [' ADP', 'isopentenyl diphosphate']\n",
      "\"2.7.4.3\": ['ATP', 'AMP '], [' 2 ADP']\n",
      "\"2.7.4.6\": ['ATP', 'nucleoside diphosphate '], [' ADP', 'nucleoside triphosphate']\n",
      "\"2.7.7.2\": ['ATP', 'FMN '], [' diphosphate', 'FAD']\n",
      "\"2.7.7.3\": ['ATP', \"pantetheine 4'-phosphate \"], [' diphosphate', \"3'-dephospho-CoA\"]\n",
      "\"2.7.7.56\": ['tRNA(n+1)', 'phosphate '], [' tRNA(n)', 'a nucleoside diphosphate']\n",
      "\"2.7.7.60\": ['CTP', '2-C-methyl-D-erythritol 4-phosphate '], [' diphosphate', \"4-(cytidine 5'-diphospho)-2-C-methyl-D-erythritol\"]\n",
      "\"2.7.7.68\": ['(2S)-2-phospholactate', 'GTP '], [\" (2S)-lactyl-2-diphospho-5'-guanosine\", 'diphosphate']\n",
      "\"2.7.7.77\": ['GTP', 'molybdenum cofactor '], [' diphosphate', 'guanylyl molybdenum cofactor']\n"
     ]
    }
   ],
   "source": [
    "from bs4 import BeautifulSoup\n",
    "for enzyme_class in all_classes:\n",
    "    raw_html = simple_get('https://enzyme.expasy.org/EC/'+enzyme_class)\n",
    "    html = BeautifulSoup(raw_html, 'html.parser')\n",
    "    for i, tr in enumerate(html.select('tr')):\n",
    "        if \"Reaction catalysed\" in tr.get_text():\n",
    "            break;\n",
    "    splitted = html.select('tr')[i+1].get_text().split(\"<=>\")\n",
    "    substrates = splitted[0]\n",
    "    products = splitted[1]\n",
    "    substrates = substrates.split(\" + \")\n",
    "    products = products.split(\" + \")\n",
    "    if len(substrates) > 2 or len(products) > 2:\n",
    "        continue\n",
    "    print(\"\\\"{}\\\": {}, {}\".format(enzyme_class, substrates, products))\n",
    "    "
   ]
  },
  {
   "cell_type": "markdown",
   "metadata": {
    "heading_collapsed": true
   },
   "source": [
    "## Padding test"
   ]
  },
  {
   "cell_type": "code",
   "execution_count": 71,
   "metadata": {
    "hidden": true
   },
   "outputs": [],
   "source": [
    "s=tf.constant([[1.0,2.0,3.0],[4.0,5.0,6.0],[7.0,8.0,9.0]])"
   ]
  },
  {
   "cell_type": "code",
   "execution_count": 47,
   "metadata": {
    "hidden": true
   },
   "outputs": [],
   "source": [
    "s1=tf.constant([[1.0,2.0,3.0],[4.0,5.0,6.0],[7.0,8.0,9.0],[10.0,11.0,12.0] ])"
   ]
  },
  {
   "cell_type": "code",
   "execution_count": 7,
   "metadata": {
    "hidden": true
   },
   "outputs": [
    {
     "data": {
      "text/plain": [
       "<tf.Tensor: id=7, shape=(7, 7), dtype=float32, numpy=\n",
       "array([[5., 4., 4., 5., 6., 6., 5.],\n",
       "       [2., 1., 1., 2., 3., 3., 2.],\n",
       "       [2., 1., 1., 2., 3., 3., 2.],\n",
       "       [5., 4., 4., 5., 6., 6., 5.],\n",
       "       [8., 7., 7., 8., 9., 9., 8.],\n",
       "       [8., 7., 7., 8., 9., 9., 8.],\n",
       "       [5., 4., 4., 5., 6., 6., 5.]], dtype=float32)>"
      ]
     },
     "execution_count": 7,
     "metadata": {},
     "output_type": "execute_result"
    }
   ],
   "source": [
    "tf.pad(s, [[2,2],[2,2]], \"SYMMETRIC\")"
   ]
  },
  {
   "cell_type": "code",
   "execution_count": 9,
   "metadata": {
    "hidden": true
   },
   "outputs": [
    {
     "data": {
      "text/plain": [
       "<tf.Tensor: id=10, shape=(7, 7), dtype=float32, numpy=\n",
       "array([[9., 8., 7., 8., 9., 8., 7.],\n",
       "       [6., 5., 4., 5., 6., 5., 4.],\n",
       "       [3., 2., 1., 2., 3., 2., 1.],\n",
       "       [6., 5., 4., 5., 6., 5., 4.],\n",
       "       [9., 8., 7., 8., 9., 8., 7.],\n",
       "       [6., 5., 4., 5., 6., 5., 4.],\n",
       "       [3., 2., 1., 2., 3., 2., 1.]], dtype=float32)>"
      ]
     },
     "execution_count": 9,
     "metadata": {},
     "output_type": "execute_result"
    }
   ],
   "source": [
    "tf.pad(s, [[2,2],[2,2]], \"REFLECT\")"
   ]
  },
  {
   "cell_type": "code",
   "execution_count": 72,
   "metadata": {
    "hidden": true
   },
   "outputs": [],
   "source": [
    "s_copy = s"
   ]
  },
  {
   "cell_type": "code",
   "execution_count": 81,
   "metadata": {
    "hidden": true
   },
   "outputs": [],
   "source": [
    "axis = 0\n"
   ]
  },
  {
   "cell_type": "code",
   "execution_count": 82,
   "metadata": {
    "hidden": true
   },
   "outputs": [
    {
     "data": {
      "text/plain": [
       "1"
      ]
     },
     "execution_count": 82,
     "metadata": {},
     "output_type": "execute_result"
    }
   ],
   "source": [
    "middle_point = s.get_shape().as_list()[axis]//2\n",
    "middle_point"
   ]
  },
  {
   "cell_type": "code",
   "execution_count": 83,
   "metadata": {
    "hidden": true
   },
   "outputs": [],
   "source": [
    "if axis == 0:\n",
    "    b = s_copy[middle_point+1:, :]\n",
    "    e = s_copy[:middle_point,:]\n",
    "elif axis == 1:\n",
    "    b = s_copy[:, middle_point+1:]\n",
    "    e = s_copy[:, :middle_point]\n"
   ]
  },
  {
   "cell_type": "code",
   "execution_count": 84,
   "metadata": {
    "hidden": true
   },
   "outputs": [
    {
     "data": {
      "text/plain": [
       "<tf.Tensor: id=299, shape=(5, 3), dtype=float32, numpy=\n",
       "array([[7., 8., 9.],\n",
       "       [1., 2., 3.],\n",
       "       [4., 5., 6.],\n",
       "       [7., 8., 9.],\n",
       "       [1., 2., 3.]], dtype=float32)>"
      ]
     },
     "execution_count": 84,
     "metadata": {},
     "output_type": "execute_result"
    }
   ],
   "source": [
    "tf.concat([b, s, e], axis=axis)"
   ]
  },
  {
   "cell_type": "markdown",
   "metadata": {
    "heading_collapsed": true
   },
   "source": [
    "## Minibatch std discrimination"
   ]
  },
  {
   "cell_type": "code",
   "execution_count": 20,
   "metadata": {
    "hidden": true
   },
   "outputs": [],
   "source": [
    "real=tf.ones([1,3,3], dtype=tf.float32)"
   ]
  },
  {
   "cell_type": "code",
   "execution_count": 22,
   "metadata": {
    "hidden": true
   },
   "outputs": [],
   "source": [
    "real2 = real+tf.random_normal(real.shape, stddev=2.0)\n",
    "real3 = real+tf.random_normal(real.shape, stddev=10.0)"
   ]
  },
  {
   "cell_type": "code",
   "execution_count": 23,
   "metadata": {
    "hidden": true
   },
   "outputs": [],
   "source": [
    "real = tf.concat([real, real2, real3],axis=0)"
   ]
  },
  {
   "cell_type": "code",
   "execution_count": 24,
   "metadata": {
    "hidden": true
   },
   "outputs": [
    {
     "data": {
      "text/plain": [
       "<tf.Tensor: id=31, shape=(3, 3, 3), dtype=float32, numpy=\n",
       "array([[[  1.       ,   1.       ,   1.       ],\n",
       "        [  1.       ,   1.       ,   1.       ],\n",
       "        [  1.       ,   1.       ,   1.       ]],\n",
       "\n",
       "       [[ -1.320955 ,   1.7413759,  -0.4495827],\n",
       "        [  0.3905062,   4.3406577,   0.6014135],\n",
       "        [ -5.5202537,  -0.7708875,   1.141065 ]],\n",
       "\n",
       "       [[  4.993128 , -12.313018 ,  11.608234 ],\n",
       "        [ -3.090486 ,   5.05607  ,  -2.8435304],\n",
       "        [ 23.344551 ,  -7.945652 ,  -2.3150027]]], dtype=float32)>"
      ]
     },
     "execution_count": 24,
     "metadata": {},
     "output_type": "execute_result"
    }
   ],
   "source": [
    "real"
   ]
  },
  {
   "cell_type": "code",
   "execution_count": 25,
   "metadata": {
    "hidden": true
   },
   "outputs": [],
   "source": [
    "fake = tf.ones([3,3,3])\n",
    "fake = fake + tf.random_normal(real.shape, stddev=0.001)"
   ]
  },
  {
   "cell_type": "code",
   "execution_count": 29,
   "metadata": {
    "hidden": true
   },
   "outputs": [],
   "source": [
    "def minibatch_std(x):\n",
    "    y = x\n",
    "    y -= tf.reduce_mean(y, axis=0, keepdims=True)  # [GMCHW] Subtract mean over group.\n",
    "    y = tf.reduce_mean(tf.square(y), axis=0)  # [MCHW]  Calc variance over group.\n",
    "    y = tf.sqrt(y + 1e-8)  # [MCHW]  Calc stddev over group.\n",
    "    y = tf.reduce_mean(y)  # [M111]  Take average of everything\n",
    "    return y"
   ]
  },
  {
   "cell_type": "code",
   "execution_count": 41,
   "metadata": {
    "hidden": true
   },
   "outputs": [
    {
     "data": {
      "text/plain": [
       "<tf.Tensor: id=100, shape=(3, 3), dtype=float32, numpy=\n",
       "array([[  1.       ,   1.       ,   1.       ],\n",
       "       [ -1.320955 ,   1.7413759,  -0.4495827],\n",
       "       [  4.993128 , -12.313018 ,  11.608234 ]], dtype=float32)>"
      ]
     },
     "execution_count": 41,
     "metadata": {},
     "output_type": "execute_result"
    }
   ],
   "source": [
    "real[:,0]"
   ]
  },
  {
   "cell_type": "code",
   "execution_count": 36,
   "metadata": {
    "hidden": true
   },
   "outputs": [
    {
     "data": {
      "text/plain": [
       "<tf.Tensor: id=73, shape=(1, 3, 3), dtype=float32, numpy=\n",
       "array([[[ 1.5573908 , -3.1905472 ,  4.0528836 ],\n",
       "        [-0.5666599 ,  3.465576  , -0.414039  ],\n",
       "        [ 6.2747655 , -2.5721798 , -0.05797919]]], dtype=float32)>"
      ]
     },
     "execution_count": 36,
     "metadata": {},
     "output_type": "execute_result"
    }
   ],
   "source": [
    "t = tf.reduce_mean(real, axis=0, keepdims=True)\n",
    "t"
   ]
  },
  {
   "cell_type": "code",
   "execution_count": 38,
   "metadata": {
    "hidden": true
   },
   "outputs": [
    {
     "data": {
      "text/plain": [
       "<tf.Tensor: id=81, shape=(1, 3), dtype=float32, numpy=array([[ 9.676974,  4.167583, 15.330716]], dtype=float32)>"
      ]
     },
     "execution_count": 38,
     "metadata": {},
     "output_type": "execute_result"
    }
   ],
   "source": [
    "t2 = tf.reduce_mean(tf.square(t), axis=2)\n",
    "t2"
   ]
  },
  {
   "cell_type": "code",
   "execution_count": 31,
   "metadata": {
    "hidden": true,
    "scrolled": false
   },
   "outputs": [
    {
     "name": "stdout",
     "output_type": "stream",
     "text": [
      "tf.Tensor(4.1734023, shape=(), dtype=float32)\n"
     ]
    }
   ],
   "source": [
    "print(minibatch_std(real))"
   ]
  },
  {
   "cell_type": "code",
   "execution_count": null,
   "metadata": {
    "hidden": true
   },
   "outputs": [],
   "source": []
  },
  {
   "cell_type": "code",
   "execution_count": 33,
   "metadata": {
    "hidden": true,
    "scrolled": false
   },
   "outputs": [
    {
     "name": "stdout",
     "output_type": "stream",
     "text": [
      "tf.Tensor(0.00082576263, shape=(), dtype=float32)\n"
     ]
    }
   ],
   "source": [
    "print(minibatch_std(fake))"
   ]
  },
  {
   "cell_type": "code",
   "execution_count": 54,
   "metadata": {
    "hidden": true
   },
   "outputs": [],
   "source": [
    "to_add = tf.expand_dims(tf.concat([tf.zeros([3,1]), tf.ones([3,1]), tf.ones([3,1])*2], axis=1), axis=0)\n",
    "to_add_full = tf.tile(to_add, multiples=[3,1,1]) "
   ]
  },
  {
   "cell_type": "code",
   "execution_count": 55,
   "metadata": {
    "hidden": true
   },
   "outputs": [
    {
     "data": {
      "text/plain": [
       "<tf.Tensor: id=208, shape=(3, 3), dtype=float32, numpy=\n",
       "array([[0.99790543, 1.9987406 , 2.9997768 ],\n",
       "       [1.002098  , 1.9993657 , 3.0004382 ],\n",
       "       [1.0022795 , 1.9996374 , 3.0006309 ]], dtype=float32)>"
      ]
     },
     "execution_count": 55,
     "metadata": {},
     "output_type": "execute_result"
    }
   ],
   "source": [
    "(fake+to_add_full)[0]"
   ]
  },
  {
   "cell_type": "code",
   "execution_count": 57,
   "metadata": {
    "hidden": true
   },
   "outputs": [
    {
     "name": "stdout",
     "output_type": "stream",
     "text": [
      "tf.Tensor(0.81651014, shape=(), dtype=float32)\n"
     ]
    }
   ],
   "source": [
    "print(minibatch_std(fake+tf.transpose(to_add_full)))"
   ]
  },
  {
   "cell_type": "code",
   "execution_count": 58,
   "metadata": {
    "hidden": true,
    "scrolled": true
   },
   "outputs": [
    {
     "name": "stdout",
     "output_type": "stream",
     "text": [
      "tf.Tensor(0.0008257732, shape=(), dtype=float32)\n"
     ]
    }
   ],
   "source": [
    "print(minibatch_std(fake+to_add_full))"
   ]
  },
  {
   "cell_type": "code",
   "execution_count": 156,
   "metadata": {
    "hidden": true
   },
   "outputs": [],
   "source": [
    "def minibatch_stddev_layer_v2(x, group_size=1):\n",
    "    with tf.variable_scope('MinibatchStddev'):\n",
    "        group_size = tf.minimum(group_size,\n",
    "                                tf.shape(x)[0])  # Minibatch must be divisible by (or smaller than) group_size.\n",
    "        s = x.shape  # [NCHW]  Input shape.\n",
    "        y = tf.reshape(x, [group_size, -1, s[1], s[2], s[3]])  # [GMCHW] Split minibatch into M groups of size G.\n",
    "        y = tf.cast(y, tf.float32)  # [GMCHW] Cast to FP32.\n",
    "        y -= tf.reduce_mean(y, axis=0, keepdims=True)  # [GMCHW] Subtract mean over group.\n",
    "        y = tf.reduce_mean(tf.square(y), axis=0)  # [MCHW]  Calc variance over group.\n",
    "        y = tf.sqrt(y + 1e-8)  # [MCHW]  Calc stddev over group.\n",
    "        y = tf.reduce_mean(y, axis=[1, 2, 3], keepdims=True)  # [M111]  Take average over fmaps and pixels.\n",
    "        #y = tf.cast(y, x.dtype)  # [M111]  Cast back to original data type.\n",
    "        #y = tf.tile(y, [group_size, s[1], s[2], 1])  # [N1HW]  Replicate over group and pixels.\n",
    "        return y#tf.concat([x, y], axis=3)  # [NHWC]  Append as new fmap."
   ]
  },
  {
   "cell_type": "code",
   "execution_count": 157,
   "metadata": {
    "hidden": true,
    "scrolled": false
   },
   "outputs": [
    {
     "data": {
      "text/plain": [
       "<tf.Tensor: id=1666, shape=(4, 1, 2, 4), dtype=float32, numpy=\n",
       "array([[[[0.65420175, 0.9305099 , 0.14062226, 0.2927614 ],\n",
       "         [0.7431723 , 0.83801126, 0.71127343, 0.28765965]]],\n",
       "\n",
       "\n",
       "       [[[0.7177837 , 0.2417531 , 0.8814992 , 0.2927614 ],\n",
       "         [0.83159447, 0.56246233, 0.16293252, 0.28765965]]],\n",
       "\n",
       "\n",
       "       [[[0.71108437, 0.6360712 , 0.2101903 , 0.2927614 ],\n",
       "         [0.6388582 , 0.9094868 , 0.7958224 , 0.28765965]]],\n",
       "\n",
       "\n",
       "       [[[0.4771614 , 0.06184614, 0.19554937, 0.2927614 ],\n",
       "         [0.00622571, 0.8419572 , 0.26594615, 0.28765965]]]],\n",
       "      dtype=float32)>"
      ]
     },
     "execution_count": 157,
     "metadata": {},
     "output_type": "execute_result"
    }
   ],
   "source": [
    "#b = tf.random_uniform([4,1,2,3])\n",
    "minibatch_stddev_layer(b)"
   ]
  },
  {
   "cell_type": "code",
   "execution_count": 77,
   "metadata": {
    "hidden": true
   },
   "outputs": [
    {
     "data": {
      "text/plain": [
       "1.9527575633333334"
      ]
     },
     "execution_count": 77,
     "metadata": {},
     "output_type": "execute_result"
    }
   ],
   "source": [
    "(0.65420175 + 0.9305099 +  0.14062226)/3 +(0.7177837 + 0.2417531 + 0.8814992)/3 + (0.71108437 + 0.6360712 + 0.2101903)/3 + (0.4771614 + 0.06184614 + 0.19554937)/3"
   ]
  },
  {
   "cell_type": "code",
   "execution_count": 78,
   "metadata": {
    "hidden": true
   },
   "outputs": [
    {
     "data": {
      "text/plain": [
       "0.48818939083333335"
      ]
     },
     "execution_count": 78,
     "metadata": {},
     "output_type": "execute_result"
    }
   ],
   "source": [
    "1.9527575633333334/4"
   ]
  },
  {
   "cell_type": "code",
   "execution_count": 79,
   "metadata": {
    "hidden": true
   },
   "outputs": [
    {
     "name": "stdout",
     "output_type": "stream",
     "text": [
      "tf.Tensor(\n",
      "[[[[0.65420175 0.9305099  0.14062226]\n",
      "   [0.7431723  0.83801126 0.71127343]]]\n",
      "\n",
      "\n",
      " [[[0.7177837  0.2417531  0.8814992 ]\n",
      "   [0.83159447 0.56246233 0.16293252]]]\n",
      "\n",
      "\n",
      " [[[0.71108437 0.6360712  0.2101903 ]\n",
      "   [0.6388582  0.9094868  0.7958224 ]]]\n",
      "\n",
      "\n",
      " [[[0.4771614  0.06184614 0.19554937]\n",
      "   [0.00622571 0.8419572  0.26594615]]]], shape=(4, 1, 2, 3), dtype=float32)\n"
     ]
    }
   ],
   "source": [
    "print(b)"
   ]
  },
  {
   "cell_type": "code",
   "execution_count": 158,
   "metadata": {
    "hidden": true,
    "scrolled": true
   },
   "outputs": [],
   "source": [
    "a = tf.ones([4,1,2,3])\n"
   ]
  },
  {
   "cell_type": "code",
   "execution_count": 169,
   "metadata": {
    "hidden": true
   },
   "outputs": [],
   "source": [
    "m = tf.expand_dims(tf.constant([1,2,3,4,5,6,7,8,1,2,3,4,5,6,7,8], dtype=tf.float32), axis=1)\n",
    "m = tf.expand_dims(m, axis=2)\n",
    "m = tf.expand_dims(m, axis=3)"
   ]
  },
  {
   "cell_type": "code",
   "execution_count": 170,
   "metadata": {
    "hidden": true,
    "scrolled": true
   },
   "outputs": [
    {
     "data": {
      "text/plain": [
       "<tf.Tensor: id=1788, shape=(16,), dtype=float32, numpy=\n",
       "array([1., 2., 3., 4., 5., 6., 7., 8., 1., 2., 3., 4., 5., 6., 7., 8.],\n",
       "      dtype=float32)>"
      ]
     },
     "execution_count": 170,
     "metadata": {},
     "output_type": "execute_result"
    }
   ],
   "source": [
    "c = tf.multiply(tf.ones([16,1,1,1]),m)\n",
    "tf.squeeze(c)"
   ]
  },
  {
   "cell_type": "code",
   "execution_count": 171,
   "metadata": {
    "hidden": true,
    "scrolled": true
   },
   "outputs": [
    {
     "data": {
      "text/plain": [
       "<tf.Tensor: id=1806, shape=(16, 1, 1, 2), dtype=float32, numpy=\n",
       "array([[[[1.      , 2.291288]]],\n",
       "\n",
       "\n",
       "       [[[2.      , 2.291288]]],\n",
       "\n",
       "\n",
       "       [[[3.      , 2.291288]]],\n",
       "\n",
       "\n",
       "       [[[4.      , 2.291288]]],\n",
       "\n",
       "\n",
       "       [[[5.      , 2.291288]]],\n",
       "\n",
       "\n",
       "       [[[6.      , 2.291288]]],\n",
       "\n",
       "\n",
       "       [[[7.      , 2.291288]]],\n",
       "\n",
       "\n",
       "       [[[8.      , 2.291288]]],\n",
       "\n",
       "\n",
       "       [[[1.      , 2.291288]]],\n",
       "\n",
       "\n",
       "       [[[2.      , 2.291288]]],\n",
       "\n",
       "\n",
       "       [[[3.      , 2.291288]]],\n",
       "\n",
       "\n",
       "       [[[4.      , 2.291288]]],\n",
       "\n",
       "\n",
       "       [[[5.      , 2.291288]]],\n",
       "\n",
       "\n",
       "       [[[6.      , 2.291288]]],\n",
       "\n",
       "\n",
       "       [[[7.      , 2.291288]]],\n",
       "\n",
       "\n",
       "       [[[8.      , 2.291288]]]], dtype=float32)>"
      ]
     },
     "execution_count": 171,
     "metadata": {},
     "output_type": "execute_result"
    }
   ],
   "source": [
    "minibatch_stddev_layer(c, group_size=2)"
   ]
  },
  {
   "cell_type": "code",
   "execution_count": 145,
   "metadata": {
    "hidden": true
   },
   "outputs": [
    {
     "data": {
      "text/plain": [
       "<tf.Tensor: id=1588, shape=(16, 1, 2, 1), dtype=float32, numpy=\n",
       "array([[[[1.],\n",
       "         [1.]]],\n",
       "\n",
       "\n",
       "       [[[1.],\n",
       "         [1.]]],\n",
       "\n",
       "\n",
       "       [[[1.],\n",
       "         [1.]]],\n",
       "\n",
       "\n",
       "       [[[1.],\n",
       "         [1.]]],\n",
       "\n",
       "\n",
       "       [[[2.],\n",
       "         [1.]]],\n",
       "\n",
       "\n",
       "       [[[2.],\n",
       "         [1.]]],\n",
       "\n",
       "\n",
       "       [[[2.],\n",
       "         [1.]]],\n",
       "\n",
       "\n",
       "       [[[2.],\n",
       "         [1.]]],\n",
       "\n",
       "\n",
       "       [[[3.],\n",
       "         [1.]]],\n",
       "\n",
       "\n",
       "       [[[3.],\n",
       "         [1.]]],\n",
       "\n",
       "\n",
       "       [[[3.],\n",
       "         [1.]]],\n",
       "\n",
       "\n",
       "       [[[3.],\n",
       "         [1.]]],\n",
       "\n",
       "\n",
       "       [[[3.],\n",
       "         [1.]]],\n",
       "\n",
       "\n",
       "       [[[3.],\n",
       "         [1.]]],\n",
       "\n",
       "\n",
       "       [[[3.],\n",
       "         [1.]]],\n",
       "\n",
       "\n",
       "       [[[3.],\n",
       "         [1.]]]], dtype=float32)>"
      ]
     },
     "execution_count": 145,
     "metadata": {},
     "output_type": "execute_result"
    }
   ],
   "source": []
  },
  {
   "cell_type": "code",
   "execution_count": 146,
   "metadata": {
    "hidden": true
   },
   "outputs": [
    {
     "data": {
      "text/plain": [
       "<tf.Tensor: id=1610, shape=(16, 1, 2, 2), dtype=float32, numpy=\n",
       "array([[[[1.000000e+00, 8.291562e-01],\n",
       "         [1.000000e+00, 1.000000e-04]]],\n",
       "\n",
       "\n",
       "       [[[1.000000e+00, 8.291562e-01],\n",
       "         [1.000000e+00, 1.000000e-04]]],\n",
       "\n",
       "\n",
       "       [[[1.000000e+00, 8.291562e-01],\n",
       "         [1.000000e+00, 1.000000e-04]]],\n",
       "\n",
       "\n",
       "       [[[1.000000e+00, 8.291562e-01],\n",
       "         [1.000000e+00, 1.000000e-04]]],\n",
       "\n",
       "\n",
       "       [[[2.000000e+00, 8.291562e-01],\n",
       "         [1.000000e+00, 1.000000e-04]]],\n",
       "\n",
       "\n",
       "       [[[2.000000e+00, 8.291562e-01],\n",
       "         [1.000000e+00, 1.000000e-04]]],\n",
       "\n",
       "\n",
       "       [[[2.000000e+00, 8.291562e-01],\n",
       "         [1.000000e+00, 1.000000e-04]]],\n",
       "\n",
       "\n",
       "       [[[2.000000e+00, 8.291562e-01],\n",
       "         [1.000000e+00, 1.000000e-04]]],\n",
       "\n",
       "\n",
       "       [[[3.000000e+00, 8.291562e-01],\n",
       "         [1.000000e+00, 1.000000e-04]]],\n",
       "\n",
       "\n",
       "       [[[3.000000e+00, 8.291562e-01],\n",
       "         [1.000000e+00, 1.000000e-04]]],\n",
       "\n",
       "\n",
       "       [[[3.000000e+00, 8.291562e-01],\n",
       "         [1.000000e+00, 1.000000e-04]]],\n",
       "\n",
       "\n",
       "       [[[3.000000e+00, 8.291562e-01],\n",
       "         [1.000000e+00, 1.000000e-04]]],\n",
       "\n",
       "\n",
       "       [[[3.000000e+00, 8.291562e-01],\n",
       "         [1.000000e+00, 1.000000e-04]]],\n",
       "\n",
       "\n",
       "       [[[3.000000e+00, 8.291562e-01],\n",
       "         [1.000000e+00, 1.000000e-04]]],\n",
       "\n",
       "\n",
       "       [[[3.000000e+00, 8.291562e-01],\n",
       "         [1.000000e+00, 1.000000e-04]]],\n",
       "\n",
       "\n",
       "       [[[3.000000e+00, 8.291562e-01],\n",
       "         [1.000000e+00, 1.000000e-04]]]], dtype=float32)>"
      ]
     },
     "execution_count": 146,
     "metadata": {},
     "output_type": "execute_result"
    }
   ],
   "source": [
    "minibatch_stddev_layer(tf.concat([c, tf.ones([16,1,1,1])], axis=2))"
   ]
  },
  {
   "cell_type": "code",
   "execution_count": 101,
   "metadata": {
    "hidden": true
   },
   "outputs": [],
   "source": [
    "m1 = tf.expand_dims(tf.constant([1,2,3,4,1,2,3,4,1,2,3,4,1,2,3,4], dtype=tf.float32), axis=1)\n",
    "m1 = tf.expand_dims(m1, axis=2)\n",
    "m1 = tf.expand_dims(m1, axis=3)"
   ]
  },
  {
   "cell_type": "code",
   "execution_count": 102,
   "metadata": {
    "hidden": true,
    "scrolled": false
   },
   "outputs": [
    {
     "data": {
      "text/plain": [
       "<tf.Tensor: id=1115, shape=(16, 2, 3), dtype=float32, numpy=\n",
       "array([[[1., 1., 1.],\n",
       "        [1., 1., 1.]],\n",
       "\n",
       "       [[2., 2., 2.],\n",
       "        [2., 2., 2.]],\n",
       "\n",
       "       [[3., 3., 3.],\n",
       "        [3., 3., 3.]],\n",
       "\n",
       "       [[4., 4., 4.],\n",
       "        [4., 4., 4.]],\n",
       "\n",
       "       [[1., 1., 1.],\n",
       "        [1., 1., 1.]],\n",
       "\n",
       "       [[2., 2., 2.],\n",
       "        [2., 2., 2.]],\n",
       "\n",
       "       [[3., 3., 3.],\n",
       "        [3., 3., 3.]],\n",
       "\n",
       "       [[4., 4., 4.],\n",
       "        [4., 4., 4.]],\n",
       "\n",
       "       [[1., 1., 1.],\n",
       "        [1., 1., 1.]],\n",
       "\n",
       "       [[2., 2., 2.],\n",
       "        [2., 2., 2.]],\n",
       "\n",
       "       [[3., 3., 3.],\n",
       "        [3., 3., 3.]],\n",
       "\n",
       "       [[4., 4., 4.],\n",
       "        [4., 4., 4.]],\n",
       "\n",
       "       [[1., 1., 1.],\n",
       "        [1., 1., 1.]],\n",
       "\n",
       "       [[2., 2., 2.],\n",
       "        [2., 2., 2.]],\n",
       "\n",
       "       [[3., 3., 3.],\n",
       "        [3., 3., 3.]],\n",
       "\n",
       "       [[4., 4., 4.],\n",
       "        [4., 4., 4.]]], dtype=float32)>"
      ]
     },
     "execution_count": 102,
     "metadata": {},
     "output_type": "execute_result"
    }
   ],
   "source": [
    "d = tf.multiply(tf.ones([16,1,2,3]),m1)\n",
    "tf.squeeze(d)"
   ]
  },
  {
   "cell_type": "code",
   "execution_count": 103,
   "metadata": {
    "hidden": true,
    "scrolled": true
   },
   "outputs": [
    {
     "name": "stdout",
     "output_type": "stream",
     "text": [
      "tf.Tensor(\n",
      "[[[[1.]\n",
      "   [1.]]]], shape=(1, 1, 2, 1), dtype=float32)\n",
      "(4, 1, 2, 3)\n",
      "(1, 1, 2, 1)\n",
      "(1, 1, 2, 1)\n",
      "(1, 1, 2, 1)\n"
     ]
    },
    {
     "data": {
      "text/plain": [
       "<tf.Tensor: id=1140, shape=(4, 1, 2, 4), dtype=float32, numpy=\n",
       "array([[[[1.e+00, 1.e+00, 1.e+00, 1.e-04],\n",
       "         [1.e+00, 1.e+00, 1.e+00, 1.e-04]]],\n",
       "\n",
       "\n",
       "       [[[1.e+00, 1.e+00, 1.e+00, 1.e-04],\n",
       "         [1.e+00, 1.e+00, 1.e+00, 1.e-04]]],\n",
       "\n",
       "\n",
       "       [[[1.e+00, 1.e+00, 1.e+00, 1.e-04],\n",
       "         [1.e+00, 1.e+00, 1.e+00, 1.e-04]]],\n",
       "\n",
       "\n",
       "       [[[1.e+00, 1.e+00, 1.e+00, 1.e-04],\n",
       "         [1.e+00, 1.e+00, 1.e+00, 1.e-04]]]], dtype=float32)>"
      ]
     },
     "execution_count": 103,
     "metadata": {},
     "output_type": "execute_result"
    }
   ],
   "source": [
    "minibatch_stddev_layer(a)"
   ]
  },
  {
   "cell_type": "code",
   "execution_count": 106,
   "metadata": {
    "hidden": true
   },
   "outputs": [
    {
     "data": {
      "text/plain": [
       "<tf.Tensor: id=1102, shape=(16, 1, 1, 1), dtype=float32, numpy=\n",
       "array([[[[1.]]],\n",
       "\n",
       "\n",
       "       [[[1.]]],\n",
       "\n",
       "\n",
       "       [[[1.]]],\n",
       "\n",
       "\n",
       "       [[[1.]]],\n",
       "\n",
       "\n",
       "       [[[2.]]],\n",
       "\n",
       "\n",
       "       [[[2.]]],\n",
       "\n",
       "\n",
       "       [[[2.]]],\n",
       "\n",
       "\n",
       "       [[[2.]]],\n",
       "\n",
       "\n",
       "       [[[3.]]],\n",
       "\n",
       "\n",
       "       [[[3.]]],\n",
       "\n",
       "\n",
       "       [[[3.]]],\n",
       "\n",
       "\n",
       "       [[[3.]]],\n",
       "\n",
       "\n",
       "       [[[4.]]],\n",
       "\n",
       "\n",
       "       [[[4.]]],\n",
       "\n",
       "\n",
       "       [[[4.]]],\n",
       "\n",
       "\n",
       "       [[[4.]]]], dtype=float32)>"
      ]
     },
     "execution_count": 106,
     "metadata": {},
     "output_type": "execute_result"
    }
   ],
   "source": [
    "c"
   ]
  },
  {
   "cell_type": "code",
   "execution_count": 105,
   "metadata": {
    "hidden": true,
    "scrolled": false
   },
   "outputs": [
    {
     "name": "stdout",
     "output_type": "stream",
     "text": [
      "tf.Tensor(\n",
      "[[[[2.5]\n",
      "   [2.5]]]], shape=(1, 1, 2, 1), dtype=float32)\n",
      "(16, 1, 2, 3)\n",
      "(1, 1, 2, 1)\n",
      "(1, 1, 2, 1)\n",
      "(1, 1, 2, 1)\n"
     ]
    },
    {
     "data": {
      "text/plain": [
       "<tf.Tensor: id=1190, shape=(16, 1, 2, 4), dtype=float32, numpy=\n",
       "array([[[[1.      , 1.      , 1.      , 1.118034],\n",
       "         [1.      , 1.      , 1.      , 1.118034]]],\n",
       "\n",
       "\n",
       "       [[[2.      , 2.      , 2.      , 1.118034],\n",
       "         [2.      , 2.      , 2.      , 1.118034]]],\n",
       "\n",
       "\n",
       "       [[[3.      , 3.      , 3.      , 1.118034],\n",
       "         [3.      , 3.      , 3.      , 1.118034]]],\n",
       "\n",
       "\n",
       "       [[[4.      , 4.      , 4.      , 1.118034],\n",
       "         [4.      , 4.      , 4.      , 1.118034]]],\n",
       "\n",
       "\n",
       "       [[[1.      , 1.      , 1.      , 1.118034],\n",
       "         [1.      , 1.      , 1.      , 1.118034]]],\n",
       "\n",
       "\n",
       "       [[[2.      , 2.      , 2.      , 1.118034],\n",
       "         [2.      , 2.      , 2.      , 1.118034]]],\n",
       "\n",
       "\n",
       "       [[[3.      , 3.      , 3.      , 1.118034],\n",
       "         [3.      , 3.      , 3.      , 1.118034]]],\n",
       "\n",
       "\n",
       "       [[[4.      , 4.      , 4.      , 1.118034],\n",
       "         [4.      , 4.      , 4.      , 1.118034]]],\n",
       "\n",
       "\n",
       "       [[[1.      , 1.      , 1.      , 1.118034],\n",
       "         [1.      , 1.      , 1.      , 1.118034]]],\n",
       "\n",
       "\n",
       "       [[[2.      , 2.      , 2.      , 1.118034],\n",
       "         [2.      , 2.      , 2.      , 1.118034]]],\n",
       "\n",
       "\n",
       "       [[[3.      , 3.      , 3.      , 1.118034],\n",
       "         [3.      , 3.      , 3.      , 1.118034]]],\n",
       "\n",
       "\n",
       "       [[[4.      , 4.      , 4.      , 1.118034],\n",
       "         [4.      , 4.      , 4.      , 1.118034]]],\n",
       "\n",
       "\n",
       "       [[[1.      , 1.      , 1.      , 1.118034],\n",
       "         [1.      , 1.      , 1.      , 1.118034]]],\n",
       "\n",
       "\n",
       "       [[[2.      , 2.      , 2.      , 1.118034],\n",
       "         [2.      , 2.      , 2.      , 1.118034]]],\n",
       "\n",
       "\n",
       "       [[[3.      , 3.      , 3.      , 1.118034],\n",
       "         [3.      , 3.      , 3.      , 1.118034]]],\n",
       "\n",
       "\n",
       "       [[[4.      , 4.      , 4.      , 1.118034],\n",
       "         [4.      , 4.      , 4.      , 1.118034]]]], dtype=float32)>"
      ]
     },
     "execution_count": 105,
     "metadata": {},
     "output_type": "execute_result"
    }
   ],
   "source": [
    "minibatch_stddev_layer(d)"
   ]
  },
  {
   "cell_type": "code",
   "execution_count": 153,
   "metadata": {
    "hidden": true
   },
   "outputs": [],
   "source": [
    "c = tf.expand_dims(tf.constant([1,2,3,4]), axis=1)"
   ]
  },
  {
   "cell_type": "code",
   "execution_count": 154,
   "metadata": {
    "hidden": true
   },
   "outputs": [
    {
     "data": {
      "text/plain": [
       "<tf.Tensor: id=1648, shape=(2, 1), dtype=int32, numpy=\n",
       "array([[1],\n",
       "       [2]])>"
      ]
     },
     "execution_count": 154,
     "metadata": {},
     "output_type": "execute_result"
    }
   ],
   "source": [
    "tf.reshape(c, [2,2,1])[0]"
   ]
  },
  {
   "cell_type": "markdown",
   "metadata": {
    "heading_collapsed": true
   },
   "source": [
    "## Leaky relu"
   ]
  },
  {
   "cell_type": "code",
   "execution_count": 66,
   "metadata": {
    "hidden": true
   },
   "outputs": [],
   "source": [
    "s=tf.constant([[1.0,-2.0,3.0,-4.0,5.0,-6.0],[-10.0,20.0,-30.0,40.0,-50.0,60.0]])"
   ]
  },
  {
   "cell_type": "code",
   "execution_count": 12,
   "metadata": {
    "hidden": true
   },
   "outputs": [
    {
     "data": {
      "text/plain": [
       "<tf.Tensor: id=16, shape=(2, 6), dtype=float32, numpy=\n",
       "array([[  1.,  -2.,   3.,  -4.,   5.,  -6.],\n",
       "       [-10.,  20., -30.,  40., -50.,  60.]], dtype=float32)>"
      ]
     },
     "execution_count": 12,
     "metadata": {},
     "output_type": "execute_result"
    }
   ],
   "source": [
    "s"
   ]
  },
  {
   "cell_type": "code",
   "execution_count": 13,
   "metadata": {
    "hidden": true
   },
   "outputs": [
    {
     "data": {
      "text/plain": [
       "<tf.Tensor: id=19, shape=(2, 6), dtype=float32, numpy=\n",
       "array([[  1. ,  -0.4,   3. ,  -0.8,   5. ,  -1.2],\n",
       "       [ -2. ,  20. ,  -6. ,  40. , -10. ,  60. ]], dtype=float32)>"
      ]
     },
     "execution_count": 13,
     "metadata": {},
     "output_type": "execute_result"
    }
   ],
   "source": [
    "tf.nn.leaky_relu(s)"
   ]
  },
  {
   "cell_type": "code",
   "execution_count": 14,
   "metadata": {
    "hidden": true
   },
   "outputs": [
    {
     "data": {
      "text/plain": [
       "<tf.Tensor: id=21, shape=(2, 6), dtype=float32, numpy=\n",
       "array([[ 1.,  0.,  3.,  0.,  5.,  0.],\n",
       "       [ 0., 20.,  0., 40.,  0., 60.]], dtype=float32)>"
      ]
     },
     "execution_count": 14,
     "metadata": {},
     "output_type": "execute_result"
    }
   ],
   "source": [
    "tf.nn.relu(s)"
   ]
  },
  {
   "cell_type": "code",
   "execution_count": 15,
   "metadata": {
    "hidden": true
   },
   "outputs": [
    {
     "data": {
      "text/plain": [
       "<tf.Tensor: id=72, shape=(2, 6), dtype=float32, numpy=\n",
       "array([[  0.99950033,  -1.9990007 ,   2.998501  ,  -3.9980013 ,\n",
       "          4.997502  ,  -5.9970026 ],\n",
       "       [ -9.995004  ,  19.990007  , -29.98501   ,  39.980015  ,\n",
       "        -49.97502   ,  59.970024  ]], dtype=float32)>"
      ]
     },
     "execution_count": 15,
     "metadata": {},
     "output_type": "execute_result"
    }
   ],
   "source": [
    "tf.layers.batch_normalization(s)"
   ]
  },
  {
   "cell_type": "code",
   "execution_count": 26,
   "metadata": {
    "hidden": true
   },
   "outputs": [],
   "source": [
    "def lrelu(x, leak=0.2, name='lrelu'):\n",
    "    \"\"\"The leaky RELU operation.\"\"\"\n",
    "    with tf.variable_scope(name):\n",
    "        f1 = 0.5 * (1 + leak)\n",
    "        f2 = 0.5 * (1 - leak)\n",
    "    return f1 * x + f2 * abs(x)"
   ]
  },
  {
   "cell_type": "code",
   "execution_count": 27,
   "metadata": {
    "hidden": true
   },
   "outputs": [
    {
     "data": {
      "text/plain": [
       "<tf.Tensor: id=138, shape=(2, 6), dtype=float32, numpy=\n",
       "array([[  1.        ,  -0.40000004,   3.        ,  -0.8000001 ,\n",
       "          5.        ,  -1.2       ],\n",
       "       [ -2.        ,  20.        ,  -6.        ,  40.        ,\n",
       "        -10.000002  ,  60.        ]], dtype=float32)>"
      ]
     },
     "execution_count": 27,
     "metadata": {},
     "output_type": "execute_result"
    }
   ],
   "source": [
    "lrelu(s)"
   ]
  },
  {
   "cell_type": "code",
   "execution_count": 29,
   "metadata": {
    "hidden": true
   },
   "outputs": [
    {
     "data": {
      "text/plain": [
       "<tf.Tensor: id=141, shape=(), dtype=float32, numpy=60.0>"
      ]
     },
     "execution_count": 29,
     "metadata": {},
     "output_type": "execute_result"
    }
   ],
   "source": [
    "tf.reduce_max(s)"
   ]
  },
  {
   "cell_type": "code",
   "execution_count": 48,
   "metadata": {
    "hidden": true,
    "scrolled": true
   },
   "outputs": [
    {
     "data": {
      "text/plain": [
       "<tf.Tensor: id=294, shape=(3, 3), dtype=float32, numpy=\n",
       "array([[  5.1962004,  -2.9235325,  -3.9870965],\n",
       "       [ -2.1220994, -11.072636 ,   5.929529 ],\n",
       "       [  3.4704418,   2.6292017,  -5.3618007]], dtype=float32)>"
      ]
     },
     "execution_count": 48,
     "metadata": {},
     "output_type": "execute_result"
    }
   ],
   "source": [
    "tf.random_normal([3,3],\n",
    "                mean=0.0,\n",
    "                stddev=tf.reduce_max(s)/12,\n",
    "                dtype=tf.float32)"
   ]
  },
  {
   "cell_type": "code",
   "execution_count": null,
   "metadata": {
    "hidden": true
   },
   "outputs": [],
   "source": []
  },
  {
   "cell_type": "markdown",
   "metadata": {
    "heading_collapsed": true
   },
   "source": [
    "## Pixel Normalization"
   ]
  },
  {
   "cell_type": "code",
   "execution_count": 49,
   "metadata": {
    "hidden": true
   },
   "outputs": [],
   "source": [
    "x = tf.random_normal([3,3], mean=0.0,stddev=10,dtype=tf.float32)"
   ]
  },
  {
   "cell_type": "code",
   "execution_count": 50,
   "metadata": {
    "hidden": true
   },
   "outputs": [
    {
     "data": {
      "text/plain": [
       "<tf.Tensor: id=299, shape=(3, 3), dtype=float32, numpy=\n",
       "array([[ -3.9545503,   4.832311 ,  -4.288933 ],\n",
       "       [ -4.7606173,  -8.868431 ,  22.546158 ],\n",
       "       [ 11.904067 , -12.1788225,  -3.4183855]], dtype=float32)>"
      ]
     },
     "execution_count": 50,
     "metadata": {},
     "output_type": "execute_result"
    }
   ],
   "source": [
    "x"
   ]
  },
  {
   "cell_type": "code",
   "execution_count": 52,
   "metadata": {
    "hidden": true
   },
   "outputs": [],
   "source": [
    "epsilon=1e-8"
   ]
  },
  {
   "cell_type": "code",
   "execution_count": 53,
   "metadata": {
    "hidden": true,
    "scrolled": true
   },
   "outputs": [],
   "source": [
    "normalized = x * tf.rsqrt(tf.reduce_mean(tf.square(x), axis=1, keepdims=True) + epsilon)"
   ]
  },
  {
   "cell_type": "code",
   "execution_count": 54,
   "metadata": {
    "hidden": true
   },
   "outputs": [
    {
     "data": {
      "text/plain": [
       "<tf.Tensor: id=310, shape=(3, 3), dtype=float32, numpy=\n",
       "array([[-0.90419036,  1.1048865 , -0.9806455 ],\n",
       "       [-0.33395392, -0.6221141 ,  1.5815969 ],\n",
       "       [ 1.187017  , -1.2144144 , -0.34086516]], dtype=float32)>"
      ]
     },
     "execution_count": 54,
     "metadata": {},
     "output_type": "execute_result"
    }
   ],
   "source": [
    "normalized"
   ]
  },
  {
   "cell_type": "code",
   "execution_count": 55,
   "metadata": {
    "hidden": true
   },
   "outputs": [
    {
     "data": {
      "text/plain": [
       "<tf.Tensor: id=312, shape=(3, 3), dtype=float32, numpy=\n",
       "array([[ 15.638468,  23.35123 ,  18.394945],\n",
       "       [ 22.663477,  78.64907 , 508.32922 ],\n",
       "       [141.70682 , 148.32372 ,  11.685359]], dtype=float32)>"
      ]
     },
     "execution_count": 55,
     "metadata": {},
     "output_type": "execute_result"
    }
   ],
   "source": [
    "tf.square(x)"
   ]
  },
  {
   "cell_type": "code",
   "execution_count": 57,
   "metadata": {
    "hidden": true
   },
   "outputs": [
    {
     "data": {
      "text/plain": [
       "<tf.Tensor: id=316, shape=(3, 1), dtype=float32, numpy=\n",
       "array([[ 19.128214],\n",
       "       [203.21393 ],\n",
       "       [100.57196 ]], dtype=float32)>"
      ]
     },
     "execution_count": 57,
     "metadata": {},
     "output_type": "execute_result"
    }
   ],
   "source": [
    "tf.reduce_mean(tf.square(x), axis=1, keepdims=True)"
   ]
  },
  {
   "cell_type": "code",
   "execution_count": 59,
   "metadata": {
    "hidden": true
   },
   "outputs": [
    {
     "data": {
      "text/plain": [
       "100.57196633333332"
      ]
     },
     "execution_count": 59,
     "metadata": {},
     "output_type": "execute_result"
    }
   ],
   "source": [
    "(141.70682 + 148.32372 + 11.685359)/3"
   ]
  },
  {
   "cell_type": "code",
   "execution_count": 60,
   "metadata": {
    "hidden": true
   },
   "outputs": [
    {
     "data": {
      "text/plain": [
       "<tf.Tensor: id=322, shape=(3, 1), dtype=float32, numpy=\n",
       "array([[0.22864556],\n",
       "       [0.07014929],\n",
       "       [0.09971525]], dtype=float32)>"
      ]
     },
     "execution_count": 60,
     "metadata": {},
     "output_type": "execute_result"
    }
   ],
   "source": [
    "tf.rsqrt(tf.reduce_mean(tf.square(x), axis=1, keepdims=True) + epsilon)"
   ]
  },
  {
   "cell_type": "code",
   "execution_count": 61,
   "metadata": {
    "hidden": true
   },
   "outputs": [
    {
     "data": {
      "text/plain": [
       "<tf.Tensor: id=328, shape=(3, 1), dtype=float32, numpy=\n",
       "array([[ 4.3735814],\n",
       "       [14.255312 ],\n",
       "       [10.028557 ]], dtype=float32)>"
      ]
     },
     "execution_count": 61,
     "metadata": {},
     "output_type": "execute_result"
    }
   ],
   "source": [
    "tf.sqrt(tf.reduce_mean(tf.square(x), axis=1, keepdims=True) + epsilon)"
   ]
  },
  {
   "cell_type": "markdown",
   "metadata": {
    "heading_collapsed": true
   },
   "source": [
    "## Max and min"
   ]
  },
  {
   "cell_type": "code",
   "execution_count": 29,
   "metadata": {
    "hidden": true,
    "scrolled": true
   },
   "outputs": [],
   "source": [
    "z = tf.random_normal((3,3), stddev=1)"
   ]
  },
  {
   "cell_type": "code",
   "execution_count": 30,
   "metadata": {
    "hidden": true
   },
   "outputs": [
    {
     "data": {
      "text/plain": [
       "<tf.Tensor: id=66, shape=(3, 3), dtype=float32, numpy=\n",
       "array([[-0.10148989,  1.039026  , -0.7246698 ],\n",
       "       [-1.963244  , -0.97793996,  1.1597226 ],\n",
       "       [-0.6023854 ,  0.9201034 , -1.3990489 ]], dtype=float32)>"
      ]
     },
     "execution_count": 30,
     "metadata": {},
     "output_type": "execute_result"
    }
   ],
   "source": [
    "z"
   ]
  },
  {
   "cell_type": "code",
   "execution_count": 67,
   "metadata": {
    "hidden": true
   },
   "outputs": [],
   "source": [
    "greater_mask = z > 1\n",
    "lower_mask = z < -1"
   ]
  },
  {
   "cell_type": "code",
   "execution_count": 52,
   "metadata": {
    "hidden": true
   },
   "outputs": [
    {
     "data": {
      "text/plain": [
       "<tf.Tensor: id=154, shape=(), dtype=float32, numpy=1.1597226>"
      ]
     },
     "execution_count": 52,
     "metadata": {},
     "output_type": "execute_result"
    }
   ],
   "source": [
    "tf.reduce_max(z)"
   ]
  },
  {
   "cell_type": "code",
   "execution_count": 62,
   "metadata": {
    "hidden": true
   },
   "outputs": [
    {
     "data": {
      "text/plain": [
       "<tf.Tensor: id=214, shape=(3, 3), dtype=float32, numpy=\n",
       "array([[-0.10148989,  0.87930346, -0.7246698 ],\n",
       "       [-1.963244  , -0.97793996,  1.        ],\n",
       "       [-0.6023854 ,  0.9201034 , -1.3990489 ]], dtype=float32)>"
      ]
     },
     "execution_count": 62,
     "metadata": {},
     "output_type": "execute_result"
    }
   ],
   "source": [
    "tf.where(z > 1,  z +(1-tf.reduce_max(z)), z)"
   ]
  },
  {
   "cell_type": "code",
   "execution_count": 72,
   "metadata": {
    "hidden": true
   },
   "outputs": [
    {
     "data": {
      "text/plain": [
       "<tf.Tensor: id=266, shape=(3, 3), dtype=float32, numpy=\n",
       "array([[-0.10148989,  1.039026  , -0.7246698 ],\n",
       "       [-1.        , -0.97793996,  1.1597226 ],\n",
       "       [-0.6023854 ,  0.9201034 , -0.43580496]], dtype=float32)>"
      ]
     },
     "execution_count": 72,
     "metadata": {},
     "output_type": "execute_result"
    }
   ],
   "source": [
    "tf.where(z < -1,  z -(1+tf.reduce_min(z)), z)"
   ]
  },
  {
   "cell_type": "markdown",
   "metadata": {
    "heading_collapsed": true
   },
   "source": [
    "## Interpolation"
   ]
  },
  {
   "cell_type": "code",
   "execution_count": 63,
   "metadata": {
    "hidden": true
   },
   "outputs": [],
   "source": [
    "import numpy as np\n",
    "def slerp(val, low, high):\n",
    "    \"\"\"Code from https://github.com/soumith/dcgan.torch/issues/14\"\"\"\n",
    "    omega = np.arccos(np.clip(np.dot(low/np.linalg.norm(low), high/np.linalg.norm(high)), -1, 1))\n",
    "    so = np.sin(omega)\n",
    "    if so == 0:\n",
    "        return (1.0-val) * low + val * high # L'Hopital's rule/LERP\n",
    "    return np.sin((1.0-val)*omega) / so * low + np.sin(val*omega) / so * high"
   ]
  },
  {
   "cell_type": "code",
   "execution_count": 68,
   "metadata": {
    "hidden": true
   },
   "outputs": [
    {
     "name": "stdout",
     "output_type": "stream",
     "text": [
      "1.0\n",
      "2.0\n",
      "3.0\n",
      "4.0\n",
      "5.0\n",
      "6.0\n",
      "6.999999999999999\n",
      "7.999999999999999\n",
      "9.0\n",
      "10.0\n"
     ]
    }
   ],
   "source": [
    "for v in np.linspace(0, 1, 10):\n",
    "    print(slerp(v, 1, 10))"
   ]
  },
  {
   "cell_type": "code",
   "execution_count": 66,
   "metadata": {
    "hidden": true
   },
   "outputs": [
    {
     "data": {
      "text/plain": [
       "array([0.        , 0.11111111, 0.22222222, 0.33333333, 0.44444444,\n",
       "       0.55555556, 0.66666667, 0.77777778, 0.88888889, 1.        ])"
      ]
     },
     "execution_count": 66,
     "metadata": {},
     "output_type": "execute_result"
    }
   ],
   "source": [
    "np.linspace(0, 1, 10)"
   ]
  },
  {
   "cell_type": "markdown",
   "metadata": {
    "heading_collapsed": true
   },
   "source": [
    "## Random variation cost"
   ]
  },
  {
   "cell_type": "code",
   "execution_count": 4,
   "metadata": {
    "hidden": true
   },
   "outputs": [],
   "source": [
    "fake=tf.ones([4,3,3], dtype=tf.float32)\n",
    "real=tf.random_uniform([4,3,3], maxval=1.0, minval=-1.0)"
   ]
  },
  {
   "cell_type": "code",
   "execution_count": 5,
   "metadata": {
    "hidden": true
   },
   "outputs": [
    {
     "data": {
      "text/plain": [
       "<tf.Tensor: id=10, shape=(4, 3, 3), dtype=float32, numpy=\n",
       "array([[[-0.68053555,  0.94120216,  0.5072081 ],\n",
       "        [ 0.04000926,  0.7411902 ,  0.42095637],\n",
       "        [-0.95797634, -0.3833294 ,  0.5742109 ]],\n",
       "\n",
       "       [[ 0.2702098 , -0.23940134,  0.13490176],\n",
       "        [-0.8861463 , -0.7361932 ,  0.7774217 ],\n",
       "        [ 0.70588684,  0.03667521,  0.07178187]],\n",
       "\n",
       "       [[ 0.09869027,  0.48066115,  0.46714878],\n",
       "        [ 0.97773266,  0.8321655 , -0.42627954],\n",
       "        [-0.9099207 , -0.38545132, -0.00822997]],\n",
       "\n",
       "       [[ 0.49386597, -0.5003557 , -0.8435242 ],\n",
       "        [-0.52237487,  0.24940586, -0.04144812],\n",
       "        [-0.15424728, -0.35600853,  0.01232243]]], dtype=float32)>"
      ]
     },
     "execution_count": 5,
     "metadata": {},
     "output_type": "execute_result"
    }
   ],
   "source": [
    "real"
   ]
  },
  {
   "cell_type": "code",
   "execution_count": 8,
   "metadata": {
    "hidden": true
   },
   "outputs": [],
   "source": [
    "def calculate_difference(batch):\n",
    "    splitted = tf.split(tf.random_shuffle(batch),2)\n",
    "    diff = tf.abs(splitted[0]-splitted[1])\n",
    "    return tf.reduce_mean(diff)\n",
    "    \n",
    "    "
   ]
  },
  {
   "cell_type": "code",
   "execution_count": 15,
   "metadata": {
    "hidden": true,
    "scrolled": true
   },
   "outputs": [
    {
     "data": {
      "text/plain": [
       "<tf.Tensor: id=81, shape=(), dtype=float32, numpy=0.8252176>"
      ]
     },
     "execution_count": 15,
     "metadata": {},
     "output_type": "execute_result"
    }
   ],
   "source": [
    "calculate_difference(real)"
   ]
  },
  {
   "cell_type": "code",
   "execution_count": 11,
   "metadata": {
    "hidden": true
   },
   "outputs": [
    {
     "data": {
      "text/plain": [
       "<tf.Tensor: id=45, shape=(), dtype=float32, numpy=0.0>"
      ]
     },
     "execution_count": 11,
     "metadata": {},
     "output_type": "execute_result"
    }
   ],
   "source": [
    "calculate_difference(fake)"
   ]
  },
  {
   "cell_type": "code",
   "execution_count": 25,
   "metadata": {
    "hidden": true
   },
   "outputs": [],
   "source": [
    "a = tf.ones((3, 3))\n",
    "b = tf.ones((3, 1))"
   ]
  },
  {
   "cell_type": "code",
   "execution_count": 26,
   "metadata": {
    "hidden": true
   },
   "outputs": [
    {
     "data": {
      "text/plain": [
       "(<tf.Tensor: id=103, shape=(3, 3), dtype=float32, numpy=\n",
       " array([[1., 1., 1.],\n",
       "        [1., 1., 1.],\n",
       "        [1., 1., 1.]], dtype=float32)>,\n",
       " <tf.Tensor: id=105, shape=(3, 1), dtype=float32, numpy=\n",
       " array([[1.],\n",
       "        [1.],\n",
       "        [1.]], dtype=float32)>)"
      ]
     },
     "execution_count": 26,
     "metadata": {},
     "output_type": "execute_result"
    }
   ],
   "source": [
    "a,b"
   ]
  },
  {
   "cell_type": "code",
   "execution_count": 27,
   "metadata": {
    "hidden": true
   },
   "outputs": [
    {
     "data": {
      "text/plain": [
       "<tf.Tensor: id=108, shape=(3, 3), dtype=float32, numpy=\n",
       "array([[2., 2., 2.],\n",
       "       [2., 2., 2.],\n",
       "       [2., 2., 2.]], dtype=float32)>"
      ]
     },
     "execution_count": 27,
     "metadata": {},
     "output_type": "execute_result"
    }
   ],
   "source": [
    "a+b"
   ]
  },
  {
   "cell_type": "code",
   "execution_count": 29,
   "metadata": {
    "hidden": true
   },
   "outputs": [
    {
     "data": {
      "text/plain": [
       "<tf.Tensor: id=115, shape=(3, 3), dtype=float32, numpy=\n",
       "array([[ 0.7145796 , -0.6244724 , -0.37418914],\n",
       "       [ 0.92025685, -0.74070954,  0.08209896],\n",
       "       [ 0.7871132 ,  0.7381878 ,  0.17941451]], dtype=float32)>"
      ]
     },
     "execution_count": 29,
     "metadata": {},
     "output_type": "execute_result"
    }
   ],
   "source": [
    "tf.random_uniform((3,3), minval=-1, maxval=1\n",
    "                )"
   ]
  },
  {
   "cell_type": "markdown",
   "metadata": {
    "heading_collapsed": true
   },
   "source": [
    "## Drop out"
   ]
  },
  {
   "cell_type": "code",
   "execution_count": 4,
   "metadata": {
    "hidden": true
   },
   "outputs": [],
   "source": [
    "a = tf.ones((3, 3))"
   ]
  },
  {
   "cell_type": "code",
   "execution_count": 8,
   "metadata": {
    "hidden": true,
    "scrolled": true
   },
   "outputs": [
    {
     "data": {
      "text/plain": [
       "<tf.Tensor: id=28, shape=(3, 3), dtype=float32, numpy=\n",
       "array([[2., 2., 2.],\n",
       "       [0., 2., 2.],\n",
       "       [0., 2., 2.]], dtype=float32)>"
      ]
     },
     "execution_count": 8,
     "metadata": {},
     "output_type": "execute_result"
    }
   ],
   "source": [
    "tf.nn.dropout(a, keep_prob=0.5)"
   ]
  },
  {
   "cell_type": "code",
   "execution_count": 12,
   "metadata": {
    "hidden": true
   },
   "outputs": [],
   "source": [
    "a =tf.train.exponential_decay(1, 1, 100000, 0.05, staircase=True)\n"
   ]
  },
  {
   "cell_type": "code",
   "execution_count": 17,
   "metadata": {
    "hidden": true
   },
   "outputs": [
    {
     "ename": "AttributeError",
     "evalue": "'function' object has no attribute 'run'",
     "output_type": "error",
     "traceback": [
      "\u001b[1;31m---------------------------------------------------------------------------\u001b[0m",
      "\u001b[1;31mAttributeError\u001b[0m                            Traceback (most recent call last)",
      "\u001b[1;32m<ipython-input-17-465eb804493c>\u001b[0m in \u001b[0;36m<module>\u001b[1;34m()\u001b[0m\n\u001b[1;32m----> 1\u001b[1;33m \u001b[0ma\u001b[0m\u001b[1;33m.\u001b[0m\u001b[0mrun\u001b[0m\u001b[1;33m(\u001b[0m\u001b[1;33m(\u001b[0m\u001b[1;33m)\u001b[0m\u001b[1;33m)\u001b[0m\u001b[1;33m\u001b[0m\u001b[0m\n\u001b[0m",
      "\u001b[1;31mAttributeError\u001b[0m: 'function' object has no attribute 'run'"
     ]
    }
   ],
   "source": []
  },
  {
   "cell_type": "markdown",
   "metadata": {
    "heading_collapsed": true
   },
   "source": [
    "## Swap"
   ]
  },
  {
   "cell_type": "code",
   "execution_count": 32,
   "metadata": {
    "hidden": true,
    "scrolled": true
   },
   "outputs": [],
   "source": [
    "a = tf.identity([1,2,3,4,5])\n",
    "b = tf.identity([-1,-2,-3,-4,-5])\n",
    "l = tf.identity([10,20,30,40,50])"
   ]
  },
  {
   "cell_type": "code",
   "execution_count": 12,
   "metadata": {
    "hidden": true
   },
   "outputs": [],
   "source": [
    "z = tf.random_uniform([5])"
   ]
  },
  {
   "cell_type": "code",
   "execution_count": 13,
   "metadata": {
    "hidden": true
   },
   "outputs": [
    {
     "data": {
      "text/plain": [
       "<tf.Tensor: id=18, shape=(5,), dtype=float32, numpy=\n",
       "array([0.6608896 , 0.7125331 , 0.9374945 , 0.3813951 , 0.93090487],\n",
       "      dtype=float32)>"
      ]
     },
     "execution_count": 13,
     "metadata": {},
     "output_type": "execute_result"
    }
   ],
   "source": [
    "z"
   ]
  },
  {
   "cell_type": "code",
   "execution_count": 15,
   "metadata": {
    "hidden": true
   },
   "outputs": [
    {
     "data": {
      "text/plain": [
       "<tf.Tensor: id=22, shape=(5,), dtype=bool, numpy=array([False, False, False,  True, False])>"
      ]
     },
     "execution_count": 15,
     "metadata": {},
     "output_type": "execute_result"
    }
   ],
   "source": [
    "z < 0.5"
   ]
  },
  {
   "cell_type": "code",
   "execution_count": 36,
   "metadata": {
    "hidden": true,
    "scrolled": true
   },
   "outputs": [
    {
     "data": {
      "text/plain": [
       "(<tf.Tensor: id=144, shape=(5,), dtype=int32, numpy=array([ 4,  3, -1, -5, -2])>,\n",
       " <tf.Tensor: id=150, shape=(5,), dtype=int32, numpy=array([-4, -3,  1,  5,  2])>,\n",
       " <tf.Tensor: id=156, shape=(5,), dtype=int32, numpy=array([40, 30, 10, 50, 20])>)"
      ]
     },
     "execution_count": 36,
     "metadata": {},
     "output_type": "execute_result"
    }
   ],
   "source": [
    "random_shuffle(a,b,l)"
   ]
  },
  {
   "cell_type": "code",
   "execution_count": 37,
   "metadata": {
    "hidden": true
   },
   "outputs": [],
   "source": [
    "def random_shuffle(real, fake, labels, batch_size, num_real):\n",
    "    idx = tf.random_shuffle(tf.range(int(batch_size)))\n",
    "    real_idx = tf.gather(idx, tf.range(num_real))\n",
    "    fake_idx = tf.gather(idx, tf.range(num_real, int(batch_size)))\n",
    "\n",
    "    real_ = tf.gather(real, real_idx)\n",
    "    fake_ = tf.gather(fake, fake_idx)\n",
    "    real_mix = tf.concat([real_, fake_], axis=0)\n",
    "    \n",
    "    fake_ = tf.gather(fake, real_idx)\n",
    "    real_ = tf.gather(real, fake_idx)\n",
    "    fake_mix = tf.concat([fake_, real_], axis=0)\n",
    "    \n",
    "    labels1 = tf.gather(labels, real_idx)\n",
    "    labels2 = tf.gather(labels, fake_idx)\n",
    "    labels_mix = tf.concat([labels1, labels2], axis=0)\n",
    "    \n",
    "    return real_mix, fake_mix, labels_mix"
   ]
  },
  {
   "cell_type": "markdown",
   "metadata": {},
   "source": [
    "## Upsampling"
   ]
  },
  {
   "cell_type": "code",
   "execution_count": 135,
   "metadata": {},
   "outputs": [],
   "source": [
    "path =\"C:\\\\Users\\\\Donatas\\\\Workspace\\\\Machine Learning\\\\SynBioAi\\\\PREnzyme\\\\data\\\\protein\\\\cgan\\\\sample_multi_51\""
   ]
  },
  {
   "cell_type": "code",
   "execution_count": 630,
   "metadata": {},
   "outputs": [],
   "source": [
    "import os\n",
    "def get_protein_batches(data_dir,\n",
    "                        batch_size,\n",
    "                        label_offset=0,\n",
    "                        cycle_length=1,\n",
    "                        shuffle_buffer_size=100000,\n",
    "                        running_mode='train'):\n",
    "    \"\"\"Fetches num_batches batches of size batch_size from the data_dir.\n",
    "\n",
    "    Args:\n",
    "      data_dir: The directory to read data from. Expected to be a single\n",
    "          TFRecords file.\n",
    "      image_shape: The shape of image to be read\n",
    "      batch_size: The number of elements in a single minibatch.\n",
    "      num_batches: The number of batches to fetch at a time.\n",
    "      label_offset: The scalar to add to the labels in the dataset. The\n",
    "          GAN code expects labels in [0, 999], and this scalar can be used to move\n",
    "          other labels into this range. (Default: 0)\n",
    "      cycle_length: The number of input elements to process concurrently in the\n",
    "          Dataset loader. (Default: 1)\n",
    "      shuffle_buffer_size: The number of records to load before shuffling. Larger\n",
    "          means more likely randomization. (Default: 100000)\n",
    "    Returns:\n",
    "      A list of num_batches batches of size batch_size.\n",
    "    \"\"\"\n",
    "    # filenames = gfile.Glob(os.path.join(data_dir, '*_train_*-*-of-*'))\n",
    "    print(\"Loading files from {}\".format(data_dir))\n",
    "    filenames = tf.gfile.Glob(os.path.join(data_dir, \"test*.tfrecords\"))\n",
    "    print(\"Found {} file(s)\".format(len(filenames)))\n",
    "    filename_dataset = tf.data.Dataset.from_tensor_slices(filenames)\n",
    "    filename_dataset = filename_dataset.shuffle(len(filenames))\n",
    "    prefetch = max(int(batch_size / cycle_length), 1)\n",
    "    dataset = filename_dataset.interleave(\n",
    "        lambda fn: tf.data.TFRecordDataset(fn).prefetch(prefetch).repeat(),\n",
    "        cycle_length=cycle_length, block_length=1)\n",
    "\n",
    "    dataset = dataset.shuffle(buffer_size=shuffle_buffer_size, reshuffle_each_iteration=True)\n",
    "    \n",
    "    def _extract_seq_and_label(record):\n",
    "        \"\"\"Extracts and preprocesses the image and label from the record.\"\"\"\n",
    "        context_features, seq_features = tf.parse_single_sequence_example(\n",
    "            serialized=record,\n",
    "            context_features={\n",
    "                'label': tf.FixedLenFeature([], tf.int64),\n",
    "                'length': tf.FixedLenFeature([], tf.int64),\n",
    "                #'sequence': tf.FixedLenFeature([], tf.int64)\n",
    "              },\n",
    "            sequence_features={\n",
    "                'sequence': tf.FixedLenSequenceFeature([], dtype=tf.int64, allow_missing=False)\n",
    "            }\n",
    "        )\n",
    "        seq = tf.cast(seq_features['sequence'], tf.int32, name=\"seq\")\n",
    "        def pad_up_to(t, max_in_dims, constant_values=tf.constant(0)):\n",
    "            s = tf.shape(t)\n",
    "            paddings = [[0, m-s[i]] for (i,m) in enumerate(max_in_dims)]\n",
    "            return tf.pad(t, paddings, 'CONSTANT', constant_values=constant_values)\n",
    "        length = tf.cast(context_features['length'], tf.int32)\n",
    "        seq = pad_up_to(seq, [512])\n",
    "        labels = tf.cast(context_features['label'], tf.int32, name=\"labels\")\n",
    "        labels += label_offset\n",
    "        return length, labels\n",
    "     \n",
    "    dataset = dataset.map(_extract_seq_and_label, num_parallel_calls=16).prefetch(batch_size)   \n",
    "  # Repeat for unlimited epochs.\n",
    "    dataset = dataset.batch(batch_size, drop_remainder=True)\n",
    "\n",
    "\n",
    "\n",
    "    iterator = dataset.make_one_shot_iterator()\n",
    "    return iterator #iterator.get_next()"
   ]
  },
  {
   "cell_type": "code",
   "execution_count": 655,
   "metadata": {
    "scrolled": false
   },
   "outputs": [
    {
     "name": "stdout",
     "output_type": "stream",
     "text": [
      "Loading files from C:\\Users\\Donatas\\Workspace\\Machine Learning\\SynBioAi\\PREnzyme\\data\\protein\\cgan\\sample_multi_51\n",
      "Found 4 file(s)\n"
     ]
    }
   ],
   "source": [
    "batch = get_protein_batches(path, 4, cycle_length=4, shuffle_buffer_size=4)"
   ]
  },
  {
   "cell_type": "code",
   "execution_count": 773,
   "metadata": {},
   "outputs": [],
   "source": [
    "test = batch.get_next()"
   ]
  },
  {
   "cell_type": "code",
   "execution_count": 598,
   "metadata": {},
   "outputs": [],
   "source": [
    "import pandas as pd\n",
    "DATA_SOURCE=\"C:\\\\Users\\\\Donatas\\\\Workspace\\\\Machine Learning\\\\SynBioAi\\\\PREnzyme\\\\data\\\\protein\\\\cgan\\\\data_sources\\\\augmented_2018_10_16.csv\"\n",
    "original_data = pd.read_csv(DATA_SOURCE, sep='\\t', skipinitialspace=True).rename(columns={\"EC class\": \"EC number\"})[:2]"
   ]
  },
  {
   "cell_type": "code",
   "execution_count": 241,
   "metadata": {},
   "outputs": [],
   "source": [
    "data = original_data\n",
    "from common.bio.amino_acid import *\n",
    "from common.bio.smiles import *\n",
    "from common.preprocessing.dataframe import *\n",
    "data[\"Sequence\"] = from_amino_acid_to_id(data, \"Sequence\")\n",
    "data[\"Label\"] = 0\n",
    "data = data.drop(\"EC number\", axis =1)"
   ]
  },
  {
   "cell_type": "code",
   "execution_count": 242,
   "metadata": {
    "scrolled": true
   },
   "outputs": [
    {
     "name": "stdout",
     "output_type": "stream",
     "text": [
      "Data was stored in C:\\Users\\Donatas\\Workspace\\Machine Learning\\SynBioAi\\PREnzyme\\data\\protein\\cgan\\sample_multi_51\\test3.tfrecords\n"
     ]
    }
   ],
   "source": [
    "filename = os.path.join(path, \"test3.tfrecords\")\n",
    "\n",
    "with tf.python_io.TFRecordWriter(filename) as writer:\n",
    "    i = 0\n",
    "    for index, row in data.iterrows():\n",
    "        features, label = row[0], row[1]\n",
    "        example = tf.train.SequenceExample()\n",
    "        example.context.feature[\"label\"].int64_list.value.append(3)\n",
    "        example.context.feature[\"length\"].int64_list.value.append(i)\n",
    "        feature_input = example.feature_lists.feature_list['sequence']\n",
    "        # Then we store amino acid ids in 'input' feature (sequential data)\n",
    "        for amino_acid in features:\n",
    "            feature_input.feature.add().int64_list.value.append(amino_acid)\n",
    "        i = i + 1\n",
    "        writer.write(example.SerializeToString())\n",
    "print(\"Data was stored in {}\".format(filename))"
   ]
  },
  {
   "cell_type": "code",
   "execution_count": 683,
   "metadata": {},
   "outputs": [],
   "source": [
    "reaction_path = \"../data/protein/cgan/sample_55/reactions_test.npy\""
   ]
  },
  {
   "cell_type": "code",
   "execution_count": 714,
   "metadata": {},
   "outputs": [],
   "source": [
    "import numpy as np\n",
    "reactions = np.load(reaction_path)"
   ]
  },
  {
   "cell_type": "code",
   "execution_count": 715,
   "metadata": {},
   "outputs": [
    {
     "data": {
      "text/plain": [
       "array([[0,\n",
       "        list([12, 14, 6, 12, 7, 12, 12, 12, 6, 12, 12, 1, 15, 2, 12, 7]),\n",
       "        list([15, 11, 12, 1, 18, 15, 5, 19, 2, 12, 1, 12, 15, 2, 20, 6, 20, 20, 20, 20, 20, 6]),\n",
       "        list([12, 14, 6, 12, 7, 12, 12, 12, 6, 12, 12, 1, 15, 12, 1, 11, 15, 2, 12, 1, 12, 15, 2, 20, 6, 20, 20, 20, 20, 20, 6, 2, 12, 7]),\n",
       "        list([15])],\n",
       "       [1, list([3, 15, 12, 12, 1, 12, 15, 3, 2, 15, 3]),\n",
       "        list([3, 12, 1, 11, 15, 2, 18, 15, 5, 19]),\n",
       "        list([3, 12, 1, 11, 15, 2, 15, 12, 12, 1, 12, 15, 12, 1, 3, 2, 11, 15, 2, 15, 12, 1, 3, 2, 11, 15]),\n",
       "        list([15])],\n",
       "       [2,\n",
       "        list([12, 20, 6, 20, 20, 1, 11, 15, 2, 22, 20, 7, 20, 20, 1, 15, 2, 20, 20, 20, 6, 7]),\n",
       "        list([12, 12, 1, 11, 15, 2, 18, 15, 5, 19]),\n",
       "        list([12, 12, 1, 11, 15, 2, 15, 20, 6, 20, 20, 20, 7, 20, 1, 12, 2, 20, 20, 1, 11, 15, 2, 22, 20, 7, 20, 6]),\n",
       "        list([15])],\n",
       "       [3, list([12, 18, 14, 4, 19, 1, 12, 2, 1, 12, 2, 12, 12, 15]),\n",
       "        list([3, 12, 1, 11, 15, 2, 18, 15, 5, 19]),\n",
       "        list([3, 12, 1, 11, 15, 2, 15, 12, 12, 18, 14, 4, 19, 1, 12, 2, 1, 12, 2, 12]),\n",
       "        list([15])],\n",
       "       [4,\n",
       "        list([14, 12, 1, 12, 12, 12, 1, 11, 15, 2, 14, 12, 1, 12, 17, 2, 12, 1, 11, 15, 2, 14, 12, 12, 1, 11, 15, 2, 15, 2, 12, 1, 11, 15, 2, 15]),\n",
       "        list([15, 11, 12, 18, 15, 5, 19]),\n",
       "        list([14, 12, 1, 12, 12, 12, 1, 11, 15, 2, 14, 12, 1, 12, 17, 12, 11, 15, 2, 12, 1, 11, 15, 2, 14, 12, 12, 1, 11, 15, 2, 15, 2, 12, 1, 11, 15, 2, 15]),\n",
       "        list([15])],\n",
       "       [5,\n",
       "        list([12, 20, 6, 20, 20, 7, 21, 20, 8, 20, 1, 11, 15, 2, 18, 21, 13, 19, 20, 1, 11, 15, 2, 21, 20, 5, 8, 21, 1, 12, 12, 1, 15, 2, 12, 1, 15, 2, 12, 1, 15, 2, 12, 15, 2, 20, 7, 20, 20, 6, 12]),\n",
       "        list([15, 11, 16, 1, 18, 15, 5, 19, 2, 1, 18, 15, 5, 19, 2, 15]),\n",
       "        list([12, 20, 6, 20, 20, 7, 21, 20, 8, 20, 1, 11, 15, 2, 18, 21, 13, 19, 20, 1, 11, 15, 2, 21, 20, 5, 8, 21, 1, 12, 12, 1, 15, 2, 12, 1, 15, 2, 12, 1, 15, 2, 12, 15, 16, 1, 11, 15, 2, 1, 15, 2, 15, 2, 20, 7, 20, 20, 6, 12]),\n",
       "        list([15])],\n",
       "       [6,\n",
       "        list([15, 11, 12, 1, 18, 15, 5, 19, 2, 12, 6, 1, 15, 2, 12, 12, 1, 15, 2, 12, 1, 15, 2, 12, 1, 12, 1, 15, 2, 12, 1, 15, 2, 12, 15, 2, 15, 6]),\n",
       "        list([15, 11, 16, 1, 18, 15, 5, 19, 2, 1, 18, 15, 5, 19, 2, 15]),\n",
       "        list([15, 11, 12, 1, 18, 15, 5, 19, 2, 12, 6, 1, 15, 2, 12, 12, 1, 15, 2, 12, 1, 15, 2, 12, 1, 12, 1, 15, 2, 12, 1, 15, 2, 12, 15, 16, 1, 11, 15, 2, 1, 18, 15, 5, 19, 2, 18, 15, 5, 19, 2, 15, 6]),\n",
       "        list([15])],\n",
       "       [7,\n",
       "        list([14, 20, 6, 20, 1, 14, 12, 12, 1, 15, 2, 12, 1, 15, 2, 12, 1, 15, 2, 12, 15, 2, 18, 21, 13, 19, 20, 1, 11, 15, 2, 18, 21, 13, 19, 20, 6, 11, 15]),\n",
       "        list([15, 11, 16, 1, 18, 15, 5, 19, 2, 1, 18, 15, 5, 19, 2, 15]),\n",
       "        list([14, 20, 6, 20, 1, 14, 12, 12, 1, 15, 2, 12, 1, 15, 2, 12, 1, 15, 2, 12, 15, 16, 1, 11, 15, 2, 1, 15, 2, 15, 2, 18, 21, 13, 19, 20, 1, 11, 15, 2, 18, 21, 13, 19, 20, 6, 11, 15]),\n",
       "        list([15])],\n",
       "       [8, list([15, 12, 12, 1, 15, 2, 12, 15]),\n",
       "        list([15, 11, 16, 1, 18, 15, 5, 19, 2, 1, 18, 15, 5, 19, 2, 15]),\n",
       "        list([15, 11, 16, 1, 15, 2, 1, 15, 2, 15, 12, 12, 1, 15, 2, 12, 15]),\n",
       "        list([15])],\n",
       "       [9,\n",
       "        list([15, 12, 6, 12, 1, 15, 2, 12, 1, 15, 2, 12, 1, 15, 2, 12, 1, 15, 2, 12, 6, 15]),\n",
       "        list([15, 11, 16, 1, 18, 15, 5, 19, 2, 1, 18, 15, 5, 19, 2, 15]),\n",
       "        list([12, 6, 1, 12, 1, 12, 1, 12, 1, 12, 1, 12, 6, 15, 2, 15, 2, 15, 16, 1, 11, 15, 2, 1, 15, 2, 15, 2, 15, 2, 15, 2, 15]),\n",
       "        list([15])],\n",
       "       [10,\n",
       "        list([3, 12, 1, 11, 15, 2, 15, 12, 12, 1, 12, 15, 16, 1, 11, 15, 2, 1, 15, 2, 15, 12, 12, 1, 15, 2, 12, 15, 2, 15, 12, 1, 3, 2, 11, 15]),\n",
       "        list([15, 11, 16, 1, 18, 15, 5, 19, 2, 1, 18, 15, 5, 19, 2, 15]),\n",
       "        list([3, 12, 1, 11, 15, 2, 15, 12, 12, 1, 12, 15, 16, 1, 11, 15, 2, 1, 15, 2, 15, 12, 12, 1, 15, 2, 12, 15, 16, 1, 11, 15, 2, 1, 15, 2, 15, 2, 15, 12, 1, 3, 2, 11, 15]),\n",
       "        list([15])],\n",
       "       [11,\n",
       "        list([3, 12, 1, 11, 15, 2, 15, 12, 12, 1, 12, 15, 2, 15, 12, 1, 3, 2, 11, 15]),\n",
       "        list([15, 11, 16, 1, 18, 15, 5, 19, 2, 1, 18, 15, 5, 19, 2, 15]),\n",
       "        list([12, 1, 15, 12, 1, 18, 3, 19, 2, 11, 15, 2, 12, 1, 15, 12, 1, 11, 15, 2, 18, 3, 19, 2, 12, 15, 16, 1, 18, 15, 5, 19, 2, 1, 11, 15, 2, 18, 15, 5, 19]),\n",
       "        list([15])],\n",
       "       [12,\n",
       "        list([15, 11, 18, 14, 4, 19, 1, 18, 15, 5, 19, 2, 20, 6, 20, 20, 20, 1, 15, 2, 20, 20, 6]),\n",
       "        list([15, 11, 16, 1, 18, 15, 5, 19, 2, 1, 18, 15, 5, 19, 2, 15]),\n",
       "        list([15, 11, 18, 14, 4, 19, 1, 18, 15, 5, 19, 2, 20, 6, 20, 20, 20, 1, 15, 16, 1, 11, 15, 2, 1, 15, 2, 15, 2, 20, 20, 6]),\n",
       "        list([15])],\n",
       "       [13,\n",
       "        list([15, 11, 16, 1, 18, 15, 5, 19, 2, 1, 18, 15, 5, 19, 2, 15, 12, 12, 6, 15, 12, 1, 15, 2, 1, 12, 15, 2, 12, 1, 15, 2, 12, 6, 15]),\n",
       "        list([15, 11, 16, 1, 18, 15, 5, 19, 2, 1, 18, 15, 5, 19, 2, 15]),\n",
       "        list([15, 11, 16, 1, 18, 15, 5, 19, 2, 1, 18, 15, 5, 19, 2, 15, 12, 12, 6, 15, 12, 1, 12, 15, 2, 1, 15, 16, 1, 11, 15, 2, 1, 18, 15, 5, 19, 2, 18, 15, 5, 19, 2, 12, 1, 15, 2, 12, 6, 15]),\n",
       "        list([15])],\n",
       "       [14,\n",
       "        list([12, 12, 1, 11, 15, 2, 15, 12, 12, 1, 12, 15, 16, 1, 11, 15, 2, 1, 15, 2, 15, 12, 6, 12, 1, 15, 2, 12, 1, 15, 2, 12, 1, 15, 2, 12, 1, 15, 2, 12, 6, 15, 2, 15, 12, 1, 12, 2, 11, 15]),\n",
       "        list([15, 11, 16, 1, 18, 15, 5, 19, 2, 1, 18, 15, 5, 19, 2, 15]),\n",
       "        list([3, 12, 1, 11, 15, 2, 15, 12, 12, 1, 12, 15, 16, 1, 11, 15, 2, 1, 15, 2, 15, 12, 6, 12, 1, 15, 2, 12, 1, 15, 2, 12, 1, 15, 2, 12, 1, 15, 16, 1, 11, 15, 2, 1, 15, 2, 15, 2, 12, 6, 15, 2, 15, 12, 1, 3, 2, 11, 15]),\n",
       "        list([15])],\n",
       "       [15,\n",
       "        list([14, 20, 6, 21, 20, 21, 20, 7, 20, 6, 21, 20, 21, 7, 12, 6, 15, 12, 1, 12, 15, 16, 1, 11, 15, 2, 1, 15, 2, 15, 2, 12, 1, 15, 2, 12, 6, 15]),\n",
       "        list([15, 11, 16, 1, 18, 15, 5, 19, 2, 1, 18, 15, 5, 19, 2, 15]),\n",
       "        list([14, 20, 6, 21, 20, 21, 20, 7, 20, 6, 21, 20, 21, 7, 12, 6, 15, 12, 1, 12, 15, 16, 1, 11, 15, 2, 1, 15, 2, 15, 2, 12, 1, 15, 16, 1, 11, 15, 2, 1, 15, 2, 15, 2, 12, 6, 15]),\n",
       "        list([15])],\n",
       "       [16,\n",
       "        list([15, 11, 12, 1, 18, 15, 5, 19, 2, 12, 1, 12, 15, 2, 15, 12, 6, 15, 12, 1, 12, 15, 2, 12, 1, 15, 2, 12, 1, 15, 2, 12, 6, 15]),\n",
       "        list([15, 11, 16, 1, 18, 15, 5, 19, 2, 1, 18, 15, 5, 19, 2, 15]),\n",
       "        list([15, 11, 12, 1, 18, 15, 5, 19, 2, 12, 1, 12, 15, 16, 1, 11, 15, 2, 1, 18, 15, 5, 19, 2, 18, 15, 5, 19, 2, 15, 12, 6, 15, 12, 1, 12, 15, 2, 12, 1, 15, 2, 12, 1, 15, 2, 12, 6, 15]),\n",
       "        list([15])],\n",
       "       [17,\n",
       "        list([15, 11, 12, 1, 18, 15, 5, 19, 2, 12, 1, 15, 2, 12, 17, 1, 11, 15, 2, 1, 11, 15, 2, 18, 15, 5, 19]),\n",
       "        list([15, 11, 16, 1, 18, 15, 5, 19, 2, 1, 18, 15, 5, 19, 2, 15]),\n",
       "        list([12, 1, 12, 1, 12, 1, 11, 15, 2, 15, 2, 15, 16, 1, 11, 15, 2, 1, 15, 2, 15, 2, 17, 1, 11, 15, 2, 1, 11, 15, 2, 15]),\n",
       "        list([15])],\n",
       "       [18,\n",
       "        list([12, 18, 14, 4, 19, 6, 1, 11, 12, 14, 1, 12, 7, 1, 14, 11, 12, 1, 14, 2, 14, 12, 1, 11, 15, 2, 12, 6, 11, 7, 2, 2, 12, 8, 1, 15, 12, 1, 12, 15, 2, 12, 1, 15, 2, 12, 1, 15, 2, 8, 2, 2]),\n",
       "        list([15, 11, 16, 1, 18, 15, 5, 19, 2, 1, 18, 15, 5, 19, 2, 15]),\n",
       "        list([12, 18, 14, 4, 19, 6, 1, 11, 12, 14, 1, 12, 7, 1, 14, 11, 12, 1, 14, 2, 14, 12, 1, 11, 15, 2, 12, 6, 11, 7, 2, 2, 12, 8, 1, 15, 12, 1, 12, 15, 16, 1, 11, 15, 2, 1, 18, 15, 5, 19, 2, 18, 15, 5, 19, 2, 12, 1, 15, 2, 12, 1, 15, 2, 8, 2, 2]),\n",
       "        list([15])],\n",
       "       [19,\n",
       "        list([15, 12, 12, 6, 15, 12, 1, 15, 2, 12, 1, 15, 2, 12, 1, 15, 2, 12, 6, 15]),\n",
       "        list([15, 11, 16, 1, 18, 15, 5, 19, 2, 1, 18, 15, 5, 19, 2, 15]),\n",
       "        list([15, 11, 16, 1, 15, 2, 1, 15, 2, 15, 12, 6, 15, 12, 1, 12, 15, 2, 12, 1, 15, 2, 12, 1, 15, 2, 12, 6, 15]),\n",
       "        list([15])],\n",
       "       [20,\n",
       "        list([3, 12, 6, 15, 12, 1, 12, 15, 16, 1, 11, 15, 2, 1, 15, 2, 15, 2, 12, 1, 15, 2, 12, 6, 3]),\n",
       "        list([15, 11, 16, 1, 18, 15, 5, 19, 2, 1, 18, 15, 5, 19, 2, 15]),\n",
       "        list([12, 6, 1, 18, 3, 19, 2, 1, 12, 1, 15, 16, 1, 11, 15, 2, 1, 18, 15, 5, 19, 2, 18, 15, 5, 19, 2, 12, 1, 12, 15, 16, 1, 11, 15, 2, 1, 18, 15, 5, 19, 2, 18, 15, 5, 19, 2, 15, 12, 1, 18, 3, 19, 2, 6, 2]),\n",
       "        list([15])],\n",
       "       [21,\n",
       "        list([3, 12, 1, 11, 15, 2, 14, 12, 1, 12, 15, 2, 12, 1, 15, 2, 12, 11, 12, 12, 12, 12, 12, 12, 12, 12, 12, 12, 12, 12, 12, 12]),\n",
       "        list([12, 18, 14, 4, 19, 1, 12, 2, 1, 12, 2, 12, 12, 15, 16, 1, 11, 15, 2, 1, 15, 2, 15]),\n",
       "        list([3, 12, 1, 11, 15, 2, 14, 12, 1, 12, 15, 16, 1, 11, 15, 2, 1, 18, 15, 5, 19, 2, 15, 12, 12, 18, 14, 4, 19, 1, 12, 2, 1, 12, 2, 12, 2, 12, 1, 15, 2, 12, 11, 12, 12, 12, 12, 12, 12, 12, 12, 12, 12, 12, 12, 12, 12]),\n",
       "        list([15])],\n",
       "       [22,\n",
       "        list([3, 12, 1, 11, 15, 2, 15, 12, 12, 1, 12, 15, 2, 15, 12, 1, 3, 2, 11, 15]),\n",
       "        list([12, 18, 14, 4, 19, 1, 12, 2, 1, 12, 2, 12, 12, 15, 16, 1, 11, 15, 2, 1, 15, 2, 15]),\n",
       "        list([3, 12, 1, 11, 15, 2, 15, 12, 12, 1, 12, 15, 16, 1, 11, 15, 2, 1, 15, 2, 15, 12, 12, 18, 14, 4, 19, 1, 12, 2, 1, 12, 2, 12, 2, 15, 12, 1, 3, 2, 11, 15]),\n",
       "        list([15])],\n",
       "       [23, list([12, 18, 14, 4, 19, 1, 12, 2, 1, 12, 2, 12, 12, 15]),\n",
       "        list([3, 12, 1, 11, 15, 2, 15, 12, 12, 1, 12, 15, 16, 1, 11, 15, 2, 1, 15, 2, 15, 2, 15, 12, 1, 3, 2, 11, 15]),\n",
       "        list([3, 12, 1, 11, 15, 2, 15, 12, 12, 1, 12, 15, 16, 1, 11, 15, 2, 1, 15, 2, 15, 12, 12, 18, 14, 4, 19, 1, 12, 2, 1, 12, 2, 12, 2, 15, 12, 1, 3, 2, 11, 15]),\n",
       "        list([15])],\n",
       "       [24,\n",
       "        list([12, 12, 1, 11, 12, 12, 15, 2, 12, 12, 12, 6, 1, 12, 2, 12, 1, 12, 2, 12, 12, 11, 12, 7, 12, 6, 12, 12, 12, 12, 7, 1, 12, 2, 12]),\n",
       "        list([15, 11, 16, 1, 18, 15, 5, 19, 2, 1, 18, 15, 5, 19, 2, 15, 16, 1, 11, 15, 2, 1, 18, 15, 5, 19, 2, 15]),\n",
       "        list([12, 12, 1, 11, 12, 12, 15, 16, 1, 11, 15, 2, 1, 15, 2, 15, 16, 1, 11, 15, 2, 1, 15, 2, 15, 2, 12, 12, 12, 6, 1, 12, 2, 12, 1, 12, 2, 12, 12, 11, 12, 7, 12, 6, 12, 12, 12, 12, 7, 1, 12, 2, 12]),\n",
       "        list([15])],\n",
       "       [25,\n",
       "        list([12, 11, 12, 12, 1, 12, 2, 1, 15, 2, 12, 12, 12, 6, 1, 12, 2, 12, 1, 12, 2, 12, 12, 11, 12, 7, 12, 6, 12, 12, 12, 12, 7, 1, 12, 2, 12]),\n",
       "        list([15, 11, 16, 1, 18, 15, 5, 19, 2, 1, 18, 15, 5, 19, 2, 15, 16, 1, 11, 15, 2, 1, 18, 15, 5, 19, 2, 15]),\n",
       "        list([12, 12, 1, 11, 12, 12, 15, 16, 1, 11, 15, 2, 1, 15, 2, 15, 16, 1, 11, 15, 2, 1, 15, 2, 15, 2, 12, 12, 12, 6, 1, 12, 2, 12, 1, 12, 2, 12, 12, 11, 12, 7, 12, 6, 12, 12, 12, 12, 7, 1, 12, 2, 12]),\n",
       "        list([15])],\n",
       "       [26, list([12, 12, 11, 15]),\n",
       "        list([15, 11, 16, 1, 18, 15, 5, 19, 2, 1, 18, 15, 5, 19, 2, 15]),\n",
       "        list([15, 11, 12, 12, 16, 1, 11, 15, 2, 1, 15, 2, 15]),\n",
       "        list([15])],\n",
       "       [27, list([15, 11, 12, 11, 15]), list([17]),\n",
       "        list([17, 11, 12, 11, 17]), list([15])],\n",
       "       [28,\n",
       "        list([15, 11, 12, 1, 15, 2, 20, 6, 20, 20, 20, 20, 1, 12, 1, 11, 15, 2, 12, 12, 12, 7, 15, 12, 1, 15, 2, 12, 1, 15, 2, 12, 7, 15, 2, 20, 6]),\n",
       "        list([15, 11, 20, 6, 18, 21, 13, 19, 20, 21, 20, 7, 21, 20, 18, 21, 13, 19, 20, 6, 7]),\n",
       "        list([15, 11, 12, 1, 15, 2, 20, 6, 20, 20, 20, 20, 1, 12, 1, 11, 15, 2, 12, 12, 12, 7, 15, 12, 1, 21, 8, 20, 21, 20, 9, 20, 1, 11, 15, 2, 18, 21, 13, 19, 20, 21, 20, 9, 8, 2, 12, 1, 15, 2, 12, 7, 15, 2, 20, 6]),\n",
       "        list([15])],\n",
       "       [29,\n",
       "        list([15, 12, 12, 6, 15, 12, 1, 15, 2, 12, 1, 15, 2, 12, 6, 15]),\n",
       "        list([20, 6, 20, 21, 20, 21, 20, 6]),\n",
       "        list([12, 6, 11, 12, 14, 1, 12, 1, 11, 15, 2, 14, 11, 12, 6, 14, 2, 12, 7, 12, 1, 12, 1, 12, 1, 15, 7, 2, 12, 15, 2, 15, 2, 15]),\n",
       "        list([15])],\n",
       "       [30,\n",
       "        list([15, 11, 12, 1, 18, 15, 5, 19, 2, 12, 6, 11, 12, 12, 11, 12, 12, 1, 15, 2, 12, 6, 15]),\n",
       "        list([12, 12, 1, 11, 15, 2, 12, 1, 11, 15, 2, 18, 15, 5, 19]),\n",
       "        list([12, 11, 12, 1, 15, 12, 6, 12, 11, 12, 12, 11, 12, 1, 12, 1, 11, 15, 2, 18, 15, 5, 19, 2, 12, 6, 15, 2, 12, 1, 11, 15, 2, 18, 15, 5, 19]),\n",
       "        list([15])],\n",
       "       [31, list([3, 12, 11, 15]),\n",
       "        list([12, 18, 14, 4, 19, 1, 12, 2, 1, 12, 2, 12, 12, 15, 16, 1, 11, 15, 2, 1, 18, 15, 5, 19, 2, 15, 12, 12, 1, 15, 2, 12, 15]),\n",
       "        list([12, 1, 18, 3, 19, 2, 11, 12, 15, 12, 12, 1, 15, 2, 12, 15, 16, 1, 18, 15, 5, 19, 2, 1, 11, 15, 2, 15, 12, 12, 18, 14, 4, 19, 1, 12, 2, 1, 12, 2, 12]),\n",
       "        list([15])],\n",
       "       [32, list([15, 11, 12, 18, 15, 5, 19]),\n",
       "        list([14, 20, 6, 21, 20, 7, 20, 1, 20, 1, 11, 15, 2, 18, 21, 13, 19, 6, 2, 14, 12, 1, 12, 14, 20, 6, 20, 20, 20, 1, 12, 1, 11, 15, 2, 14, 12, 1, 12, 12, 12, 1, 11, 15, 2, 15, 2, 12, 1, 11, 15, 2, 15, 2, 20, 20, 6, 2, 12, 14, 7]),\n",
       "        list([14, 20, 6, 21, 20, 7, 20, 1, 20, 1, 11, 15, 2, 18, 21, 13, 19, 6, 2, 14, 12, 1, 12, 14, 1, 12, 11, 15, 2, 20, 6, 20, 20, 20, 1, 12, 1, 11, 15, 2, 14, 12, 1, 12, 12, 12, 1, 11, 15, 2, 15, 2, 12, 1, 11, 15, 2, 15, 2, 20, 20, 6, 2, 12, 14, 7]),\n",
       "        list([15])],\n",
       "       [33,\n",
       "        list([15, 11, 12, 1, 18, 15, 5, 19, 2, 12, 6, 12, 14, 12, 12, 14, 6]),\n",
       "        list([14]),\n",
       "        list([14, 12, 1, 11, 15, 2, 12, 6, 12, 14, 12, 12, 14, 6]),\n",
       "        list([15])],\n",
       "       [34,\n",
       "        list([14, 20, 6, 21, 20, 1, 14, 12, 7, 15, 12, 1, 12, 15, 16, 1, 11, 15, 2, 1, 15, 2, 15, 2, 12, 1, 15, 2, 12, 7, 15, 2, 20, 1, 14, 2, 20, 1, 11, 15, 2, 18, 21, 13, 19, 6]),\n",
       "        list([15, 11, 12, 18, 15, 5, 19]),\n",
       "        list([14, 20, 6, 21, 20, 1, 14, 12, 7, 15, 12, 1, 12, 15, 16, 1, 11, 15, 2, 1, 18, 15, 5, 19, 2, 18, 15, 5, 19, 2, 12, 1, 15, 2, 12, 7, 15, 2, 20, 1, 14, 12, 11, 15, 2, 20, 1, 11, 15, 2, 18, 21, 13, 19, 6]),\n",
       "        list([15])],\n",
       "       [35,\n",
       "        list([12, 1, 15, 2, 12, 7, 1, 12, 1, 12, 1, 12, 1, 18, 14, 4, 19, 2, 12, 1, 15, 12, 6, 1, 12, 1, 15, 2, 12, 1, 15, 2, 12, 1, 15, 2, 12, 1, 15, 2, 12, 1, 15, 2, 6, 2, 2, 15, 7, 2, 15, 2, 15, 2]),\n",
       "        list([12, 12, 1, 11, 15, 2, 18, 15, 5, 19]),\n",
       "        list([12, 12, 1, 11, 15, 2, 14, 12, 7, 1, 12, 1, 15, 12, 6, 1, 12, 1, 15, 2, 12, 1, 15, 2, 12, 1, 15, 2, 12, 1, 15, 16, 1, 18, 15, 5, 19, 2, 1, 11, 15, 2, 18, 15, 5, 19, 2, 12, 1, 15, 2, 6, 2, 2, 15, 12, 1, 12, 1, 12, 7, 15, 2, 15, 2, 12, 15, 2]),\n",
       "        list([15])],\n",
       "       [36,\n",
       "        list([12, 12, 1, 11, 15, 2, 14, 12, 1, 12, 17, 18, 3, 19, 2, 12, 1, 11, 15, 2, 18, 15, 5, 19]),\n",
       "        list([12, 1, 15, 2, 12, 7, 1, 12, 1, 12, 1, 12, 1, 18, 14, 4, 19, 2, 12, 1, 15, 12, 6, 1, 12, 1, 15, 2, 12, 1, 15, 2, 12, 1, 15, 2, 12, 1, 15, 2, 12, 1, 15, 2, 6, 2, 2, 15, 7, 2, 15, 2, 15, 2]),\n",
       "        list([3, 17, 12, 12, 1, 14, 12, 1, 12, 2, 11, 15, 2, 12, 1, 11, 15, 2, 14, 12, 6, 12, 1, 15, 12, 7, 12, 1, 15, 2, 12, 1, 15, 2, 12, 1, 15, 2, 12, 1, 15, 2, 12, 7, 15, 2, 15, 12, 1, 12, 15, 2, 12, 1, 15, 2, 12, 6, 15]),\n",
       "        list([15])],\n",
       "       [37, list([3, 12, 1, 11, 15, 2, 18, 15, 5, 19]),\n",
       "        list([18, 14, 13, 8, 4, 19, 12, 1, 12, 12, 1, 11, 15, 2, 18, 15, 5, 19, 2, 12, 1, 11, 15, 2, 18, 15, 5, 19]),\n",
       "        list([3, 12, 1, 11, 15, 2, 14, 12, 1, 12, 12, 1, 11, 15, 2, 18, 15, 5, 19, 2, 12, 1, 11, 15, 2, 18, 15, 5, 19]),\n",
       "        list([15])],\n",
       "       [38, list([12, 12, 1, 11, 15, 2, 18, 15, 5, 19]),\n",
       "        list([14, 12, 12, 12, 12, 1, 14, 2, 12, 1, 11, 15, 2, 15]),\n",
       "        list([12, 12, 1, 11, 15, 2, 14, 12, 1, 12, 12, 12, 14, 2, 12, 1, 11, 15, 2, 15]),\n",
       "        list([15])],\n",
       "       [39,\n",
       "        list([15, 11, 12, 1, 18, 15, 5, 19, 2, 12, 12, 12, 1, 11, 15, 2, 18, 15, 5, 19]),\n",
       "        list([14, 12, 1, 12, 12, 12, 12, 1, 14, 2, 12, 1, 11, 15, 2, 18, 15, 5, 19, 2, 12, 1, 11, 15, 2, 18, 15, 5, 19]),\n",
       "        list([14, 12, 1, 12, 12, 12, 12, 1, 14, 12, 1, 11, 15, 2, 12, 12, 12, 1, 11, 15, 2, 15, 2, 12, 1, 11, 15, 2, 15, 2, 12, 1, 11, 15, 2, 15]),\n",
       "        list([15])],\n",
       "       [40, list([3, 14]), list([12, 12, 1, 11, 15, 2, 18, 15, 5, 19]),\n",
       "        list([3, 14, 12, 1, 11, 15, 2, 12]), list([15])],\n",
       "       [41, list([12, 14, 12]),\n",
       "        list([14, 12, 1, 11, 15, 2, 14, 12, 12, 12, 12, 1, 14, 2, 12, 1, 11, 15, 2, 15]),\n",
       "        list([12, 14, 1, 12, 2, 12, 1, 11, 14, 2, 14, 12, 12, 12, 12, 1, 14, 2, 12, 1, 11, 15, 2, 15]),\n",
       "        list([15])],\n",
       "       [42,\n",
       "        list([14, 12, 1, 11, 15, 2, 14, 12, 1, 15, 2, 12, 1, 11, 15, 2, 18, 15, 5, 19]),\n",
       "        list([14]),\n",
       "        list([14, 12, 1, 11, 15, 2, 14, 12, 1, 14, 2, 12, 1, 11, 15, 2, 15]),\n",
       "        list([15])],\n",
       "       [43,\n",
       "        list([15, 11, 20, 6, 20, 20, 18, 21, 13, 19, 20, 1, 11, 15, 2, 18, 21, 13, 19, 6]),\n",
       "        list([14]),\n",
       "        list([14, 20, 6, 20, 20, 18, 21, 13, 19, 20, 1, 11, 15, 2, 21, 6]),\n",
       "        list([15])],\n",
       "       [44,\n",
       "        list([14, 20, 6, 21, 20, 1, 14, 12, 7, 15, 12, 1, 12, 15, 16, 1, 11, 15, 2, 1, 18, 15, 5, 19, 2, 18, 15, 5, 19, 2, 12, 1, 15, 2, 12, 7, 15, 2, 20, 1, 14, 12, 11, 15, 2, 20, 1, 11, 15, 2, 18, 21, 13, 19, 6]),\n",
       "        list([15, 11, 16, 1, 18, 15, 5, 19, 2, 1, 18, 15, 5, 19, 2, 18, 15, 5, 19]),\n",
       "        list([14, 20, 6, 21, 20, 7, 20, 1, 21, 20, 21, 7, 12, 7, 15, 12, 1, 12, 15, 16, 1, 11, 15, 2, 1, 15, 2, 15, 16, 1, 11, 15, 2, 1, 15, 2, 15, 16, 1, 11, 15, 2, 1, 15, 2, 15, 2, 12, 1, 15, 2, 12, 7, 15, 2, 20, 1, 11, 15, 2, 18, 21, 13, 19, 6]),\n",
       "        list([15])],\n",
       "       [45,\n",
       "        list([15, 11, 12, 1, 18, 15, 5, 19, 2, 12, 11, 12, 12, 11, 12, 1, 15, 2, 12, 1, 11, 15, 2, 18, 15, 5, 19]),\n",
       "        list([14]),\n",
       "        list([14, 12, 1, 11, 12, 12, 11, 12, 12, 1, 11, 15, 2, 15, 2, 12, 1, 11, 15, 2, 15]),\n",
       "        list([15])],\n",
       "       [46,\n",
       "        list([3, 12, 6, 15, 12, 1, 12, 15, 16, 1, 11, 15, 2, 1, 15, 2, 15, 16, 1, 11, 15, 2, 1, 15, 2, 15, 2, 12, 1, 15, 2, 12, 6, 15]),\n",
       "        list([15, 11, 16, 1, 18, 15, 5, 19, 2, 1, 18, 15, 5, 19, 2, 15]),\n",
       "        list([3, 12, 6, 15, 12, 1, 12, 15, 16, 1, 11, 15, 2, 1, 15, 2, 15, 16, 1, 11, 15, 2, 1, 15, 2, 15, 16, 1, 11, 15, 2, 1, 15, 2, 15, 2, 12, 1, 15, 2, 12, 6, 15]),\n",
       "        list([15])],\n",
       "       [47,\n",
       "        list([15, 11, 20, 6, 20, 20, 21, 1, 12, 7, 15, 12, 1, 12, 15, 16, 1, 11, 15, 2, 1, 15, 2, 15, 2, 12, 1, 15, 2, 12, 7, 15, 2, 20, 1, 11, 15, 2, 18, 21, 13, 19, 6]),\n",
       "        list([12, 1, 12, 6, 12, 1, 12, 1, 12, 1, 12, 1, 15, 6, 2, 15, 16, 1, 11, 15, 2, 1, 15, 2, 15, 2, 15, 2, 15, 2, 15, 2, 15]),\n",
       "        list([12, 6, 1, 11, 12, 12, 1, 14, 12, 1, 14, 6, 12, 7, 1, 12, 1, 12, 1, 12, 1, 15, 7, 2, 12, 15, 16, 1, 15, 16, 1, 15, 18, 3, 19, 2, 1, 18, 15, 5, 19, 2, 11, 15, 2, 1, 18, 15, 5, 19, 2, 11, 15, 2, 15, 2, 15, 2, 2, 11, 15, 2, 11, 15, 2]),\n",
       "        list([15])],\n",
       "       [48,\n",
       "        list([12, 12, 6, 1, 12, 1, 12, 1, 12, 1, 12, 1, 15, 2, 15, 6, 2, 14, 12, 1, 11, 15, 2, 12, 2, 15, 2, 14, 12, 1, 11, 15, 2, 12, 2]),\n",
       "        list([15, 11, 20, 6, 20, 20, 21, 1, 12, 7, 15, 12, 1, 12, 15, 16, 1, 11, 15, 2, 1, 15, 2, 15, 16, 1, 11, 15, 2, 1, 15, 2, 15, 2, 12, 1, 15, 2, 12, 7, 15, 2, 20, 1, 11, 15, 2, 18, 21, 13, 19, 6]),\n",
       "        list([12, 12, 8, 1, 12, 1, 12, 1, 12, 1, 14, 12, 1, 12, 2, 11, 15, 2, 12, 1, 15, 16, 1, 11, 15, 2, 1, 18, 15, 5, 19, 2, 15, 16, 1, 11, 15, 2, 1, 18, 15, 5, 19, 2, 15, 12, 12, 6, 1, 15, 12, 1, 12, 1, 15, 2, 12, 1, 15, 2, 6, 2, 14, 7, 1, 12, 11, 12, 12, 1, 11, 15, 2, 14, 12, 1, 11, 15, 2, 7, 2, 2, 2, 15, 8, 2, 15, 2, 14, 12, 1, 11, 15, 2, 12, 2]),\n",
       "        list([15])],\n",
       "       [49,\n",
       "        list([14, 20, 6, 21, 20, 7, 20, 1, 18, 21, 13, 19, 20, 1, 11, 15, 2, 21, 7, 12, 7, 12, 12, 1, 15, 2, 12, 1, 12, 15, 16, 1, 11, 15, 2, 1, 15, 2, 15, 2, 15, 7, 2, 20, 1, 11, 15, 2, 18, 21, 13, 19, 6]),\n",
       "        list([15, 11, 16, 1, 18, 15, 5, 19, 2, 1, 18, 15, 5, 19, 2, 15]),\n",
       "        list([14, 20, 6, 21, 20, 7, 20, 1, 18, 21, 13, 19, 20, 1, 11, 15, 2, 21, 7, 12, 7, 12, 12, 1, 15, 2, 12, 1, 12, 15, 16, 1, 11, 15, 2, 1, 18, 15, 5, 19, 2, 15, 16, 1, 11, 15, 2, 1, 18, 15, 5, 19, 2, 18, 15, 5, 19, 2, 15, 7, 2, 20, 1, 11, 15, 2, 18, 21, 13, 19, 6]),\n",
       "        list([15])],\n",
       "       [50,\n",
       "        list([15, 11, 20, 6, 18, 21, 13, 19, 20, 21, 20, 7, 20, 6, 21, 20, 21, 7, 12, 6, 15, 12, 1, 12, 15, 16, 1, 11, 15, 2, 1, 15, 2, 15, 2, 12, 1, 15, 2, 12, 6, 15]),\n",
       "        list([15, 11, 16, 1, 18, 15, 5, 19, 2, 1, 18, 15, 5, 19, 2, 15]),\n",
       "        list([15, 11, 20, 6, 18, 21, 13, 19, 20, 21, 20, 7, 20, 6, 21, 20, 21, 7, 12, 6, 15, 12, 1, 12, 15, 16, 1, 11, 15, 2, 1, 15, 2, 15, 16, 1, 11, 15, 2, 1, 15, 2, 15, 2, 12, 1, 15, 2, 12, 6, 15]),\n",
       "        list([15])],\n",
       "       [51,\n",
       "        list([14, 20, 6, 21, 20, 7, 20, 1, 20, 1, 11, 15, 2, 18, 21, 13, 19, 6, 2, 14, 11, 12, 1, 12, 1, 15, 2, 12, 1, 15, 2, 12, 15, 16, 1, 11, 15, 2, 1, 15, 2, 15, 2, 12, 14, 7]),\n",
       "        list([15, 11, 16, 1, 18, 15, 5, 19, 2, 1, 18, 15, 5, 19, 2, 15, 16, 1, 11, 15, 2, 1, 18, 15, 5, 19, 2, 15]),\n",
       "        list([14, 20, 6, 21, 20, 7, 20, 1, 20, 1, 11, 15, 2, 18, 21, 13, 19, 6, 2, 14, 11, 12, 1, 12, 1, 15, 2, 12, 1, 15, 2, 12, 15, 16, 1, 11, 15, 2, 1, 15, 2, 15, 16, 1, 11, 15, 2, 1, 15, 2, 15, 16, 1, 11, 15, 2, 1, 15, 2, 15, 2, 12, 14, 7]),\n",
       "        list([15])],\n",
       "       [52,\n",
       "        list([14, 20, 6, 21, 20, 21, 20, 7, 20, 6, 21, 20, 21, 7, 12, 6, 15, 12, 1, 12, 15, 16, 1, 11, 15, 2, 1, 15, 2, 15, 2, 12, 1, 15, 2, 12, 6, 15]),\n",
       "        list([15, 11, 16, 1, 18, 15, 5, 19, 2, 1, 18, 15, 5, 19, 2, 15, 16, 1, 11, 15, 2, 1, 18, 15, 5, 19, 2, 15]),\n",
       "        list([14, 20, 6, 21, 20, 21, 20, 7, 20, 6, 21, 20, 21, 7, 12, 6, 15, 12, 1, 12, 15, 16, 1, 11, 15, 2, 1, 15, 2, 15, 16, 1, 11, 15, 2, 1, 15, 2, 15, 16, 1, 11, 15, 2, 1, 15, 2, 15, 2, 12, 1, 15, 2, 12, 6, 15]),\n",
       "        list([15])],\n",
       "       [53,\n",
       "        list([14, 20, 6, 21, 20, 21, 20, 7, 20, 6, 21, 20, 21, 7, 12, 6, 15, 12, 1, 12, 15, 16, 1, 11, 15, 2, 1, 15, 2, 15, 16, 1, 11, 15, 2, 1, 15, 2, 15, 2, 12, 1, 15, 2, 12, 6, 15]),\n",
       "        list([15, 11, 16, 1, 18, 15, 5, 19, 2, 1, 18, 15, 5, 19, 2, 15]),\n",
       "        list([14, 20, 6, 21, 20, 21, 20, 7, 20, 6, 21, 20, 21, 7, 12, 6, 15, 12, 1, 12, 15, 16, 1, 11, 15, 2, 1, 15, 2, 15, 16, 1, 11, 15, 2, 1, 15, 2, 15, 16, 1, 11, 15, 2, 1, 15, 2, 15, 2, 12, 1, 15, 2, 12, 6, 15]),\n",
       "        list([15])],\n",
       "       [54,\n",
       "        list([12, 11, 12, 12, 11, 12, 1, 15, 2, 12, 1, 11, 15, 2, 18, 15, 5, 19]),\n",
       "        list([15, 11, 12, 1, 18, 15, 5, 19, 2, 12, 12, 12, 1, 11, 15, 2, 18, 15, 5, 19]),\n",
       "        list([12, 1, 18, 15, 5, 19, 2, 1, 11, 15, 2, 12, 12, 12, 1, 11, 15, 2, 12, 11, 12, 12, 11, 12, 1, 12, 1, 18, 15, 5, 19, 2, 11, 15, 2, 15]),\n",
       "        list([15])],\n",
       "       [55,\n",
       "        list([12, 12, 6, 7, 1, 12, 12, 12, 1, 11, 15, 2, 12, 1, 12, 12, 12, 1, 11, 15, 2, 18, 15, 5, 19, 2, 18, 12, 13, 19, 1, 12, 12, 12, 1, 11, 15, 2, 6, 2, 7, 2]),\n",
       "        list([12, 12, 11, 12, 12, 11, 12, 1, 15, 2, 12, 1, 11, 15, 2, 18, 15, 5, 19]),\n",
       "        list([12, 12, 1, 11, 12, 12, 11, 12, 1, 15, 2, 12, 1, 11, 15, 2, 18, 15, 5, 19, 2, 12, 1, 11, 15, 2, 12, 12, 12, 6, 12, 1, 11, 15, 2, 12, 12, 12, 7, 1, 12, 2, 12, 1, 11, 15, 2, 12, 12, 12, 6, 7]),\n",
       "        list([15])],\n",
       "       [56,\n",
       "        list([15, 11, 12, 1, 18, 15, 5, 19, 2, 20, 6, 20, 20, 20, 20, 20, 6]),\n",
       "        list([12, 11, 12, 12, 12, 1, 11, 15, 2, 12, 1, 11, 15, 2, 18, 15, 5, 19]),\n",
       "        list([15, 11, 12, 1, 18, 15, 5, 19, 2, 12, 1, 11, 15, 2, 12, 11, 12, 12, 12, 1, 11, 15, 2, 20, 6, 20, 20, 20, 20, 20, 6]),\n",
       "        list([15])],\n",
       "       [57,\n",
       "        list([12, 12, 1, 11, 15, 2, 14, 12, 6, 12, 1, 15, 2, 15, 12, 1, 12, 15, 16, 1, 11, 15, 2, 1, 18, 15, 5, 19, 2, 18, 15, 5, 19, 2, 12, 1, 15, 2, 12, 6, 15, 12, 1, 12, 2, 12, 1, 11, 15, 2, 18, 15, 5, 19]),\n",
       "        list([15]),\n",
       "        list([12, 12, 1, 15, 2, 12, 1, 11, 15, 2, 18, 15, 5, 19]),\n",
       "        list([12, 12, 1, 11, 15, 2, 14, 12, 6, 12, 1, 15, 2, 15, 12, 1, 12, 15, 16, 1, 11, 15, 2, 1, 15, 2, 15, 2, 12, 1, 15, 2, 12, 6, 15])],\n",
       "       [58,\n",
       "        list([15, 11, 20, 6, 18, 21, 13, 19, 20, 20, 1, 12, 7, 15, 12, 1, 12, 15, 16, 1, 11, 15, 2, 1, 15, 2, 15, 2, 12, 1, 15, 2, 12, 7, 15, 2, 20, 1, 11, 15, 2, 18, 21, 13, 19, 6]),\n",
       "        list([15]),\n",
       "        list([15, 11, 20, 6, 20, 20, 18, 21, 13, 19, 20, 1, 11, 15, 2, 18, 21, 13, 19, 6]),\n",
       "        list([15, 11, 16, 1, 18, 15, 5, 19, 2, 1, 18, 15, 5, 19, 2, 15, 12, 12, 6, 15, 12, 1, 15, 2, 12, 1, 15, 2, 12, 6, 15])],\n",
       "       [59,\n",
       "        list([15, 20, 6, 20, 20, 20, 1, 12, 12, 7, 14, 12, 12, 20, 8, 20, 20, 1, 15, 2, 20, 1, 15, 2, 20, 20, 8, 7, 2, 20, 20, 6]),\n",
       "        list([15]),\n",
       "        list([14, 12, 12, 20, 6, 20, 20, 20, 1, 15, 2, 20, 1, 15, 2, 20, 6]),\n",
       "        list([15, 11, 12, 12, 20, 6, 20, 20, 20, 1, 15, 2, 20, 20, 6])],\n",
       "       [60,\n",
       "        list([12, 6, 1, 12, 1, 15, 2, 12, 12, 1, 11, 14, 12, 6, 12, 1, 18, 15, 5, 19, 2, 11, 15, 2, 12, 1, 18, 15, 5, 19, 2, 11, 15, 2]),\n",
       "        list([15]),\n",
       "        list([12, 12, 1, 11, 15, 2, 12, 1, 11, 15, 2, 18, 15, 5, 19]),\n",
       "        list([12, 1, 12, 11, 15, 2, 12, 1, 12, 1, 11, 15, 2, 18, 15, 5, 19, 2, 18, 14, 13, 8, 4, 19])]],\n",
       "      dtype=object)"
      ]
     },
     "execution_count": 715,
     "metadata": {},
     "output_type": "execute_result"
    }
   ],
   "source": [
    "reactions"
   ]
  },
  {
   "cell_type": "code",
   "execution_count": 716,
   "metadata": {},
   "outputs": [],
   "source": [
    "def pad_up_to(input, max_in_dims, constant_values=tf.constant(0)):\n",
    "    s = tf.shape(input)\n",
    "    paddings = [[0, m - s[i]] for (i, m) in enumerate(max_in_dims)]\n",
    "    return tf.pad(input, paddings, 'CONSTANT', constant_values=constant_values)"
   ]
  },
  {
   "cell_type": "code",
   "execution_count": 733,
   "metadata": {},
   "outputs": [],
   "source": [
    "r1 = []\n",
    "r1.append(1)"
   ]
  },
  {
   "cell_type": "code",
   "execution_count": 740,
   "metadata": {},
   "outputs": [],
   "source": [
    "r1 = []\n",
    "r2 = []\n",
    "r3 = []\n",
    "r4 = []\n",
    "for reaction in reactions:\n",
    "    label = tf.convert_to_tensor(reaction[0])\n",
    "    r1.append(pad_up_to(tf.convert_to_tensor(reaction[1]), [128]))\n",
    "    r2 = pad_up_to(tf.convert_to_tensor(reaction[2]), [128])\n",
    "    r3 = pad_up_to(tf.convert_to_tensor(reaction[3]), [128])\n",
    "    r4 = pad_up_to(tf.convert_to_tensor(reaction[4]), [128])\n",
    "r1 = tf.stack(r1)   \n",
    "r2 = tf.stack(r2)  \n",
    "r3 = tf.stack(r3)  \n",
    "r4 = tf.stack(r4)  "
   ]
  },
  {
   "cell_type": "code",
   "execution_count": 769,
   "metadata": {
    "scrolled": true
   },
   "outputs": [
    {
     "data": {
      "text/plain": [
       "<tf.Tensor: id=19587, shape=(61, 128), dtype=int32, numpy=\n",
       "array([[12, 14,  6, ...,  0,  0,  0],\n",
       "       [ 3, 15, 12, ...,  0,  0,  0],\n",
       "       [12, 20,  6, ...,  0,  0,  0],\n",
       "       ...,\n",
       "       [15, 11, 20, ...,  0,  0,  0],\n",
       "       [15, 20,  6, ...,  0,  0,  0],\n",
       "       [12,  6,  1, ...,  0,  0,  0]])>"
      ]
     },
     "execution_count": 769,
     "metadata": {},
     "output_type": "execute_result"
    }
   ],
   "source": [
    "r1"
   ]
  },
  {
   "cell_type": "code",
   "execution_count": 779,
   "metadata": {},
   "outputs": [
    {
     "data": {
      "text/plain": [
       "<tf.Tensor: id=19679, shape=(4, 1), dtype=int32, numpy=\n",
       "array([[3],\n",
       "       [2],\n",
       "       [3],\n",
       "       [3]])>"
      ]
     },
     "execution_count": 779,
     "metadata": {},
     "output_type": "execute_result"
    }
   ],
   "source": [
    "tf.expand_dims(test[1], axis=1)"
   ]
  },
  {
   "cell_type": "code",
   "execution_count": 778,
   "metadata": {},
   "outputs": [
    {
     "data": {
      "text/plain": [
       "<tf.Tensor: id=19676, shape=(3, 1), dtype=int32, numpy=\n",
       "array([[0],\n",
       "       [1],\n",
       "       [0]])>"
      ]
     },
     "execution_count": 778,
     "metadata": {},
     "output_type": "execute_result"
    }
   ],
   "source": [
    "tf.constant([[0],[1],[0]])"
   ]
  },
  {
   "cell_type": "code",
   "execution_count": 780,
   "metadata": {},
   "outputs": [
    {
     "data": {
      "text/plain": [
       "<tf.Tensor: id=19683, shape=(4, 128), dtype=int32, numpy=\n",
       "array([[12, 18, 14,  4, 19,  1, 12,  2,  1, 12,  2, 12, 12, 15,  0,  0,\n",
       "         0,  0,  0,  0,  0,  0,  0,  0,  0,  0,  0,  0,  0,  0,  0,  0,\n",
       "         0,  0,  0,  0,  0,  0,  0,  0,  0,  0,  0,  0,  0,  0,  0,  0,\n",
       "         0,  0,  0,  0,  0,  0,  0,  0,  0,  0,  0,  0,  0,  0,  0,  0,\n",
       "         0,  0,  0,  0,  0,  0,  0,  0,  0,  0,  0,  0,  0,  0,  0,  0,\n",
       "         0,  0,  0,  0,  0,  0,  0,  0,  0,  0,  0,  0,  0,  0,  0,  0,\n",
       "         0,  0,  0,  0,  0,  0,  0,  0,  0,  0,  0,  0,  0,  0,  0,  0,\n",
       "         0,  0,  0,  0,  0,  0,  0,  0,  0,  0,  0,  0,  0,  0,  0,  0],\n",
       "       [12, 20,  6, 20, 20,  1, 11, 15,  2, 22, 20,  7, 20, 20,  1, 15,\n",
       "         2, 20, 20, 20,  6,  7,  0,  0,  0,  0,  0,  0,  0,  0,  0,  0,\n",
       "         0,  0,  0,  0,  0,  0,  0,  0,  0,  0,  0,  0,  0,  0,  0,  0,\n",
       "         0,  0,  0,  0,  0,  0,  0,  0,  0,  0,  0,  0,  0,  0,  0,  0,\n",
       "         0,  0,  0,  0,  0,  0,  0,  0,  0,  0,  0,  0,  0,  0,  0,  0,\n",
       "         0,  0,  0,  0,  0,  0,  0,  0,  0,  0,  0,  0,  0,  0,  0,  0,\n",
       "         0,  0,  0,  0,  0,  0,  0,  0,  0,  0,  0,  0,  0,  0,  0,  0,\n",
       "         0,  0,  0,  0,  0,  0,  0,  0,  0,  0,  0,  0,  0,  0,  0,  0],\n",
       "       [12, 18, 14,  4, 19,  1, 12,  2,  1, 12,  2, 12, 12, 15,  0,  0,\n",
       "         0,  0,  0,  0,  0,  0,  0,  0,  0,  0,  0,  0,  0,  0,  0,  0,\n",
       "         0,  0,  0,  0,  0,  0,  0,  0,  0,  0,  0,  0,  0,  0,  0,  0,\n",
       "         0,  0,  0,  0,  0,  0,  0,  0,  0,  0,  0,  0,  0,  0,  0,  0,\n",
       "         0,  0,  0,  0,  0,  0,  0,  0,  0,  0,  0,  0,  0,  0,  0,  0,\n",
       "         0,  0,  0,  0,  0,  0,  0,  0,  0,  0,  0,  0,  0,  0,  0,  0,\n",
       "         0,  0,  0,  0,  0,  0,  0,  0,  0,  0,  0,  0,  0,  0,  0,  0,\n",
       "         0,  0,  0,  0,  0,  0,  0,  0,  0,  0,  0,  0,  0,  0,  0,  0],\n",
       "       [12, 18, 14,  4, 19,  1, 12,  2,  1, 12,  2, 12, 12, 15,  0,  0,\n",
       "         0,  0,  0,  0,  0,  0,  0,  0,  0,  0,  0,  0,  0,  0,  0,  0,\n",
       "         0,  0,  0,  0,  0,  0,  0,  0,  0,  0,  0,  0,  0,  0,  0,  0,\n",
       "         0,  0,  0,  0,  0,  0,  0,  0,  0,  0,  0,  0,  0,  0,  0,  0,\n",
       "         0,  0,  0,  0,  0,  0,  0,  0,  0,  0,  0,  0,  0,  0,  0,  0,\n",
       "         0,  0,  0,  0,  0,  0,  0,  0,  0,  0,  0,  0,  0,  0,  0,  0,\n",
       "         0,  0,  0,  0,  0,  0,  0,  0,  0,  0,  0,  0,  0,  0,  0,  0,\n",
       "         0,  0,  0,  0,  0,  0,  0,  0,  0,  0,  0,  0,  0,  0,  0,  0]])>"
      ]
     },
     "execution_count": 780,
     "metadata": {},
     "output_type": "execute_result"
    }
   ],
   "source": [
    "tf.gather_nd(\n",
    "    r1,\n",
    "    tf.expand_dims(test[1], axis=1)) "
   ]
  },
  {
   "cell_type": "code",
   "execution_count": 763,
   "metadata": {},
   "outputs": [
    {
     "data": {
      "text/plain": [
       "<tf.Tensor: id=19630, shape=(3,), dtype=int32, numpy=array([0, 1, 2])>"
      ]
     },
     "execution_count": 763,
     "metadata": {},
     "output_type": "execute_result"
    }
   ],
   "source": [
    "tf.squeeze([0,1,2])"
   ]
  },
  {
   "cell_type": "code",
   "execution_count": 753,
   "metadata": {},
   "outputs": [
    {
     "data": {
      "text/plain": [
       "array([[0,\n",
       "        list([12, 14, 6, 12, 7, 12, 12, 12, 6, 12, 12, 1, 15, 2, 12, 7]),\n",
       "        list([15, 11, 12, 1, 18, 15, 5, 19, 2, 12, 1, 12, 15, 2, 20, 6, 20, 20, 20, 20, 20, 6]),\n",
       "        list([12, 14, 6, 12, 7, 12, 12, 12, 6, 12, 12, 1, 15, 12, 1, 11, 15, 2, 12, 1, 12, 15, 2, 20, 6, 20, 20, 20, 20, 20, 6, 2, 12, 7]),\n",
       "        list([15])],\n",
       "       [1, list([3, 15, 12, 12, 1, 12, 15, 3, 2, 15, 3]),\n",
       "        list([3, 12, 1, 11, 15, 2, 18, 15, 5, 19]),\n",
       "        list([3, 12, 1, 11, 15, 2, 15, 12, 12, 1, 12, 15, 12, 1, 3, 2, 11, 15, 2, 15, 12, 1, 3, 2, 11, 15]),\n",
       "        list([15])],\n",
       "       [0,\n",
       "        list([12, 14, 6, 12, 7, 12, 12, 12, 6, 12, 12, 1, 15, 2, 12, 7]),\n",
       "        list([15, 11, 12, 1, 18, 15, 5, 19, 2, 12, 1, 12, 15, 2, 20, 6, 20, 20, 20, 20, 20, 6]),\n",
       "        list([12, 14, 6, 12, 7, 12, 12, 12, 6, 12, 12, 1, 15, 12, 1, 11, 15, 2, 12, 1, 12, 15, 2, 20, 6, 20, 20, 20, 20, 20, 6, 2, 12, 7]),\n",
       "        list([15])]], dtype=object)"
      ]
     },
     "execution_count": 753,
     "metadata": {},
     "output_type": "execute_result"
    }
   ],
   "source": [
    "reactions[[0,1,0]]"
   ]
  },
  {
   "cell_type": "code",
   "execution_count": null,
   "metadata": {},
   "outputs": [],
   "source": []
  }
 ],
 "metadata": {
  "kernelspec": {
   "display_name": "Python 3",
   "language": "python",
   "name": "python3"
  },
  "language_info": {
   "codemirror_mode": {
    "name": "ipython",
    "version": 3
   },
   "file_extension": ".py",
   "mimetype": "text/x-python",
   "name": "python",
   "nbconvert_exporter": "python",
   "pygments_lexer": "ipython3",
   "version": "3.6.6"
  }
 },
 "nbformat": 4,
 "nbformat_minor": 2
}
