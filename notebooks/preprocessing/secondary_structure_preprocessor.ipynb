{
 "cells": [
  {
   "cell_type": "code",
   "execution_count": 1,
   "metadata": {},
   "outputs": [],
   "source": [
    "import pandas as pd\n",
    "import numpy as np\n",
    "import os\n",
    "import swifter\n",
    "from common.preprocessing.dataframe import *\n",
    "from common.bio.amino_acid import *"
   ]
  },
  {
   "cell_type": "code",
   "execution_count": 20,
   "metadata": {},
   "outputs": [],
   "source": [
    "STRUCTURE_COL = \"sst8\"\n",
    "ROOT = \"..\\\\..\\\\data\\\\protein\\\\structure\\\\secondary_structure\\\\\"\n",
    "#DATA_SOURCES = ROOT + \"data_sources\\\\2018-06-06-pdb-intersect-pisces.csv\"\n",
    "DATA_SOURCES = ROOT + \"data_sources\\\\sst_with_clusters.csv\"\n",
    "SAVE_PATH = ROOT"
   ]
  },
  {
   "cell_type": "code",
   "execution_count": 21,
   "metadata": {},
   "outputs": [],
   "source": [
    "data = pd.read_csv(DATA_SOURCES)"
   ]
  },
  {
   "cell_type": "code",
   "execution_count": 23,
   "metadata": {},
   "outputs": [],
   "source": [
    "filtered_data = data[(data.seq.str.len() <= 729)]\n",
    "filtered_data = filtered_data[['seq', STRUCTURE_COL, \"cluster\"]]\n",
    "filtered_data[\"seq\"] = filtered_data[\"seq\"].str.strip()"
   ]
  },
  {
   "cell_type": "code",
   "execution_count": 24,
   "metadata": {},
   "outputs": [],
   "source": [
    "filtered_data = filter_non_standard_amino_acids(filtered_data, \"seq\")"
   ]
  },
  {
   "cell_type": "code",
   "execution_count": 25,
   "metadata": {
    "scrolled": false
   },
   "outputs": [
    {
     "data": {
      "text/plain": [
       "(8958, 2)"
      ]
     },
     "execution_count": 25,
     "metadata": {},
     "output_type": "execute_result"
    }
   ],
   "source": [
    "filtered_data.shape"
   ]
  },
  {
   "cell_type": "markdown",
   "metadata": {},
   "source": [
    "#### Gathering labels"
   ]
  },
  {
   "cell_type": "code",
   "execution_count": 26,
   "metadata": {},
   "outputs": [],
   "source": [
    "def class_to_number(df, column):\n",
    "    unique_char = []\n",
    "    for c in df[column]:\n",
    "        unique_char.extend(list(set(c)))\n",
    "\n",
    "    classes = sorted(list(set(unique_char)))\n",
    "    classes.insert(0, \"0\")\n",
    "    print (\"There are {} unique classes\".format(len(classes)))\n",
    "    indexToClass = {i:classes[i] for i in range (len(classes))}\n",
    "    classToIndex = {classes[i]:i for i in range (len(classes))}\n",
    "    return indexToClass, classToIndex"
   ]
  },
  {
   "cell_type": "code",
   "execution_count": 27,
   "metadata": {},
   "outputs": [
    {
     "name": "stdout",
     "output_type": "stream",
     "text": [
      "There are 9 unique classes\n"
     ]
    }
   ],
   "source": [
    "indexToClass, classToIndex = class_to_number(filtered_data, STRUCTURE_COL)"
   ]
  },
  {
   "cell_type": "code",
   "execution_count": 28,
   "metadata": {},
   "outputs": [
    {
     "data": {
      "text/plain": [
       "{0: '0', 1: 'B', 2: 'C', 3: 'E', 4: 'G', 5: 'H', 6: 'I', 7: 'S', 8: 'T'}"
      ]
     },
     "execution_count": 28,
     "metadata": {},
     "output_type": "execute_result"
    }
   ],
   "source": [
    "indexToClass"
   ]
  },
  {
   "cell_type": "markdown",
   "metadata": {},
   "source": [
    "#### Train/test split"
   ]
  },
  {
   "cell_type": "code",
   "execution_count": 29,
   "metadata": {},
   "outputs": [],
   "source": [
    "def train_val_test_split(data, val=0.2, test=0.1):\n",
    "    train_split = int((1-val-test)*len(data))\n",
    "    val_split = int((1-test)*len(data))\n",
    "    train, val, test = np.split(data.sample(frac=1), [train_split, val_split])\n",
    "    print(\"Full: {} | Train: {} | Validation: {} | Test: {}\".format(len(data), len(train), len(val), len(test)))\n",
    "    print(\"Train: {:.2f}% | Validation: {:.2f}% | Test: {:.2f}%\".format(len(train)/len(data)*100, \n",
    "                                                                        len(val)/len(data)*100, \n",
    "                                                                        len(test)/len(data)*100))\n",
    "    return train, val, test"
   ]
  },
  {
   "cell_type": "code",
   "execution_count": 11,
   "metadata": {
    "scrolled": true
   },
   "outputs": [],
   "source": [
    "test = filtered_data.groupby(\"cluster\").filter(lambda x: len(x) < 2)\n",
    "val = filtered_data.groupby(\"cluster\").filter(lambda x: len(x) < 11 and len(x) > 1)\n",
    "train = filtered_data.groupby(\"cluster\").filter(lambda x: len(x) >= 11)"
   ]
  },
  {
   "cell_type": "code",
   "execution_count": 30,
   "metadata": {
    "scrolled": true
   },
   "outputs": [
    {
     "name": "stdout",
     "output_type": "stream",
     "text": [
      "Full: 14 | Train: 14 | Validation: 0 | Test: 0\n",
      "Train: 100.00% | Validation: 0.00% | Test: 0.00%\n"
     ]
    }
   ],
   "source": [
    "#train, val, test = train_val_test_split(filtered_data.groupby(STRUCTURE_COL).filter(lambda x: len(x) > 1), 0, 0)"
   ]
  },
  {
   "cell_type": "code",
   "execution_count": 31,
   "metadata": {},
   "outputs": [],
   "source": [
    "#unique = filtered_data.groupby(STRUCTURE_COL).filter(lambda x: len(x) == 1)"
   ]
  },
  {
   "cell_type": "code",
   "execution_count": 32,
   "metadata": {
    "scrolled": false
   },
   "outputs": [
    {
     "name": "stdout",
     "output_type": "stream",
     "text": [
      "Full: 8944 | Train: 8049 | Validation: 805 | Test: 90\n",
      "Train: 89.99% | Validation: 9.00% | Test: 1.01%\n"
     ]
    }
   ],
   "source": [
    "#extra_train, val, test  = train_val_test_split(unique, val=0.09, test=0.01)"
   ]
  },
  {
   "cell_type": "code",
   "execution_count": 33,
   "metadata": {},
   "outputs": [],
   "source": [
    "#train = train.append(extra_train)"
   ]
  },
  {
   "cell_type": "code",
   "execution_count": 34,
   "metadata": {},
   "outputs": [],
   "source": [
    "train.to_csv(os.path.join(SAVE_PATH, \"train.csv\"), sep='\\t', index=None)\n",
    "val.to_csv(os.path.join(SAVE_PATH, \"val.csv\"), sep='\\t', index=None)\n",
    "test.to_csv(os.path.join(SAVE_PATH, \"test.csv\"), sep='\\t', index=None)"
   ]
  },
  {
   "cell_type": "markdown",
   "metadata": {},
   "source": [
    "### To indices"
   ]
  },
  {
   "cell_type": "code",
   "execution_count": 35,
   "metadata": {},
   "outputs": [],
   "source": [
    "def get_indicies(val, kmer2index, kmer_size):\n",
    "    return [kmer2index.get(val[i:i+kmer_size], 0) for i in range(len(val)-(kmer_size-1))]\n",
    "\n",
    "def convert_to_index(data, file_name):\n",
    "    embedding_path = os.path.join(\"..\\\\..\\\\data\\\\protein\\\\classification\\\\data_sources\", file_name)\n",
    "    embeddings = pd.read_csv(embedding_path, delimiter=\"\\t\")\n",
    "    all_words = embeddings[\"words\"]\n",
    "    index2kmer = all_words.to_dict()\n",
    "    kmer_size = len(index2kmer[1])\n",
    "    kmer2index = inv_map = {v: k for k, v in index2kmer.items()}\n",
    "    print(\"The size of vocabulary is {}\".format(max(list(index2kmer.keys()))))\n",
    "    data[\"sequence\"] = data.seq.swifter.apply(lambda x: get_indicies(x, kmer2index, kmer_size))\n",
    "    data = data.drop(\"seq\", axis = 1)\n",
    "    return data, kmer_size"
   ]
  },
  {
   "cell_type": "code",
   "execution_count": 36,
   "metadata": {},
   "outputs": [],
   "source": [
    "def store_data(embedding_path):\n",
    "    print(\"Reading original data\")\n",
    "    train = pd.read_csv(os.path.join(SAVE_PATH, \"train.csv\"), sep='\\t')\n",
    "    val = pd.read_csv(os.path.join(SAVE_PATH, \"val.csv\"), sep='\\t')\n",
    "    test = pd.read_csv(os.path.join(SAVE_PATH, \"test.csv\"), sep='\\t')\n",
    "    print(\"Lengths. Max: {} Min: {}\".format(max([len(x) for x in train.seq]), min([len(x) for x in train.seq])))\n",
    "    train_emb, _ = convert_to_index(train, embedding_path)\n",
    "    train_emb[STRUCTURE_COL] = train_emb[STRUCTURE_COL].apply(lambda x: [ classToIndex[c] for c in x])\n",
    "    val_emb, _ = convert_to_index(val, embedding_path)\n",
    "    val_emb[STRUCTURE_COL] = val_emb[STRUCTURE_COL].apply(lambda x: [classToIndex[c] for c in x])\n",
    "    test_emb, kmer_size = convert_to_index(test, embedding_path)\n",
    "    test_emb[STRUCTURE_COL] = test_emb[STRUCTURE_COL].apply(lambda x: [classToIndex[c] for c in x])\n",
    "    print(\"Embedded sequence lengths. Max: {} Min: {}\".format(max([len(x) for x in train_emb.sequence]), \n",
    "                                                              min([len(x) for x in train_emb.sequence])))\n",
    "    \n",
    "    print(\"Indicies used. Max: {} Min: {}\".format(max([max(x) for x in train_emb.sequence]), \n",
    "                                                  min([min(x) for x in train_emb.sequence])))\n",
    "    \n",
    "    tf_records_path = os.path.join(SAVE_PATH, \"{}_kmers\".format(kmer_size))\n",
    "    store_fn = save_as_npy #save_as_tfrecords_multithreaded\n",
    "    store_fn(os.path.join(tf_records_path, \"train\"), train_emb[[\"sequence\", STRUCTURE_COL]], columns=[\"sequence\", STRUCTURE_COL])\n",
    "    store_fn(os.path.join(tf_records_path, \"val\"), val_emb[[\"sequence\", STRUCTURE_COL]], columns=[\"sequence\", STRUCTURE_COL])\n",
    "    store_fn(os.path.join(tf_records_path, \"test\"), test_emb[[\"sequence\", STRUCTURE_COL]], columns=[\"sequence\", STRUCTURE_COL])"
   ]
  },
  {
   "cell_type": "code",
   "execution_count": 37,
   "metadata": {
    "scrolled": true
   },
   "outputs": [
    {
     "name": "stdout",
     "output_type": "stream",
     "text": [
      "Reading original data\n",
      "Lengths. Max: 729 Min: 20\n",
      "The size of vocabulary is 20\n"
     ]
    },
    {
     "name": "stderr",
     "output_type": "stream",
     "text": [
      "Pandas Apply: 100%|██████████| 8063/8063 [00:00<00:00, 15222.56it/s]\n"
     ]
    },
    {
     "name": "stdout",
     "output_type": "stream",
     "text": [
      "The size of vocabulary is 20\n"
     ]
    },
    {
     "name": "stderr",
     "output_type": "stream",
     "text": [
      "Pandas Apply: 100%|██████████| 805/805 [00:00<00:00, 13424.89it/s]\n"
     ]
    },
    {
     "name": "stdout",
     "output_type": "stream",
     "text": [
      "The size of vocabulary is 20\n"
     ]
    },
    {
     "name": "stderr",
     "output_type": "stream",
     "text": [
      "Pandas Apply: 100%|██████████| 90/90 [00:00<00:00, 7505.61it/s]\n"
     ]
    },
    {
     "name": "stdout",
     "output_type": "stream",
     "text": [
      "Embedded sequence lengths. Max: 729 Min: 20\n",
      "Indicies used. Max: 20 Min: 0\n",
      "Data was stored in ..\\..\\data\\protein\\structure\\secondary_structure\\sample_1_kmers\\train\\data.npy\n",
      "Data was stored in ..\\..\\data\\protein\\structure\\secondary_structure\\sample_1_kmers\\val\\data.npy\n",
      "Data was stored in ..\\..\\data\\protein\\structure\\secondary_structure\\sample_1_kmers\\test\\data.npy\n"
     ]
    }
   ],
   "source": [
    "store_data(\"1grams.csv\")"
   ]
  },
  {
   "cell_type": "code",
   "execution_count": 5,
   "metadata": {},
   "outputs": [],
   "source": [
    "data = np.load(ROOT + \"data_sources\\\\CB513.npy\")"
   ]
  },
  {
   "cell_type": "markdown",
   "metadata": {},
   "source": [
    "## Preprocessing ss.txt"
   ]
  },
  {
   "cell_type": "code",
   "execution_count": 116,
   "metadata": {},
   "outputs": [],
   "source": [
    "from Bio import SeqIO\n",
    "data = []\n",
    "i = 0\n",
    "with open(ROOT + \"data_sources\\\\ss.txt\") as f:\n",
    "    line = f.readline().replace(\"\\n\", \"\")\n",
    "    \n",
    "    while True:\n",
    "        number, _, data_type = line.split(\":\")\n",
    "\n",
    "        seq=\"\"\n",
    "        structure=\"\"\n",
    "        line = f.readline().replace(\"\\n\", \"\")\n",
    "        while \">\" not in line:\n",
    "            seq = seq+line\n",
    "            line = f.readline().replace(\"\\n\", \"\")\n",
    "        n, _, d = line.split(\":\")\n",
    "\n",
    "        assert number == n\n",
    "        assert \"secstr\" == d  \n",
    "        line = f.readline().replace(\"\\n\", \"\") \n",
    "        while \">\" not in line:\n",
    "            structure = structure+line\n",
    "            line = f.readline().replace(\"\\n\", \"\")\n",
    "        data.append([number.replace(\">\", \"\"), seq, structure.replace(\" \", \"C\")])\n",
    "        if line == \"> END\":\n",
    "            break\n",
    "        i += 1\n",
    "        if i % 100000 == 0:\n",
    "            print(\"Already processed {} rows\".format(i))\n",
    "    "
   ]
  },
  {
   "cell_type": "code",
   "execution_count": 117,
   "metadata": {
    "scrolled": true
   },
   "outputs": [
    {
     "data": {
      "text/plain": [
       "408332"
      ]
     },
     "execution_count": 117,
     "metadata": {},
     "output_type": "execute_result"
    }
   ],
   "source": [
    "len(data)"
   ]
  },
  {
   "cell_type": "code",
   "execution_count": 118,
   "metadata": {},
   "outputs": [],
   "source": [
    "df = pd.DataFrame(data, columns=[\"id\",\"seq\",\"sst8\"])"
   ]
  },
  {
   "cell_type": "code",
   "execution_count": 119,
   "metadata": {},
   "outputs": [],
   "source": [
    "df.to_csv(ROOT + \"\\\\data_sources\\\\ss.csv\", index=None)"
   ]
  },
  {
   "cell_type": "code",
   "execution_count": 120,
   "metadata": {},
   "outputs": [],
   "source": [
    "for_cluster = pd.read_csv(ROOT + \"data_sources\\\\ss.csv\")"
   ]
  },
  {
   "cell_type": "code",
   "execution_count": 121,
   "metadata": {},
   "outputs": [],
   "source": [
    "for_cluster[[\"id\", \"seq\"]].to_csv(ROOT + \"data_sources\\\\ss_to_cluster.csv\", index=None, sep=\"\\t\")"
   ]
  },
  {
   "cell_type": "markdown",
   "metadata": {},
   "source": [
    "## Including cluster"
   ]
  },
  {
   "cell_type": "code",
   "execution_count": 6,
   "metadata": {},
   "outputs": [
    {
     "name": "stdout",
     "output_type": "stream",
     "text": [
      "100000\n",
      "200000\n",
      "300000\n",
      "400000\n"
     ]
    }
   ],
   "source": [
    "from Bio import SeqIO\n",
    "data = []\n",
    "i = 0\n",
    "with open(ROOT + \"data_sources\\\\ss_to_cluster_renamed.fasta\") as f:\n",
    "    line = f.readline().replace(\"\\n\", \"\")\n",
    "    \n",
    "    while True:\n",
    "        line = line.replace(\">\", \"\")\n",
    "        if  \" \" in line:\n",
    "            new_id, original_id = line.split(\" \")\n",
    "        else:\n",
    "            new_id, original_id = line, line\n",
    "\n",
    "        seq=\"\"\n",
    "        line = f.readline().replace(\"\\n\", \"\")\n",
    "        while \">\" not in line:\n",
    "            seq = seq+line\n",
    "            line = f.readline().replace(\"\\n\", \"\")\n",
    "\n",
    "        data.append([new_id, original_id, seq])\n",
    "        if line == \"> END\":\n",
    "            break\n",
    "        i += 1\n",
    "        if i % 100000 == 0:\n",
    "            print(\"Already processed {} rows\".format(i))"
   ]
  },
  {
   "cell_type": "code",
   "execution_count": 7,
   "metadata": {},
   "outputs": [],
   "source": [
    "cluster = pd.read_csv(ROOT + \"data_sources\\\\ss_to_cluster_renamedDB_clu.tsv\", names=[\"cluster\", \"id\"], sep=\"\\t\")"
   ]
  },
  {
   "cell_type": "code",
   "execution_count": 8,
   "metadata": {},
   "outputs": [],
   "source": [
    "df = pd.DataFrame(data, columns=[\"new_id\",\"original_id\",\"seq\"])"
   ]
  },
  {
   "cell_type": "code",
   "execution_count": 9,
   "metadata": {},
   "outputs": [],
   "source": [
    "df_with_cluster = df.merge(cluster, left_on='new_id', right_on='id', how='inner').drop(\"id\", axis=1)"
   ]
  },
  {
   "cell_type": "code",
   "execution_count": 10,
   "metadata": {},
   "outputs": [],
   "source": [
    "df_with_cluster.to_csv(ROOT + \"data_sources\\\\seq_with_clusters.csv\", index=None)"
   ]
  },
  {
   "cell_type": "code",
   "execution_count": 12,
   "metadata": {},
   "outputs": [],
   "source": [
    "df_with_cluster = pd.read_csv(ROOT + \"data_sources\\\\seq_with_clusters.csv\")"
   ]
  },
  {
   "cell_type": "code",
   "execution_count": 13,
   "metadata": {},
   "outputs": [],
   "source": [
    "structures = pd.read_csv(ROOT + \"data_sources\\\\ss.csv\")"
   ]
  },
  {
   "cell_type": "code",
   "execution_count": 14,
   "metadata": {},
   "outputs": [],
   "source": [
    "final = df_with_cluster.join(structures[STRUCTURE_COL]).drop([\"new_id\", \"original_id\"], axis=1)"
   ]
  },
  {
   "cell_type": "code",
   "execution_count": 16,
   "metadata": {},
   "outputs": [],
   "source": [
    "final.to_csv(ROOT + \"data_sources\\\\sst_with_clusters.csv\", index=None)"
   ]
  },
  {
   "cell_type": "code",
   "execution_count": null,
   "metadata": {},
   "outputs": [],
   "source": []
  }
 ],
 "metadata": {
  "kernelspec": {
   "display_name": "Python 3",
   "language": "python",
   "name": "python3"
  },
  "language_info": {
   "codemirror_mode": {
    "name": "ipython",
    "version": 3
   },
   "file_extension": ".py",
   "mimetype": "text/x-python",
   "name": "python",
   "nbconvert_exporter": "python",
   "pygments_lexer": "ipython3",
   "version": "3.6.6"
  }
 },
 "nbformat": 4,
 "nbformat_minor": 2
}
