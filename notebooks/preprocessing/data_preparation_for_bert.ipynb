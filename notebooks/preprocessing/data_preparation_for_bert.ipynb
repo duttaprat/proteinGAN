{
 "cells": [
  {
   "cell_type": "code",
   "execution_count": 1,
   "metadata": {
    "scrolled": true
   },
   "outputs": [
    {
     "name": "stderr",
     "output_type": "stream",
     "text": [
      "/home/donatas_repecka/anaconda3/lib/python3.6/site-packages/h5py/__init__.py:36: FutureWarning: Conversion of the second argument of issubdtype from `float` to `np.floating` is deprecated. In future, it will be treated as `np.float64 == np.dtype(float).type`.\n",
      "  from ._conv import register_converters as _register_converters\n"
     ]
    }
   ],
   "source": [
    "import pandas as pd\n",
    "import numpy as np\n",
    "import tensorflow as tf\n",
    "from common.bio.amino_acid import *\n",
    "from common.preprocessing.dataframe import *\n",
    "import json\n",
    "import os\n",
    "import multiprocessing as mp\n",
    "import psutil\n",
    "import swifter\n",
    "import sys"
   ]
  },
  {
   "cell_type": "code",
   "execution_count": 2,
   "metadata": {
    "scrolled": true
   },
   "outputs": [
    {
     "name": "stdout",
     "output_type": "stream",
     "text": [
      "This kernel has  8 cores and you can find the information regarding the memory usage: svmem(total=31616577536, available=30576070656, percent=3.3, used=637997056, free=30139428864, active=683048960, inactive=441868288, buffers=64339968, cached=774811648, shared=9695232, slab=141684736)\n"
     ]
    }
   ],
   "source": [
    "num_cores = mp.cpu_count()\n",
    "print(\"This kernel has \",num_cores,\"cores and you can find the information regarding the memory usage:\",psutil.virtual_memory())"
   ]
  },
  {
   "cell_type": "code",
   "execution_count": 3,
   "metadata": {},
   "outputs": [],
   "source": [
    "ROOT = \"../../data/protein/embedding/\"\n",
    "DATA_SOURCE = ROOT + \"data_sources/all_sequences.tsv.gz\"\n",
    "CHUNK_SIZE = 500000"
   ]
  },
  {
   "cell_type": "markdown",
   "metadata": {},
   "source": [
    "## Loading data"
   ]
  },
  {
   "cell_type": "code",
   "execution_count": 4,
   "metadata": {
    "scrolled": true
   },
   "outputs": [],
   "source": [
    "original_data = pd.read_csv(DATA_SOURCE, sep='\\t', chunksize = CHUNK_SIZE, skipinitialspace=True, usecols= [1])"
   ]
  },
  {
   "cell_type": "code",
   "execution_count": 5,
   "metadata": {
    "scrolled": true
   },
   "outputs": [
    {
     "data": {
      "text/plain": [
       "139"
      ]
     },
     "execution_count": 5,
     "metadata": {},
     "output_type": "execute_result"
    }
   ],
   "source": [
    "int(69229940/500000)+1"
   ]
  },
  {
   "cell_type": "markdown",
   "metadata": {},
   "source": [
    "## Extra preprocessing steps"
   ]
  },
  {
   "cell_type": "code",
   "execution_count": 6,
   "metadata": {},
   "outputs": [],
   "source": [
    "PATH = \"{}{}/\".format(ROOT,\"all\")"
   ]
  },
  {
   "cell_type": "code",
   "execution_count": 7,
   "metadata": {},
   "outputs": [],
   "source": [
    "os.makedirs(PATH, exist_ok=True)"
   ]
  },
  {
   "cell_type": "markdown",
   "metadata": {},
   "source": [
    "### Sequences"
   ]
  },
  {
   "cell_type": "code",
   "execution_count": 8,
   "metadata": {},
   "outputs": [],
   "source": [
    "def save_as_tfrecords(data, options=tf.python_io.TFRecordOptions(tf.python_io.TFRecordCompressionType.GZIP), \n",
    "                      extension=\"tfrecords.gz\"):\n",
    "    try:\n",
    "        threading_start = time.time()\n",
    "        data = filter_non_standard_amino_acids(data, \"Sequence\")\n",
    "        data = data[\"Sequence\"].apply(lambda x: [ AMINO_ACID_TO_ID[c] for c in x])\n",
    "        filename = \"{}{}.{}\".format(PATH,str(data.index[0]//CHUNK_SIZE), extension)\n",
    "        with tf.python_io.TFRecordWriter(filename,options) as writer:\n",
    "            for row in data:\n",
    "                example = tf.train.Example(features = tf.train.Features(\n",
    "                    feature={\n",
    "                        'length': tf.train.Feature(int64_list=tf.train.Int64List(value=[len(row)])),\n",
    "                        'seq': tf.train.Feature(int64_list=tf.train.Int64List(value=row))\n",
    "                    }\n",
    "                ))\n",
    "                writer.write(example.SerializeToString())\n",
    "        print(\"Data was stored in {} (Took: {}s)\".format(filename, time.time() - threading_start))\n",
    "        sys.stdout.flush()\n",
    "    except Exception as e:\n",
    "        print(\"Something went wrong went writting in to tfrecords file\")\n",
    "        print(e)\n",
    "        sys.stdout.flush()"
   ]
  },
  {
   "cell_type": "code",
   "execution_count": 9,
   "metadata": {},
   "outputs": [],
   "source": [
    "def save_as_tfrecords_multithreaded(path, original_data):\n",
    "    os.makedirs(path, exist_ok=True)\n",
    "    threading_start = time.time()\n",
    "\n",
    "    has_next = True\n",
    "    while has_next:\n",
    "            pool = mp.Pool(mp.cpu_count())\n",
    "            try:\n",
    "                results = []\n",
    "                for i in range(mp.cpu_count()):\n",
    "                    data = next(original_data)\n",
    "                    results.append(pool.apply_async(save_as_tfrecords, [data]))\n",
    "                output = [p.get() for p in results]\n",
    "                pool.terminate()\n",
    "                pool.join()\n",
    "            except Exception as e:\n",
    "                print(e)\n",
    "                output = [p.get() for p in results]\n",
    "                pool.terminate()\n",
    "                pool.join()\n",
    "                break\n",
    "    print(\"Completed all threads in {} seconds\".format(time.time() - threading_start))"
   ]
  },
  {
   "cell_type": "code",
   "execution_count": 10,
   "metadata": {
    "scrolled": false
   },
   "outputs": [
    {
     "name": "stdout",
     "output_type": "stream",
     "text": [
      "Data was stored in ../../data/protein/embedding/all/0.tfrecords.gz (Took: 96.35030341148376s)\n",
      "Data was stored in ../../data/protein/embedding/all/1.tfrecords.gz (Took: 96.39233803749084s)\n",
      "Data was stored in ../../data/protein/embedding/all/2.tfrecords.gz (Took: 102.22424125671387s)\n",
      "Data was stored in ../../data/protein/embedding/all/5.tfrecords.gz (Took: 95.67152047157288s)\n",
      "Data was stored in ../../data/protein/embedding/all/3.tfrecords.gz (Took: 105.38564085960388s)\n",
      "Data was stored in ../../data/protein/embedding/all/4.tfrecords.gz (Took: 102.35522365570068s)\n",
      "Data was stored in ../../data/protein/embedding/all/7.tfrecords.gz (Took: 94.01703810691833s)\n",
      "Data was stored in ../../data/protein/embedding/all/6.tfrecords.gz (Took: 102.21989393234253s)\n",
      "Data was stored in ../../data/protein/embedding/all/11.tfrecords.gz (Took: 85.23472023010254s)\n",
      "Data was stored in ../../data/protein/embedding/all/10.tfrecords.gz (Took: 89.29180073738098s)\n",
      "Data was stored in ../../data/protein/embedding/all/8.tfrecords.gz (Took: 98.20048403739929s)\n",
      "Data was stored in ../../data/protein/embedding/all/15.tfrecords.gz (Took: 73.70145773887634s)\n",
      "Data was stored in ../../data/protein/embedding/all/9.tfrecords.gz (Took: 96.04806232452393s)\n",
      "Data was stored in ../../data/protein/embedding/all/12.tfrecords.gz (Took: 90.31621479988098s)\n",
      "Data was stored in ../../data/protein/embedding/all/13.tfrecords.gz (Took: 90.85570192337036s)\n",
      "Data was stored in ../../data/protein/embedding/all/14.tfrecords.gz (Took: 90.58808469772339s)\n",
      "Data was stored in ../../data/protein/embedding/all/16.tfrecords.gz (Took: 64.69890809059143s)\n",
      "Data was stored in ../../data/protein/embedding/all/17.tfrecords.gz (Took: 73.44017457962036s)\n",
      "Data was stored in ../../data/protein/embedding/all/20.tfrecords.gz (Took: 88.30137372016907s)\n",
      "Data was stored in ../../data/protein/embedding/all/18.tfrecords.gz (Took: 108.38941073417664s)\n",
      "Data was stored in ../../data/protein/embedding/all/23.tfrecords.gz (Took: 86.06910514831543s)\n",
      "Data was stored in ../../data/protein/embedding/all/19.tfrecords.gz (Took: 108.9293200969696s)\n",
      "Data was stored in ../../data/protein/embedding/all/21.tfrecords.gz (Took: 101.1062216758728s)\n",
      "Data was stored in ../../data/protein/embedding/all/22.tfrecords.gz (Took: 99.49045753479004s)\n",
      "Data was stored in ../../data/protein/embedding/all/24.tfrecords.gz (Took: 81.56392049789429s)\n",
      "Data was stored in ../../data/protein/embedding/all/25.tfrecords.gz (Took: 91.74169301986694s)\n",
      "Data was stored in ../../data/protein/embedding/all/28.tfrecords.gz (Took: 87.06047701835632s)\n",
      "Data was stored in ../../data/protein/embedding/all/26.tfrecords.gz (Took: 98.0769145488739s)\n",
      "Data was stored in ../../data/protein/embedding/all/27.tfrecords.gz (Took: 95.70953059196472s)\n",
      "Data was stored in ../../data/protein/embedding/all/29.tfrecords.gz (Took: 90.69262623786926s)\n",
      "Data was stored in ../../data/protein/embedding/all/30.tfrecords.gz (Took: 93.82197523117065s)\n",
      "Data was stored in ../../data/protein/embedding/all/31.tfrecords.gz (Took: 90.27532267570496s)\n",
      "Data was stored in ../../data/protein/embedding/all/32.tfrecords.gz (Took: 85.15549659729004s)\n",
      "Data was stored in ../../data/protein/embedding/all/33.tfrecords.gz (Took: 89.75440120697021s)\n",
      "Data was stored in ../../data/protein/embedding/all/34.tfrecords.gz (Took: 89.46260595321655s)\n",
      "Data was stored in ../../data/protein/embedding/all/35.tfrecords.gz (Took: 99.14356422424316s)\n",
      "Data was stored in ../../data/protein/embedding/all/37.tfrecords.gz (Took: 90.90964651107788s)\n",
      "Data was stored in ../../data/protein/embedding/all/36.tfrecords.gz (Took: 102.24870157241821s)\n",
      "Data was stored in ../../data/protein/embedding/all/38.tfrecords.gz (Took: 96.7353413105011s)\n",
      "Data was stored in ../../data/protein/embedding/all/39.tfrecords.gz (Took: 94.44216442108154s)\n",
      "Data was stored in ../../data/protein/embedding/all/40.tfrecords.gz (Took: 100.50368428230286s)\n",
      "Data was stored in ../../data/protein/embedding/all/41.tfrecords.gz (Took: 105.58830952644348s)\n",
      "Data was stored in ../../data/protein/embedding/all/43.tfrecords.gz (Took: 102.93247532844543s)\n",
      "Data was stored in ../../data/protein/embedding/all/45.tfrecords.gz (Took: 95.66675567626953s)\n",
      "Data was stored in ../../data/protein/embedding/all/42.tfrecords.gz (Took: 108.94339084625244s)\n",
      "Data was stored in ../../data/protein/embedding/all/44.tfrecords.gz (Took: 101.41687893867493s)\n",
      "Data was stored in ../../data/protein/embedding/all/46.tfrecords.gz (Took: 92.10852217674255s)\n",
      "Data was stored in ../../data/protein/embedding/all/47.tfrecords.gz (Took: 97.41615033149719s)\n",
      "Data was stored in ../../data/protein/embedding/all/48.tfrecords.gz (Took: 89.88355231285095s)\n",
      "Data was stored in ../../data/protein/embedding/all/49.tfrecords.gz (Took: 89.73914837837219s)\n",
      "Data was stored in ../../data/protein/embedding/all/50.tfrecords.gz (Took: 94.3297872543335s)\n",
      "Data was stored in ../../data/protein/embedding/all/52.tfrecords.gz (Took: 88.99615526199341s)\n",
      "Data was stored in ../../data/protein/embedding/all/51.tfrecords.gz (Took: 98.8653199672699s)\n",
      "Data was stored in ../../data/protein/embedding/all/53.tfrecords.gz (Took: 92.50893521308899s)\n",
      "Data was stored in ../../data/protein/embedding/all/54.tfrecords.gz (Took: 92.29365658760071s)\n",
      "Data was stored in ../../data/protein/embedding/all/55.tfrecords.gz (Took: 92.80363178253174s)\n",
      "Data was stored in ../../data/protein/embedding/all/56.tfrecords.gz (Took: 87.16881012916565s)\n",
      "Data was stored in ../../data/protein/embedding/all/57.tfrecords.gz (Took: 87.41444182395935s)\n",
      "Data was stored in ../../data/protein/embedding/all/59.tfrecords.gz (Took: 87.83321499824524s)\n",
      "Data was stored in ../../data/protein/embedding/all/58.tfrecords.gz (Took: 93.15632271766663s)\n",
      "Data was stored in ../../data/protein/embedding/all/60.tfrecords.gz (Took: 93.9275848865509s)\n",
      "Data was stored in ../../data/protein/embedding/all/61.tfrecords.gz (Took: 91.46435451507568s)\n",
      "Data was stored in ../../data/protein/embedding/all/62.tfrecords.gz (Took: 91.03416633605957s)\n",
      "Data was stored in ../../data/protein/embedding/all/63.tfrecords.gz (Took: 89.57829594612122s)\n",
      "Data was stored in ../../data/protein/embedding/all/64.tfrecords.gz (Took: 94.28692507743835s)\n",
      "Data was stored in ../../data/protein/embedding/all/65.tfrecords.gz (Took: 96.35370874404907s)\n",
      "Data was stored in ../../data/protein/embedding/all/66.tfrecords.gz (Took: 96.22968530654907s)\n",
      "Data was stored in ../../data/protein/embedding/all/67.tfrecords.gz (Took: 96.16537737846375s)\n",
      "Data was stored in ../../data/protein/embedding/all/68.tfrecords.gz (Took: 98.25637221336365s)\n",
      "Data was stored in ../../data/protein/embedding/all/69.tfrecords.gz (Took: 96.21319890022278s)\n",
      "Data was stored in ../../data/protein/embedding/all/70.tfrecords.gz (Took: 94.1848247051239s)\n",
      "Data was stored in ../../data/protein/embedding/all/71.tfrecords.gz (Took: 93.10040330886841s)\n",
      "Data was stored in ../../data/protein/embedding/all/72.tfrecords.gz (Took: 94.52856206893921s)\n",
      "Data was stored in ../../data/protein/embedding/all/73.tfrecords.gz (Took: 98.56407570838928s)\n",
      "Data was stored in ../../data/protein/embedding/all/74.tfrecords.gz (Took: 98.69396352767944s)\n",
      "Data was stored in ../../data/protein/embedding/all/77.tfrecords.gz (Took: 88.99465250968933s)\n",
      "Data was stored in ../../data/protein/embedding/all/78.tfrecords.gz (Took: 85.36248779296875s)\n",
      "Data was stored in ../../data/protein/embedding/all/75.tfrecords.gz (Took: 99.28419613838196s)\n",
      "Data was stored in ../../data/protein/embedding/all/76.tfrecords.gz (Took: 97.85448122024536s)\n",
      "Data was stored in ../../data/protein/embedding/all/79.tfrecords.gz (Took: 88.48967504501343s)\n",
      "Data was stored in ../../data/protein/embedding/all/80.tfrecords.gz (Took: 95.86830830574036s)\n",
      "Data was stored in ../../data/protein/embedding/all/81.tfrecords.gz (Took: 99.02972912788391s)\n",
      "Data was stored in ../../data/protein/embedding/all/82.tfrecords.gz (Took: 101.56424832344055s)\n",
      "Data was stored in ../../data/protein/embedding/all/83.tfrecords.gz (Took: 101.37746167182922s)\n",
      "Data was stored in ../../data/protein/embedding/all/84.tfrecords.gz (Took: 97.88508915901184s)\n",
      "Data was stored in ../../data/protein/embedding/all/85.tfrecords.gz (Took: 101.21335196495056s)\n",
      "Data was stored in ../../data/protein/embedding/all/86.tfrecords.gz (Took: 96.89587759971619s)\n"
     ]
    },
    {
     "name": "stdout",
     "output_type": "stream",
     "text": [
      "Data was stored in ../../data/protein/embedding/all/87.tfrecords.gz (Took: 98.2398054599762s)\n",
      "Data was stored in ../../data/protein/embedding/all/88.tfrecords.gz (Took: 94.05527591705322s)\n",
      "Data was stored in ../../data/protein/embedding/all/89.tfrecords.gz (Took: 99.08749866485596s)\n",
      "Data was stored in ../../data/protein/embedding/all/90.tfrecords.gz (Took: 97.65073776245117s)\n",
      "Data was stored in ../../data/protein/embedding/all/92.tfrecords.gz (Took: 99.23654770851135s)\n",
      "Data was stored in ../../data/protein/embedding/all/91.tfrecords.gz (Took: 105.05251121520996s)\n",
      "Data was stored in ../../data/protein/embedding/all/94.tfrecords.gz (Took: 93.42280006408691s)\n",
      "Data was stored in ../../data/protein/embedding/all/95.tfrecords.gz (Took: 91.97671103477478s)\n",
      "Data was stored in ../../data/protein/embedding/all/93.tfrecords.gz (Took: 102.6677405834198s)\n",
      "Data was stored in ../../data/protein/embedding/all/96.tfrecords.gz (Took: 87.55560088157654s)\n",
      "Data was stored in ../../data/protein/embedding/all/97.tfrecords.gz (Took: 92.46702027320862s)\n",
      "Data was stored in ../../data/protein/embedding/all/99.tfrecords.gz (Took: 90.20316815376282s)\n",
      "Data was stored in ../../data/protein/embedding/all/98.tfrecords.gz (Took: 95.60157775878906s)\n",
      "Data was stored in ../../data/protein/embedding/all/101.tfrecords.gz (Took: 89.60365271568298s)\n",
      "Data was stored in ../../data/protein/embedding/all/100.tfrecords.gz (Took: 97.21776151657104s)\n",
      "Data was stored in ../../data/protein/embedding/all/102.tfrecords.gz (Took: 94.29478049278259s)\n",
      "Data was stored in ../../data/protein/embedding/all/103.tfrecords.gz (Took: 94.92347383499146s)\n",
      "Data was stored in ../../data/protein/embedding/all/104.tfrecords.gz (Took: 94.67967081069946s)\n",
      "Data was stored in ../../data/protein/embedding/all/105.tfrecords.gz (Took: 99.44666481018066s)\n",
      "Data was stored in ../../data/protein/embedding/all/106.tfrecords.gz (Took: 96.99783492088318s)\n",
      "Data was stored in ../../data/protein/embedding/all/107.tfrecords.gz (Took: 104.81546950340271s)\n",
      "Data was stored in ../../data/protein/embedding/all/110.tfrecords.gz (Took: 93.41541147232056s)\n",
      "Data was stored in ../../data/protein/embedding/all/109.tfrecords.gz (Took: 98.6757550239563s)\n",
      "Data was stored in ../../data/protein/embedding/all/108.tfrecords.gz (Took: 105.18598294258118s)\n",
      "Data was stored in ../../data/protein/embedding/all/111.tfrecords.gz (Took: 94.33722352981567s)\n",
      "Data was stored in ../../data/protein/embedding/all/112.tfrecords.gz (Took: 91.38062596321106s)\n",
      "Data was stored in ../../data/protein/embedding/all/113.tfrecords.gz (Took: 95.89466190338135s)\n",
      "Data was stored in ../../data/protein/embedding/all/114.tfrecords.gz (Took: 102.75746512413025s)\n",
      "Data was stored in ../../data/protein/embedding/all/115.tfrecords.gz (Took: 103.58743190765381s)\n",
      "Data was stored in ../../data/protein/embedding/all/118.tfrecords.gz (Took: 91.96844482421875s)\n",
      "Data was stored in ../../data/protein/embedding/all/116.tfrecords.gz (Took: 104.6631383895874s)\n",
      "Data was stored in ../../data/protein/embedding/all/117.tfrecords.gz (Took: 102.68414449691772s)\n",
      "Data was stored in ../../data/protein/embedding/all/119.tfrecords.gz (Took: 93.0015037059784s)\n",
      "Data was stored in ../../data/protein/embedding/all/120.tfrecords.gz (Took: 95.46508431434631s)\n",
      "Data was stored in ../../data/protein/embedding/all/121.tfrecords.gz (Took: 96.4999315738678s)\n",
      "Data was stored in ../../data/protein/embedding/all/122.tfrecords.gz (Took: 105.83845114707947s)\n",
      "Data was stored in ../../data/protein/embedding/all/123.tfrecords.gz (Took: 103.40681266784668s)\n",
      "Data was stored in ../../data/protein/embedding/all/125.tfrecords.gz (Took: 97.58456802368164s)\n",
      "Data was stored in ../../data/protein/embedding/all/126.tfrecords.gz (Took: 95.63992309570312s)\n",
      "Data was stored in ../../data/protein/embedding/all/124.tfrecords.gz (Took: 105.78841710090637s)\n",
      "Data was stored in ../../data/protein/embedding/all/127.tfrecords.gz (Took: 98.59122848510742s)\n",
      "Data was stored in ../../data/protein/embedding/all/128.tfrecords.gz (Took: 94.17911410331726s)\n",
      "Data was stored in ../../data/protein/embedding/all/129.tfrecords.gz (Took: 101.40789937973022s)\n",
      "Data was stored in ../../data/protein/embedding/all/130.tfrecords.gz (Took: 101.0683856010437s)\n",
      "Data was stored in ../../data/protein/embedding/all/131.tfrecords.gz (Took: 103.35704302787781s)\n",
      "Data was stored in ../../data/protein/embedding/all/133.tfrecords.gz (Took: 95.1735622882843s)\n",
      "Data was stored in ../../data/protein/embedding/all/132.tfrecords.gz (Took: 102.38860177993774s)\n",
      "Data was stored in ../../data/protein/embedding/all/134.tfrecords.gz (Took: 98.70536875724792s)\n",
      "Data was stored in ../../data/protein/embedding/all/135.tfrecords.gz (Took: 98.43850612640381s)\n",
      "\n",
      "Data was stored in ../../data/protein/embedding/all/138.tfrecords.gz (Took: 24.314348459243774s)\n",
      "Data was stored in ../../data/protein/embedding/all/137.tfrecords.gz (Took: 58.274537324905396s)\n",
      "Data was stored in ../../data/protein/embedding/all/136.tfrecords.gz (Took: 64.29692506790161s)\n",
      "Completed all threads in 2248.4231271743774 seconds\n"
     ]
    }
   ],
   "source": [
    "save_as_tfrecords_multithreaded(PATH, original_data)"
   ]
  },
  {
   "cell_type": "markdown",
   "metadata": {},
   "source": [
    "To read"
   ]
  },
  {
   "cell_type": "code",
   "execution_count": 17,
   "metadata": {},
   "outputs": [],
   "source": [
    "#tf.data.TFRecordDataset(filenames=filenames, compression_type='GZIP', buffer_size=buffer_size)\n",
    "# features = tf.parse_single_example(\n",
    "#     serialized=example.SerializeToString(),\n",
    "#     features={\n",
    "#         'label': tf.FixedLenFeature([1], tf.int64),\n",
    "#         'seq': tf.FixedLenSequenceFeature([], tf.int64, allow_missing=True),\n",
    "#     }\n",
    "# )"
   ]
  },
  {
   "cell_type": "markdown",
   "metadata": {},
   "source": [
    "# End of preprocessing"
   ]
  }
 ],
 "metadata": {
  "kernelspec": {
   "display_name": "Python 3",
   "language": "python",
   "name": "python3"
  },
  "language_info": {
   "codemirror_mode": {
    "name": "ipython",
    "version": 3
   },
   "file_extension": ".py",
   "mimetype": "text/x-python",
   "name": "python",
   "nbconvert_exporter": "python",
   "pygments_lexer": "ipython3",
   "version": "3.6.6"
  }
 },
 "nbformat": 4,
 "nbformat_minor": 2
}
