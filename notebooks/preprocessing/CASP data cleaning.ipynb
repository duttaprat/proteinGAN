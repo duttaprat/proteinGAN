{
 "cells": [
  {
   "cell_type": "code",
   "execution_count": 1,
   "metadata": {},
   "outputs": [],
   "source": [
    "import tensorflow as tf\n",
    "import os\n",
    "import multiprocessing\n",
    "import ipdb\n",
    "tf.enable_eager_execution()"
   ]
  },
  {
   "cell_type": "code",
   "execution_count": 78,
   "metadata": {},
   "outputs": [],
   "source": [
    "NUM_DIMENSIONS = 3\n",
    "\n",
    "def masking_matrix(mask, name=None):\n",
    "    mask = tf.convert_to_tensor(mask, name='mask')\n",
    "\n",
    "    mask = tf.expand_dims(mask, 0)\n",
    "    base = tf.ones([tf.size(mask), tf.size(mask)])\n",
    "    matrix_mask = base * mask * tf.transpose(mask)\n",
    "\n",
    "    return matrix_mask\n",
    "        \n",
    "def read_protein(record):\n",
    "    context, features = tf.parse_single_sequence_example(serialized=record,\n",
    "                            context_features={'id': tf.FixedLenFeature((1,), tf.string)},\n",
    "                            sequence_features={\n",
    "                                    'primary':      tf.FixedLenSequenceFeature((1,),               tf.int64),\n",
    "                                    'secondary':    tf.FixedLenSequenceFeature((1,),               tf.int64,   allow_missing=True),\n",
    "                                    'tertiary':     tf.FixedLenSequenceFeature((NUM_DIMENSIONS,),  tf.float32, allow_missing=True),\n",
    "                                    'mask': tf.FixedLenSequenceFeature((1,), tf.float32, allow_missing=True)})\n",
    "    id_ = context['id'][0]\n",
    "    #primary =   tf.to_int32(features['primary'][:, 0])\n",
    "    primary =   features['primary'][:, 0]\n",
    "    secondary = tf.to_int32(features['secondary'][:, 0])\n",
    "    tertiary =              features['tertiary']\n",
    "    mask =                  features['mask'][:, 0]\n",
    "    # Generate tertiary masking matrix--if mask is missing then assume all residues are present\n",
    "#     pri_length = tf.size(primary)\n",
    "#     mask = tf.cond(tf.not_equal(tf.size(mask), 0), lambda: mask, lambda: tf.ones([pri_length]))\n",
    "#     ter_mask = masking_matrix(mask, name='ter_mask')        \n",
    "\n",
    "    return id_, primary, secondary, tertiary, mask"
   ]
  },
  {
   "cell_type": "code",
   "execution_count": 79,
   "metadata": {},
   "outputs": [],
   "source": [
    "data_dir=\"..\\\\..\\\\data\\\\protein\\\\structure\\\\casp12\"\n",
    "running_mode=\"testing\"\n",
    "cycle_length = 1"
   ]
  },
  {
   "cell_type": "code",
   "execution_count": 80,
   "metadata": {},
   "outputs": [
    {
     "name": "stdout",
     "output_type": "stream",
     "text": [
      "Loading files from ..\\..\\data\\protein\\structure\\casp12\n"
     ]
    }
   ],
   "source": [
    "print(\"Loading files from {}\".format(data_dir))"
   ]
  },
  {
   "cell_type": "code",
   "execution_count": 81,
   "metadata": {
    "scrolled": true
   },
   "outputs": [
    {
     "name": "stdout",
     "output_type": "stream",
     "text": [
      "Found 1 file(s)\n"
     ]
    }
   ],
   "source": [
    "filenames = tf.gfile.Glob(os.path.join(data_dir, running_mode, \"*\"))\n",
    "print(\"Found {} file(s)\".format(len(filenames)))"
   ]
  },
  {
   "cell_type": "code",
   "execution_count": 82,
   "metadata": {
    "scrolled": false
   },
   "outputs": [
    {
     "name": "stdout",
     "output_type": "stream",
     "text": [
      "Loading process will use 4 CPUs\n"
     ]
    }
   ],
   "source": [
    "dataset = tf.data.TFRecordDataset(filenames)\n",
    "print(\"Loading process will use {} CPUs\".format(multiprocessing.cpu_count()))\n",
    "dataset = dataset.map(lambda x: read_protein(x), num_parallel_calls=multiprocessing.cpu_count())\n",
    "\n",
    "iterator = dataset.make_one_shot_iterator()"
   ]
  },
  {
   "cell_type": "code",
   "execution_count": 94,
   "metadata": {
    "scrolled": false
   },
   "outputs": [
    {
     "data": {
      "text/plain": [
       "(<tf.Tensor: id=1393, shape=(), dtype=string, numpy=b'TBM#T0873'>,\n",
       " <tf.Tensor: id=1394, shape=(501,), dtype=int64, numpy=\n",
       " array([10,  5, 15, 15,  6,  6,  6,  6,  6,  6, 15, 13,  2, 12, 11, 15, 10,\n",
       "         8, 14,  9,  8,  2,  9, 14,  3, 19,  9,  0, 17,  9,  3,  0,  6, 13,\n",
       "         2, 17, 14,  3,  7,  2,  3, 12, 17,  2, 12,  6,  9,  3,  0,  5,  0,\n",
       "         0,  0, 14, 18, 16, 19,  3, 11, 14,  5, 12,  0,  9, 10,  9, 11,  2,\n",
       "         9, 16,  5, 16,  5, 14,  4,  1, 14,  7,  9,  0,  0, 12,  0,  5,  9,\n",
       "        15, 16,  7, 12,  5, 15, 12,  9,  0, 14, 17,  0,  9, 15,  9,  5,  9,\n",
       "         2, 17, 15,  0, 16,  0,  6,  3,  7, 17,  2, 15,  9,  0,  0,  0, 14,\n",
       "        16, 14,  3, 12, 17,  0, 12, 17, 17, 17,  2, 15,  0, 12,  1, 13,  2,\n",
       "        11, 17,  9,  9,  5,  2,  2,  0, 11,  9,  2, 14,  4, 12,  0, 12,  9,\n",
       "         9,  6,  3,  5,  2,  5,  5, 12, 19,  9, 11, 16, 18,  5, 16,  7,  7,\n",
       "        17, 15, 16, 12,  2,  5, 15,  4, 16, 11, 18,  0,  7,  0, 14, 17, 10,\n",
       "         8,  7,  2,  5,  8, 14, 10, 16,  5, 16,  4,  7, 12, 16, 13,  6,  9,\n",
       "         5, 13,  7, 14,  8,  9, 18,  2, 11,  9,  5, 13, 12, 10, 12,  4,  0,\n",
       "         7, 17, 13,  5, 16,  3, 12,  5,  7, 12,  4, 17,  0, 15, 10, 12,  9,\n",
       "        12,  2,  5,  7,  3,  3, 17,  5,  4,  9,  5,  0, 19,  4,  5,  3, 12,\n",
       "         9,  3,  9, 17, 14,  0,  8, 16, 17,  2,  9,  9, 17, 12,  0, 15,  0,\n",
       "         3,  7, 17,  7,  3,  5,  6, 17, 10, 12,  5, 14, 16,  0, 17,  3,  5,\n",
       "        12, 10,  5,  3, 19,  0,  5, 19, 13, 12, 14,  6, 16, 15, 10, 13, 12,\n",
       "         3, 19, 17, 17,  2,  0,  7, 16, 19, 14,  2,  2, 12,  7, 18, 12,  7,\n",
       "        15, 17,  0,  5,  3, 12, 17,  2,  3, 16,  6, 16,  0, 18,  5,  9, 17,\n",
       "        16,  0,  0,  3,  0,  9,  0,  9,  9, 14,  0,  0,  8,  9, 12, 17,  0,\n",
       "        16,  0, 18, 10, 12,  4,  3,  0,  0,  0,  6, 18,  9,  7, 17,  1,  9,\n",
       "        16,  3,  2, 18, 14,  3, 14, 10, 12,  5,  9, 15, 14,  2,  5,  7,  1,\n",
       "         9, 14,  7, 15, 13, 17,  9,  0,  0, 16, 14,  7,  3,  0, 10, 10, 16,\n",
       "        14, 17,  4, 17,  9,  2,  2,  2, 17,  2, 12, 15,  2, 13, 16,  3,  9,\n",
       "         0, 18,  0,  7,  0, 16, 14, 17, 15, 12,  0,  6,  5, 14,  9, 17, 14,\n",
       "         6,  5, 10,  7, 11, 12,  9,  0,  5,  1, 19, 15,  0,  3,  3, 14, 14,\n",
       "         9,  5, 19,  5, 12,  8,  0, 17,  9, 11,  5,  9,  9, 12, 12, 10,  0,\n",
       "         3, 14, 15, 14, 14, 15, 15,  4, 14,  6, 16, 19, 12,  3, 12, 17, 14,\n",
       "        13, 14, 17,  7,  3,  9,  9,  0], dtype=int64)>,\n",
       " <tf.Tensor: id=1395, shape=(0,), dtype=int32, numpy=array([], dtype=int32)>,\n",
       " <tf.Tensor: id=1396, shape=(1503, 3), dtype=float32, numpy=\n",
       " array([[    0. ,     0. ,     0. ],\n",
       "        [    0. ,     0. ,     0. ],\n",
       "        [    0. ,     0. ,     0. ],\n",
       "        ...,\n",
       "        [ 3658.1, 22589.7, 23831.7],\n",
       "        [ 3712.6, 22722.5, 23858.6],\n",
       "        [ 3664.8, 22773.8, 23994. ]], dtype=float32)>,\n",
       " <tf.Tensor: id=1397, shape=(501,), dtype=float32, numpy=\n",
       " array([0., 0., 0., 0., 0., 0., 0., 0., 0., 0., 0., 0., 0., 0., 0., 1., 1.,\n",
       "        1., 1., 1., 1., 1., 1., 1., 1., 1., 1., 1., 1., 1., 1., 1., 1., 1.,\n",
       "        1., 1., 1., 1., 1., 1., 1., 1., 1., 1., 1., 1., 1., 1., 1., 1., 1.,\n",
       "        1., 1., 1., 1., 1., 1., 1., 1., 1., 1., 1., 1., 1., 1., 1., 1., 1.,\n",
       "        1., 1., 1., 1., 1., 1., 1., 1., 1., 1., 1., 1., 1., 1., 1., 1., 1.,\n",
       "        1., 1., 1., 1., 1., 1., 1., 1., 1., 1., 1., 1., 1., 1., 1., 1., 1.,\n",
       "        1., 1., 1., 1., 1., 1., 1., 1., 1., 1., 1., 1., 1., 1., 1., 1., 1.,\n",
       "        1., 1., 1., 1., 1., 1., 1., 1., 1., 1., 1., 1., 1., 1., 1., 1., 1.,\n",
       "        1., 1., 1., 1., 1., 1., 1., 1., 1., 1., 1., 1., 1., 1., 1., 1., 1.,\n",
       "        1., 1., 1., 1., 1., 1., 1., 1., 1., 1., 1., 1., 1., 1., 1., 1., 1.,\n",
       "        1., 1., 1., 1., 1., 1., 1., 1., 1., 1., 1., 1., 1., 1., 1., 1., 1.,\n",
       "        1., 1., 1., 1., 1., 1., 1., 1., 1., 1., 1., 1., 1., 1., 1., 1., 1.,\n",
       "        1., 1., 1., 1., 1., 1., 1., 1., 1., 1., 1., 1., 1., 1., 1., 1., 1.,\n",
       "        1., 1., 1., 1., 1., 1., 1., 1., 1., 1., 1., 1., 1., 1., 1., 1., 1.,\n",
       "        1., 1., 1., 1., 1., 1., 1., 1., 1., 1., 1., 1., 1., 1., 1., 1., 1.,\n",
       "        1., 1., 1., 1., 1., 1., 1., 1., 1., 1., 1., 1., 1., 1., 1., 1., 1.,\n",
       "        1., 1., 1., 1., 1., 1., 1., 1., 1., 0., 0., 0., 0., 0., 0., 0., 0.,\n",
       "        0., 0., 0., 0., 0., 0., 0., 0., 0., 0., 0., 0., 0., 0., 0., 0., 1.,\n",
       "        1., 1., 1., 1., 1., 1., 1., 1., 1., 1., 1., 1., 1., 1., 1., 1., 1.,\n",
       "        1., 1., 1., 1., 1., 1., 1., 1., 1., 1., 1., 1., 1., 1., 1., 1., 1.,\n",
       "        1., 1., 1., 1., 1., 1., 1., 1., 1., 1., 1., 1., 1., 1., 1., 1., 1.,\n",
       "        1., 1., 1., 1., 1., 1., 1., 1., 1., 1., 1., 1., 1., 1., 1., 1., 1.,\n",
       "        1., 1., 1., 1., 1., 1., 1., 1., 1., 1., 1., 1., 1., 1., 1., 1., 1.,\n",
       "        1., 1., 1., 1., 1., 1., 1., 1., 1., 1., 1., 1., 1., 1., 1., 1., 1.,\n",
       "        1., 1., 1., 1., 1., 1., 1., 1., 1., 1., 1., 1., 1., 1., 1., 1., 1.,\n",
       "        1., 1., 1., 1., 1., 1., 1., 1., 1., 1., 1., 1., 1., 1., 1., 1., 1.,\n",
       "        1., 1., 1., 1., 1., 1., 1., 1., 1., 1., 1., 1., 1., 1., 1., 1., 1.,\n",
       "        1., 1., 1., 1., 1., 1., 1., 1., 1., 1., 1., 1., 1., 1., 1., 1., 1.,\n",
       "        1., 1., 1., 1., 1., 1., 1., 1., 1., 1., 1., 1., 1., 1., 1., 1., 1.,\n",
       "        1., 1., 1., 1., 1., 1., 1., 1.], dtype=float32)>)"
      ]
     },
     "execution_count": 94,
     "metadata": {},
     "output_type": "execute_result"
    }
   ],
   "source": [
    "iterator.get_next()"
   ]
  },
  {
   "cell_type": "code",
   "execution_count": null,
   "metadata": {},
   "outputs": [],
   "source": []
  },
  {
   "cell_type": "code",
   "execution_count": null,
   "metadata": {},
   "outputs": [],
   "source": []
  }
 ],
 "metadata": {
  "kernelspec": {
   "display_name": "Python 3",
   "language": "python",
   "name": "python3"
  },
  "language_info": {
   "codemirror_mode": {
    "name": "ipython",
    "version": 3
   },
   "file_extension": ".py",
   "mimetype": "text/x-python",
   "name": "python",
   "nbconvert_exporter": "python",
   "pygments_lexer": "ipython3",
   "version": "3.6.6"
  }
 },
 "nbformat": 4,
 "nbformat_minor": 2
}
