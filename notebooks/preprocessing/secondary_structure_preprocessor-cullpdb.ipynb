{
 "cells": [
  {
   "cell_type": "code",
   "execution_count": 1,
   "metadata": {},
   "outputs": [],
   "source": [
    "import pandas as pd\n",
    "import numpy as np\n",
    "import os\n",
    "import swifter\n",
    "from common.preprocessing.dataframe import *\n",
    "from common.bio.amino_acid import *"
   ]
  },
  {
   "cell_type": "code",
   "execution_count": 2,
   "metadata": {},
   "outputs": [],
   "source": [
    "STRUCTURE_COL = \"sst8\"\n",
    "ROOT = \"..\\\\..\\\\data\\\\protein\\\\structure\\\\secondary_structure\\\\\"\n",
    "#DATA_SOURCES = ROOT + \"data_sources\\\\2018-06-06-pdb-intersect-pisces.csv\"\n",
    "DATA_SOURCES = ROOT + \"data_sources\\\\cullpdb+profile_6133.npy\"\n",
    "SAVE_PATH = ROOT"
   ]
  },
  {
   "cell_type": "code",
   "execution_count": 3,
   "metadata": {},
   "outputs": [],
   "source": [
    "data = np.load(DATA_SOURCES)"
   ]
  },
  {
   "cell_type": "code",
   "execution_count": 4,
   "metadata": {},
   "outputs": [
    {
     "data": {
      "text/plain": [
       "(6133, 700, 57)"
      ]
     },
     "execution_count": 4,
     "metadata": {},
     "output_type": "execute_result"
    }
   ],
   "source": [
    "data = data.reshape(6133,700,57)\n",
    "data.shape"
   ]
  },
  {
   "cell_type": "code",
   "execution_count": 5,
   "metadata": {},
   "outputs": [],
   "source": [
    "labels = np.argmax(data[:,:,22:31], axis =2)"
   ]
  },
  {
   "cell_type": "code",
   "execution_count": 6,
   "metadata": {},
   "outputs": [],
   "source": [
    "sequences = np.argmax(data[:, :, np.r_[0:22]], axis =2)"
   ]
  },
  {
   "cell_type": "code",
   "execution_count": 7,
   "metadata": {},
   "outputs": [],
   "source": [
    "sequences = sequences+100\n",
    "labels = labels + 100"
   ]
  },
  {
   "cell_type": "code",
   "execution_count": 8,
   "metadata": {},
   "outputs": [],
   "source": [
    "acid_mapping = {100:1, 101:2, 102:4, 103:3, 104:6, 105:5, 106:8, 107:7, 108:9, 109:11, 110:10, 111:12, \n",
    " 112:14, 113:13, 114:16, 115:15, 116:17, 117:19, 118:18, 119:20, 120:21, 121:0}\n"
   ]
  },
  {
   "cell_type": "code",
   "execution_count": 9,
   "metadata": {},
   "outputs": [],
   "source": [
    "for k in acid_mapping.keys():\n",
    "    sequences[sequences == k] = acid_mapping[k]"
   ]
  },
  {
   "cell_type": "code",
   "execution_count": 10,
   "metadata": {
    "scrolled": true
   },
   "outputs": [
    {
     "data": {
      "text/plain": [
       "(10, 10)"
      ]
     },
     "execution_count": 10,
     "metadata": {},
     "output_type": "execute_result"
    }
   ],
   "source": [
    "sequences[0][0], np.argmax(data[:, :, np.r_[0:22]], axis =2)[0][0]"
   ]
  },
  {
   "cell_type": "code",
   "execution_count": 11,
   "metadata": {},
   "outputs": [],
   "source": [
    "structure_mapping = {100:2, 101:1, 102:3, 103:4, 104:6, 105:5, 106:7, 107:8, 108:0}"
   ]
  },
  {
   "cell_type": "code",
   "execution_count": 12,
   "metadata": {},
   "outputs": [
    {
     "data": {
      "text/plain": [
       "{0: '0', 1: 'B', 2: 'C', 3: 'E', 4: 'G', 5: 'H', 6: 'I', 7: 'S', 8: 'T'}"
      ]
     },
     "execution_count": 12,
     "metadata": {},
     "output_type": "execute_result"
    }
   ],
   "source": [
    "{0: '0', 1: 'B', 2: 'C', 3: 'E', 4: 'G', 5: 'H', 6: 'I', 7: 'S', 8: 'T'}"
   ]
  },
  {
   "cell_type": "code",
   "execution_count": 13,
   "metadata": {},
   "outputs": [],
   "source": [
    "for k in structure_mapping.keys():\n",
    "    labels[labels == k] = structure_mapping[k]"
   ]
  },
  {
   "cell_type": "code",
   "execution_count": 14,
   "metadata": {
    "scrolled": true
   },
   "outputs": [
    {
     "data": {
      "text/plain": [
       "(2, 0)"
      ]
     },
     "execution_count": 14,
     "metadata": {},
     "output_type": "execute_result"
    }
   ],
   "source": [
    "labels[0][0], np.argmax(data[:,:,22:31], axis =2)[0][0]"
   ]
  },
  {
   "cell_type": "code",
   "execution_count": 15,
   "metadata": {},
   "outputs": [],
   "source": [
    "#filtered_data = filter_non_standard_amino_acids(filtered_data, \"seq\")"
   ]
  },
  {
   "cell_type": "code",
   "execution_count": 239,
   "metadata": {
    "scrolled": true
   },
   "outputs": [],
   "source": [
    "mutations = data[:,:,35:55]"
   ]
  },
  {
   "cell_type": "code",
   "execution_count": 240,
   "metadata": {},
   "outputs": [],
   "source": [
    "mutations = np.power(mutations, 2.5)"
   ]
  },
  {
   "cell_type": "code",
   "execution_count": 241,
   "metadata": {},
   "outputs": [
    {
     "name": "stderr",
     "output_type": "stream",
     "text": [
      "c:\\users\\donatas\\appdata\\local\\programs\\python\\python36\\lib\\site-packages\\ipykernel_launcher.py:1: RuntimeWarning: invalid value encountered in true_divide\n",
      "  \"\"\"Entry point for launching an IPython kernel.\n"
     ]
    }
   ],
   "source": [
    "mutations = mutations/np.sum(mutations, axis=2)[:,:,None]"
   ]
  },
  {
   "cell_type": "code",
   "execution_count": 242,
   "metadata": {},
   "outputs": [],
   "source": [
    "mutations = mutations.cumsum(axis=2)"
   ]
  },
  {
   "cell_type": "code",
   "execution_count": 243,
   "metadata": {},
   "outputs": [
    {
     "data": {
      "text/plain": [
       "array([0.23866731, 0.07242649, 0.15709548, 0.41338244, 0.13354172,\n",
       "       0.0772722 , 0.159762  , 0.87974316, 0.97996432, 0.40371731,\n",
       "       0.67480522, 0.22793643, 0.13705128, 0.55477923, 0.72111517,\n",
       "       0.2592251 , 0.28905049, 0.56954622, 0.04269665, 0.26894143])"
      ]
     },
     "execution_count": 243,
     "metadata": {},
     "output_type": "execute_result"
    }
   ],
   "source": [
    "data[3,33,35:55]"
   ]
  },
  {
   "cell_type": "code",
   "execution_count": 244,
   "metadata": {
    "scrolled": true
   },
   "outputs": [
    {
     "data": {
      "text/plain": [
       "array([0.03287103, 0.04284614, 0.06448249, 0.12141658, 0.13980893,\n",
       "       0.15045143, 0.17245503, 0.29361976, 0.4285877 , 0.48419063,\n",
       "       0.57712979, 0.60852288, 0.6273986 , 0.7038069 , 0.80312421,\n",
       "       0.83882661, 0.87863678, 0.9570789 , 0.9629594 , 1.        ])"
      ]
     },
     "execution_count": 244,
     "metadata": {},
     "output_type": "execute_result"
    }
   ],
   "source": [
    "(data[3,33,35:55]/7.260719653218985).cumsum(axis=0)"
   ]
  },
  {
   "cell_type": "code",
   "execution_count": 245,
   "metadata": {},
   "outputs": [
    {
     "data": {
      "text/plain": [
       "array([0.00821882, 0.00863576, 0.01152469, 0.04397415, 0.04589888,\n",
       "       0.04638909, 0.04940217, 0.26379839, 0.54456988, 0.57515575,\n",
       "       0.68563315, 0.69295906, 0.69501276, 0.76271886, 0.89313729,\n",
       "       0.90324191, 0.91650857, 0.98881048, 0.98892174, 1.        ])"
      ]
     },
     "execution_count": 245,
     "metadata": {},
     "output_type": "execute_result"
    }
   ],
   "source": [
    "mutations[3][33]"
   ]
  },
  {
   "cell_type": "code",
   "execution_count": 237,
   "metadata": {},
   "outputs": [],
   "source": [
    "lengths = (sequences==0).argmax(axis=1)\n",
    "lengths = lengths.reshape(6133,1)"
   ]
  },
  {
   "cell_type": "code",
   "execution_count": 247,
   "metadata": {
    "scrolled": false
   },
   "outputs": [
    {
     "data": {
      "text/plain": [
       "((6133, 700), (6133, 700), (6133, 1), (6133, 700, 20))"
      ]
     },
     "execution_count": 247,
     "metadata": {},
     "output_type": "execute_result"
    }
   ],
   "source": [
    "sequences.shape, labels.shape, lengths.shape, mutations.shape"
   ]
  },
  {
   "cell_type": "code",
   "execution_count": 137,
   "metadata": {
    "scrolled": true
   },
   "outputs": [
    {
     "data": {
      "text/plain": [
       "11"
      ]
     },
     "execution_count": 137,
     "metadata": {},
     "output_type": "execute_result"
    }
   ],
   "source": [
    "np.random.choice(np.arange(1,20+1), p = data[3,153,35:55]/sum(data[3,153,35:55]))"
   ]
  },
  {
   "cell_type": "markdown",
   "metadata": {},
   "source": [
    "## Save to numpy"
   ]
  },
  {
   "cell_type": "code",
   "execution_count": 99,
   "metadata": {},
   "outputs": [],
   "source": [
    "train_idx = 5600\n",
    "test_idx = 5877\n",
    "val_idx = 6133"
   ]
  },
  {
   "cell_type": "code",
   "execution_count": 175,
   "metadata": {
    "scrolled": true
   },
   "outputs": [],
   "source": [
    "train = np.stack([sequences[0:train_idx], labels[0:train_idx]], axis= 1)\n",
    "val = np.stack([sequences[test_idx:val_idx], labels[test_idx:val_idx]], axis= 1)\n",
    "test = np.stack([sequences[train_idx+5:test_idx], labels[train_idx+5:test_idx]], axis= 1)"
   ]
  },
  {
   "cell_type": "code",
   "execution_count": 103,
   "metadata": {},
   "outputs": [
    {
     "data": {
      "text/plain": [
       "(5600, 2, 700)"
      ]
     },
     "execution_count": 103,
     "metadata": {},
     "output_type": "execute_result"
    }
   ],
   "source": [
    "train.shape"
   ]
  },
  {
   "cell_type": "code",
   "execution_count": 75,
   "metadata": {},
   "outputs": [],
   "source": [
    "os.makedirs(os.path.join(SAVE_PATH, \"cullpdb\" ,\"test\"), exist_ok=True)"
   ]
  },
  {
   "cell_type": "code",
   "execution_count": 104,
   "metadata": {
    "scrolled": true
   },
   "outputs": [],
   "source": [
    "np.save(os.path.join(SAVE_PATH, \"cullpdb\" ,\"train\", \"data.npy\"), train)\n",
    "np.save(os.path.join(SAVE_PATH, \"cullpdb\" ,\"val\", \"data.npy\"), val)\n",
    "np.save(os.path.join(SAVE_PATH, \"cullpdb\" ,\"test\", \"data.npy\"), test)"
   ]
  },
  {
   "cell_type": "code",
   "execution_count": 105,
   "metadata": {},
   "outputs": [
    {
     "data": {
      "text/plain": [
       "(2, 700)"
      ]
     },
     "execution_count": 105,
     "metadata": {},
     "output_type": "execute_result"
    }
   ],
   "source": [
    "np.load(os.path.join(SAVE_PATH, \"cullpdb\" ,\"train\", \"data.npy\"))[1].shape"
   ]
  },
  {
   "cell_type": "markdown",
   "metadata": {},
   "source": [
    "## Lengths"
   ]
  },
  {
   "cell_type": "code",
   "execution_count": 176,
   "metadata": {},
   "outputs": [],
   "source": [
    "train = lengths[0:train_idx]\n",
    "val = lengths[test_idx:val_idx]\n",
    "test = lengths[train_idx+5:test_idx]"
   ]
  },
  {
   "cell_type": "code",
   "execution_count": 177,
   "metadata": {},
   "outputs": [],
   "source": [
    "np.save(os.path.join(SAVE_PATH, \"cullpdb\" ,\"train\", \"lengths.npy\"), train)\n",
    "np.save(os.path.join(SAVE_PATH, \"cullpdb\" ,\"val\", \"lengths.npy\"), val)\n",
    "np.save(os.path.join(SAVE_PATH, \"cullpdb\" ,\"test\", \"lengths.npy\"), test)"
   ]
  },
  {
   "cell_type": "markdown",
   "metadata": {},
   "source": [
    "## Mutations"
   ]
  },
  {
   "cell_type": "code",
   "execution_count": 248,
   "metadata": {},
   "outputs": [],
   "source": [
    "train = mutations[0:train_idx]\n",
    "val = mutations[test_idx:val_idx]\n",
    "test = mutations[train_idx+5:test_idx]"
   ]
  },
  {
   "cell_type": "code",
   "execution_count": 249,
   "metadata": {},
   "outputs": [],
   "source": [
    "np.save(os.path.join(SAVE_PATH, \"cullpdb\" ,\"train\", \"mutations_cumsum.npy\"), train)\n",
    "np.save(os.path.join(SAVE_PATH, \"cullpdb\" ,\"val\", \"mutations_cumsum.npy\"), val)\n",
    "np.save(os.path.join(SAVE_PATH, \"cullpdb\" ,\"test\", \"mutations_cumsum.npy\"), test)"
   ]
  },
  {
   "cell_type": "code",
   "execution_count": 250,
   "metadata": {},
   "outputs": [
    {
     "data": {
      "text/plain": [
       "(700, 20)"
      ]
     },
     "execution_count": 250,
     "metadata": {},
     "output_type": "execute_result"
    }
   ],
   "source": [
    "np.load(os.path.join(SAVE_PATH, \"cullpdb\" ,\"train\", \"mutations.npy\"))[1].shape"
   ]
  },
  {
   "cell_type": "code",
   "execution_count": null,
   "metadata": {},
   "outputs": [],
   "source": []
  }
 ],
 "metadata": {
  "kernelspec": {
   "display_name": "Python 3",
   "language": "python",
   "name": "python3"
  },
  "language_info": {
   "codemirror_mode": {
    "name": "ipython",
    "version": 3
   },
   "file_extension": ".py",
   "mimetype": "text/x-python",
   "name": "python",
   "nbconvert_exporter": "python",
   "pygments_lexer": "ipython3",
   "version": "3.6.6"
  }
 },
 "nbformat": 4,
 "nbformat_minor": 2
}
