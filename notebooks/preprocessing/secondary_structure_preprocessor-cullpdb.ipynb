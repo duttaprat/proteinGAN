{
 "cells": [
  {
   "cell_type": "code",
   "execution_count": 1,
   "metadata": {},
   "outputs": [],
   "source": [
    "import pandas as pd\n",
    "import numpy as np\n",
    "import os\n",
    "import swifter\n",
    "from common.preprocessing.dataframe import *\n",
    "from common.bio.amino_acid import *"
   ]
  },
  {
   "cell_type": "code",
   "execution_count": 2,
   "metadata": {},
   "outputs": [],
   "source": [
    "STRUCTURE_COL = \"sst8\"\n",
    "ROOT = \"..\\\\..\\\\data\\\\protein\\\\structure\\\\secondary_structure\\\\\"\n",
    "#DATA_SOURCES = ROOT + \"data_sources\\\\2018-06-06-pdb-intersect-pisces.csv\"\n",
    "DATA_SOURCES = ROOT + \"data_sources\\\\cullpdb+profile_6133.npy\"\n",
    "SAVE_PATH = ROOT"
   ]
  },
  {
   "cell_type": "code",
   "execution_count": 3,
   "metadata": {},
   "outputs": [],
   "source": [
    "data = np.load(DATA_SOURCES)\n",
    "test = np.load(ROOT + \"data_sources\\\\cb513+profile_split1.npy\")"
   ]
  },
  {
   "cell_type": "code",
   "execution_count": 5,
   "metadata": {},
   "outputs": [],
   "source": [
    "def unique(a):\n",
    "    order = np.lexsort(a.T)\n",
    "    a = a[order]\n",
    "    diff = np.diff(a, axis=0)\n",
    "    ui = np.ones(len(a), 'bool')\n",
    "    ui[1:] = (diff != 0).any(axis=1) \n",
    "    return a[ui]"
   ]
  },
  {
   "cell_type": "code",
   "execution_count": 6,
   "metadata": {},
   "outputs": [],
   "source": [
    "data = unique(data)"
   ]
  },
  {
   "cell_type": "code",
   "execution_count": 7,
   "metadata": {
    "scrolled": true
   },
   "outputs": [
    {
     "data": {
      "text/plain": [
       "((5926, 39900), (514, 39900))"
      ]
     },
     "execution_count": 7,
     "metadata": {},
     "output_type": "execute_result"
    }
   ],
   "source": [
    "data.shape, test.shape"
   ]
  },
  {
   "cell_type": "code",
   "execution_count": 15,
   "metadata": {},
   "outputs": [
    {
     "data": {
      "text/plain": [
       "(5926, 39900)"
      ]
     },
     "execution_count": 15,
     "metadata": {},
     "output_type": "execute_result"
    }
   ],
   "source": [
    "data[0:5926].shape"
   ]
  },
  {
   "cell_type": "code",
   "execution_count": 18,
   "metadata": {},
   "outputs": [],
   "source": [
    "data = np.append(data,test, axis=0)"
   ]
  },
  {
   "cell_type": "code",
   "execution_count": 20,
   "metadata": {},
   "outputs": [
    {
     "data": {
      "text/plain": [
       "(6440, 39900)"
      ]
     },
     "execution_count": 20,
     "metadata": {},
     "output_type": "execute_result"
    }
   ],
   "source": [
    "data.shape"
   ]
  },
  {
   "cell_type": "code",
   "execution_count": 21,
   "metadata": {},
   "outputs": [
    {
     "data": {
      "text/plain": [
       "(6440, 700, 57)"
      ]
     },
     "execution_count": 21,
     "metadata": {},
     "output_type": "execute_result"
    }
   ],
   "source": [
    "data = data.reshape(6440,700,57)\n",
    "data.shape"
   ]
  },
  {
   "cell_type": "code",
   "execution_count": 22,
   "metadata": {},
   "outputs": [],
   "source": [
    "labels = np.argmax(data[:,:,22:31], axis =2)"
   ]
  },
  {
   "cell_type": "code",
   "execution_count": 23,
   "metadata": {},
   "outputs": [],
   "source": [
    "sequences = np.argmax(data[:, :, np.r_[0:22]], axis =2)"
   ]
  },
  {
   "cell_type": "code",
   "execution_count": 24,
   "metadata": {
    "scrolled": true
   },
   "outputs": [
    {
     "data": {
      "text/plain": [
       "array([0., 0., 0., 0., 1., 0., 0., 0., 0., 0., 0., 0., 0., 0., 0., 0., 0.,\n",
       "       0., 0., 0., 0., 0.])"
      ]
     },
     "execution_count": 24,
     "metadata": {},
     "output_type": "execute_result"
    }
   ],
   "source": [
    "data[:, :, np.r_[0:22]][0][0]"
   ]
  },
  {
   "cell_type": "code",
   "execution_count": 25,
   "metadata": {},
   "outputs": [
    {
     "data": {
      "text/plain": [
       "4"
      ]
     },
     "execution_count": 25,
     "metadata": {},
     "output_type": "execute_result"
    }
   ],
   "source": [
    "sequences[0][0]"
   ]
  },
  {
   "cell_type": "code",
   "execution_count": 26,
   "metadata": {},
   "outputs": [],
   "source": [
    "sequences = sequences+100\n",
    "labels = labels + 100"
   ]
  },
  {
   "cell_type": "code",
   "execution_count": 27,
   "metadata": {},
   "outputs": [],
   "source": [
    "acid_mapping = {100:1, 101:2, 102:4, 103:3, 104:6, 105:5, 106:8, 107:7, 108:9, 109:11, 110:10, 111:12, \n",
    " 112:14, 113:13, 114:16, 115:15, 116:17, 117:19, 118:18, 119:20, 120:21, 121:0}\n"
   ]
  },
  {
   "cell_type": "code",
   "execution_count": 28,
   "metadata": {},
   "outputs": [],
   "source": [
    "for k in acid_mapping.keys():\n",
    "    sequences[sequences == k] = acid_mapping[k]"
   ]
  },
  {
   "cell_type": "code",
   "execution_count": 29,
   "metadata": {
    "scrolled": true
   },
   "outputs": [
    {
     "data": {
      "text/plain": [
       "(6, 4)"
      ]
     },
     "execution_count": 29,
     "metadata": {},
     "output_type": "execute_result"
    }
   ],
   "source": [
    "sequences[0][0], np.argmax(data[:, :, np.r_[0:22]], axis =2)[0][0]"
   ]
  },
  {
   "cell_type": "code",
   "execution_count": 30,
   "metadata": {},
   "outputs": [],
   "source": [
    "structure_mapping = {100:2, 101:1, 102:3, 103:4, 104:6, 105:5, 106:7, 107:8, 108:0}"
   ]
  },
  {
   "cell_type": "code",
   "execution_count": 31,
   "metadata": {},
   "outputs": [
    {
     "data": {
      "text/plain": [
       "{0: '0', 1: 'B', 2: 'C', 3: 'E', 4: 'G', 5: 'H', 6: 'I', 7: 'S', 8: 'T'}"
      ]
     },
     "execution_count": 31,
     "metadata": {},
     "output_type": "execute_result"
    }
   ],
   "source": [
    "{0: '0', 1: 'B', 2: 'C', 3: 'E', 4: 'G', 5: 'H', 6: 'I', 7: 'S', 8: 'T'}"
   ]
  },
  {
   "cell_type": "code",
   "execution_count": 32,
   "metadata": {},
   "outputs": [],
   "source": [
    "for k in structure_mapping.keys():\n",
    "    labels[labels == k] = structure_mapping[k]"
   ]
  },
  {
   "cell_type": "code",
   "execution_count": 33,
   "metadata": {
    "scrolled": true
   },
   "outputs": [
    {
     "data": {
      "text/plain": [
       "(2, 0)"
      ]
     },
     "execution_count": 33,
     "metadata": {},
     "output_type": "execute_result"
    }
   ],
   "source": [
    "labels[0][0], np.argmax(data[:,:,22:31], axis =2)[0][0]"
   ]
  },
  {
   "cell_type": "code",
   "execution_count": 34,
   "metadata": {},
   "outputs": [],
   "source": [
    "#filtered_data = filter_non_standard_amino_acids(filtered_data, \"seq\")"
   ]
  },
  {
   "cell_type": "code",
   "execution_count": 35,
   "metadata": {
    "scrolled": true
   },
   "outputs": [],
   "source": [
    "mutations = data[:,:,35:55]\n",
    "pssm = data[:,:,35:55]"
   ]
  },
  {
   "cell_type": "code",
   "execution_count": 36,
   "metadata": {},
   "outputs": [
    {
     "data": {
      "text/plain": [
       "array([0.92689884, 0.05215356, 0.07446795, 0.06537533, 0.01448573,\n",
       "       0.99451375, 0.04393982, 0.01506799, 0.08548915, 0.01448573,\n",
       "       0.03389517, 0.15577585, 0.0541667 , 0.0772722 , 0.04269665,\n",
       "       0.91606164, 0.1665886 , 0.03661483, 0.01695654, 0.26894143])"
      ]
     },
     "execution_count": 36,
     "metadata": {},
     "output_type": "execute_result"
    }
   ],
   "source": [
    "mutations[0][0]"
   ]
  },
  {
   "cell_type": "code",
   "execution_count": 37,
   "metadata": {},
   "outputs": [],
   "source": [
    "mutations = np.power(mutations, 2.5)"
   ]
  },
  {
   "cell_type": "code",
   "execution_count": 38,
   "metadata": {},
   "outputs": [
    {
     "name": "stderr",
     "output_type": "stream",
     "text": [
      "c:\\users\\donatas\\appdata\\local\\programs\\python\\python36\\lib\\site-packages\\ipykernel_launcher.py:1: RuntimeWarning: invalid value encountered in true_divide\n",
      "  \"\"\"Entry point for launching an IPython kernel.\n"
     ]
    }
   ],
   "source": [
    "mutations = mutations/np.sum(mutations, axis=2)[:,:,None]"
   ]
  },
  {
   "cell_type": "code",
   "execution_count": 39,
   "metadata": {},
   "outputs": [],
   "source": [
    "mutations = mutations.cumsum(axis=2)"
   ]
  },
  {
   "cell_type": "code",
   "execution_count": 40,
   "metadata": {},
   "outputs": [
    {
     "data": {
      "text/plain": [
       "array([1.44240505e-03, 1.66558093e-04, 1.22939877e-03, 6.56119315e-03,\n",
       "       3.03446926e-04, 5.47281292e-04, 5.01646893e-03, 2.56019615e-04,\n",
       "       2.19257250e-01, 6.17015059e-04, 4.19357279e-03, 4.07013763e-03,\n",
       "       6.95627765e-04, 6.15383744e-01, 9.99830008e-01, 2.92947027e-03,\n",
       "       1.94606138e-03, 4.34882444e-04, 3.59657075e-04, 2.68941432e-01])"
      ]
     },
     "execution_count": 40,
     "metadata": {},
     "output_type": "execute_result"
    }
   ],
   "source": [
    "data[3,33,35:55]"
   ]
  },
  {
   "cell_type": "code",
   "execution_count": 41,
   "metadata": {
    "scrolled": true
   },
   "outputs": [
    {
     "data": {
      "text/plain": [
       "array([1.98658689e-04, 2.21598301e-04, 3.90920190e-04, 1.29457623e-03,\n",
       "       1.33636918e-03, 1.41174481e-03, 2.10265000e-03, 2.13791092e-03,\n",
       "       3.23356407e-02, 3.24206206e-02, 3.29981905e-02, 3.35587599e-02,\n",
       "       3.36545669e-02, 1.18409767e-01, 2.56113749e-01, 2.56517217e-01,\n",
       "       2.56785243e-01, 2.56845138e-01, 2.56894673e-01, 2.93935275e-01])"
      ]
     },
     "execution_count": 41,
     "metadata": {},
     "output_type": "execute_result"
    }
   ],
   "source": [
    "(data[3,33,35:55]/7.260719653218985).cumsum(axis=0)"
   ]
  },
  {
   "cell_type": "code",
   "execution_count": 42,
   "metadata": {},
   "outputs": [
    {
     "data": {
      "text/plain": [
       "array([5.82426790e-08, 5.85065779e-08, 9.75686425e-08, 2.66784794e-06,\n",
       "       2.66903024e-06, 2.67419500e-06, 3.98796269e-06, 3.98873574e-06,\n",
       "       1.65963490e-02, 1.65963560e-02, 1.65971954e-02, 1.65979744e-02,\n",
       "       1.65979838e-02, 2.35569845e-01, 9.72351286e-01, 9.72351629e-01,\n",
       "       9.72351752e-01, 9.72351755e-01, 9.72351757e-01, 1.00000000e+00])"
      ]
     },
     "execution_count": 42,
     "metadata": {},
     "output_type": "execute_result"
    }
   ],
   "source": [
    "mutations[3][33]"
   ]
  },
  {
   "cell_type": "code",
   "execution_count": 44,
   "metadata": {},
   "outputs": [],
   "source": [
    "lengths = (sequences==0).argmax(axis=1)\n",
    "lengths = lengths.reshape(6440,1)"
   ]
  },
  {
   "cell_type": "code",
   "execution_count": 45,
   "metadata": {
    "scrolled": false
   },
   "outputs": [
    {
     "data": {
      "text/plain": [
       "((6440, 700), (6440, 700), (6440, 1), (6440, 700, 20))"
      ]
     },
     "execution_count": 45,
     "metadata": {},
     "output_type": "execute_result"
    }
   ],
   "source": [
    "sequences.shape, labels.shape, lengths.shape, mutations.shape"
   ]
  },
  {
   "cell_type": "code",
   "execution_count": 46,
   "metadata": {
    "scrolled": true
   },
   "outputs": [
    {
     "data": {
      "text/plain": [
       "5"
      ]
     },
     "execution_count": 46,
     "metadata": {},
     "output_type": "execute_result"
    }
   ],
   "source": [
    "np.random.choice(np.arange(1,20+1), p = data[3,153,35:55]/sum(data[3,153,35:55]))"
   ]
  },
  {
   "cell_type": "markdown",
   "metadata": {},
   "source": [
    "## Save to numpy"
   ]
  },
  {
   "cell_type": "code",
   "execution_count": 47,
   "metadata": {},
   "outputs": [],
   "source": [
    "train_idx = 5926\n",
    "test_idx = 6440"
   ]
  },
  {
   "cell_type": "code",
   "execution_count": 48,
   "metadata": {
    "scrolled": true
   },
   "outputs": [],
   "source": [
    "train = np.stack([sequences[0:train_idx], labels[0:train_idx]], axis= 1)\n",
    "# val = np.stack([sequences[test_idx:val_idx], labels[test_idx:val_idx]], axis= 1)\n",
    "test = np.stack([sequences[train_idx:test_idx], labels[train_idx:test_idx]], axis= 1)"
   ]
  },
  {
   "cell_type": "code",
   "execution_count": 49,
   "metadata": {},
   "outputs": [
    {
     "data": {
      "text/plain": [
       "(5926, 2, 700)"
      ]
     },
     "execution_count": 49,
     "metadata": {},
     "output_type": "execute_result"
    }
   ],
   "source": [
    "train.shape"
   ]
  },
  {
   "cell_type": "code",
   "execution_count": 51,
   "metadata": {},
   "outputs": [],
   "source": [
    "os.makedirs(os.path.join(SAVE_PATH, \"cullpdb\" ,\"train\"), exist_ok=True)"
   ]
  },
  {
   "cell_type": "code",
   "execution_count": 52,
   "metadata": {
    "scrolled": true
   },
   "outputs": [],
   "source": [
    "np.save(os.path.join(SAVE_PATH, \"cullpdb\" ,\"train\", \"data.npy\"), train)\n",
    "# np.save(os.path.join(SAVE_PATH, \"cullpdb\" ,\"val\", \"data.npy\"), val)\n",
    "np.save(os.path.join(SAVE_PATH, \"cullpdb\" ,\"test\", \"data.npy\"), test)"
   ]
  },
  {
   "cell_type": "code",
   "execution_count": 53,
   "metadata": {},
   "outputs": [
    {
     "data": {
      "text/plain": [
       "(2, 700)"
      ]
     },
     "execution_count": 53,
     "metadata": {},
     "output_type": "execute_result"
    }
   ],
   "source": [
    "np.load(os.path.join(SAVE_PATH, \"cullpdb\" ,\"train\", \"data.npy\"))[1].shape"
   ]
  },
  {
   "cell_type": "markdown",
   "metadata": {},
   "source": [
    "## Lengths"
   ]
  },
  {
   "cell_type": "code",
   "execution_count": 54,
   "metadata": {},
   "outputs": [],
   "source": [
    "train = lengths[0:train_idx]\n",
    "test = lengths[train_idx:test_idx]"
   ]
  },
  {
   "cell_type": "code",
   "execution_count": 67,
   "metadata": {},
   "outputs": [
    {
     "data": {
      "text/plain": [
       "array([526, 534, 544, 576], dtype=int64)"
      ]
     },
     "execution_count": 67,
     "metadata": {},
     "output_type": "execute_result"
    }
   ],
   "source": [
    "lengths[train_idx:test_idx][lengths[train_idx:test_idx] > 512]"
   ]
  },
  {
   "cell_type": "code",
   "execution_count": 55,
   "metadata": {
    "scrolled": true
   },
   "outputs": [
    {
     "data": {
      "text/plain": [
       "(514, 1)"
      ]
     },
     "execution_count": 55,
     "metadata": {},
     "output_type": "execute_result"
    }
   ],
   "source": [
    "test.shape"
   ]
  },
  {
   "cell_type": "code",
   "execution_count": 56,
   "metadata": {},
   "outputs": [],
   "source": [
    "np.save(os.path.join(SAVE_PATH, \"cullpdb\" ,\"train\", \"lengths.npy\"), train)\n",
    "# np.save(os.path.join(SAVE_PATH, \"cullpdb\" ,\"val\", \"lengths.npy\"), val)\n",
    "np.save(os.path.join(SAVE_PATH, \"cullpdb\" ,\"test\", \"lengths.npy\"), test)"
   ]
  },
  {
   "cell_type": "markdown",
   "metadata": {},
   "source": [
    "## Mutations"
   ]
  },
  {
   "cell_type": "code",
   "execution_count": 57,
   "metadata": {},
   "outputs": [],
   "source": [
    "train = mutations[0:train_idx]\n",
    "test = mutations[train_idx:test_idx]"
   ]
  },
  {
   "cell_type": "code",
   "execution_count": 58,
   "metadata": {},
   "outputs": [],
   "source": [
    "np.save(os.path.join(SAVE_PATH, \"cullpdb\" ,\"train\", \"mutations_cumsum.npy\"), train)\n",
    "# np.save(os.path.join(SAVE_PATH, \"cullpdb\" ,\"val\", \"mutations_cumsum.npy\"), val)\n",
    "np.save(os.path.join(SAVE_PATH, \"cullpdb\" ,\"test\", \"mutations_cumsum.npy\"), test)"
   ]
  },
  {
   "cell_type": "code",
   "execution_count": 60,
   "metadata": {},
   "outputs": [
    {
     "data": {
      "text/plain": [
       "(700, 20)"
      ]
     },
     "execution_count": 60,
     "metadata": {},
     "output_type": "execute_result"
    }
   ],
   "source": [
    "np.load(os.path.join(SAVE_PATH, \"cullpdb\" ,\"train\", \"mutations_cumsum.npy\"))[1].shape"
   ]
  },
  {
   "cell_type": "markdown",
   "metadata": {},
   "source": [
    "## PSSM"
   ]
  },
  {
   "cell_type": "code",
   "execution_count": 61,
   "metadata": {},
   "outputs": [],
   "source": [
    "train = pssm[0:train_idx]\n",
    "test = pssm[train_idx:test_idx]"
   ]
  },
  {
   "cell_type": "code",
   "execution_count": 62,
   "metadata": {},
   "outputs": [],
   "source": [
    "np.save(os.path.join(SAVE_PATH, \"cullpdb\" ,\"train\", \"pssm.npy\"), train)\n",
    "# np.save(os.path.join(SAVE_PATH, \"cullpdb\" ,\"val\", \"pssm.npy\"), val)\n",
    "np.save(os.path.join(SAVE_PATH, \"cullpdb\" ,\"test\", \"pssm.npy\"), test)"
   ]
  },
  {
   "cell_type": "code",
   "execution_count": null,
   "metadata": {},
   "outputs": [],
   "source": []
  }
 ],
 "metadata": {
  "kernelspec": {
   "display_name": "Python 3",
   "language": "python",
   "name": "python3"
  },
  "language_info": {
   "codemirror_mode": {
    "name": "ipython",
    "version": 3
   },
   "file_extension": ".py",
   "mimetype": "text/x-python",
   "name": "python",
   "nbconvert_exporter": "python",
   "pygments_lexer": "ipython3",
   "version": "3.6.6"
  }
 },
 "nbformat": 4,
 "nbformat_minor": 2
}
