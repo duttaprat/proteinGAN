{
 "cells": [
  {
   "cell_type": "markdown",
   "metadata": {},
   "source": [
    "## Loading preprosed data"
   ]
  },
  {
   "cell_type": "code",
   "execution_count": 1,
   "metadata": {},
   "outputs": [],
   "source": [
    "PATH = \"../../weights/cgan_{}/version1\".format(\"v1\")"
   ]
  },
  {
   "cell_type": "code",
   "execution_count": 2,
   "metadata": {},
   "outputs": [],
   "source": [
    "BATCH_SIZE=256\n",
    "LAMBDA = 10\n",
    "NUM_EPOCH = 3000\n",
    "DATA_TYPE = \"mini_sample\""
   ]
  },
  {
   "cell_type": "code",
   "execution_count": 3,
   "metadata": {
    "scrolled": true
   },
   "outputs": [
    {
     "data": {
      "text/plain": [
       "'1.8.0'"
      ]
     },
     "execution_count": 3,
     "metadata": {},
     "output_type": "execute_result"
    }
   ],
   "source": [
    "from common.bio.blast import *\n",
    "import pandas as pd\n",
    "import numpy as np\n",
    "import tensorflow as tf\n",
    "tf.__version__"
   ]
  },
  {
   "cell_type": "code",
   "execution_count": 4,
   "metadata": {},
   "outputs": [],
   "source": [
    "def load_data(path):\n",
    "    loaded = np.load(path)\n",
    "    return np.asarray([ np.asarray(element) for element in loaded])"
   ]
  },
  {
   "cell_type": "code",
   "execution_count": 5,
   "metadata": {},
   "outputs": [],
   "source": [
    "path = \"../../data/cgan/{}/\".format(DATA_TYPE)\n",
    "train_seq = load_data(path+\"train_seq.npy\")\n",
    "val_seq = load_data(path+\"val_seq.npy\")\n",
    "train_substrate_1 = load_data(path+\"train_smiles_substrate_1.npy\")\n",
    "train_substrate_2 = load_data(path+\"train_smiles_substrate_2.npy\")\n",
    "train_product_1 = load_data(path+\"train_smiles_product_1.npy\")\n",
    "train_product_2 = load_data(path+\"train_smiles_product_2.npy\")\n",
    "val_substrate_1 = load_data(path+\"/val_smiles_substrate_1.npy\")\n",
    "val_substrate_2 = load_data(path+\"val_smiles_substrate_2.npy\")\n",
    "val_product_1 = load_data(path+\"val_smiles_product_1.npy\")\n",
    "val_product_2 = load_data(path+\"val_smiles_product_2.npy\")"
   ]
  },
  {
   "cell_type": "code",
   "execution_count": 6,
   "metadata": {},
   "outputs": [],
   "source": [
    "NUM_OF_ACIDS = 21\n",
    "EMBEDDING_SIZE = 32\n",
    "NUM_SMILES_CHARACTERS = 44"
   ]
  },
  {
   "cell_type": "code",
   "execution_count": 7,
   "metadata": {
    "scrolled": true
   },
   "outputs": [
    {
     "data": {
      "text/plain": [
       "256"
      ]
     },
     "execution_count": 7,
     "metadata": {},
     "output_type": "execute_result"
    }
   ],
   "source": [
    "SEQUENCE_LENGTH=train_seq.shape[1]\n",
    "SEQUENCE_LENGTH"
   ]
  },
  {
   "cell_type": "code",
   "execution_count": 8,
   "metadata": {},
   "outputs": [
    {
     "data": {
      "text/plain": [
       "100"
      ]
     },
     "execution_count": 8,
     "metadata": {},
     "output_type": "execute_result"
    }
   ],
   "source": [
    "SMILES_LENGTH=train_substrate_1.shape[1]\n",
    "SMILES_LENGTH"
   ]
  },
  {
   "cell_type": "code",
   "execution_count": 9,
   "metadata": {
    "scrolled": true
   },
   "outputs": [
    {
     "data": {
      "text/plain": [
       "85"
      ]
     },
     "execution_count": 9,
     "metadata": {},
     "output_type": "execute_result"
    }
   ],
   "source": [
    "STEPS_PER_EPOCH = int(train_seq.shape[0]/BATCH_SIZE)+1\n",
    "STEPS_PER_EPOCH"
   ]
  },
  {
   "cell_type": "markdown",
   "metadata": {},
   "source": [
    "# Model"
   ]
  },
  {
   "cell_type": "markdown",
   "metadata": {},
   "source": [
    "## Discriminator"
   ]
  },
  {
   "cell_type": "code",
   "execution_count": 10,
   "metadata": {},
   "outputs": [],
   "source": [
    "NUM_OF_LAYERS=6"
   ]
  },
  {
   "cell_type": "code",
   "execution_count": 11,
   "metadata": {},
   "outputs": [],
   "source": [
    "def discriminator_layer(x, level, filters):\n",
    "    conv = tf.layers.conv2d(\n",
    "            inputs=x,\n",
    "            filters=filters,\n",
    "            kernel_size=[3,EMBEDDING_SIZE],\n",
    "            strides=(2,1),\n",
    "            padding=\"same\",\n",
    "            activation=tf.nn.leaky_relu,\n",
    "            name = \"dconv{}\".format(level))\n",
    "    bn = tf.layers.batch_normalization(conv, name = \"dbn{}\".format(level))\n",
    "    print(bn.shape)\n",
    "    return bn "
   ]
  },
  {
   "cell_type": "code",
   "execution_count": 12,
   "metadata": {},
   "outputs": [],
   "source": [
    "def discriminator(x, s1, s2, p1, p2, is_training):\n",
    "\n",
    "    with tf.variable_scope('discriminator', reuse=tf.AUTO_REUSE) as scope:\n",
    "        print('discriminator')\n",
    "        layer = x\n",
    "        for layer_id in range(NUM_OF_LAYERS):            \n",
    "            layer = discriminator_layer(layer, layer_id, 2*(2**(layer_id+1)))\n",
    "        flat = tf.layers.flatten(layer, name=\"dflat\")\n",
    "        print(flat.shape)\n",
    "        \n",
    "        z = tf.concat([s1, s2, p1, p2], axis = 1)        \n",
    "        final = tf.concat([flat, z], axis = 1)\n",
    "        \n",
    "        output = tf.layers.dense(inputs=final,\n",
    "                                 activation=None,\n",
    "                                 units=1,\n",
    "                                 name=\"doutput\")\n",
    "        print(output.shape)\n",
    "        output = tf.reshape(output, [-1])\n",
    "        print(output.shape)\n",
    "        return output"
   ]
  },
  {
   "cell_type": "markdown",
   "metadata": {},
   "source": [
    "# Generator"
   ]
  },
  {
   "cell_type": "code",
   "execution_count": 13,
   "metadata": {},
   "outputs": [],
   "source": [
    "def generator_layer(x, level, filters):\n",
    "        bn = tf.layers.batch_normalization(x, name = \"gbn{}\".format(level))\n",
    "        up = tf.keras.layers.UpSampling2D(size=(2, 1))(bn)\n",
    "        print(up.shape)\n",
    "        return tf.layers.conv2d(inputs=up, \n",
    "                                 filters=filters,\n",
    "                                 kernel_size=[3,EMBEDDING_SIZE],\n",
    "                                 padding=\"same\",\n",
    "                                 activation=tf.nn.relu,\n",
    "                                 name = \"conv{}\".format(level))"
   ]
  },
  {
   "cell_type": "code",
   "execution_count": 14,
   "metadata": {},
   "outputs": [],
   "source": [
    "import math\n",
    "def generator(s1, s2, p1, p2, input_batch=None, is_training=True):\n",
    "    with tf.variable_scope('generator') as scope:\n",
    "        print('generator')\n",
    "        if input_batch is None:\n",
    "            input_batch = tf.cast(tf.random_normal([BATCH_SIZE, 128]), tf.float32)\n",
    "        dim = math.floor(SEQUENCE_LENGTH/(2**NUM_OF_LAYERS))  \n",
    "        z = tf.concat([s1, s2, p1, p2, input_batch], axis = 1)\n",
    "        print(z.shape)\n",
    "        dense1 = tf.layers.dense(inputs=z,\n",
    "                                 kernel_initializer=tf.truncated_normal_initializer(stddev=0.02),\n",
    "                                 bias_initializer=tf.zeros_initializer (),\n",
    "                                 units=dim*EMBEDDING_SIZE*128,\n",
    "                                 activation=tf.nn.relu,\n",
    "                                 name=\"dense1\")\n",
    "        layer = tf.reshape(dense1, shape=[-1, dim, EMBEDDING_SIZE, 128], name='reshape1')\n",
    "        for layer_id in range(NUM_OF_LAYERS):\n",
    "            layer = generator_layer(layer, layer_id, 128/(2**(layer_id+1)))\n",
    "        final_conv = tf.layers.conv2d(inputs=layer, \n",
    "                         filters=1,\n",
    "                         kernel_size=[3,EMBEDDING_SIZE],\n",
    "                         padding=\"same\",\n",
    "                         activation=tf.nn.sigmoid,\n",
    "                         name = \"final_conv\")    \n",
    "        print(final_conv.shape)\n",
    "        return final_conv"
   ]
  },
  {
   "cell_type": "markdown",
   "metadata": {},
   "source": [
    "## Encoder"
   ]
  },
  {
   "cell_type": "code",
   "execution_count": 15,
   "metadata": {},
   "outputs": [],
   "source": [
    "def encoder(smiles_input):\n",
    "    with tf.variable_scope('auto_encoder', reuse=tf.AUTO_REUSE):\n",
    "        flat = tf.layers.flatten(smiles_input, name=\"dflat\")\n",
    "        encoded = tf.layers.dense(inputs=flat,\n",
    "                                 activation=None,\n",
    "                                 units=10,\n",
    "                                 name=\"encoded\")\n",
    "        return encoded"
   ]
  },
  {
   "cell_type": "markdown",
   "metadata": {},
   "source": [
    "## Decoder"
   ]
  },
  {
   "cell_type": "code",
   "execution_count": 16,
   "metadata": {},
   "outputs": [],
   "source": [
    "def decoder(encoded):\n",
    "    with tf.variable_scope('auto_encoder', reuse=tf.AUTO_REUSE):   \n",
    "        decoded = tf.layers.dense(inputs=encoded,\n",
    "                                 activation=None,\n",
    "                                 units=SMILES_LENGTH*NUM_SMILES_CHARACTERS,\n",
    "                                 name=\"decoded\")\n",
    "        decoded = tf.reshape(decoded, shape=[-1, SMILES_LENGTH, NUM_SMILES_CHARACTERS], name='decoded_smiles')\n",
    "        return decoded"
   ]
  },
  {
   "cell_type": "markdown",
   "metadata": {},
   "source": [
    "## Auto Encoder loss"
   ]
  },
  {
   "cell_type": "code",
   "execution_count": 17,
   "metadata": {},
   "outputs": [],
   "source": [
    "def get_auto_encoder_loss(encoded, real):\n",
    "    with tf.variable_scope(\"auto_encoder\", reuse=tf.AUTO_REUSE):\n",
    "        decoded = decoder(encoded)\n",
    "        loss_op = tf.losses.sparse_softmax_cross_entropy(real, decoded)\n",
    "        acc, acc_op  = tf.metrics.accuracy(labels=real, predictions=tf.argmax(decoded,2))\n",
    "        correct_prediction = tf.equal(tf.argmax(decoded,2, output_type=tf.int32), real)\n",
    "        acc = tf.reduce_mean(tf.cast(correct_prediction, tf.float32))\n",
    "        tf.summary.scalar(\"loss_op\", loss_op)\n",
    "        return loss_op, acc\n",
    "     "
   ]
  },
  {
   "cell_type": "markdown",
   "metadata": {},
   "source": [
    "## Graph"
   ]
  },
  {
   "cell_type": "code",
   "execution_count": 18,
   "metadata": {},
   "outputs": [],
   "source": [
    "tf.reset_default_graph()\n",
    "graph = tf.Graph()\n",
    "with graph.as_default():\n",
    "    with tf.variable_scope('input'):\n",
    "        real_sequences = tf.placeholder(tf.int32, [None, SEQUENCE_LENGTH], name='real_sequence')\n",
    "        substrate1 = tf.placeholder(tf.int32, [None, SMILES_LENGTH], name='substrate1')\n",
    "        substrate2 = tf.placeholder(tf.int32, [None, SMILES_LENGTH], name='substrate2')\n",
    "        product1 = tf.placeholder(tf.int32, [None, SMILES_LENGTH], name='product1')\n",
    "        product2 = tf.placeholder(tf.int32, [None, SMILES_LENGTH], name='product2')\n",
    "        is_training = tf.placeholder(tf.bool, name='is_train')\n",
    "\n",
    "    dataset = tf.data.Dataset.from_tensor_slices((real_sequences, substrate1, substrate2, product1, product2))\n",
    "    dataset = dataset.shuffle(buffer_size=10000, reshuffle_each_iteration=True)\n",
    "    dataset = dataset.apply(tf.contrib.data.batch_and_drop_remainder(BATCH_SIZE)).repeat(NUM_EPOCH)\n",
    "    iterator = dataset.make_initializable_iterator()\n",
    "\n",
    "#     weights_initializer = tf.constant_initializer(embedding_weights_array)\n",
    "    embedding_weights = tf.get_variable(\n",
    "                                name='embedding_weights', \n",
    "                                shape=(NUM_OF_ACIDS, EMBEDDING_SIZE), \n",
    "                                initializer=tf.zeros_initializer,\n",
    "                                trainable=False)\n",
    "\n",
    "    batch_sequences, batch_substrate1, batch_substrate2, batch_product1, batch_product2 = iterator.get_next()\n",
    "\n",
    "    embedded_sequences = tf.nn.embedding_lookup(embedding_weights, batch_sequences)\n",
    "    embedded_sequences = tf.reshape(embedded_sequences, shape=[-1, SEQUENCE_LENGTH, EMBEDDING_SIZE, 1], name='embedded_sequences')\n",
    "    \n",
    "    batch_substrate1_encoded = encoder(tf.one_hot(batch_substrate1, NUM_SMILES_CHARACTERS))\n",
    "    batch_substrate2_encoded = encoder(tf.one_hot(batch_substrate2, NUM_SMILES_CHARACTERS))\n",
    "    batch_product1_encoded = encoder(tf.one_hot(batch_product1, NUM_SMILES_CHARACTERS))\n",
    "    batch_product2_encoded = encoder(tf.one_hot(batch_product2, NUM_SMILES_CHARACTERS))"
   ]
  },
  {
   "cell_type": "code",
   "execution_count": 19,
   "metadata": {
    "scrolled": false
   },
   "outputs": [
    {
     "name": "stdout",
     "output_type": "stream",
     "text": [
      "generator\n",
      "(256, 168)\n",
      "(256, 8, 32, 128)\n",
      "(256, 16, 32, 64)\n",
      "(256, 32, 32, 32)\n",
      "(256, 64, 32, 16)\n",
      "(256, 128, 32, 8)\n",
      "(256, 256, 32, 4)\n",
      "(256, 256, 32, 1)\n",
      "discriminator\n",
      "(256, 128, 32, 4)\n",
      "(256, 64, 32, 8)\n",
      "(256, 32, 32, 16)\n",
      "(256, 16, 32, 32)\n",
      "(256, 8, 32, 64)\n",
      "(256, 4, 32, 128)\n",
      "(256, 16384)\n",
      "(256, 1)\n",
      "(256,)\n",
      "discriminator\n",
      "(256, 128, 32, 4)\n",
      "(256, 64, 32, 8)\n",
      "(256, 32, 32, 16)\n",
      "(256, 16, 32, 32)\n",
      "(256, 8, 32, 64)\n",
      "(256, 4, 32, 128)\n",
      "(256, 16384)\n",
      "(256, 1)\n",
      "(256,)\n",
      "discriminator\n",
      "(256, 128, 32, 4)\n",
      "(256, 64, 32, 8)\n",
      "(256, 32, 32, 16)\n",
      "(256, 16, 32, 32)\n",
      "(256, 8, 32, 64)\n",
      "(256, 4, 32, 128)\n",
      "(256, 16384)\n",
      "(256, 1)\n",
      "(256,)\n"
     ]
    }
   ],
   "source": [
    "with graph.as_default():\n",
    "    fake = generator(batch_substrate1_encoded, batch_substrate2_encoded, batch_product2_encoded, batch_product2_encoded,\n",
    "                     is_training=is_training)\n",
    "    logits_real = discriminator(embedded_sequences, batch_substrate1_encoded, batch_substrate2_encoded, batch_product2_encoded,\n",
    "                                batch_product2_encoded, is_training)\n",
    "    logits_fake = discriminator(fake, batch_substrate1_encoded, batch_substrate2_encoded, batch_product2_encoded,\n",
    "                                batch_product2_encoded, is_training)\n",
    "    d_loss = tf.reduce_mean(logits_fake) - tf.reduce_mean(logits_real) # This optimizes the discriminator.\n",
    "    g_loss = -tf.reduce_mean(logits_fake)  # This optimizes the generator.\n",
    "\n",
    "    # # wgan-gp gradient panelty \n",
    "    with tf.name_scope(\"Gradient_penalty\"):\n",
    "        eps = tf.random_uniform([BATCH_SIZE,1, 1, 1], minval=0.0,maxval=1.0)\n",
    "        interpolates = embedded_sequences + eps*(fake - embedded_sequences)\n",
    "\n",
    "        gradients = tf.gradients(discriminator(interpolates, batch_substrate1_encoded, batch_substrate2_encoded, batch_product2_encoded, \n",
    "                                               batch_product2_encoded, is_training), [interpolates])[0]\n",
    "        slopes = tf.sqrt(tf.reduce_sum(tf.square(gradients), reduction_indices=[1]))\n",
    "        gradient_penalty = tf.reduce_mean(tf.square(slopes - 1.))\n",
    "        d_loss += 10 * gradient_penalty\n",
    "        tf.summary.scalar(\"d_loss\", d_loss)\n",
    "        tf.summary.scalar(\"g_loss\", g_loss)\n",
    "    \n",
    "    with tf.name_scope(\"auto_encoder_loss\"):\n",
    "        auto_loss1, acc1 = get_auto_encoder_loss(batch_substrate1_encoded, batch_substrate1)\n",
    "        auto_loss2, acc2 = get_auto_encoder_loss(batch_substrate2_encoded, batch_substrate2)\n",
    "        auto_loss3, acc3 = get_auto_encoder_loss(batch_product1_encoded, batch_product1)\n",
    "        auto_loss4, acc4 = get_auto_encoder_loss(batch_product2_encoded, batch_product2)\n",
    "        \n",
    "        a_loss = auto_loss1 + auto_loss2 + auto_loss3 + auto_loss4\n",
    "        acc = (acc1 + acc2 + acc3 + acc4)/4\n",
    "    \n",
    "        \n",
    "    D_vars = tf.get_collection(tf.GraphKeys.TRAINABLE_VARIABLES,'discriminator')\n",
    "    G_vars = tf.get_collection(tf.GraphKeys.TRAINABLE_VARIABLES, 'generator')\n",
    "    A_vars = tf.get_collection(tf.GraphKeys.TRAINABLE_VARIABLES, 'auto_encoder')\n",
    "\n",
    "    trainer_d = tf.train.AdamOptimizer(learning_rate=0.0001, beta1=0.5, beta2=0.999).minimize(d_loss, var_list=D_vars)\n",
    "    trainer_g = tf.train.AdamOptimizer(learning_rate=0.0001, beta1=0.5, beta2=0.999).minimize(g_loss, var_list=G_vars)\n",
    "    trainer_a = tf.train.AdamOptimizer(learning_rate=0.001, beta1=0.5, beta2=0.999).minimize(a_loss, var_list=A_vars)\n",
    "    \n",
    "    \n",
    "    summ = tf.summary.merge_all()\n",
    "    \n",
    "    init = tf.global_variables_initializer()\n",
    "    saver = tf.train.Saver(max_to_keep=3)"
   ]
  },
  {
   "cell_type": "code",
   "execution_count": 20,
   "metadata": {
    "scrolled": true
   },
   "outputs": [
    {
     "name": "stdout",
     "output_type": "stream",
     "text": [
      "All parameters: 14928384.0\n",
      "Trainable parameters: 4975566\n",
      "auto_encoder/encoded/kernel:0(4400, 10)\n",
      "auto_encoder/encoded/bias:0(10,)\n",
      "generator/dense1/kernel:0(168, 16384)\n",
      "generator/dense1/bias:0(16384,)\n",
      "generator/gbn0/gamma:0(128,)\n",
      "generator/gbn0/beta:0(128,)\n",
      "generator/conv0/kernel:0(3, 32, 128, 64)\n",
      "generator/conv0/bias:0(64,)\n",
      "generator/gbn1/gamma:0(64,)\n",
      "generator/gbn1/beta:0(64,)\n",
      "generator/conv1/kernel:0(3, 32, 64, 32)\n",
      "generator/conv1/bias:0(32,)\n",
      "generator/gbn2/gamma:0(32,)\n",
      "generator/gbn2/beta:0(32,)\n",
      "generator/conv2/kernel:0(3, 32, 32, 16)\n",
      "generator/conv2/bias:0(16,)\n",
      "generator/gbn3/gamma:0(16,)\n",
      "generator/gbn3/beta:0(16,)\n",
      "generator/conv3/kernel:0(3, 32, 16, 8)\n",
      "generator/conv3/bias:0(8,)\n",
      "generator/gbn4/gamma:0(8,)\n",
      "generator/gbn4/beta:0(8,)\n",
      "generator/conv4/kernel:0(3, 32, 8, 4)\n",
      "generator/conv4/bias:0(4,)\n",
      "generator/gbn5/gamma:0(4,)\n",
      "generator/gbn5/beta:0(4,)\n",
      "generator/conv5/kernel:0(3, 32, 4, 2)\n",
      "generator/conv5/bias:0(2,)\n",
      "generator/final_conv/kernel:0(3, 32, 2, 1)\n",
      "generator/final_conv/bias:0(1,)\n",
      "discriminator/dconv0/kernel:0(3, 32, 1, 4)\n",
      "discriminator/dconv0/bias:0(4,)\n",
      "discriminator/dbn0/gamma:0(4,)\n",
      "discriminator/dbn0/beta:0(4,)\n",
      "discriminator/dconv1/kernel:0(3, 32, 4, 8)\n",
      "discriminator/dconv1/bias:0(8,)\n",
      "discriminator/dbn1/gamma:0(8,)\n",
      "discriminator/dbn1/beta:0(8,)\n",
      "discriminator/dconv2/kernel:0(3, 32, 8, 16)\n",
      "discriminator/dconv2/bias:0(16,)\n",
      "discriminator/dbn2/gamma:0(16,)\n",
      "discriminator/dbn2/beta:0(16,)\n",
      "discriminator/dconv3/kernel:0(3, 32, 16, 32)\n",
      "discriminator/dconv3/bias:0(32,)\n",
      "discriminator/dbn3/gamma:0(32,)\n",
      "discriminator/dbn3/beta:0(32,)\n",
      "discriminator/dconv4/kernel:0(3, 32, 32, 64)\n",
      "discriminator/dconv4/bias:0(64,)\n",
      "discriminator/dbn4/gamma:0(64,)\n",
      "discriminator/dbn4/beta:0(64,)\n",
      "discriminator/dconv5/kernel:0(3, 32, 64, 128)\n",
      "discriminator/dconv5/bias:0(128,)\n",
      "discriminator/dbn5/gamma:0(128,)\n",
      "discriminator/dbn5/beta:0(128,)\n",
      "discriminator/doutput/kernel:0(16424, 1)\n",
      "discriminator/doutput/bias:0(1,)\n",
      "auto_encoder/auto_encoder/decoded/kernel:0(10, 4400)\n",
      "auto_encoder/auto_encoder/decoded/bias:0(4400,)\n"
     ]
    }
   ],
   "source": [
    "with graph.as_default():\n",
    "    print(\"All parameters:\", np.sum([np.product([xi.value for xi in x.get_shape()]) for x in tf.global_variables()]))\n",
    "    print(\"Trainable parameters:\", np.sum([np.product([xi.value for xi in x.get_shape()]) for x in tf.trainable_variables()]))\n",
    "    [ print(\"{}{}\".format(x.name, x.shape)) for x in tf.trainable_variables() if \"LayerNorm\" not in x.name]"
   ]
  },
  {
   "cell_type": "markdown",
   "metadata": {},
   "source": [
    "## Helpers for training model"
   ]
  },
  {
   "cell_type": "markdown",
   "metadata": {},
   "source": [
    "## Review generated examples"
   ]
  },
  {
   "cell_type": "code",
   "execution_count": 21,
   "metadata": {},
   "outputs": [],
   "source": [
    " def save_weights(saver, sess, path):\n",
    "    save_path = saver.save(sess, path)\n",
    "    print(\"Model saved in path: %s\" % save_path)"
   ]
  },
  {
   "cell_type": "code",
   "execution_count": 22,
   "metadata": {},
   "outputs": [],
   "source": [
    "def mean(l):\n",
    "    if len(l) == 0:\n",
    "        return 0\n",
    "    else:\n",
    "        return sum(l) / float(len(l))"
   ]
  },
  {
   "cell_type": "code",
   "execution_count": 23,
   "metadata": {},
   "outputs": [],
   "source": [
    "def print_summary(steps, dLosses, gLosses):    \n",
    "    if steps % int(STEPS_PER_EPOCH) == 0:\n",
    "        print('steps:{} \\td_loss:{:.4f} \\tg_loss:{:.4f}'.format(steps, mean(dLosses), mean(gLosses)))\n",
    "        dLosses, gLosses = [], [] \n",
    "    return dLosses, gLosses"
   ]
  },
  {
   "cell_type": "code",
   "execution_count": 24,
   "metadata": {},
   "outputs": [],
   "source": [
    "def reverse_embedding_lookup(acid_embeddings, embedded_sequence):\n",
    "    acid_embeddings_expanded = tf.tile(tf.expand_dims(acid_embeddings, axis = 0), [BATCH_SIZE, 1,1])\n",
    "    emb_distances = tf.matmul(\n",
    "        tf.nn.l2_normalize(acid_embeddings_expanded, axis=1),\n",
    "        tf.nn.l2_normalize(embedded_sequence, axis=1),\n",
    "        transpose_b=True)\n",
    "    return tf.argmax(emb_distances, axis=1)"
   ]
  },
  {
   "cell_type": "code",
   "execution_count": 25,
   "metadata": {},
   "outputs": [],
   "source": [
    "from common.bio.constants import ID_TO_AMINO_ACID\n",
    "def display_sequence():\n",
    "    sequences = reverse_embedding_lookup(embedding_weights, tf.squeeze(fake))\n",
    "    generated_sequences, logits = sess.run([sequences, logits_fake], feed_dict={is_training: False})\n",
    "    #indexToLetter = pretrained_emb[\"words\"].to_dict()\n",
    "    best_sequence = \"\".join([ ID_TO_AMINO_ACID[acid_index] for acid_index in generated_sequences[np.argmax(logits)]]) \n",
    "    worst_sequence = \"\".join([ ID_TO_AMINO_ACID[acid_index] for acid_index in generated_sequences[np.argmin(logits)]]) \n",
    "    print(\"{} | Discriminator value {}\".format(best_sequence, logits[np.argmax(logits)]))\n",
    "    print(\"{} | Discriminator value {}\".format(worst_sequence, logits[np.argmin(logits)]))"
   ]
  },
  {
   "cell_type": "code",
   "execution_count": 26,
   "metadata": {},
   "outputs": [],
   "source": [
    "import datetime\n",
    "def save_model(saver, sess):\n",
    "    # Epoch ended\n",
    "    if steps % (STEPS_PER_EPOCH*10) == 0:\n",
    "        display_sequence()\n",
    "        print(\"Epoch {}. Fineshed at {}\".format((steps/STEPS_PER_EPOCH), str(datetime.datetime.now()).split('.')[0]))\n",
    "        save_weights(saver, sess, PATH)"
   ]
  },
  {
   "cell_type": "markdown",
   "metadata": {},
   "source": [
    "## Running model"
   ]
  },
  {
   "cell_type": "code",
   "execution_count": 45,
   "metadata": {},
   "outputs": [
    {
     "name": "stdout",
     "output_type": "stream",
     "text": [
      "INFO:tensorflow:Restoring parameters from ../../logs/tcn_sequence/v1\n",
      "embeddings : [-0.19861157 -0.28935704 -0.12733226 -0.35233593  0.3301557   0.13117889\n",
      "  0.16400765 -0.12967461  0.2070625  -0.1015301   0.10101962 -0.14296602\n",
      "  0.3794662  -0.11086404 -0.20387682  0.24278641  0.2963467   0.24624394\n",
      "  0.31158954 -0.25161746 -0.3626929   0.09720133 -0.04957089 -0.11402101\n",
      "  0.27455717  0.13546558 -0.04326187 -0.16840957  0.11347007 -0.08396413\n",
      " -0.22988892 -0.3998772 ]\n"
     ]
    }
   ],
   "source": [
    "sess = tf.Session(graph=graph)\n",
    "\n",
    "tb_writer = tf.summary.FileWriter(\"../../logs/wgan/\", graph)\n",
    "saver_restore = tf.train.Saver({\"embedding/acid_embeddings\": embedding_weights})\n",
    "saver_restore.restore(sess, \"../../logs/tcn_sequence/v1\")\n",
    "embeddings = sess.run(embedding_weights)\n",
    "print(\"embeddings : %s\" % embeddings[0])"
   ]
  },
  {
   "cell_type": "markdown",
   "metadata": {},
   "source": [
    "# CAUTION: Training the model"
   ]
  },
  {
   "cell_type": "code",
   "execution_count": 30,
   "metadata": {},
   "outputs": [],
   "source": [
    "sess.run(init)\n",
    "steps, gen_iterations = 0, 0"
   ]
  },
  {
   "cell_type": "code",
   "execution_count": 65,
   "metadata": {
    "scrolled": false
   },
   "outputs": [
    {
     "data": {
      "text/plain": [
       "(3359, 75)"
      ]
     },
     "execution_count": 65,
     "metadata": {},
     "output_type": "execute_result"
    }
   ],
   "source": [
    "steps, gen_iterations"
   ]
  },
  {
   "cell_type": "code",
   "execution_count": null,
   "metadata": {
    "scrolled": false
   },
   "outputs": [
    {
     "name": "stdout",
     "output_type": "stream",
     "text": [
      "Start training with batch size: 256, epoch num: 3000\n",
      "steps:85 \td_loss:0.0238 \tg_loss:0.0000\n",
      "steps:170 \td_loss:0.0293 \tg_loss:-0.0089\n",
      "steps:255 \td_loss:0.0266 \tg_loss:-0.2557\n",
      "steps:340 \td_loss:0.0239 \tg_loss:-0.2582\n",
      "steps:425 \td_loss:0.0224 \tg_loss:-0.3047\n",
      "steps:510 \td_loss:0.0191 \tg_loss:-0.4632\n",
      "steps:595 \td_loss:0.0184 \tg_loss:0.0000\n",
      "steps:680 \td_loss:0.0172 \tg_loss:-0.3244\n",
      "steps:765 \td_loss:0.0141 \tg_loss:-0.4375\n",
      "steps:850 \td_loss:0.0133 \tg_loss:-0.5639\n",
      "0000000000000000000000000000000000000000000000000000000000000000000000000000000000000000000000000000000000000000000000000000000000000000000000000000000000000000000000000000000000000000000000000000000000000000000000000000000000000000000000000000000000000000 | Discriminator value 2.3118205070495605\n",
      "0000000000000000000000000000000000000000000000000000000000000000000000000000000000000000000000000000000000000000000000000000000000000000000000000000000000000000000000000000000000000000000000000000000000000000000000000000000000000000000000000000000000000000 | Discriminator value -1.875560998916626\n",
      "Epoch 10.0. Fineshed at 2018-07-26 14:25:29\n",
      "Model saved in path: ../../weights/cgan_v1/version1\n",
      "steps:935 \td_loss:0.0138 \tg_loss:-0.5830\n",
      "steps:1020 \td_loss:0.0152 \tg_loss:-0.4941\n",
      "steps:1105 \td_loss:0.0118 \tg_loss:0.0000\n",
      "steps:1190 \td_loss:0.0174 \tg_loss:-0.5119\n",
      "steps:1275 \td_loss:0.0150 \tg_loss:-0.7624\n",
      "steps:1360 \td_loss:0.0147 \tg_loss:-0.8764\n",
      "steps:1445 \td_loss:0.0125 \tg_loss:-0.9647\n",
      "steps:1530 \td_loss:0.0136 \tg_loss:-0.9149\n",
      "steps:1615 \td_loss:0.0124 \tg_loss:0.0000\n",
      "steps:1700 \td_loss:0.0094 \tg_loss:-0.8044\n",
      "0000000000000000000000000000000000000000000000000000000000000000000000000000000000000000000000000000000000000000000000000000000000000000000000000000000000000000000000000000000000000000000000000000000000000000000000000000000000000000000000000000000000000000 | Discriminator value 2.7874581813812256\n",
      "0000000000000000000000000000000000000000000000000000000000000000000000000000000000000000000000000000000000000000000000000000000000000000000000000000000000000000000000000000000000000000000000000000000000000000000000000000000000000000000000000000000000000000 | Discriminator value -1.4249062538146973\n",
      "Epoch 20.0. Fineshed at 2018-07-26 14:35:26\n",
      "Model saved in path: ../../weights/cgan_v1/version1\n",
      "steps:1785 \td_loss:0.0096 \tg_loss:-0.9301\n",
      "steps:1870 \td_loss:0.0089 \tg_loss:-1.1698\n",
      "steps:1955 \td_loss:0.0083 \tg_loss:-1.1562\n",
      "steps:2040 \td_loss:0.0082 \tg_loss:-1.1432\n",
      "steps:2125 \td_loss:0.0074 \tg_loss:-1.0188\n",
      "steps:2210 \td_loss:0.0068 \tg_loss:0.0000\n",
      "steps:2295 \td_loss:0.0064 \tg_loss:-1.0578\n",
      "steps:2380 \td_loss:0.0067 \tg_loss:-1.3672\n",
      "steps:2465 \td_loss:0.0056 \tg_loss:-1.4204\n",
      "steps:2550 \td_loss:0.0061 \tg_loss:-1.1827\n",
      "0000000000000000000000000000000000000000000000000000000000000000000000000000000000000000000000000000000000000000000000000000000000000000000000000000000000000000000000000000000000000000000000000000000000000000000000000000000000000000000000000000000000000000 | Discriminator value 3.148094415664673\n",
      "0000000000000000000000000000000000000000000000000000000000000000000000000000000000000000000000000000000000000000000000000000000000000000000000000000000000000000000000000000000000000000000000000000000000000000000000000000000000000000000000000000000000000000 | Discriminator value -0.9898253083229065\n",
      "Epoch 30.0. Fineshed at 2018-07-26 14:45:21\n",
      "Model saved in path: ../../weights/cgan_v1/version1\n",
      "steps:2635 \td_loss:0.0056 \tg_loss:-1.1978\n",
      "steps:2720 \td_loss:0.0044 \tg_loss:-1.1901\n",
      "steps:2805 \td_loss:0.0044 \tg_loss:-1.3016\n",
      "steps:2890 \td_loss:0.0035 \tg_loss:-1.2520\n",
      "steps:2975 \td_loss:0.0043 \tg_loss:-1.3429\n",
      "steps:3060 \td_loss:0.0037 \tg_loss:-1.2884\n",
      "steps:3145 \td_loss:0.0044 \tg_loss:-1.3694\n",
      "steps:3230 \td_loss:0.0036 \tg_loss:-1.2374\n",
      "steps:3315 \td_loss:0.0031 \tg_loss:-1.2972\n",
      "steps:3400 \td_loss:0.0028 \tg_loss:-1.2492\n",
      "0000000000000000000000000000000000000000000000000000000000000000000000000000000000000000000000000000000000000000000000000000000000000000000000000000000000000000000000000000000000000000000000000000000000000000000000000000000000000000000000000000000000000000 | Discriminator value 3.1879873275756836\n",
      "0000000000000000000000000000000000000000000000000000000000000000000000000000000000000000000000000000000000000000000000000000000000000000000000000000000000000000000000000000000000000000000000000000000000000000000000000000000000000000000000000000000000000000 | Discriminator value -1.3266425132751465\n",
      "Epoch 40.0. Fineshed at 2018-07-26 14:54:20\n",
      "Model saved in path: ../../weights/cgan_v1/version1\n",
      "steps:3485 \td_loss:0.0029 \tg_loss:-1.2458\n",
      "steps:3570 \td_loss:0.0031 \tg_loss:-1.2519\n",
      "steps:3655 \td_loss:0.0028 \tg_loss:-1.3109\n",
      "steps:3740 \td_loss:0.0024 \tg_loss:-1.3635\n",
      "steps:3825 \td_loss:0.0033 \tg_loss:-1.3738\n",
      "steps:3910 \td_loss:0.0023 \tg_loss:-1.3140\n",
      "steps:3995 \td_loss:0.0030 \tg_loss:-1.2205\n",
      "steps:4080 \td_loss:0.0022 \tg_loss:-1.2159\n",
      "steps:4165 \td_loss:0.0023 \tg_loss:-1.2646\n",
      "steps:4250 \td_loss:0.0019 \tg_loss:-1.2662\n",
      "0000000000000000000000000000000000000000000000000000000000000000000000000000000000000000000000000000000000000000000000000000000000000000000000000000000000000000000000000000000000000000000000000000000000000000000000000000000000000000000000000000000000000000 | Discriminator value 3.2851481437683105\n",
      "0000000000000000000000000000000000000000000000000000000000000000000000000000000000000000000000000000000000000000000000000000000000000000000000000000000000000000000000000000000000000000000000000000000000000000000000000000000000000000000000000000000000000000 | Discriminator value -1.2751121520996094\n",
      "Epoch 50.0. Fineshed at 2018-07-26 15:03:19\n",
      "Model saved in path: ../../weights/cgan_v1/version1\n",
      "steps:4335 \td_loss:0.0014 \tg_loss:-1.2469\n",
      "steps:4420 \td_loss:0.0014 \tg_loss:-1.2440\n",
      "steps:4505 \td_loss:0.0022 \tg_loss:-1.2988\n",
      "steps:4590 \td_loss:0.0016 \tg_loss:-1.2994\n",
      "steps:4675 \td_loss:0.0012 \tg_loss:-1.3267\n",
      "steps:4760 \td_loss:0.0017 \tg_loss:-1.4055\n",
      "steps:4845 \td_loss:0.0011 \tg_loss:-1.3178\n",
      "steps:4930 \td_loss:0.0009 \tg_loss:-1.3158\n",
      "steps:5015 \td_loss:0.0009 \tg_loss:-1.2748\n",
      "steps:5100 \td_loss:0.0018 \tg_loss:-1.3422\n",
      "0000000000000000000000000000000000000000000000000000000000000000000000000000000000000000000000000000000000000000000000000000000000000000000000000000000000000000000000000000000000000000000000000000000000000000000000000000000000000000000000000000000000000000 | Discriminator value 3.4050583839416504\n",
      "0000000000000000000000000000000000000000000000000000000000000000000000000000000000000000000000000000000000000000000000000000000000000000000000000000000000000000000000000000000000000000000000000000000000000000000000000000000000000000000000000000000000000000 | Discriminator value -1.162790298461914\n",
      "Epoch 60.0. Fineshed at 2018-07-26 15:12:19\n",
      "Model saved in path: ../../weights/cgan_v1/version1\n",
      "steps:5185 \td_loss:0.0011 \tg_loss:-1.3110\n",
      "steps:5270 \td_loss:0.0017 \tg_loss:-1.2978\n",
      "steps:5355 \td_loss:0.0025 \tg_loss:-1.3118\n",
      "steps:5440 \td_loss:0.0012 \tg_loss:-1.4959\n",
      "steps:5525 \td_loss:0.0030 \tg_loss:-1.4145\n",
      "steps:5610 \td_loss:0.0016 \tg_loss:-1.4252\n",
      "steps:5695 \td_loss:0.0024 \tg_loss:-1.5505\n",
      "steps:5780 \td_loss:0.0012 \tg_loss:-1.4685\n",
      "steps:5865 \td_loss:0.0015 \tg_loss:-1.5223\n",
      "steps:5950 \td_loss:0.0012 \tg_loss:-1.5036\n",
      "0000000000000000000000000000000000000000000000000000000000000000000000000000000000000000000000000000000000000000000000000000000000000000000000000000000000000000000000000000000000000000000000000000000000000000000000000000000000000000000000000000000000000000 | Discriminator value 3.568420886993408\n",
      "0000000000000000000000000000000000000000000000000000000000000000000000000000000000000000000000000000000000000000000000000000000000000000000000000000000000000000000000000000000000000000000000000000000000000000000000000000000000000000000000000000000000000000 | Discriminator value -2.359628438949585\n",
      "Epoch 70.0. Fineshed at 2018-07-26 15:21:24\n",
      "Model saved in path: ../../weights/cgan_v1/version1\n",
      "steps:6035 \td_loss:0.0013 \tg_loss:-1.5521\n",
      "steps:6120 \td_loss:0.0018 \tg_loss:-1.4366\n",
      "steps:6205 \td_loss:0.0022 \tg_loss:-1.3949\n",
      "steps:6290 \td_loss:0.0012 \tg_loss:-1.3225\n",
      "steps:6375 \td_loss:0.0075 \tg_loss:-1.5290\n",
      "steps:6460 \td_loss:0.0001 \tg_loss:-1.2567\n",
      "steps:6545 \td_loss:0.0017 \tg_loss:-1.1766\n",
      "steps:6630 \td_loss:0.0009 \tg_loss:-1.1249\n",
      "steps:6715 \td_loss:0.0067 \tg_loss:-1.2118\n"
     ]
    },
    {
     "name": "stdout",
     "output_type": "stream",
     "text": [
      "steps:6800 \td_loss:0.0007 \tg_loss:-1.2480\n",
      "0000000000000000000000000000000000000000000000000000000000000000000000000000000000000000000000000000000000000000000000000000000000000000000000000000000000000000000000000000000000000000000000000000000000000000000000000000000000000000000000000000000000000000 | Discriminator value 3.2444262504577637\n",
      "0000000000000000000000000000000000000000000000000000000000000000000000000000000000000000000000000000000000000000000000000000000000000000000000000000000000000000000000000000000000000000000000000000000000000000000000000000000000000000000000000000000000000000 | Discriminator value -0.9714657068252563\n",
      "Epoch 80.0. Fineshed at 2018-07-26 15:30:24\n",
      "Model saved in path: ../../weights/cgan_v1/version1\n",
      "steps:6885 \td_loss:0.0076 \tg_loss:-1.2480\n",
      "steps:6970 \td_loss:0.0005 \tg_loss:-1.1502\n",
      "steps:7055 \td_loss:0.0011 \tg_loss:-1.0945\n",
      "steps:7140 \td_loss:0.0029 \tg_loss:-1.0399\n",
      "steps:7225 \td_loss:0.0049 \tg_loss:-1.1422\n",
      "steps:7310 \td_loss:0.0015 \tg_loss:-1.0628\n",
      "steps:7395 \td_loss:0.0031 \tg_loss:-1.2145\n",
      "steps:7480 \td_loss:0.0083 \tg_loss:-0.6984\n",
      "steps:7565 \td_loss:-0.0000 \tg_loss:-0.8475\n",
      "steps:7650 \td_loss:0.0011 \tg_loss:-0.9519\n",
      "0000000000000000000000000000000000000000000000000000000000000000000000000000000000000000000000000000000000000000000000000000000000000000000000000000000000000000000000000000000000000000000000000000000000000000000000000000000000000000000000000000000000000000 | Discriminator value 3.090970039367676\n",
      "0000000000000000000000000000000000000000000000000000000000000000000000000000000000000000000000000000000000000000000000000000000000000000000000000000000000000000000000000000000000000000000000000000000000000000000000000000000000000000000000000000000000000000 | Discriminator value -1.0934038162231445\n",
      "Epoch 90.0. Fineshed at 2018-07-26 15:39:23\n",
      "Model saved in path: ../../weights/cgan_v1/version1\n",
      "steps:7735 \td_loss:0.0011 \tg_loss:-0.9814\n",
      "steps:7820 \td_loss:0.0010 \tg_loss:-1.0955\n",
      "steps:7905 \td_loss:0.0013 \tg_loss:-1.1770\n",
      "steps:7990 \td_loss:0.0009 \tg_loss:-1.0320\n",
      "steps:8075 \td_loss:0.0007 \tg_loss:-0.9476\n",
      "steps:8160 \td_loss:0.0011 \tg_loss:-0.9009\n",
      "steps:8245 \td_loss:0.0018 \tg_loss:-1.0222\n",
      "steps:8330 \td_loss:0.0010 \tg_loss:-1.0122\n",
      "steps:8415 \td_loss:0.0011 \tg_loss:-1.0013\n",
      "steps:8500 \td_loss:0.0024 \tg_loss:-0.9274\n",
      "0000000000000000000000000000000000000000000000000000000000000000000000000000000000000000000000000000000000000000000000000000000000000000000000000000000000000000000000000000000000000000000000000000000000000000000000000000000000000000000000000000000000000000 | Discriminator value 3.1187057495117188\n",
      "0000000000000000000000000000000000000000000000000000000000000000000000000000000000000000000000000000000000000000000000000000000000000000000000000000000000000000000000000000000000000000000000000000000000000000000000000000000000000000000000000000000000000000 | Discriminator value -1.11250901222229\n",
      "Epoch 100.0. Fineshed at 2018-07-26 15:48:23\n",
      "Model saved in path: ../../weights/cgan_v1/version1\n",
      "steps:8585 \td_loss:0.0172 \tg_loss:-1.2712\n",
      "steps:8670 \td_loss:-0.0003 \tg_loss:-1.3951\n",
      "steps:8755 \td_loss:-0.0002 \tg_loss:-1.2597\n",
      "steps:8840 \td_loss:-0.0003 \tg_loss:-1.1631\n",
      "steps:8925 \td_loss:-0.0003 \tg_loss:-1.1485\n",
      "steps:9010 \td_loss:-0.0002 \tg_loss:-1.1194\n",
      "steps:9095 \td_loss:-0.0002 \tg_loss:-1.1063\n",
      "steps:9180 \td_loss:0.0003 \tg_loss:-1.0648\n",
      "steps:9265 \td_loss:0.0003 \tg_loss:-1.3160\n",
      "steps:9350 \td_loss:0.0813 \tg_loss:-1.8068\n",
      "0000000000000000000000000000000000000000000000000000000000000000000000000000000000000000000000000000000000000000000000000000000000000000000000000000000000000000000000000000000000000000000000000000000000000000000000000000000000000000000000000000000000000000 | Discriminator value 5.651121616363525\n",
      "0000000000000000000000000000000000000000000000000000000000000000000000000000000000000000000000000000000000000000000000000000000000000000000000000000000000000000000000000000000000000000000000000000000000000000000000000000000000000000000000000000000000000000 | Discriminator value 1.2801119089126587\n",
      "Epoch 110.0. Fineshed at 2018-07-26 15:57:28\n",
      "Model saved in path: ../../weights/cgan_v1/version1\n",
      "steps:9435 \td_loss:0.0013 \tg_loss:-3.4274\n",
      "steps:9520 \td_loss:0.0002 \tg_loss:-3.3154\n",
      "steps:9605 \td_loss:-0.0000 \tg_loss:-3.1440\n",
      "steps:9690 \td_loss:0.0000 \tg_loss:-3.1230\n",
      "steps:9775 \td_loss:-0.0002 \tg_loss:-2.9395\n",
      "steps:9860 \td_loss:0.0000 \tg_loss:-2.8878\n",
      "steps:9945 \td_loss:0.0002 \tg_loss:-2.8772\n",
      "steps:10030 \td_loss:-0.0001 \tg_loss:-2.7858\n",
      "steps:10115 \td_loss:0.0001 \tg_loss:-2.7699\n",
      "steps:10200 \td_loss:0.0013 \tg_loss:-2.6607\n",
      "0000000000000000000000000000000000000000000000000000000000000000000000000000000000000000000000000000000000000000000000000000000000000000000000000000000000000000000000000000000000000000000000000000000000000000000000000000000000000000000000000000000000000000 | Discriminator value 4.6865997314453125\n",
      "0000000000000000000000000000000000000000000000000000000000000000000000000000000000000000000000000000000000000000000000000000000000000000000000000000000000000000000000000000000000000000000000000000000000000000000000000000000000000000000000000000000000000000 | Discriminator value 0.15998560190200806\n",
      "Epoch 120.0. Fineshed at 2018-07-26 16:06:29\n",
      "Model saved in path: ../../weights/cgan_v1/version1\n",
      "steps:10285 \td_loss:0.0010 \tg_loss:-2.6616\n",
      "steps:10370 \td_loss:0.0012 \tg_loss:-2.5133\n",
      "steps:10455 \td_loss:0.0000 \tg_loss:-2.4344\n",
      "steps:10540 \td_loss:0.0001 \tg_loss:-2.4201\n",
      "steps:10625 \td_loss:0.0003 \tg_loss:-2.3708\n",
      "steps:10710 \td_loss:0.0020 \tg_loss:-2.3539\n",
      "steps:10795 \td_loss:0.0003 \tg_loss:-2.2600\n",
      "steps:10880 \td_loss:0.0068 \tg_loss:-2.2181\n",
      "steps:10965 \td_loss:0.0005 \tg_loss:-1.8267\n",
      "steps:11050 \td_loss:0.0004 \tg_loss:-1.7702\n",
      "0000000000000000000000000000000000000000000000000000000000000000000000000000000000000000000000000000000000000000000000000000000000000000000000000000000000000000000000000000000000000000000000000000000000000000000000000000000000000000000000000000000000000000 | Discriminator value 3.8112423419952393\n",
      "0000000000000000000000000000000000000000000000000000000000000000000000000000000000000000000000000000000000000000000000000000000000000000000000000000000000000000000000000000000000000000000000000000000000000000000000000000000000000000000000000000000000000000 | Discriminator value -0.7206841707229614\n",
      "Epoch 130.0. Fineshed at 2018-07-26 16:15:29\n",
      "Model saved in path: ../../weights/cgan_v1/version1\n",
      "steps:11135 \td_loss:0.0002 \tg_loss:-1.7482\n",
      "steps:11220 \td_loss:0.0011 \tg_loss:-1.7779\n",
      "steps:11305 \td_loss:0.0018 \tg_loss:-1.8004\n",
      "steps:11390 \td_loss:0.0006 \tg_loss:-1.8539\n",
      "steps:11475 \td_loss:0.0024 \tg_loss:-1.7853\n",
      "steps:11560 \td_loss:0.0006 \tg_loss:-1.6467\n",
      "steps:11645 \td_loss:0.0016 \tg_loss:-1.7389\n",
      "steps:11730 \td_loss:0.0025 \tg_loss:-1.7205\n",
      "steps:11815 \td_loss:0.0006 \tg_loss:-1.6554\n",
      "steps:11900 \td_loss:0.0035 \tg_loss:-1.3801\n",
      "0000000000000000000000000000000000000000000000000000000000000000000000000000000000000000000000000000000000000000000000000000000000000000000000000000000000000000000000000000000000000000000000000000000000000000000000000000000000000000000000000000000000000000 | Discriminator value 3.3236591815948486\n",
      "0000000000000000000000000000000000000000000000000000000000000000000000000000000000000000000000000000000000000000000000000000000000000000000000000000000000000000000000000000000000000000000000000000000000000000000000000000000000000000000000000000000000000000 | Discriminator value -1.1975531578063965\n",
      "Epoch 140.0. Fineshed at 2018-07-26 16:24:36\n",
      "Model saved in path: ../../weights/cgan_v1/version1\n",
      "steps:11985 \td_loss:0.0012 \tg_loss:-1.3342\n",
      "steps:12070 \td_loss:0.0014 \tg_loss:-1.2360\n",
      "steps:12155 \td_loss:0.0019 \tg_loss:-1.2272\n",
      "steps:12240 \td_loss:0.0008 \tg_loss:-1.2024\n",
      "steps:12325 \td_loss:0.0159 \tg_loss:-1.2381\n",
      "steps:12410 \td_loss:0.0001 \tg_loss:-1.2036\n",
      "steps:12495 \td_loss:0.0057 \tg_loss:-1.0074\n",
      "steps:12580 \td_loss:0.0037 \tg_loss:-0.8893\n",
      "steps:12665 \td_loss:0.0062 \tg_loss:-0.9185\n",
      "steps:12750 \td_loss:0.0101 \tg_loss:-0.8404\n",
      "0000000000000000000000000000000000000000000000000000000000000000000000000000000000000000000000000000000000000000000000000000000000000000000000000000000000000000000000000000000000000000000000000000000000000000000000000000000000000000000000000000000000000000 | Discriminator value 2.6805787086486816\n",
      "0000000000000000000000000000000000000000000000000000000000000000000000000000000000000000000000000000000000000000000000000000000000000000000000000000000000000000000000000000000000000000000000000000000000000000000000000000000000000000000000000000000000000000 | Discriminator value -1.8502910137176514\n",
      "Epoch 150.0. Fineshed at 2018-07-26 16:33:35\n"
     ]
    },
    {
     "name": "stdout",
     "output_type": "stream",
     "text": [
      "Model saved in path: ../../weights/cgan_v1/version1\n",
      "steps:12835 \td_loss:0.0049 \tg_loss:-0.4759\n",
      "steps:12920 \td_loss:0.0010 \tg_loss:-0.4834\n",
      "steps:13005 \td_loss:0.0000 \tg_loss:-0.2351\n",
      "steps:13090 \td_loss:-0.0001 \tg_loss:-0.2024\n",
      "steps:13175 \td_loss:-0.0002 \tg_loss:-0.2058\n",
      "steps:13260 \td_loss:0.0001 \tg_loss:-0.2835\n",
      "steps:13345 \td_loss:0.0001 \tg_loss:-0.2605\n",
      "steps:13430 \td_loss:0.0067 \tg_loss:-0.5056\n",
      "steps:13515 \td_loss:0.0012 \tg_loss:-0.2738\n",
      "steps:13600 \td_loss:0.0030 \tg_loss:-0.3038\n",
      "0000000000000000000000000000000000000000000000000000000000000000000000000000000000000000000000000000000000000000000000000000000000000000000000000000000000000000000000000000000000000000000000000000000000000000000000000000000000000000000000000000000000000000 | Discriminator value 2.49950909614563\n",
      "0000000000000000000000000000000000000000000000000000000000000000000000000000000000000000000000000000000000000000000000000000000000000000000000000000000000000000000000000000000000000000000000000000000000000000000000000000000000000000000000000000000000000000 | Discriminator value -1.6966369152069092\n",
      "Epoch 160.0. Fineshed at 2018-07-26 16:42:35\n",
      "Model saved in path: ../../weights/cgan_v1/version1\n",
      "steps:13685 \td_loss:0.0003 \tg_loss:-0.4801\n",
      "steps:13770 \td_loss:0.0012 \tg_loss:-0.3021\n",
      "steps:13855 \td_loss:0.0040 \tg_loss:-0.0279\n",
      "steps:13940 \td_loss:0.0006 \tg_loss:0.5497\n",
      "steps:14025 \td_loss:0.0015 \tg_loss:0.6333\n",
      "steps:14110 \td_loss:0.0002 \tg_loss:0.7324\n",
      "steps:14195 \td_loss:0.0056 \tg_loss:0.9063\n",
      "steps:14280 \td_loss:0.0020 \tg_loss:0.9166\n",
      "steps:14365 \td_loss:0.0012 \tg_loss:0.8500\n",
      "steps:14450 \td_loss:0.0024 \tg_loss:0.9261\n",
      "0000000000000000000000000000000000000000000000000000000000000000000000000000000000000000000000000000000000000000000000000000000000000000000000000000000000000000000000000000000000000000000000000000000000000000000000000000000000000000000000000000000000000000 | Discriminator value 1.0171674489974976\n",
      "0000000000000000000000000000000000000000000000000000000000000000000000000000000000000000000000000000000000000000000000000000000000000000000000000000000000000000000000000000000000000000000000000000000000000000000000000000000000000000000000000000000000000000 | Discriminator value -3.0671188831329346\n",
      "Epoch 170.0. Fineshed at 2018-07-26 16:51:36\n",
      "Model saved in path: ../../weights/cgan_v1/version1\n",
      "steps:14535 \td_loss:0.0020 \tg_loss:0.9166\n",
      "steps:14620 \td_loss:0.0005 \tg_loss:0.8671\n",
      "steps:14705 \td_loss:-0.0002 \tg_loss:0.8310\n",
      "steps:14790 \td_loss:0.0027 \tg_loss:1.1054\n",
      "steps:14875 \td_loss:-0.0001 \tg_loss:1.0533\n",
      "steps:14960 \td_loss:0.0008 \tg_loss:1.0442\n",
      "steps:15045 \td_loss:0.0009 \tg_loss:0.8709\n",
      "steps:15130 \td_loss:0.0046 \tg_loss:0.5964\n",
      "steps:15215 \td_loss:-0.0001 \tg_loss:0.5252\n",
      "steps:15300 \td_loss:0.0016 \tg_loss:0.3381\n",
      "0000000000000000000000000000000000000000000000000000000000000000000000000000000000000000000000000000000000000000000000000000000000000000000000000000000000000000000000000000000000000000000000000000000000000000000000000000000000000000000000000000000000000000 | Discriminator value 1.6325089931488037\n",
      "0000000000000000000000000000000000000000000000000000000000000000000000000000000000000000000000000000000000000000000000000000000000000000000000000000000000000000000000000000000000000000000000000000000000000000000000000000000000000000000000000000000000000000 | Discriminator value -2.8197989463806152\n",
      "Epoch 180.0. Fineshed at 2018-07-26 17:00:45\n",
      "Model saved in path: ../../weights/cgan_v1/version1\n",
      "steps:15385 \td_loss:0.0007 \tg_loss:0.3228\n",
      "steps:15470 \td_loss:0.0001 \tg_loss:0.3824\n",
      "steps:15555 \td_loss:0.0009 \tg_loss:0.4776\n",
      "steps:15640 \td_loss:0.1071 \tg_loss:0.1421\n"
     ]
    }
   ],
   "source": [
    "print (\"Start training with batch size: {}, epoch num: {}\".format(BATCH_SIZE, NUM_EPOCH))\n",
    "dLosses, gLosses = [], [] \n",
    "sess.run(iterator.initializer, feed_dict={real_sequences: train_seq, substrate1: train_substrate_1,\n",
    "                                                  substrate2: train_substrate_2, product1: train_product_1,\n",
    "                                                  product2: train_product_2})\n",
    "while True:\n",
    "    try:\n",
    "        d_iters = (100 if gen_iterations < 25 or gen_iterations % 500 == 0 else 5)\n",
    "        for k in range(d_iters): # Discriminator\n",
    "            _, _, dLoss = sess.run([trainer_d, trainer_a, d_loss], feed_dict={is_training: True})\n",
    "            steps = steps + 1\n",
    "            dLosses.append(dLoss)\n",
    "            dLosses, gLosses = print_summary(steps, dLosses, gLosses)\n",
    "            save_model(saver, sess)\n",
    "\n",
    "        # Generator\n",
    "        _, _, gLoss = sess.run([trainer_g, trainer_a, g_loss], feed_dict={is_training: True})\n",
    "        gLosses.append(gLoss)\n",
    "        steps = steps + 1\n",
    "        gen_iterations = gen_iterations + 1\n",
    "        dLosses, gLosses = print_summary(steps, dLosses, gLosses)\n",
    "        save_model(saver, sess)\n",
    "    except tf.errors.OutOfRangeError:\n",
    "        print (\"Training is finished\")\n",
    "        break;            "
   ]
  },
  {
   "cell_type": "markdown",
   "metadata": {},
   "source": [
    "### Checks"
   ]
  },
  {
   "cell_type": "code",
   "execution_count": null,
   "metadata": {
    "scrolled": false
   },
   "outputs": [],
   "source": [
    "embeddings = sess.run(embedding_weights)\n",
    "print(\"embeddings : %s\" % embeddings[0])"
   ]
  },
  {
   "cell_type": "code",
   "execution_count": null,
   "metadata": {
    "scrolled": false
   },
   "outputs": [],
   "source": [
    "[ print(\"{}{}\".format(x.name, x.shape)) for x in tf.trainable_variables()]"
   ]
  },
  {
   "cell_type": "code",
   "execution_count": 26,
   "metadata": {
    "scrolled": true
   },
   "outputs": [
    {
     "data": {
      "text/plain": [
       "[]"
      ]
     },
     "execution_count": 26,
     "metadata": {},
     "output_type": "execute_result"
    }
   ],
   "source": [
    "[ print(\"{}{}\".format(x.name, x.shape)) for x in tf.global_variables()] "
   ]
  },
  {
   "cell_type": "code",
   "execution_count": 25,
   "metadata": {
    "scrolled": true
   },
   "outputs": [
    {
     "data": {
      "text/plain": [
       "[<tf.Variable 'auto_encoder/encoded/kernel:0' shape=(12240, 20) dtype=float32_ref>,\n",
       " <tf.Variable 'auto_encoder/encoded/bias:0' shape=(20,) dtype=float32_ref>,\n",
       " <tf.Variable 'generator/dense1/kernel:0' shape=(208, 1228800) dtype=float32_ref>,\n",
       " <tf.Variable 'generator/dense1/bias:0' shape=(1228800,) dtype=float32_ref>,\n",
       " <tf.Variable 'generator/gbn1/gamma:0' shape=(256,) dtype=float32_ref>,\n",
       " <tf.Variable 'generator/gbn1/beta:0' shape=(256,) dtype=float32_ref>,\n",
       " <tf.Variable 'generator/conv2/kernel:0' shape=(3, 32, 256, 128) dtype=float32_ref>,\n",
       " <tf.Variable 'generator/conv2/bias:0' shape=(128,) dtype=float32_ref>,\n",
       " <tf.Variable 'generator/gbn2/gamma:0' shape=(128,) dtype=float32_ref>,\n",
       " <tf.Variable 'generator/gbn2/beta:0' shape=(128,) dtype=float32_ref>,\n",
       " <tf.Variable 'generator/conv3/kernel:0' shape=(3, 32, 128, 64) dtype=float32_ref>,\n",
       " <tf.Variable 'generator/conv3/bias:0' shape=(64,) dtype=float32_ref>,\n",
       " <tf.Variable 'generator/gbn3/gamma:0' shape=(64,) dtype=float32_ref>,\n",
       " <tf.Variable 'generator/gbn3/beta:0' shape=(64,) dtype=float32_ref>,\n",
       " <tf.Variable 'generator/conv4/kernel:0' shape=(3, 32, 64, 1) dtype=float32_ref>,\n",
       " <tf.Variable 'generator/conv4/bias:0' shape=(1,) dtype=float32_ref>,\n",
       " <tf.Variable 'discriminator/dconv1/kernel:0' shape=(3, 32, 1, 64) dtype=float32_ref>,\n",
       " <tf.Variable 'discriminator/dconv1/bias:0' shape=(64,) dtype=float32_ref>,\n",
       " <tf.Variable 'discriminator/dconv2/kernel:0' shape=(3, 32, 64, 128) dtype=float32_ref>,\n",
       " <tf.Variable 'discriminator/dconv2/bias:0' shape=(128,) dtype=float32_ref>,\n",
       " <tf.Variable 'discriminator/dbn1/gamma:0' shape=(128,) dtype=float32_ref>,\n",
       " <tf.Variable 'discriminator/dbn1/beta:0' shape=(128,) dtype=float32_ref>,\n",
       " <tf.Variable 'discriminator/dconv3/kernel:0' shape=(3, 32, 128, 256) dtype=float32_ref>,\n",
       " <tf.Variable 'discriminator/dconv3/bias:0' shape=(256,) dtype=float32_ref>,\n",
       " <tf.Variable 'discriminator/dbn2/gamma:0' shape=(256,) dtype=float32_ref>,\n",
       " <tf.Variable 'discriminator/dbn2/beta:0' shape=(256,) dtype=float32_ref>,\n",
       " <tf.Variable 'discriminator/doutput/kernel:0' shape=(614480, 1) dtype=float32_ref>,\n",
       " <tf.Variable 'discriminator/doutput/bias:0' shape=(1,) dtype=float32_ref>,\n",
       " <tf.Variable 'auto_encoder/auto_encoder/decoded/kernel:0' shape=(20, 12240) dtype=float32_ref>,\n",
       " <tf.Variable 'auto_encoder/auto_encoder/decoded/bias:0' shape=(12240,) dtype=float32_ref>]"
      ]
     },
     "execution_count": 25,
     "metadata": {},
     "output_type": "execute_result"
    }
   ],
   "source": [
    "graph.get_collection(\"trainable_variables\")"
   ]
  },
  {
   "cell_type": "code",
   "execution_count": 43,
   "metadata": {},
   "outputs": [],
   "source": [
    "generated= sess.run([fake], feed_dict={is_training: True})"
   ]
  },
  {
   "cell_type": "markdown",
   "metadata": {},
   "source": [
    "## Validation of discriminator"
   ]
  },
  {
   "cell_type": "code",
   "execution_count": 41,
   "metadata": {},
   "outputs": [
    {
     "name": "stdout",
     "output_type": "stream",
     "text": [
      "discriminator\n",
      "(16, 60, 32, 64)\n",
      "(16, 30, 32, 128)\n",
      "(16, 15, 32, 256)\n",
      "(16, 1)\n",
      "(16,)\n",
      "discriminator\n",
      "(16, 60, 32, 64)\n",
      "(16, 30, 32, 128)\n",
      "(16, 15, 32, 256)\n",
      "(16, 1)\n",
      "(16,)\n"
     ]
    }
   ],
   "source": [
    "with graph.as_default():\n",
    "    val_real = discriminator(embedded_real_sequences, is_training=False)\n",
    "    val_fake = discriminator(fake, is_training=False)\n",
    "    val_loss = tf.reduce_mean(val_real-val_fake)\n",
    "    real_predictions = tf.rint(val_real)\n",
    "    fake_predictions = tf.rint(val_fake)\n",
    "    correct_real_predictions = tf.equal(real_predictions, tf.zeros([BATCH_SIZE], dtype=tf.float32))\n",
    "    correct_fake_predictions = tf.equal(fake_predictions, tf.ones([BATCH_SIZE], dtype=tf.float32))\n",
    "    casted_real = tf.cast(correct_real_predictions, tf.float32)\n",
    "    casted_fake = tf.cast(correct_fake_predictions, tf.float32)\n",
    "    accuracy = (tf.reduce_mean(casted_real) + tf.reduce_mean(casted_fake))/2"
   ]
  },
  {
   "cell_type": "code",
   "execution_count": null,
   "metadata": {},
   "outputs": [],
   "source": [
    "#Validate discriminator by giving from validate data set and randomly generated\n",
    "print ('validating discriminator...')\n",
    "sess.run(iterator.initializer, \n",
    "         feed_dict={real_sequences: val_data, random_sequences: get_random_sequence(val_data.shape[0])})\n",
    "losses = []\n",
    "accuracies = []\n",
    "while True:\n",
    "    try:\n",
    "        v_loss, v_accuracy = sess.run([val_loss, accuracy], feed_dict={is_training: False})\n",
    "        losses.append(v_loss)\n",
    "        accuracies.append(v_accuracy)\n",
    "    except tf.errors.OutOfRangeError:\n",
    "        print ('Validation g_loss:{:.4f} ,accuracy :{:.4f}'.format(mean(losses), mean(accuracies)))\n",
    "        break"
   ]
  },
  {
   "cell_type": "code",
   "execution_count": 28,
   "metadata": {},
   "outputs": [],
   "source": [
    "def restore_weights(saver, sess, path):\n",
    "    saver.restore(sess, path)\n",
    "    print(\"Model restored.\")"
   ]
  },
  {
   "cell_type": "code",
   "execution_count": 31,
   "metadata": {
    "scrolled": false
   },
   "outputs": [
    {
     "name": "stdout",
     "output_type": "stream",
     "text": [
      "INFO:tensorflow:Restoring parameters from ../../weights/cgan_v1/version1\n",
      "Model restored.\n"
     ]
    }
   ],
   "source": [
    "restore_weights(saver, sess, PATH)"
   ]
  },
  {
   "cell_type": "markdown",
   "metadata": {},
   "source": [
    "## Review generated examples"
   ]
  },
  {
   "cell_type": "code",
   "execution_count": 115,
   "metadata": {},
   "outputs": [],
   "source": [
    "def discriminator_score(session, sequence):\n",
    "    with graph.as_default():\n",
    "        test_seq = tf.placeholder(tf.int32, [None, SEQUENCE_LENGTH], name='real_sequence')\n",
    "        print (test_seq.shape)\n",
    "        embedded_test_seq = tf.nn.embedding_lookup(embedding_weights, test_seq)\n",
    "        embedded_test_seq = tf.reshape(embedded_test_seq, shape=[-1, SEQUENCE_LENGTH, EMBEDDING_SIZE, 1])\n",
    "        print (embedded_test_seq.shape)\n",
    "        test_score = discriminator(embedded_test_seq, False)\n",
    "        \n",
    "    score = session.run(test_score, feed_dict={test_seq:sequence})\n",
    "    return score    "
   ]
  },
  {
   "cell_type": "code",
   "execution_count": 78,
   "metadata": {},
   "outputs": [],
   "source": [
    "def repeating_amino_acids_in_row(input_sequence):\n",
    "    repeating2_count = 0\n",
    "    repeating3_count = 0\n",
    "    seq = input_sequence.replace(\"0\", \"\")\n",
    "    for index in range(len(seq)):\n",
    "        if index == 0:\n",
    "            continue\n",
    "        if seq[index-1] == seq[index]:\n",
    "            repeating2_count +=1\n",
    "        if index == len(seq)-1:\n",
    "            continue   \n",
    "        if seq[index-1] == seq[index] and seq[index+1] == seq[index]:\n",
    "            repeating3_count +=1\n",
    "    return repeating2_count, repeating3_count"
   ]
  },
  {
   "cell_type": "code",
   "execution_count": 116,
   "metadata": {},
   "outputs": [],
   "source": [
    "def print_seq_stats(input_sequence, score):\n",
    "    sequence = \"\".join([ indexToLetter[acid_index] for acid_index in input_sequence ])\n",
    "    print(sequence)\n",
    "    repeating2_count, repeating3_count = repeating_amino_acids_in_row(sequence)\n",
    "    print(\"Score: {} | Length: {} | Different characters: {} | Repeating 2s: {} | Repeating 3s: {}\".format(\n",
    "        score, len(sequence.replace(\"0\", \"\")), (len(set(sequence))-1), repeating2_count, repeating3_count))"
   ]
  },
  {
   "cell_type": "code",
   "execution_count": 87,
   "metadata": {
    "scrolled": false
   },
   "outputs": [
    {
     "name": "stdout",
     "output_type": "stream",
     "text": [
      "(16, 120)\n"
     ]
    }
   ],
   "source": [
    "sequences = reverse_embedding_lookup(embedding_weights, tf.squeeze(fake))\n",
    "print (sequences.shape)"
   ]
  },
  {
   "cell_type": "code",
   "execution_count": 88,
   "metadata": {},
   "outputs": [
    {
     "name": "stdout",
     "output_type": "stream",
     "text": [
      "Generating sequences...\n"
     ]
    },
    {
     "data": {
      "text/plain": [
       "array([[11, 16,  6, ...,  0,  0,  0],\n",
       "       [11, 16, 15, ...,  0,  0,  0],\n",
       "       [11, 17,  9, ...,  0,  0,  0],\n",
       "       ...,\n",
       "       [11, 15,  7, ...,  0,  0,  0],\n",
       "       [11, 15,  7, ...,  0,  0,  0],\n",
       "       [11,  1, 14, ...,  0,  0,  0]])"
      ]
     },
     "execution_count": 88,
     "metadata": {},
     "output_type": "execute_result"
    }
   ],
   "source": [
    "print ('Generating sequences...')\n",
    "generated_sequences = sess.run([sequences], feed_dict={is_training: False})\n",
    "generated_sequences[0]"
   ]
  },
  {
   "cell_type": "code",
   "execution_count": 119,
   "metadata": {
    "scrolled": true
   },
   "outputs": [
    {
     "name": "stdout",
     "output_type": "stream",
     "text": [
      "(?, 120)\n",
      "(?, 120, 32, 1)\n",
      "discriminator\n",
      "(?, 60, 32, 64)\n",
      "(?, 30, 32, 128)\n",
      "(?, 15, 32, 256)\n",
      "(?, 1)\n",
      "(?,)\n",
      "MSGDDLDERIETYYVRVRGVGYVYYTRKKVQWWYKLRNLGDGSVEVDAPGEEQQVEKMVDWMRRGPSKANVSQVEERQVKLEYDYFRIEYGG00Y0Y00000000000000000000000\n",
      "Score: 285.4346008300781 | Length: 94 | Different characters: 18 | Repeating 2s: 11 | Repeating 3s: 0\n",
      "MSRVCYRRYVYGVVQGVGYRYYTQRQAQRLGVTGWVRNCDDGSVEAVYEGDSERVEEPPYWQRRGPRRWRRGPGSVEETSTRYEARRGYSRYERY0Q00000000000000000000000\n",
      "Score: 277.64739990234375 | Length: 96 | Different characters: 16 | Repeating 2s: 11 | Repeating 3s: 0\n",
      "MTKKRRYSWVRGRRRQVGYYQYGYGRRYYRVREYAQWQPWVEYYQQGDYEAVERYYLDKLEKCQGGPPRARVEEVEWWEPRRGGEYYEYR000000000000000000000000000000\n",
      "Score: 254.7123260498047 | Length: 90 | Different characters: 16 | Repeating 2s: 17 | Repeating 3s: 1\n",
      "MSKVRRQYYVRGRVQGVGYRAWTTYQAQQLGLTGWVRNLDDGSVEVYYYGEPERVEAEYVTEWLRGPPTRRPRVDVVDWEWWTEEEQPGGFERRF0Q00000000000000000000000\n",
      "Score: 289.6255187988281 | Length: 96 | Different characters: 17 | Repeating 2s: 15 | Repeating 3s: 2\n",
      "MKTLKYYVSGVQQGVWYRDCTRERYRLEEYRWRRYYYWRRNYPDVRAELEGPRPPVQKVRDWCEWQPPPSVTTSRRRYEKVEYDDYSYRR000000000000000000000000000000\n",
      "Score: 271.8941650390625 | Length: 90 | Different characters: 17 | Repeating 2s: 15 | Repeating 3s: 3\n",
      "MSMYRRRYYYYGRVQGVYFRYTQQYYERRYTGGYRRNPDGGWRQYVDGGDTDIYQFPPKVWDLYRYGTTGPPVEKVDVDDWSEEEYWEYEYYKYDYSGPEYRYY000000000000Y000\n",
      "Score: 261.9997863769531 | Length: 105 | Different characters: 17 | Repeating 2s: 21 | Repeating 3s: 5\n",
      "MSVGRRKYQVDYEVYQYVYYRYYWYYGREQLRYYWQLDDGDDVPVYGPGDEEVEQQLQGWLQQGPAEAEVSRVEVSSYAEQYEYERRGFGYRELR0000000000000000000000000\n",
      "Score: 266.95440673828125 | Length: 95 | Different characters: 15 | Repeating 2s: 12 | Repeating 3s: 0\n",
      "MSYYRMQVTGWYRRVQYQGYRWRYYIRYRYVDEYYWLRQRGWVRYEAQGEGRRWAVQKVVEWYSPGPRVTRVDRYELEPYPPYGDFTYYR000000000000000000000000000000\n",
      "Score: 263.6148681640625 | Length: 90 | Different characters: 17 | Repeating 2s: 8 | Repeating 3s: 0\n",
      "MYQQYYYYYGKVQGVGFRYYTQRVYRNYNYVGEEQQYDGYVRNYPDEPREALYDGFVDWVEQGPPAAYGPPRQYRRLEKLRRVDYEEVEARYPSFQQQY000000000000000000000\n",
      "Score: 273.5638122558594 | Length: 99 | Different characters: 17 | Repeating 2s: 16 | Repeating 3s: 4\n",
      "MQAAHYQVEGRVQGVGFRYFTQRIAMNYNIVDWVKYGDDGQVERYYEGRAQAQGSVRDWLEQGPPYAKVDDYEYYRYETTYGEYRYFYYY000000000000000000000000000000\n",
      "Score: 281.7103576660156 | Length: 90 | Different characters: 19 | Repeating 2s: 9 | Repeating 3s: 1\n",
      "MTDVRRVYYYYGRQQQGYYRYTTQRVQYYYDYSGYRKNLDDGSVEVEWCYEEEEVERVWEWQWRGPGPPRRRVEKVVEWPSPPYERYDYFSVYY00000000000000000000000000\n",
      "Score: 266.8160095214844 | Length: 94 | Different characters: 17 | Repeating 2s: 20 | Repeating 3s: 7\n",
      "MRRIRYRVCGRVQGVGYRYYYQQQAMEYYYVSGYRRNPLDDGRVEVEWEGYQQQVQYPLDQVDRYYSWLRHGPPARGYTEVEEERRPGGFDYTDWDVVK000000000000000000000\n",
      "Score: 278.3180847167969 | Length: 99 | Different characters: 20 | Repeating 2s: 18 | Repeating 3s: 5\n",
      "MQQRYKVSGDVKVRGYRQRVGYRRWRRRGWTGYAENLPDGWVEIEAQGPEALLQQYRDWQQGGPWLSKVRRPPSSPEYTDVDYEERYYEYRGV000000000000000000000000000\n",
      "Score: 278.0373229980469 | Length: 93 | Different characters: 17 | Repeating 2s: 13 | Repeating 3s: 1\n",
      "MRHIHLQVYGRVQGVGYRYYVQYVYYNYYTVKKKLWGYRNNWPGRRVVVVQGPRAARMEMLLEDMRGPPDAVQQVEEVRPQQLDYFDIRR000000000000000000000000000000\n",
      "Score: 278.7522277832031 | Length: 90 | Different characters: 18 | Repeating 2s: 17 | Repeating 3s: 3\n",
      "MRHIRYLVFGRVQGVGFRWFYQMAAEELGLTGYVRNQPDGSVEVVAAGPPPAVDKYVKVVRWGSWYSPPPRIYERVDYTDYEEYFEYEYYY00000000000000000000000000000\n",
      "Score: 279.021240234375 | Length: 91 | Different characters: 19 | Repeating 2s: 12 | Repeating 3s: 3\n",
      "MAQVWRRVYWVGGRVQGVGYRYQYFRRYWTYEEEWQLLGWGRVRYVYDDEGYIEAYWRALYYGPPRPGPDKVEVDWRDVDYYYDKYGFRWR00000000000000000000000000000\n",
      "Score: 281.7100524902344 | Length: 91 | Different characters: 16 | Repeating 2s: 11 | Repeating 3s: 2\n"
     ]
    }
   ],
   "source": [
    "scores = discriminator_score(sess, generated_sequences[0])\n",
    "for index, s in enumerate(generated_sequences[0]):\n",
    "    print_seq_stats(s, scores[index])"
   ]
  },
  {
   "cell_type": "code",
   "execution_count": 117,
   "metadata": {
    "scrolled": false
   },
   "outputs": [
    {
     "name": "stdout",
     "output_type": "stream",
     "text": [
      "(?, 120)\n",
      "(?, 120, 32, 1)\n",
      "discriminator\n",
      "(?, 60, 32, 64)\n",
      "(?, 30, 32, 128)\n",
      "(?, 15, 32, 256)\n",
      "(?, 1)\n",
      "(?,)\n",
      "MPGPTVVRFTARVVGRVQGVGFRDYVRTRGRRLGLVGTATNMPDGAVVVIAEGGAPACQNLARLLVTGHTPGWTDRVEVVWQRAQGDLADFRRK00000000000000000000000000\n",
      "Score: 363.3921203613281 | Length: 94 | Different characters: 19 | Repeating 2s: 9 | Repeating 3s: 1\n",
      "METQKILVSGQVQGVGFRWSATRLAKQLTLTGTVRNLANGQVEIIATGESATLQQFCQQLKHGLSPWINVMTLTTHSIPTHQFADFRIII000000000000000000000000000000\n",
      "Score: 329.80377197265625 | Length: 90 | Different characters: 19 | Repeating 2s: 6 | Repeating 3s: 1\n",
      "MKRVHVIVEGRVQGVGFRYFVQHEALKRQLTGWVKNNDDGTVEMEVQGNESALQLFLDTIEAGTMFAKVARMHIEPRDVRSDEKQFRIMYGSGF00000000000000000000000000\n",
      "Score: 350.7937927246094 | Length: 94 | Different characters: 19 | Repeating 2s: 2 | Repeating 3s: 0\n",
      "MVTDAQQARLTAWVHGRVQGVGFRWWTRARALELGLAGSATNLPGNRVEVVAEGPRESCERLLEALRSPDTPGDVDHVAEQWSEPKGGLTGFVER0000000000000000000000000\n",
      "Score: 365.7681579589844 | Length: 95 | Different characters: 18 | Repeating 2s: 5 | Repeating 3s: 0\n",
      "MTQVCIAAYVYGVVQGVGFRYNTQHQATALGLSGYARNLDDGSVEVLACGEQPQVDKLVEWLKNGGPRSARVDRVLVEPRGAADFQGFSIRY0000000000000000000000000000\n",
      "Score: 332.854736328125 | Length: 92 | Different characters: 20 | Repeating 2s: 5 | Repeating 3s: 0\n",
      "MGLKQVQLFVRGRVQGVFFRASTQREAKRLGLTGWVKNRSDGSVEVLAEGEEDELKELIAWANRGPSAARVERVDVRWRGFSGDFFDFRITD0000000000000000000000000000\n",
      "Score: 329.8806457519531 | Length: 92 | Different characters: 17 | Repeating 2s: 4 | Repeating 3s: 0\n",
      "MIAKHLILSGRVQGVGFRDWMVTRARRLALAGWVRNRADGTLEALVAGDAPAVEELLRACRRGPPLADVTDIVETFAEPPAEPGFVKRATG00000000000000000000000000000\n",
      "Score: 336.30224609375 | Length: 91 | Different characters: 19 | Repeating 2s: 6 | Repeating 3s: 0\n",
      "MSDHNEAVRVRISGRVQGVGFRMWTRDEALRLGVTGWVRNEADGSVSALIAGADSAISAMIERLRRGPAGASVSGVETEVAQLENMPRDFRITG00000000000000000000000000\n",
      "Score: 353.3059997558594 | Length: 94 | Different characters: 17 | Repeating 2s: 1 | Repeating 3s: 0\n",
      "MSGDDLDERIETYYVRVRGVVQGVGFRHATVREAHALKLRGWVANLDDGSVEAMLQGSAPQIDRMLAWLRHGPPAAHVTEVTFEEHRTDKRFERFQQH0000000000000000000000\n",
      "Score: 379.2711181640625 | Length: 98 | Different characters: 19 | Repeating 2s: 8 | Repeating 3s: 0\n",
      "MSKVCIIAWVYGRVQGVGFRYTTQYEAKRLGLTGYAKNLDDGSVEVVACGEEGQVEKLMQWLKSGGPRSARVERVLSEPHHPSGELTDFRIR0000000000000000000000000000\n",
      "Score: 349.8345031738281 | Length: 92 | Different characters: 20 | Repeating 2s: 7 | Repeating 3s: 0\n",
      "MEKLRMNVQGRVQGVGFRYMTKMVADQLGVTGSVRNEDDGSVSITAIAPEDIMETFIKKIKDSPSPAGRVTYVDIQEDPLLEETEQFKVIQ00000000000000000000000000000\n",
      "Score: 327.5553894042969 | Length: 91 | Different characters: 17 | Repeating 2s: 4 | Repeating 3s: 0\n",
      "MYKQQYFISGKVQGVGFRFFTEQIANNMKLKGFVKNLNDGRVEIVAFFNTKEQMKKFEKLLNGNKYSNIKNIEKIVLDENYPFQFNDFKIYY0000000000000000000000000000\n",
      "Score: 348.4118957519531 | Length: 92 | Different characters: 17 | Repeating 2s: 7 | Repeating 3s: 0\n",
      "MQQKLFIVTGHVQSVGFRFFTLQEAGKIGIKGYVKNRPEGSVEVVAVGSDAQMAAFRNWLQKGPPTSVVCNLIEQSYQGSEQFEHFEIRR000000000000000000000000000000\n",
      "Score: 334.1090393066406 | Length: 90 | Different characters: 20 | Repeating 2s: 7 | Repeating 3s: 0\n",
      "MTMKIRAIVTVKGLVQGVAFRHHTVLQGNQLRVTGWVKNLPNGDVQGCFEGDETDVQALVEWCHHGPSRARVDRVIVERKSFRGEFDTFDVRY000000000000000000000000000\n",
      "Score: 362.603271484375 | Length: 93 | Different characters: 20 | Repeating 2s: 2 | Repeating 3s: 0\n",
      "MNTTDDVSCAEIYVSGRVQGVYFRGFTQKTATSLGLMGYAQNLPDGRVKVVAQGKRSCISELLDHLHIGPELSNVECIEVGWMGLSDTFTDFFIKR000000000000000000000000\n",
      "Score: 367.7745361328125 | Length: 96 | Different characters: 20 | Repeating 2s: 5 | Repeating 3s: 0\n",
      "MIEGRVQRVGFRASCNRRALDLGISGWVRNLSDGRVEVQAEGPPLALSELRAWCEVGPPGARVVRVTPSQLPITGDDWFEVRY0000000000000000000000000000000000000\n",
      "Score: 364.2960510253906 | Length: 83 | Different characters: 18 | Repeating 2s: 5 | Repeating 3s: 0\n",
      "MRQSANLVRKHIVVTGLVQGVGFRYFTVTQARRLGVQGWVRNCRDGSVELEAQGSSDAVQALVEQLAIGPRWSEVSHVAVHDMPIIDETARAFGVRQ00000000000000000000000\n",
      "Score: 364.65216064453125 | Length: 97 | Different characters: 20 | Repeating 2s: 4 | Repeating 3s: 0\n",
      "MAESAASITRHLRIHGLVQGVYYRKSMTEAARRLGVQGWVRNRQDGTVEALASGAAPAVQALIDWAHEGPPAARVERVEVAEAPACDAQGFEQRETV00000000000000000000000\n",
      "Score: 356.4945373535156 | Length: 97 | Different characters: 20 | Repeating 2s: 7 | Repeating 3s: 0\n",
      "METGTEKRVSARITGRVQGVGFRNFTRRRARRLDVTGWVRNESDGSVRLEAEGPTDALESLIEAVHEGPRTARVETVDVDWSDAADAFEGFRVRR0000000000000000000000000\n",
      "Score: 351.1318359375 | Length: 95 | Different characters: 18 | Repeating 2s: 5 | Repeating 3s: 1\n",
      "MGQPLKVKKRIYSQDVELVRAHIFVRGKVQGVFFRQSMKDVANKYGVKGWVRNRRDGRTVEAVLEGPKDAVLKVIEWARVGPPGARVEDLEVKWEEYKGEFNDFSILPTE0000000000\n",
      "Score: 399.7298889160156 | Length: 110 | Different characters: 19 | Repeating 2s: 5 | Repeating 3s: 0\n",
      "MENVRAHLYIKGKVQGVFFRQSMKEIAVRYGVRGWVRNRSDGRTVEAVLEGPRDAVAKVIEWAKVGPPGARVEEVEVDWEEYKGEFQDFRILPTV0000000000000000000000000\n",
      "Score: 361.4552917480469 | Length: 95 | Different characters: 19 | Repeating 2s: 4 | Repeating 3s: 0\n",
      "MGSKNNSRAKILVRGKVQGVGFRYYILQRAQECRLSGYTQNLPGGEVETVVEGDKMFIEDLYRAIQRGPKGSEVKEALITWEDPKGNFRTFEIKK0000000000000000000000000\n",
      "Score: 385.8083190917969 | Length: 95 | Different characters: 19 | Repeating 2s: 5 | Repeating 3s: 0\n",
      "MLEVWKKWNVRGVVQGVGFRHFVKNVARAIGVRGYVKNEDDGSVTIVAGGNDEQIKELFRRIMEGNGWSYISDYDEIDLPKQEYKDFHVEF00000000000000000000000000000\n",
      "Score: 346.8333740234375 | Length: 91 | Different characters: 19 | Repeating 2s: 5 | Repeating 3s: 0\n",
      "MSAPDVRLTAWVHGWVQGVGFRWWTRCRALELGLTGYAANHADGRVLVVAQGPRAACQKLLQLLQGDTTPGRVAKVVADWSQSTEQITGFSER000000000000000000000000000\n",
      "Score: 377.8611755371094 | Length: 93 | Different characters: 20 | Repeating 2s: 8 | Repeating 3s: 0\n",
      "MAPDLDQRIETYYVRVRGTVQGVGFRHATVRQAHALGIKGWVANLDDGSVEAMLQGSANQVDRMLSWLRHGPPAARVTEVSGEERSTEKRYERFEQH00000000000000000000000\n",
      "Score: 360.1468505859375 | Length: 97 | Different characters: 19 | Repeating 2s: 5 | Repeating 3s: 0\n",
      "MSMQPTDHIRLTAFVHGHVQGVGFRWWTRSQALELGLAGSATNLDDGRVCVVAEGPEDRCRELLTRLGEQPSRHRRVGTVSTVIEQWSEPRGVEGFTER000000000000000000000\n",
      "Score: 387.2969665527344 | Length: 99 | Different characters: 18 | Repeating 2s: 5 | Repeating 3s: 0\n",
      "MSRARAHVVVSGKVQGVYFRSETRDQALALGVTGWIRNRTDGTVEGVFEGDREMVEKLVRWCWQGPPAAEVSNVQVEWQDYTGEFSGFKIAF0000000000000000000000000000\n",
      "Score: 336.9186096191406 | Length: 92 | Different characters: 20 | Repeating 2s: 4 | Repeating 3s: 1\n",
      "MRHIHLQVFGRVQGVGFRYFTQRIAMNYNIVGTVQNVDDYVEIYAQGDDADIERFIQGVIEGASPASNVTSHQLEELELNQKLSDFRSI0000000000000000000000000000000\n",
      "Score: 338.5090026855469 | Length: 89 | Different characters: 18 | Repeating 2s: 3 | Repeating 3s: 0\n",
      "MQDPNIETLFIIVHGKVQGVGYRHATVRRAHMLGVTGWVQNMENGTVQAMVQGSPDQVDHMLEWMRRGPPAASVTELESRREDGGRRFKHFAQH00000000000000000000000000\n",
      "Score: 375.11199951171875 | Length: 94 | Different characters: 19 | Repeating 2s: 8 | Repeating 3s: 0\n",
      "MKKRCEFLIFGKVQGVGFRRFVKYRVDKLNEESKVLSGNVCNLSDGSVRVIAQGEEEALEKLCKILEIGPIKSEVERIQSREIDIDESLNDFEILR000000000000000000000000\n",
      "Score: 367.39031982421875 | Length: 96 | Different characters: 17 | Repeating 2s: 5 | Repeating 3s: 1\n",
      "MGGLKRMYVIVYGIVQGVGYRRFIQIHAARLGIKGYAKNLPDGSVEILAEGYEEALYKLLDQIKRGPPLSKVEKVDVKFDDYTGEFASFDTY0000000000000000000000000000\n",
      "Score: 346.0387268066406 | Length: 92 | Different characters: 18 | Repeating 2s: 7 | Repeating 3s: 0\n",
      "MSKICIIAWIYGRVQGVGFRYTTQYEAKRLGLTGYAKNLDDGSVEVVACGEEGQVEKLMQWLKSGGPRSARVERVLSEPHHPSGELTDFRIR0000000000000000000000000000\n",
      "Score: 350.5994873046875 | Length: 92 | Different characters: 20 | Repeating 2s: 7 | Repeating 3s: 0\n",
      "MKAIEVDVFGLVQGVGFRWFAQRTAQQHNIVGWVSNQTDGSVKIHAQGSQSDLIDFLSVLEKGPGFYSRVDKVITTNIPLFETNDFAIRG000000000000000000000000000000\n",
      "Score: 335.51959228515625 | Length: 90 | Different characters: 19 | Repeating 2s: 2 | Repeating 3s: 0\n",
      "MADVTYRLVICGLVQGVFYRGSMVSRANALGLRGWVRNRLDGSVEAVVQGEATEVNRMVEWARRGPSNAVVTSVNIFPSEGDFVGFQLREST0000000000000000000000000000\n",
      "Score: 334.7868347167969 | Length: 92 | Different characters: 18 | Repeating 2s: 3 | Repeating 3s: 0\n",
      "MTDETLRLTARITGVVQGVGFRYWTARKADELLLKGTVRNSADGSVELVAEGSAADVDSIVKWLHSSRAPGRVENVDFQVSDATGEFDDFRIID00000000000000000000000000\n",
      "Score: 341.22161865234375 | Length: 94 | Different characters: 19 | Repeating 2s: 7 | Repeating 3s: 1\n",
      "MSRNELDERIETYYVRVRGVVQGVGFRHATVREAHALKLRGWVANLEDGTVEAMIQGPGAQIDRMLAWLRHGPPAARVTEVTFEERRTEKRFERFQQQ0000000000000000000000\n",
      "Score: 368.8077392578125 | Length: 98 | Different characters: 19 | Repeating 2s: 8 | Repeating 3s: 1\n",
      "METWHMTAHGRVQGVGYRAGCAQAAIALGVRGWVRNRADGTVEVMASGTIQQLEALRNWMQAGPPAAHVARVDVEPGQGKFEDFDLRPTL000000000000000000000000000000\n",
      "Score: 340.5755615234375 | Length: 90 | Different characters: 20 | Repeating 2s: 4 | Repeating 3s: 0\n",
      "MSAAAQLKSVDYEVFGRVQGVCFRMYTEGEAKKIGVVGWVKNTSKGTVTGQVQGPEEKVNSMKSWLSKVGSPSSRIDRTNFSNEKSISKLEYSNFSIRY000000000000000000000\n",
      "Score: 377.5811767578125 | Length: 99 | Different characters: 19 | Repeating 2s: 6 | Repeating 3s: 1\n",
      "MKRVSMIVSGQVQGVGFRYYVQDIAEDMRITGWVRNLPDGTVEIDAEGKTDVLETFIRTISNTRQGAIQVRNVHVQEKEVCGYSIFTIRRD00000000000000000000000000000\n",
      "Score: 332.5399169921875 | Length: 91 | Different characters: 20 | Repeating 2s: 2 | Repeating 3s: 0\n",
      "MSAEPEVRLTAWVHGRVQGVGFRWWTRSRALELGLTGFAANKPDGRVQVVAQGSREDCERLLGLLEGGDTPGRVDKVIADWSDAREQITGFHER00000000000000000000000000\n",
      "Score: 400.67755126953125 | Length: 94 | Different characters: 19 | Repeating 2s: 6 | Repeating 3s: 0\n",
      "MKIRAMVTVKGMVQGVNFRRYTQQTAMRFNVSGWVKNLPNGSVAGCFEGEENDVAALIDWCRQGPGSARVSGVEVERGEFTGEFDDFHIAY00000000000000000000000000000\n",
      "Score: 370.7554626464844 | Length: 91 | Different characters: 20 | Repeating 2s: 5 | Repeating 3s: 0\n",
      "MRHIHLQVFGRVQGVGFRYFTQRIAMNYNIVGTVQNVDDYVEIYAQGDDADIERFIQGVIEGASPASNVTSHQLEELELNQKLSDFRSI0000000000000000000000000000000\n",
      "Score: 338.5090026855469 | Length: 89 | Different characters: 18 | Repeating 2s: 3 | Repeating 3s: 0\n",
      "MSEDVRLVAWVRGQVQGVGFRWFTRARALELGGMSGFALNLGDGRVQVVAEGPRERCEGLLEWLRGDDTPGRVDGVTEIWDTPRGGYEGFAIR000000000000000000000000000\n",
      "Score: 374.6484069824219 | Length: 93 | Different characters: 18 | Repeating 2s: 5 | Repeating 3s: 0\n",
      "MEKVRLTAWVRGHVQGVGFRWWTRARALELGLTGAATNLDDGRVEVVAEGDRTACERLLELLRSGQTPGRVDSVVERWTNHRGSFTGFEER00000000000000000000000000000\n",
      "Score: 334.9660949707031 | Length: 91 | Different characters: 18 | Repeating 2s: 8 | Repeating 3s: 0\n",
      "MLKKQFVVYGIVQGVGFRYFTWKKATEIGLNGIVKNQRDGSVYILAEGSASQIDSFRDWLSHGPPSARVDRVEENDYSGTHSFGLFSVEH000000000000000000000000000000\n",
      "Score: 340.1628723144531 | Length: 90 | Different characters: 19 | Repeating 2s: 5 | Repeating 3s: 0\n",
      "MLQYRIIVDGRVQGVGFRYFVQMEADKRKLAGWVKNRDDGRVEILAEGPENALQSFVEAVKNGSPFSKVTDISVTESRSLEGHHRFSIVYS00000000000000000000000000000\n",
      "Score: 331.5090026855469 | Length: 91 | Different characters: 19 | Repeating 2s: 3 | Repeating 3s: 0\n",
      "MAKVCIAAYVYGVVQGVGFRYSTQRQALALGVTGYARNCDDGSVEVVAYGEQQAVEQLMEWIKQGGPRGARVDRLLTEPYPATPFETFKIRY0000000000000000000000000000\n",
      "Score: 333.9122009277344 | Length: 92 | Different characters: 19 | Repeating 2s: 7 | Repeating 3s: 0\n",
      "MTKELCMRCYISGRVQGVWFRASAKKLAEQLMISGWARNLADGRVEVFACGKEDKLEEFYTWLQKGPLNARVDVCTRENLPWKDYISFDVL00000000000000000000000000000\n",
      "Score: 405.13958740234375 | Length: 91 | Different characters: 19 | Repeating 2s: 2 | Repeating 3s: 0\n",
      "MMPNIICLKAVISGKVQGVGYRYSTRAKAQSLGLVGWVRNLPDGRVEAMAEGERTQVDKLIEWFKQGPPAAEVSKVDVDEESLGEFRAFEILR000000000000000000000000000\n",
      "Score: 345.1777648925781 | Length: 93 | Different characters: 19 | Repeating 2s: 5 | Repeating 3s: 0\n",
      "MSGDDLDERIETYYVRVRGVVQGVGFRHATVREAHALKLRGWVANLDDGSVEAMLQGPAPQIDRMLAWLRHGPSTAHVTEVTFEERPTDKRFERFQQH0000000000000000000000\n",
      "Score: 369.3412170410156 | Length: 98 | Different characters: 19 | Repeating 2s: 6 | Repeating 3s: 0\n",
      "MGEQSFVVHVWGQVQGVGFRYFTRERALQLGLRGYAYNLADGSVEILICGPEQGVQMMLGWLEHGPRTAEVTRMEYEEAPPPQKGGFHTN000000000000000000000000000000\n",
      "Score: 354.107177734375 | Length: 90 | Different characters: 20 | Repeating 2s: 6 | Repeating 3s: 1\n",
      "MKTVTMKVTGLVQGVGFRWTTQMIAQDLGITGTVKNNPDGSVSIVAQGEELPLEHFIKKIKASPSVAGHVDHVDLNTVSDAEKFTRFSVVY00000000000000000000000000000\n",
      "Score: 338.99688720703125 | Length: 91 | Different characters: 19 | Repeating 2s: 5 | Repeating 3s: 0\n",
      "MKQKHLQVFGTVQGVGFRYYTQRLANKYNILGTVQNVDDYVEIYAIGNDDDLEQFINAVTEGASPASHVTHYELEDTNVSEDFSDFKSI0000000000000000000000000000000\n",
      "Score: 316.0796203613281 | Length: 89 | Different characters: 18 | Repeating 2s: 4 | Repeating 3s: 1\n",
      "MTKELCMRCYISGRVQGVWFRASAKNLAEQLMISGWARNLADGRVEVFACGKEDKLEEFYTWLQKGPLNARVDVCTRENLPWEDYISFDVL00000000000000000000000000000\n",
      "Score: 407.2516174316406 | Length: 91 | Different characters: 19 | Repeating 2s: 1 | Repeating 3s: 0\n",
      "MNDRKRAVQARVYGRVQGVGYRIWTRSEAAGLGLVGWVRNERDGSVTAWLAGADAAVSAMIERLRQGPAGASVSRVEVEEIETWTAPGDFRIVA00000000000000000000000000\n",
      "Score: 345.58465576171875 | Length: 94 | Different characters: 18 | Repeating 2s: 3 | Repeating 3s: 0\n",
      "MPRLVALVKGRVQGVGYRAFAQKKALELGLSGYAENLPDGRVEVVAEGPKEALELFLHHLKQGPRLARVEAVEVQWGEEAGLKGFHVY00000000000000000000000000000000\n",
      "Score: 353.4852600097656 | Length: 88 | Different characters: 17 | Repeating 2s: 4 | Repeating 3s: 0\n",
      "MANLAKATGKLKSVDYEVFGRVQGVCFRMYTEDEARKLGVVGWVKNTRQGTVTGQVQGPEDKVNSMKAWLSRVGSPSSRIDRIDFNDEKEITKLQYNGFSTRY00000000000000000\n",
      "Score: 402.6313781738281 | Length: 103 | Different characters: 19 | Repeating 2s: 2 | Repeating 3s: 0\n",
      "MIMASICTMAWVYGSVQGVGFRYSTQREALQLGVTGYARNLDDGGVEVLVCGEAEQVEKLIAWLKAGGPRSARVDRVLTEPHQPTRSWDKFAILY0000000000000000000000000\n",
      "Score: 356.7698669433594 | Length: 95 | Different characters: 20 | Repeating 2s: 3 | Repeating 3s: 0\n",
      "MTQKEKNETCIHATVSGKVQGVFFRESVRKKAEELQLTGWVKNLSHGDVELVACGERDSIMILTEWLWEGPPQAAVSNVNWEEIVVEDYSDFRVR0000000000000000000000000\n",
      "Score: 392.88616943359375 | Length: 95 | Different characters: 20 | Repeating 2s: 7 | Repeating 3s: 0\n",
      "MGQSMSGTRRASLRIEGKVQGVFFRESARVEATRLGLTGWVRNRPDGAVEAVVEGEPAVLEEFIHWCHRGPAQARVSGVQRTDSKATGEFSQFNVERTS000000000000000000000\n",
      "Score: 374.9664611816406 | Length: 99 | Different characters: 19 | Repeating 2s: 4 | Repeating 3s: 0\n",
      "MVTCVRCLIAGRVQGVWFRASTKEKAMELGVRGWVRNLPDGRVEALLQGEAEAVEALKKWLWRGPTLAQVVDVQSEMVEIPEIQMFEVR0000000000000000000000000000000\n",
      "Score: 360.8272705078125 | Length: 89 | Different characters: 18 | Repeating 2s: 3 | Repeating 3s: 0\n",
      "MPEPDARLTAWVHGHVQGVGFRWWTRCRALELGLTGYAANQPDGRVLVVAQGPRPAGEKLLELLRGGTTWPSRPGRVDKVVADWSAPQERFEGFVER00000000000000000000000\n",
      "Score: 391.2735595703125 | Length: 97 | Different characters: 19 | Repeating 2s: 8 | Repeating 3s: 0\n",
      "MPEPDARLTAWVHGHVQGVGFRWWTRCRALELGLTGYAANQPDGRVLVVAQGPRPAGEKLLELLRGGTTWPSRPGRVDKVVADWSAPQERFEGFVER00000000000000000000000\n",
      "Score: 391.2735595703125 | Length: 97 | Different characters: 19 | Repeating 2s: 8 | Repeating 3s: 0\n",
      "MKAVDVLISGRVQKVGYRAFTRKNALLLGIKGYVENMPDGKVHAVLEGDDHQIDKLLELLRQGPVVSQVRDIKVTEIERAGHQGFEVR00000000000000000000000000000000\n",
      "Score: 330.9895324707031 | Length: 88 | Different characters: 18 | Repeating 2s: 6 | Repeating 3s: 1\n",
      "MSKICIIAWIYGRVQGVGFRYTTQYEAKRLGLTGYAKNLDDGSVEVVACGEEGQVEKLMQWLKSGGPRSARVERVLSEPHHPSGELTDFRIR0000000000000000000000000000\n",
      "Score: 350.5994873046875 | Length: 92 | Different characters: 20 | Repeating 2s: 7 | Repeating 3s: 0\n",
      "MNRIACTVHGRVQGVGFRYWTKRKAAALGLRGWVKNAPDGTVMLEAAGEAGLWMSLPGRCTAGLPSAP0000000000000000000000000000000000000000000000000000\n",
      "Score: 336.1495056152344 | Length: 68 | Different characters: 20 | Repeating 2s: 3 | Repeating 3s: 1\n",
      "MSPHYIGTMADAADHDAGQDVRLRARVEGVVQAVGFRYWTVRKAEELSLTGTVRNEDDGTVAVVVEGPQSVVLEFRRWLGSDDAPGRVDHVEESVSPATGEFSSFDVVY00000000000\n",
      "Score: 381.37860107421875 | Length: 109 | Different characters: 19 | Repeating 2s: 12 | Repeating 3s: 1\n",
      "MENEATVPAGREASMTETNETRRYLVTGRVQGVGFRWFVEHAAVQLGLAGWVRNRADGRVEVLASGPRQKLHDLYVELKKGPRASRVDNVEVEDAAPETNLKSFRIEGTW0000000000\n",
      "Score: 386.4393615722656 | Length: 110 | Different characters: 19 | Repeating 2s: 4 | Repeating 3s: 0\n",
      "MSTLGKAPGALKSVDYEVFGRVQGVCFRMYTEEEARKLGVVGWVKNTSQGTVTGQVQGPEDKVNAMKSWLTKVGSPSSRIDRTNFSNEKEISKLDFSGFSTRY00000000000000000\n",
      "Score: 407.7228088378906 | Length: 103 | Different characters: 19 | Repeating 2s: 4 | Repeating 3s: 1\n",
      "MYKQQYFISGKVQGVGFRFFTEQVANNMKLKGFVKNLNDGRVEIVAFFNTKEQIKKFENLLKNGNRYSNIENIEKKTLDEKYPFQFNNFKIYY000000000000000000000000000\n",
      "Score: 355.04949951171875 | Length: 93 | Different characters: 17 | Repeating 2s: 9 | Repeating 3s: 0\n",
      "MRHIHLQVFGRVQGVGFRYFTQRIAMNYNIVGTVQNVDDYVEIYAQGDDADIERFIQGVIEGASPASNVTSHQLEELELNQKLSDFRSI0000000000000000000000000000000\n",
      "Score: 338.5090026855469 | Length: 89 | Different characters: 18 | Repeating 2s: 3 | Repeating 3s: 0\n",
      "MKTLLVRISGKVQGVWYRGWTVETAKGLGLAGWVRNRADGTVEALFHGPEAAVEAMLIACRGGPPSARVDDLRVTPVAAPDQPGFSQKPSL00000000000000000000000000000\n",
      "Score: 342.1224670410156 | Length: 91 | Different characters: 20 | Repeating 2s: 6 | Repeating 3s: 0\n",
      "MERMTAWVHGFVQGVGFRWWTRARALELGLVGYAANQKDGRVLVIAEGPRDKLETLLTLLRSGDTPGAVDLVVEQWDSARGDLTGFVER0000000000000000000000000000000\n",
      "Score: 343.0145263671875 | Length: 89 | Different characters: 19 | Repeating 2s: 5 | Repeating 3s: 0\n",
      "MSNVCIIAWVYGRVQGVGFHYTTQHEAQRLGLTGYAKNMDDGSVEVVACGDAAQVEKLIKWLKEGGPRSARVDKILTEPHSPRETLTGFSIRY000000000000000000000000000\n",
      "Score: 348.0972595214844 | Length: 93 | Different characters: 20 | Repeating 2s: 6 | Repeating 3s: 0\n",
      "MCGRPGDDGDMRSAVDVTVTGRVQGVSFRYYADREADRLGVAGWVRNEPDGTVAAHVEGDPGAVAAFVRWCHDGPRLAHVEQVDVRDGTDQGLRSFGVR000000000000000000000\n",
      "Score: 389.6176452636719 | Length: 99 | Different characters: 18 | Repeating 2s: 4 | Repeating 3s: 0\n",
      "MDLVRAHVFISGRVQGVSFRAYTRDRAREAQVKGWVRNLSDGRVEAVFEGTRPAVQKLISWCYSGPSQAQVERVEVHWEEPTGKEGIFTIVW0000000000000000000000000000\n",
      "Score: 341.5962829589844 | Length: 92 | Different characters: 20 | Repeating 2s: 1 | Repeating 3s: 0\n",
      "MKRVLIKLTGKVQGVGCRRTTLAKARVLGVTGYVTNCVDGSVEVLAQGSHVAVDNLIAWCQAGVPCTVGLRVDVEEYQGDDIYLDFSIVR000000000000000000000000000000\n",
      "Score: 340.82147216796875 | Length: 90 | Different characters: 20 | Repeating 2s: 4 | Repeating 3s: 0\n",
      "MKRVRAHLRIYGRVQGVGFRWSMSREARKLGVHGWVRNLPDGTVEAVIEGDPERVEALIGWAHQGPPLARVTRVEVKWEEPEGLEGFKVVG00000000000000000000000000000\n",
      "Score: 351.0118103027344 | Length: 91 | Different characters: 19 | Repeating 2s: 3 | Repeating 3s: 0\n",
      "MPRRSYSVIGRVQGVGFRSWTRRTALRLDLRGWVRNEPDGTVRLCADGTDEALATLETALRKGPMFSRVDHVVKHDDPAHEGPLPDTFDIRFRAPGSASE00000000000000000000\n",
      "Score: 373.4123229980469 | Length: 100 | Different characters: 20 | Repeating 2s: 4 | Repeating 3s: 0\n",
      "MSTGRPLKSVDYEVFGRVQGVCFRMYTEDEARKIGVVGWVKNTSKGTVTGQVQGPEEKVNSMKSWLSKVGSPSSRIDRTNFSNEKTISKLEYSSFNIRY000000000000000000000\n",
      "Score: 381.04522705078125 | Length: 99 | Different characters: 19 | Repeating 2s: 4 | Repeating 3s: 0\n",
      "MSRNELDERIETYYVRVRGVVQGVGFRHATVREAHALKLRGWVANLEDGTVEAMIQGPGAQIDRMLAWLRHGPPAARVTEVTFEERRTEKRFERFQQQ0000000000000000000000\n",
      "Score: 368.8077392578125 | Length: 98 | Different characters: 19 | Repeating 2s: 8 | Repeating 3s: 1\n",
      "MADRVRARIVVSGRVQGVAFRQSAADEGRRLGVKGWVRNLPDGRVEAEVEGERAAVGALVRWCHAGPPAARVDGVEVEWVDPAGDLGAFEIRF000000000000000000000000000\n",
      "Score: 356.6446533203125 | Length: 93 | Different characters: 18 | Repeating 2s: 6 | Repeating 3s: 0\n",
      "MSKIYIVAYVYGVVQGVGFRYSTQRQAQQLGVTGYAKNCDDGSVEVVASGNPQAVERLMEWIRQGGPRGARVDRLLTEPYPPTPFETFSIRY0000000000000000000000000000\n",
      "Score: 343.769287109375 | Length: 92 | Different characters: 19 | Repeating 2s: 7 | Repeating 3s: 0\n",
      "MTTTQEKTRCTISGRVQGVCFRAATQEQAVRLGVTGYARNLRDGRVEVLACGPPEAVAQLREWLHEGPPAATVESVACEPADDPAPAEFSVG0000000000000000000000000000\n",
      "Score: 345.60540771484375 | Length: 92 | Different characters: 20 | Repeating 2s: 7 | Repeating 3s: 1\n",
      "MDNIGCKVIVSGIVQAVGFRYFTCREARLHYVMGHAKNLQCGDVEVVMYGPREQIAKMLKWLEKGPKTARVTGITVSEIPYQKTNDFIAC000000000000000000000000000000\n",
      "Score: 346.2710266113281 | Length: 90 | Different characters: 20 | Repeating 2s: 1 | Repeating 3s: 0\n",
      "MPRRSYSVIGRVQGVGFRSWTRRTALRLDLRGWVRNEPDGTVRLCADGTDEALATLETALRKGPMFSRVDHVVKHDDPAHEGPLPDTFDIRFRAPGSASE00000000000000000000\n",
      "Score: 373.4123229980469 | Length: 100 | Different characters: 20 | Repeating 2s: 4 | Repeating 3s: 0\n",
      "MMDMARAHVFISGRVQGVNFRASARNYAREVGVSGWVRNLEDGRVEAVFEGERSAVQKMVSWCYSGPSHARVEAVDVRWEKPTGEERGFSIIW000000000000000000000000000\n",
      "Score: 359.517333984375 | Length: 93 | Different characters: 20 | Repeating 2s: 3 | Repeating 3s: 0\n",
      "MGSKNNSRAKILVRGKVQGVGFRYYILQRAQECRLSGYTQNLPGGEVETVVEGDKMFIEDLYRAIQRGPKGSEVKEALITWEDPKGNFRTFEIKK0000000000000000000000000\n",
      "Score: 385.8083190917969 | Length: 95 | Different characters: 19 | Repeating 2s: 5 | Repeating 3s: 0\n",
      "MSRNELDERIETYYVRVRGVVQGVGFRHATVREAHALKLRGWVANLEDGSVEAMIQGPGAQIDRMLAWLRHGPPAARVTEVTFEERLIERRFDRFQQQ0000000000000000000000\n",
      "Score: 368.4259338378906 | Length: 98 | Different characters: 19 | Repeating 2s: 8 | Repeating 3s: 1\n",
      "MRHIHLQVFGRVQGVGFRYFTQRIAMNYNIVGTVQNVDDYVEIYAQGDDADIERFIQGVIEGASPASNVTSHQLEELELNQKLSDFRSI0000000000000000000000000000000\n",
      "Score: 338.5090026855469 | Length: 89 | Different characters: 18 | Repeating 2s: 3 | Repeating 3s: 0\n",
      "MSESPHDHAGDPVRLSAWVHGHVQGVGFRWWTRSRALESGLTGYARNAPDGRVHVIAEGPRERCERLLELLRSGTTPGRVSLVVESWEPARGDLTGFEER00000000000000000000\n",
      "Score: 392.70587158203125 | Length: 100 | Different characters: 19 | Repeating 2s: 6 | Repeating 3s: 0\n",
      "MVCKRWILYGRVQGVGLRHFLRVHGVRLQLEGYVRNLPDGSVEVVAQGEKEKVLKLKTIILQGNGFSRLEDVQEEDFPIGNYGSFHIEY0000000000000000000000000000000\n",
      "Score: 338.07513427734375 | Length: 89 | Different characters: 20 | Repeating 2s: 3 | Repeating 3s: 0\n",
      "MVEEEQPISVDYEVFGKVQGVFFRKYTQAEGNRLGLVGWVRNTDAGTVTGQLQGPSEKVREMQVWLQKKGSPKSRITKVQFQNERRLPKLEHSTFSICK000000000000000000000\n",
      "Score: 368.7857666015625 | Length: 99 | Different characters: 20 | Repeating 2s: 5 | Repeating 3s: 1\n",
      "MGESDVRLTAWVHGRVQGVGFRWWTRSRALELGLTGYAANKPDGRVQVVAQGSRAACERLLDLLTGGNTPGHVDKVISDWGEPADAIAGFTER000000000000000000000000000\n",
      "Score: 356.37884521484375 | Length: 93 | Different characters: 20 | Repeating 2s: 7 | Repeating 3s: 0\n",
      "MSALTKASGALKSVDYEVFGRVQGVCFRMYTEEEARKLGVVGWVKNTRQGTVTGQVQGPEDKVNAMKSWLSKVGSPSSRIDRTNFSNEKEISKLDFSGFSTRY00000000000000000\n",
      "Score: 406.010986328125 | Length: 103 | Different characters: 19 | Repeating 2s: 4 | Repeating 3s: 1\n",
      "MIRKEFLVSGRVQGVGFRFFCKYQASLLSLTGYAENLDDGQVLIEVQGDESSIRKFKTKILNGNGFSRVISIDEKDLTVDTREKRFSTY0000000000000000000000000000000\n",
      "Score: 344.881103515625 | Length: 89 | Different characters: 17 | Repeating 2s: 4 | Repeating 3s: 0\n",
      "MEMARAHVFIRGKVQGVFFRQSMKEVAMRNGVKGWVRNRSDGKTVEAVLEGPRDAVMKVLEWARIGPPGARVEDIEVQWEEYKGEFKDFKILPTV0000000000000000000000000\n",
      "Score: 368.7189025878906 | Length: 95 | Different characters: 19 | Repeating 2s: 3 | Repeating 3s: 0\n",
      "MARDTAILRVTGFVQGVGFRYTTKHVAYKYDISGTVKNLDDGSVEIHAIAEEENLNKFIDAIKKGPSPGCRIEHVYIYKGAPVEERKTFDIVY000000000000000000000000000\n",
      "Score: 378.19659423828125 | Length: 93 | Different characters: 19 | Repeating 2s: 6 | Repeating 3s: 1\n",
      "MKIRAIVTIKGLVQGVAFRHHTVQQAQRLGVSGWVKNLAGGDVQGCFEGEEEAVDALVAWCHHGPSRARVDRVILEREHYRGEFDDFDVRY00000000000000000000000000000\n",
      "Score: 370.6093444824219 | Length: 91 | Different characters: 20 | Repeating 2s: 7 | Repeating 3s: 1\n",
      "MSDAHMETVHVIVKGKVQGVGYRHAAVRRAHMLGVTGWVQNLPDGTVEAVVQGTADQVDHMLEWLRRGPPAAQVRELASERSFEEKRYKHFAQL00000000000000000000000000\n",
      "Score: 378.0667724609375 | Length: 94 | Different characters: 19 | Repeating 2s: 7 | Repeating 3s: 0\n",
      "MNEDVRLVAWVRGRVQGVGFRWFTRAKALEIGGLSGFALNLDDGRVQVVAEGAREGCQGLLDWLQGDDTPGRVDGVTEMWDTPRGSYDGFLIR000000000000000000000000000\n",
      "Score: 378.0229187011719 | Length: 93 | Different characters: 19 | Repeating 2s: 5 | Repeating 3s: 0\n",
      "MRLTALVSGHVQGVGYRLFVQRYARDLGLHGYAENLSDGKVEVIAEGDEDALNRLLHWLRRGPPHARVQAVDTQYSEETGLREFHIY000000000000000000000000000000000\n",
      "Score: 370.37786865234375 | Length: 87 | Different characters: 19 | Repeating 2s: 4 | Repeating 3s: 0\n",
      "MSTTIRQVMVRGRVQGVGYRAWLAMTAEAQGLEGWVRNRRDGSVEALLAGRETVVAEMISRCRTGPSAAHVDEVIVEEAGQDALNLRYAGERFSILSTL000000000000000000000\n",
      "Score: 350.4328308105469 | Length: 99 | Different characters: 19 | Repeating 2s: 6 | Repeating 3s: 0\n",
      "MTMICTAAWVHGQVQGVGFRYATQHQAKLQGLSGYVRNQDDGSVEVVACGESAKVEKLLDWLRQGG000000000000000000000000000000000000000000000000000000\n",
      "Score: 329.3116760253906 | Length: 66 | Different characters: 19 | Repeating 2s: 5 | Repeating 3s: 0\n",
      "MSKVCIIAWVHGRVQGVGFRYTTQHEAQRLGLTGYARNLDDGSVEVVACGESEQVDKLMKWLKDGGPRSARVDRVLSEPHRPGEELTGFRIRY000000000000000000000000000\n",
      "Score: 340.4158630371094 | Length: 93 | Different characters: 20 | Repeating 2s: 6 | Repeating 3s: 0\n",
      "MSDRVRVHVWIRGRVQGVGFRAHTEAMALHAGVQGWVRNLRDGRVEAVFEGSPAAVEAMLRWCQQGSPGSVVEAIEQRSEPPEGLPTFEIRPTV00000000000000000000000000\n",
      "Score: 367.9225769042969 | Length: 94 | Different characters: 18 | Repeating 2s: 4 | Repeating 3s: 0\n",
      "MQAARFVVSGVVQGVYYRACTRQRAVALGLVGHARNQADGSVDVVAAGSAAALDALEAWLCRARRPPRSRRSRARPARFRRLKTL00000000000000000000000000000000000\n",
      "Score: 324.2026672363281 | Length: 85 | Different characters: 19 | Repeating 2s: 12 | Repeating 3s: 1\n",
      "MKNYKIIVFGTVQGVGFRYTTKAIADNMGIKGIVRNQSDGTVYIEAQGNSLLLSQFISSIKAPKNPFAKVTKIDVSEIPVKTYNDFSVTY000000000000000000000000000000\n",
      "Score: 325.6207275390625 | Length: 90 | Different characters: 17 | Repeating 2s: 5 | Repeating 3s: 1\n",
      "MRHIHLQVFGRVQGVGFRYFTQRIAMNYNIVGTVQNVDDYVEIYAQGDDADIERFIQGVIEGASPASNVTSHQLEELELNQKLSDFRSI0000000000000000000000000000000\n",
      "Score: 338.5090026855469 | Length: 89 | Different characters: 18 | Repeating 2s: 3 | Repeating 3s: 0\n",
      "MQAARFVVSGVVQGVWYRASTRERAVALGLVGHARNQTDGSVEVVAAGSAAALGALEAWLWQGPPAATVEAVTRTPCAVPPTEDFVTG00000000000000000000000000000000\n",
      "Score: 349.1788635253906 | Length: 88 | Different characters: 18 | Repeating 2s: 10 | Repeating 3s: 1\n",
      "MAHTRAHVFVSGRVQGVYYRATTRERAQDQGVNGWVRNLDDGRVEAVFEGPDADVEAMVEFCHEGSERANVTDVEVEYEDPEGVDGFEVRW00000000000000000000000000000\n",
      "Score: 341.017333984375 | Length: 91 | Different characters: 18 | Repeating 2s: 3 | Repeating 3s: 0\n",
      "MARDTAILRVTGFVQGVGFRYTTKHVAYKYDISGTVKNLDDGSVEIHAIAEEENLNKFIDAIKKGPSPGCRIEHVYIYKGAPVEERKTFDIVY000000000000000000000000000\n",
      "Score: 378.19659423828125 | Length: 93 | Different characters: 19 | Repeating 2s: 6 | Repeating 3s: 1\n",
      "MFDHDKAVRVRISGKVQGVGFRYWTRDEAVRLGLTGWVRNEEDGAVVAVIAGPDSAISTMIERFRRGPSGASVSSVETEATQLEKNPTDFRITR00000000000000000000000000\n",
      "Score: 350.08502197265625 | Length: 94 | Different characters: 19 | Repeating 2s: 4 | Repeating 3s: 0\n",
      "MKTVTMRVTGLVQGVGFRWTTQMIAQELGITGTVKNNPDGSVSIVAQGDELPLEHFIKKIKASPSVAAHVDHVDLKIIPNTEKFTRFSVVY00000000000000000000000000000\n",
      "Score: 339.23638916015625 | Length: 91 | Different characters: 19 | Repeating 2s: 6 | Repeating 3s: 0\n",
      "MGIVRAHLRIYGRVQGVGFRWSMQREARKLGVNGWVRNLPDGSVEAVLEGEEERVEALIGWAHQGPPFARVTRVEVKWEEPKGEKGFRIVG00000000000000000000000000000\n",
      "Score: 359.75714111328125 | Length: 91 | Different characters: 19 | Repeating 2s: 4 | Repeating 3s: 1\n",
      "MKTLHLQIEGRVQGVWFRESMRREAERLGVDGWVRNRPDGSVEAVVQGTDEAVAALVAWAKMGPPLAHVERVDLSETEGEYSGFEKRSD0000000000000000000000000000000\n",
      "Score: 327.88616943359375 | Length: 89 | Different characters: 19 | Repeating 2s: 4 | Repeating 3s: 0\n",
      "MDKVATAAYVYGVVQGVGFRYSTQRQAAQLELSGYARNCDDGSVEVVASGEPHAVEMLIEWLKQGGPRSARVDKVLIEPHGKTDYKGFTIRY0000000000000000000000000000\n",
      "Score: 329.1700744628906 | Length: 92 | Different characters: 20 | Repeating 2s: 6 | Repeating 3s: 0\n",
      "MEKVRLTAFVHGHVQGVGFRWWTTSQARELKLAGSASNLSDGRVCVVAEGPQTQCEELLRRLKENPSSYRRPGHVDTVIEQWGEPRDVEGFVER00000000000000000000000000\n",
      "Score: 366.9749755859375 | Length: 94 | Different characters: 20 | Repeating 2s: 8 | Repeating 3s: 0\n",
      "MAEGNTLISVDYEIFGKVQGVFFRKHTQAEGKKLGLVGWVQNTDRGTVQGQLQGPISKVRHMQEWLETRGSPKSHIDKANFNNEKVILKLDYSDFQIVK000000000000000000000\n",
      "Score: 380.443359375 | Length: 99 | Different characters: 19 | Repeating 2s: 3 | Repeating 3s: 0\n",
      "MNESRRFLVSGTVQGVFFRSSAKRHAEQLGLSGYARNLVDGRVEVLAHGPTDALDELAKWLEEGPPNAQVTGVEVSAVGEQPPEGFRVL0000000000000000000000000000000\n",
      "Score: 346.7528991699219 | Length: 89 | Different characters: 18 | Repeating 2s: 6 | Repeating 3s: 0\n",
      "MEKQCSKFIVSGHVQGVGFCYHTSHQGLKLGLTGYAKNLNNGDVEVVACGTPERLEELYLWLQEGPKTASVRQVRRLSSELEHDYQGFEIL00000000000000000000000000000\n",
      "Score: 354.5616455078125 | Length: 91 | Different characters: 20 | Repeating 2s: 5 | Repeating 3s: 0\n",
      "MSNVCIIAWVYGRVQGVGFRYTTQHEAQRLGLTGYAKNMDDGSVEVVACGDAAQVEKLIKWLKEGGPRSARVDKILTEPHSPRETLTGFSIRY000000000000000000000000000\n",
      "Score: 347.8038635253906 | Length: 93 | Different characters: 20 | Repeating 2s: 6 | Repeating 3s: 0\n",
      "MFKVKMIVSGRVQGVGFRYFVIISARELGILGRVWNNDDGTVEILAQTEDEKKLEEFTAIVRGEKSSKGRLSPFAKVTDVKSSPANFPDFTDFNIKY00000000000000000000000\n",
      "Score: 338.5551452636719 | Length: 97 | Different characters: 18 | Repeating 2s: 7 | Repeating 3s: 0\n",
      "MTHTLHLVIHGRVQGVGYRAWCADEAVSRGLSGFVRNRREGTVEAVISGPSEAVAAMLEACRSGPAHAHVERIEEALAEAPPAGTGFRVAATV000000000000000000000000000\n",
      "Score: 355.6813049316406 | Length: 93 | Different characters: 19 | Repeating 2s: 5 | Repeating 3s: 0\n",
      "MSALTKASGSLKSVDYEVFGRVQGVCFRMYTEEEARKLGVVGWVKNTSQGTVTGQVQGPEDKVNAMKSWLSKVGSPSSRIDRTKFSNEKEISKLDFSGFSTRY00000000000000000\n",
      "Score: 403.9330139160156 | Length: 103 | Different characters: 19 | Repeating 2s: 4 | Repeating 3s: 1\n",
      "MSTARPLKSVDYEVFGRVQGVCFRMYAEDEARKIGVVGWVKNTSKGTVTGQVQGPEEKVNSMKSWLSKVGSPSSRIDRTNFSNEKTISKLEYSNFSVRY000000000000000000000\n",
      "Score: 380.8015441894531 | Length: 99 | Different characters: 19 | Repeating 2s: 3 | Repeating 3s: 0\n",
      "MATAVRAHVWVGGKVQGVYFRAATREAAQRQGVAGWVRNLPDGRVEAVFEGPPAAVQRLIDWCRQGPPAAVVEQLRVAYELPEGLTHFEVLRS000000000000000000000000000\n",
      "Score: 352.98431396484375 | Length: 93 | Different characters: 20 | Repeating 2s: 8 | Repeating 3s: 0\n",
      "MLKRMYVKVYGIVQGVGFRRYVQIHAARLGIKGYAKNLPDGSVEIVAEGYEEALQKLLEYIKRGPPLSRVEKIEYRFYEYKGEFNNFDTY000000000000000000000000000000\n",
      "Score: 345.8772888183594 | Length: 90 | Different characters: 18 | Repeating 2s: 6 | Repeating 3s: 0\n",
      "MKKWSDTEVFEMLKRMYARVYGLVQGVGFRKFVQIHAIRLGIKGYAKNLPDGSVEVVAEGYEEALSKLLERIKQGPPAAEVEKVDYSFSEYKGEFEDFETY0000000000000000000\n",
      "Score: 368.9199523925781 | Length: 101 | Different characters: 19 | Repeating 2s: 6 | Repeating 3s: 0\n",
      "MSAPDVRLTAWVHGWVQGVGFRWWTRCRALELGLTGYAANHADGRVLVVAQGPRAACQKLLQLLQGDTTPGRVAKVVADWSQSTEQITGFSER000000000000000000000000000\n",
      "Score: 377.8611755371094 | Length: 93 | Different characters: 20 | Repeating 2s: 8 | Repeating 3s: 0\n",
      "MGIVRAHLRIYGRVQGVGFRWSMQREAKKLGVNGWVRNLPDGSVEAVLEGEEERVEALIGWAHQGPPLARVTRVEVTWEEPKGEKGFRIIG00000000000000000000000000000\n",
      "Score: 357.27362060546875 | Length: 91 | Different characters: 19 | Repeating 2s: 6 | Repeating 3s: 1\n",
      "MRHIHLQVFGRVQGVGFRYFTQRIAMNYNIVGTVQNVDDYVEIYAQGDDADIERFIQGVIEGASPASNVTSHQLEELELNQKLSDFRSI0000000000000000000000000000000\n",
      "Score: 338.5090026855469 | Length: 89 | Different characters: 18 | Repeating 2s: 3 | Repeating 3s: 0\n",
      "MEKVRLTAFVHGHVQGVGFRWWTTSQAQELKLAGSASNLSDGRVCVVAEGPQTQCEELLRRLKENPSSYRRPGHVDTVIEQWGEPRDVEGFVER00000000000000000000000000\n",
      "Score: 367.08642578125 | Length: 94 | Different characters: 20 | Repeating 2s: 8 | Repeating 3s: 0\n",
      "MQAARFVVSGVVQGVWYRASTRERAVALGLVGHARNQTDGSVEVVAAGSAAALGALEAWLWQGPPAATVEAVTRTPCAVPPTEDFVTG00000000000000000000000000000000\n",
      "Score: 349.1788635253906 | Length: 88 | Different characters: 18 | Repeating 2s: 10 | Repeating 3s: 1\n",
      "MTGPGPRRDEARLSAWVHGHVQGVGFRWWTRARALELGLTGFASNRPDGRVHVVAQGSREACEKLLELLRSGETPGSVDKVIADWAEPDATMTGFSER0000000000000000000000\n",
      "Score: 371.0404357910156 | Length: 98 | Different characters: 19 | Repeating 2s: 5 | Repeating 3s: 0\n",
      "MSTAGPLKSVDYEVFGRVQGVCFRMYTEGEAKKIGVVGWVKNTSKGTVTGQVQGPEDKVNSMKSWLSKVGSPSSRIDRTNFSNEKTISKLEYSNFSIRY000000000000000000000\n",
      "Score: 383.2882385253906 | Length: 99 | Different characters: 19 | Repeating 2s: 3 | Repeating 3s: 0\n",
      "MSDRIRAHVYVSGRVQGVYYRANTRDTARERDIDGWVRNLDDGRVEAVFEGPREAVESMVGWCHTGSPKARVESVDAAYDDPEGVDGFEIRR0000000000000000000000000000\n",
      "Score: 355.1313171386719 | Length: 92 | Different characters: 20 | Repeating 2s: 5 | Repeating 3s: 0\n",
      "MNVSYIAHISGRVQGVYFRASSQQQAIEYSLSGYARNLADGDVEVLLCGDEENIEKMLLWLAHGPEQAKVTEIQHEKVPWQEHHFFSIG0000000000000000000000000000000\n",
      "Score: 354.2879943847656 | Length: 89 | Different characters: 20 | Repeating 2s: 8 | Repeating 3s: 1\n",
      "MRAVTLKATGRVQGVGFRWATKVAADKCGVNGIVRNLMDGSVFIEAEGEDQRVQVFIDVVRQSPTDFGKVKHLEVHEVEPQNYHDFRITN000000000000000000000000000000\n",
      "Score: 336.57110595703125 | Length: 90 | Different characters: 20 | Repeating 2s: 2 | Repeating 3s: 0\n",
      "MSGDDLDERIETYYVRVRGVVQGVGFRHATVREAHALKLRGWVANLDDGSVEAMLQGSAPQIDRMLAWLRHGPPAAHVTEVTFEEHRTDKRFERFQQH0000000000000000000000\n",
      "Score: 379.2711181640625 | Length: 98 | Different characters: 19 | Repeating 2s: 8 | Repeating 3s: 0\n",
      "MYIFHGRVQGIGLRARTYSMAKSLGLSGYIKNRDDGTVEAVFQGDEEKIKRIIEYIKGIAYIEKIDYFDDDVKYNDFQIRY000000000000000000000000000000000000000\n",
      "Score: 352.789794921875 | Length: 81 | Different characters: 17 | Repeating 2s: 5 | Repeating 3s: 1\n",
      "MSKVCIIAWVYGRVQGVGFRYTTQYEAKKLGLTGYAKNLDDGSVEVVACGDEGQVEKLMQWLKSGGPRSARVERVLSEPHHPSGELTDFRIR0000000000000000000000000000\n",
      "Score: 348.78204345703125 | Length: 92 | Different characters: 20 | Repeating 2s: 7 | Repeating 3s: 0\n",
      "MSRAILQVMIRGRVQGVGYRAWVEYQATASGLEGWVRNRRDGSVEALFAGAPNHVADMVALCRHGPPSSRVDSVTSETAGADELNLRRAGEKFSVLPTV000000000000000000000\n",
      "Score: 354.81591796875 | Length: 99 | Different characters: 20 | Repeating 2s: 4 | Repeating 3s: 0\n",
      "MLQYRIIVDGRVQGVGFRYFVQMEADKHKLTGWVRNRDDGTVEIRAEGLEESLKQFLKAIQKGSPFSKVTDVKVEETKELDGFQKFNISY000000000000000000000000000000\n",
      "Score: 330.0108337402344 | Length: 90 | Different characters: 19 | Repeating 2s: 4 | Repeating 3s: 0\n",
      "MVKLAKQIVVRGRVQGVGFRWATKMIADNLDISGTIENRSDGSVFIQAAGEPLNLAKFVAKVKAGPNPYANVSTYEEQPLEDVPNFRGFQVTG000000000000000000000000000\n",
      "Score: 341.6142883300781 | Length: 93 | Different characters: 18 | Repeating 2s: 3 | Repeating 3s: 0\n",
      "MPDPDSTLAARLLRIRGRVQGVSYRASAQREAQRLGLSGWVRNRHDGSVEALVCGPADTVERFIAWAHVGPPAASVSAIEVGDAAPTDGAGFDCLPTC0000000000000000000000\n",
      "Score: 376.7017822265625 | Length: 98 | Different characters: 19 | Repeating 2s: 5 | Repeating 3s: 0\n",
      "MKRVHVIVEGRVQGVGFRYFVQHEALKRQLTGWVKNNDDGTVEMEAQGHESAVQLFLDTIEAGTMFAKVSRMHIEQRDVRPDEKQFRIMYGGGL00000000000000000000000000\n",
      "Score: 352.2652282714844 | Length: 94 | Different characters: 19 | Repeating 2s: 4 | Repeating 3s: 1\n",
      "MSMAEGDTLISVDYEIFGKVQGVFFRKYTQAEGKKLGLVGWVQNTDQGTVQGQLQGPASKVRHMQEWLETKGSPKSHIDRASFHNEKVIVKLDYTDFQIVK0000000000000000000\n",
      "Score: 390.4098815917969 | Length: 101 | Different characters: 19 | Repeating 2s: 2 | Repeating 3s: 0\n",
      "MAEPLKSVDYEVFGTVQGVCFRMYTEGEAKKRGLVGWVKNTSKGTVTGQVQGPEEKVNSMKSWLSKVGSPSSRIDRADFSNEKTISKLEYSNFSIRY00000000000000000000000\n",
      "Score: 349.9090576171875 | Length: 97 | Different characters: 19 | Repeating 2s: 3 | Repeating 3s: 0\n",
      "MTDVARPDVQACEQVRLTAWVRGRVQGVGFRWWVRARALELGLTGVARNLPDSRVEVVAEGPRERCAELLELLSGVPRHGRPGFVAGVTAEWSTARGGYSGFTQA000000000000000\n",
      "Score: 381.48187255859375 | Length: 105 | Different characters: 18 | Repeating 2s: 5 | Repeating 3s: 0\n",
      "MSMAEGDTLISVDYEVFGKVQGVFFRKYTQAEGKKLGLVGWVQNTDQGTVQGQLQGPTSKVRHMQEWLETRGSPKSHIDRASFNNEKVISKLDYSDFQIVK0000000000000000000\n",
      "Score: 387.4494934082031 | Length: 101 | Different characters: 19 | Repeating 2s: 3 | Repeating 3s: 0\n",
      "MSAPDVRLTAWVHGWVQGVGFRWWTRCRALELGLTGYAANHADGRVLVVAQGPRAACQKLLQLLQGDTTPGRVAKVVADWSQSTEQITGFSER000000000000000000000000000\n",
      "Score: 377.8611755371094 | Length: 93 | Different characters: 20 | Repeating 2s: 8 | Repeating 3s: 0\n",
      "MTKDRRAALVRITGRVQGVCFRDWTREEAERLGLDGWVRNESDGSVTALIAGPDGAVSRMLDHFWKGPPGASVADVASEEASSAEAPAGFRITRG0000000000000000000000000\n",
      "Score: 366.15118408203125 | Length: 95 | Different characters: 19 | Repeating 2s: 6 | Repeating 3s: 0\n",
      "MAIVRAHLKIYGRVQGVGFRWSMQREARKLGVNGWVRNLPDGSVEAVLEGDEERVEALIGWAHQGPPLARVTRVEVKWEQPKGEKGFRIVG00000000000000000000000000000\n",
      "Score: 356.96380615234375 | Length: 91 | Different characters: 19 | Repeating 2s: 2 | Repeating 3s: 0\n",
      "MRHIHLQVFGRVQGVGFRYFTQRIAMNYNIVGTVQNVDDYVEIYAQGDDADIERFIQGVIEGASPASNVTSHQLEELELNQKLSDFRSI0000000000000000000000000000000\n",
      "Score: 338.5090026855469 | Length: 89 | Different characters: 18 | Repeating 2s: 3 | Repeating 3s: 0\n",
      "MSKSAVSPSEARRWYVRGRVQGVGYRDFAQRAAVQLGLTGYARNLDDGRVEVYAVGPPSKLSELAGMLYRGPRWSDVRGIEEQEAAITSYDSFRIR000000000000000000000000\n",
      "Score: 354.6048278808594 | Length: 96 | Different characters: 18 | Repeating 2s: 6 | Repeating 3s: 0\n",
      "MTEKRVHIIVSGLVQGVGFRMFVLREASARSLSGWTRNLPDGTVEVEAQGDSGRVDELIRQIRIGPSRSSVTSIKVKEIEVDTSCREFRILT0000000000000000000000000000\n",
      "Score: 326.99005126953125 | Length: 92 | Different characters: 19 | Repeating 2s: 2 | Repeating 3s: 0\n",
      "MPNSTPQSQLIRVHVFVTGRVQGVGFRYSTVDTASQLGLTGWVRNLPDGRVEAVFEGARDIVEEMVRWCHAGPPAAVVQDVAVEYEEPEGLRGFEVKRLVN0000000000000000000\n",
      "Score: 389.48870849609375 | Length: 101 | Different characters: 20 | Repeating 2s: 5 | Repeating 3s: 0\n",
      "MYKQQYFISGKVQGVGFRFFTEQIANNMKLKGFVKNLNDGRVEIVAFFNTNEQMKKFEKLLKNGNKYSNIENIEKKTLDENYPFQFNNFKIYY000000000000000000000000000\n",
      "Score: 356.9315490722656 | Length: 93 | Different characters: 17 | Repeating 2s: 9 | Repeating 3s: 0\n",
      "MATHNVHSCEFEVFGRVQGVNFRRHALRKAKTLGLRGWCMNSSRGTVKGYIEGRPAEMDVMKEWLRTTGSPLSSIEKVEFSSQRERDRYGYANFHIKPDPHENRPVHEGLGSSSSHHDSN\n",
      "Score: 420.88677978515625 | Length: 120 | Different characters: 19 | Repeating 2s: 9 | Repeating 3s: 2\n",
      "MSTARPLKSVDYEVFGRVQGVCFRMYTEDEARKIGVVGWVKNTSKGTVTGQVQGPEEKVNSMKSWLSKIGSPSSRIDRTNFSNEKTISKLEYSNFSIRY000000000000000000000\n",
      "Score: 382.47161865234375 | Length: 99 | Different characters: 19 | Repeating 2s: 3 | Repeating 3s: 0\n",
      "MHCLRAIVKGKVQGVYFRDFTRTQATRLGLCGYAKNLANGAEVEVVAEGDKDALLEFLNLLRSGPPRAEVKDVETGWETATANYSDFRIKH00000000000000000000000000000\n",
      "Score: 354.98095703125 | Length: 91 | Different characters: 20 | Repeating 2s: 4 | Repeating 3s: 0\n",
      "MTKELCMRCYISGRVQGVWFRASAKNLAEQLMISGWARNLADGRVEVFACGKEDKLEEFYTWLQKGPLNARVDVCTRENLPWEDYITFDVL00000000000000000000000000000\n",
      "Score: 406.4481506347656 | Length: 91 | Different characters: 19 | Repeating 2s: 1 | Repeating 3s: 0\n",
      "MGEQSFVVRVWGLVQGVGFRYFTRERALQLGLRGHAYNLEDGSVEILICGPEQSVQMMLGWLERGPRTAEVTRMEYEVAPPPKGSGFHTN000000000000000000000000000000\n",
      "Score: 352.962890625 | Length: 90 | Different characters: 20 | Repeating 2s: 4 | Repeating 3s: 1\n",
      "MAGSGVAKQIFALDFEIFGRVQGVFFRKHTSHEAKRLGVRGWCMNTRDGTVKGQLEAPMMNLMEMKHWLENNRIPNAKVSKAEFSQIQEIEDYTFTSFDIKH000000000000000000\n",
      "Score: 373.7095947265625 | Length: 102 | Different characters: 20 | Repeating 2s: 3 | Repeating 3s: 0\n",
      "MSGDDLDERIETYYVRVRGVVQGVGFRHATVREAHALKLRGWVANLDDGSVEAMLQGSAPQIDRMLAWLRHGPPAAHVTEVTFEEHRTDKRFERFQQH0000000000000000000000\n",
      "Score: 379.2711181640625 | Length: 98 | Different characters: 19 | Repeating 2s: 8 | Repeating 3s: 0\n",
      "MKVQDKQHIRAWVSGKVQGVWYRNSTRQVAERLHVLGYAKNLPDGRVEVLAYGDTEAVNQLIDWLHDGPEAAIVTEVKTKQVEGETPPLGFEVC00000000000000000000000000\n",
      "Score: 369.70196533203125 | Length: 94 | Different characters: 20 | Repeating 2s: 2 | Repeating 3s: 0\n",
      "MLLGRRLAAMTELLKSVDYEVFGTVQGVCFRMYTEGEAKKRGLVGWVKNTSKGTVTGQVQGPEEKVDAMKSWLSKVGSPSSRIDRADFSNEKTISKLEYSDFSIRY00000000000000\n",
      "Score: 379.28033447265625 | Length: 106 | Different characters: 19 | Repeating 2s: 7 | Repeating 3s: 0\n",
      "MKKTVHLRITGHVQGVGLRYSVYQKATSLGITGYAENLYDGSVEVVAEGDEESIKELIHFIKTGLRWARVDNVEERWLEYKGQYKDFRIY000000000000000000000000000000\n",
      "Score: 350.47528076171875 | Length: 90 | Different characters: 18 | Repeating 2s: 4 | Repeating 3s: 0\n",
      "MAEEEPISVDYEVFGKVQGVFFRKYTQAEGNRLGLVGWVRNTDTGTVTGQLQGPSEKVREMQIWLQKKGSPKSRITKAQFQNERRIKKLEHSTFSICK0000000000000000000000\n",
      "Score: 369.7684326171875 | Length: 98 | Different characters: 20 | Repeating 2s: 6 | Repeating 3s: 1\n",
      "MIRYSAIVQGRVQGVGFRYFIQLTACKLSLTGWCKNLMNGNVEIEVQGLENNVLSFVSEIKKGNGFAKVSDIDLNILPVLDGEKKFSIKY000000000000000000000000000000\n",
      "Score: 338.3731384277344 | Length: 90 | Different characters: 19 | Repeating 2s: 3 | Repeating 3s: 0\n",
      "MSGDDLDERIETYYVRVRGVVQGVGFRHATVREAHALKLRGWVANLDDGSVEAMLQGSAPQIDRMLAWLRHGPPAAHVTEVTFEEHRTDKRFERFQQH0000000000000000000000\n",
      "Score: 379.2711181640625 | Length: 98 | Different characters: 19 | Repeating 2s: 8 | Repeating 3s: 0\n",
      "MNVKCERFIVKGHVQGVGFRYHTSHQGLKLGLTGYAKNLNNGDVEVMACGPKEKIDQFCEWLQEGPRTATVESVTRESVSYKPFRGFKIL000000000000000000000000000000\n",
      "Score: 352.71124267578125 | Length: 90 | Different characters: 20 | Repeating 2s: 1 | Repeating 3s: 0\n",
      "MVRFTARVAGLVQGVGFRDYVRTRGRRLGLVGSATNLPDGAVEVVAEGPEPACRDLLHLLMTGHTPGRTDRVEAVWQVAQSDLTDFRRK0000000000000000000000000000000\n",
      "Score: 336.0842590332031 | Length: 89 | Different characters: 19 | Repeating 2s: 5 | Repeating 3s: 0\n",
      "MRRVLIRVKGKVQGVCFRRFALERARELGVTGYVTNMDDGSVQILAQGSAPLVEKLIDWCWEGSPAASVNAVEVNEDEADEIYLDFSITQS00000000000000000000000000000\n",
      "Score: 333.0898132324219 | Length: 91 | Different characters: 19 | Repeating 2s: 4 | Repeating 3s: 0\n",
      "MRHIHLQVFGRVQGVGFRYFTQRIAMNYNIVGTVQNVDDYVEIYAQGDDADIERFIQGVIEGASPASNVTSHQLEELELNQKLSDFRSI0000000000000000000000000000000\n",
      "Score: 338.5090026855469 | Length: 89 | Different characters: 18 | Repeating 2s: 3 | Repeating 3s: 0\n",
      "MKKETWRLVAHGRVQGVGYRAACADAADDLELGGWVRNRLDGTVEVMAHGTVRQLEALQAWMEQGPPAAQVTLVEVGPGEGEFAGFEFRPTI0000000000000000000000000000\n",
      "Score: 349.1676940917969 | Length: 92 | Different characters: 19 | Repeating 2s: 7 | Repeating 3s: 0\n",
      "MHCLKAVVKGKVQGVYFRDFTRTQAIRLGLCGYAQNLESGTDVEVIAEGDKDILLEFLKLLRSGPPHAEVQEVEVSWSSTNGNYGDFHIKY00000000000000000000000000000\n",
      "Score: 351.00341796875 | Length: 91 | Different characters: 20 | Repeating 2s: 5 | Repeating 3s: 0\n",
      "MTKELCMRCYISGRVQGVWFRASAKKLAEQLMISGWARNLADGRVEVFACGKEDKLEEFYTWLQKGPLNARVDVCTRENLPWEDYISFDVL00000000000000000000000000000\n",
      "Score: 406.36517333984375 | Length: 91 | Different characters: 19 | Repeating 2s: 2 | Repeating 3s: 0\n",
      "MAELARAHILVSGEVQGVSFRAAAVDEARRLGVRGWVRNVADGRVEAEAEGERAKVEALVRWCGRGPPAARVADVQVSWGAYGGDLGPFSVRH000000000000000000000000000\n",
      "Score: 359.1911926269531 | Length: 93 | Different characters: 19 | Repeating 2s: 6 | Repeating 3s: 1\n",
      "MSEIIRQVMISGRVQGVGYRAWLAHTAEAMGLHGWVRNRRDGSVEAVLAGSEPIVSEMIARCQRGPSAARVEAVVAEIAQPDVLNLRQPGERFSILSTL000000000000000000000\n",
      "Score: 358.26513671875 | Length: 99 | Different characters: 19 | Repeating 2s: 4 | Repeating 3s: 0\n",
      "MDKRRAHVWISGRVHGVAFRAYTQEAAYHLGIGGWVRNLPDGRVEAVFEGDADKVARMVEWCRKGSPMSRVTEVEVREEDFRGEFVRFEITFGRWGA00000000000000000000000\n",
      "Score: 350.5351257324219 | Length: 97 | Different characters: 20 | Repeating 2s: 4 | Repeating 3s: 0\n",
      "MARDTAILRVTGFVQGVGFRYTTKHVAYKYDVSGTVKNLDDGSVEIHAIAEEENLNKFIDAIKKGPSPGCRIEHVYIYKGAPVEDRKTFDIVY000000000000000000000000000\n",
      "Score: 378.007568359375 | Length: 93 | Different characters: 19 | Repeating 2s: 5 | Repeating 3s: 1\n",
      "MSRGKHKPTITTERWRFFVEGKVQGVGFRQGCCRRAMDLGLSGWVRNLPDGRVEVQAEGTPMALSELRLWCERGPADARVSQVRPSQLPITGADWFEIRS00000000000000000000\n",
      "Score: 396.1004638671875 | Length: 100 | Different characters: 19 | Repeating 2s: 4 | Repeating 3s: 0\n",
      "MIKYGVTIYVYGRVQGVGFRYQTFRWAKLNRLTGYVCNLHDGSVKIVAYGDSEQLNTLTHWLEQGGPPGARIDNFSSQSCAVEDIADFIVRH0000000000000000000000000000\n",
      "Score: 341.16241455078125 | Length: 92 | Different characters: 20 | Repeating 2s: 3 | Repeating 3s: 0\n",
      "MSKIYIVAYVYGVVQGVGFRYSTQRQAQQLGVTGYAKNCDDGSVEVVASGNPQAVERLMEWIRQGGPRGARVDRLLTEPYPPTPFETFSIRY0000000000000000000000000000\n",
      "Score: 343.769287109375 | Length: 92 | Different characters: 19 | Repeating 2s: 7 | Repeating 3s: 0\n",
      "MAKRLERDGQPNRSLRIPAERWRFRIRGLVQGVGYRAGCCRRAQELGLAGWVRNCSDGSVEVQAEGDEQRLTELRVWCEGGPPGARVDSVDGSRVATTGADWFEIRPNHFQGGALTR000\n",
      "Score: 422.0061950683594 | Length: 117 | Different characters: 20 | Repeating 2s: 6 | Repeating 3s: 0\n",
      "MSAKHVLISGVVQGVGYRAWLRSRAEALGLSGWVRNRLDGRVEALIAGDIAAVEELIRACRTGPSAARVDRIEEHLDTDPITPGFEQYPTV00000000000000000000000000000\n",
      "Score: 336.65875244140625 | Length: 91 | Different characters: 20 | Repeating 2s: 5 | Repeating 3s: 0\n",
      "MMERYLIKVLGRVQGVGFRYFAQSLAGTYSITGTVKNCEDATVRIEAQGEEKNLNKFLAEIRKGNRFVKVEDIVAKKIPTADNEKSFKIVY00000000000000000000000000000\n",
      "Score: 342.2779235839844 | Length: 91 | Different characters: 18 | Repeating 2s: 3 | Repeating 3s: 0\n",
      "MARRTRNRSEIIARRFVSRQQPTRTQPFVERWRWIIQGQVQGVGFRASCSRRALDMGLKGWVRNLQDGSVEVQAEGPPIALAELRAWCEKGPLGAQVKRVKPCQMPVRGDDWFEVRY000\n",
      "Score: 414.46063232421875 | Length: 117 | Different characters: 19 | Repeating 2s: 8 | Repeating 3s: 0\n",
      "MSAPDVRLTAWVHGWVQGVGFRWWTRCRALELGLTGYAANHADGRVLVVAQGPRAACQKLLQLLQGDTTPGRVAKVVADWSQSTEQITGFSER000000000000000000000000000\n",
      "Score: 377.8611755371094 | Length: 93 | Different characters: 20 | Repeating 2s: 8 | Repeating 3s: 0\n",
      "MSTIVRQVTVQGRVQGVGYRAFVEYQAMKLDLEGWVRNRRDGSVEALFAGPAEAVAEIIARCRRGPSSARVTKLDEQPGSVDALDLRRPGERFSTLPTL000000000000000000000\n",
      "Score: 346.3567199707031 | Length: 99 | Different characters: 19 | Repeating 2s: 5 | Repeating 3s: 0\n",
      "MRAHIYVSGLVQGVFFRASMQEVARSLGVNGWVRNLPDGRVEAVLEGEEGAVLKVIEWARRGPPLARVERVDVEWEEYRGEFRDFYIKYR000000000000000000000000000000\n",
      "Score: 362.98883056640625 | Length: 90 | Different characters: 18 | Repeating 2s: 5 | Repeating 3s: 0\n",
      "MSGADRPDRIARRIHVKGKVQGVWFRAWTVEQAAELGLDGWVRNRADGSVEAVAAGPADRVEEMIARCRRGSPASRVDSIDVEDTPGVVAQGFTQKPTV000000000000000000000\n",
      "Score: 369.0478210449219 | Length: 99 | Different characters: 19 | Repeating 2s: 6 | Repeating 3s: 0\n",
      "MSTAQSLKSVDYEVFGRVQGVCFRMYTEDEARKIGVVGWVKNTSKGTVTGQVQGPEDKVNSMKSWLSKVGSPSSRIDRTNFSNEKTISKLEYSNFSIRY000000000000000000000\n",
      "Score: 379.0639343261719 | Length: 99 | Different characters: 19 | Repeating 2s: 2 | Repeating 3s: 0\n",
      "MRHIKVNVKGQVQGVGFRYFTQQAATENAIVGWVRNEDDGSVLIEAQGEDKNVDAFLNEVEKGPTKFARVQDMEVKELAEDTELTKFEVKY00000000000000000000000000000\n",
      "Score: 327.1811218261719 | Length: 91 | Different characters: 19 | Repeating 2s: 3 | Repeating 3s: 0\n",
      "MARIRRQLIIEGRVQGVGYRWSMAEQARKLGVVGWVRNLADGRVEAMAVGEEMAVLELIAWARRGPSHAIVRQVSVALGDGDFPSFEQRANG0000000000000000000000000000\n",
      "Score: 340.0720520019531 | Length: 92 | Different characters: 18 | Repeating 2s: 5 | Repeating 3s: 0\n",
      "MRHIHLQVFGRVQGVGFRYFTQRIAMNYNIVGTVQNVDDYVEIYAQGDDADIERFIQGVIEGASPASNVTSHQLEELELNQKLSDFRSI0000000000000000000000000000000\n",
      "Score: 338.5090026855469 | Length: 89 | Different characters: 18 | Repeating 2s: 3 | Repeating 3s: 0\n",
      "MLKKQFIVYGLVQGVGFRYFTWKTAMQIGVKGYVRNRDDGSVEVVAVGSTTQLAQLHTWLTQGPRTASVEQVIEQEYADSREFTDFSVRY000000000000000000000000000000\n",
      "Score: 327.52642822265625 | Length: 90 | Different characters: 19 | Repeating 2s: 4 | Repeating 3s: 0\n",
      "MSETRTRAHVFVSGTVQGVFYRASTRDAARERGVRGWVRNLDDGRVEAVFEGPESAVDSLIEWCHTGSPDASVSDVSVSYTEPEGIDGFHIRR000000000000000000000000000\n",
      "Score: 343.8866271972656 | Length: 93 | Different characters: 19 | Repeating 2s: 3 | Repeating 3s: 0\n",
      "MQKAVQLDVFGRVQGVGFRWTTKLVADRLGITGTVSNQPDGSVKIIAMGPDAILEQFIGAVKASPTPSGRVDRVVQTPLQDVSACHKFSVVG0000000000000000000000000000\n",
      "Score: 354.5955810546875 | Length: 92 | Different characters: 19 | Repeating 2s: 4 | Repeating 3s: 0\n",
      "MKALKIRVEGIVQGVGFRYFTRRVAKSLGVKGYVMNMDDGSVFIHAEGDENALRRFLNEVAKGPPAAVVTNVSVEETTPEGYEDFTIKYY000000000000000000000000000000\n",
      "Score: 339.0689697265625 | Length: 90 | Different characters: 18 | Repeating 2s: 9 | Repeating 3s: 0\n",
      "MTTTTETWQLFAHGRVQGVGYRAACADRATSLGLGGWVRNRVDGRVEVLASGPRERLEALRVWMEAGPPAAQVSKVEVAQAAPQLFDRFDWLPTA0000000000000000000000000\n",
      "Score: 352.75347900390625 | Length: 95 | Different characters: 19 | Repeating 2s: 8 | Repeating 3s: 2\n",
      "MCCRRVFRLSHRKEGMESARQTKRVRVYVSGRVQGVFFRDSTRERAERLGVSGWVRNLPDGRVEAVFEGEAGAVDELVRWCHEGPPHARVEGVEVEEEPASGGARGFEVR0000000000\n",
      "Score: 405.4884338378906 | Length: 110 | Different characters: 19 | Repeating 2s: 7 | Repeating 3s: 1\n",
      "MIQRQFTVYGCVQGVGFRFFTAREANKLGIQGYVKNQADGSVRVVAAGSDRQVAAFRDWLEQGPPTAEVTNLLEQEYTGGRVFSDFTIER000000000000000000000000000000\n",
      "Score: 328.7649230957031 | Length: 90 | Different characters: 19 | Repeating 2s: 7 | Repeating 3s: 0\n",
      "MKAVHMNASGQVQAVGFRYTTKLLADRLKVTGWVKNNPDGTVEIEAQAPDAVLDQFIDGVKASPSPSGRVNKLTVKSIPLFEGQDFIVKY000000000000000000000000000000\n",
      "Score: 329.27447509765625 | Length: 90 | Different characters: 19 | Repeating 2s: 3 | Repeating 3s: 0\n",
      "MKALKIRVEGIVQGVGFRYFTRRVAKSLGVKGYVMNMDDGSVFIHAEGDENALRRFLNEVAKGPPAAVVTNVSVEETTPEGYEDFTIKYY000000000000000000000000000000\n",
      "Score: 339.0689697265625 | Length: 90 | Different characters: 18 | Repeating 2s: 9 | Repeating 3s: 0\n",
      "MSKVCIIAWIYGRVQGVGFRYTTQYEAKKLGLTGYAKNLDDGSVEVVACGDEGQVEKLIQWLKSGGPRSARVERVLSEPHHPSGELTDFRIR0000000000000000000000000000\n",
      "Score: 347.5223693847656 | Length: 92 | Different characters: 20 | Repeating 2s: 7 | Repeating 3s: 0\n",
      "MTTKHVLVSGIVQGVGYRAWARQEATRRNLTGWVRNCADGRVEALLEGEADAVDDMLNAMHQGPALAQVDRILVEEGNNDDDGPRSTHFEVT0000000000000000000000000000\n",
      "Score: 339.0058898925781 | Length: 92 | Different characters: 20 | Repeating 2s: 8 | Repeating 3s: 1\n",
      "MKRVHVLVAGRVQGVWYRASAARKASELGLTGWVRNLPDGRVELVAEGDAESVDALLAWCRRGPPLARVTGLDVREMAVTGEFTEFAVLRDV0000000000000000000000000000\n",
      "Score: 333.082275390625 | Length: 92 | Different characters: 19 | Repeating 2s: 4 | Repeating 3s: 0\n",
      "MRHIHLQVFGRVQGVGFRYFTQRIAMNYNIVGTVQNVDDYVEIYAQGDDADIERFIQGVIEGASPASNVTSHQLEELELNQKLSDFRSI0000000000000000000000000000000\n",
      "Score: 338.5090026855469 | Length: 89 | Different characters: 18 | Repeating 2s: 3 | Repeating 3s: 0\n",
      "MHEVVRQVMIRGRVQGVGFRYWTMREAIRFGVGGWVRNRRDGSVEALFAGSTEAVAEMITRCRSGPEFARVDDIEDQPVAANALKMIRPGERFSQLPTV000000000000000000000\n",
      "Score: 366.9272155761719 | Length: 99 | Different characters: 20 | Repeating 2s: 5 | Repeating 3s: 0\n",
      "MHCLRAIVKGKVQGVYFRDFTRTQATRLGLCGYAKNLANGAEVEVVAEGDKDALLEFLDLLRSGPPRAEVKDVETSWETATANYSDFRIKH00000000000000000000000000000\n",
      "Score: 352.0907897949219 | Length: 91 | Different characters: 20 | Repeating 2s: 4 | Repeating 3s: 0\n",
      "MAWVHGRVQGVGFRYTTQHEATRLGLTGYARNLDDGSVEVLACGEAEQVEKLIAWLKAGGPRSAHVEKVLTEPHSPTEDYQDFRIRY000000000000000000000000000000000\n",
      "Score: 355.8163146972656 | Length: 87 | Different characters: 20 | Repeating 2s: 3 | Repeating 3s: 0\n",
      "MKERWRFLIEGSVQGVGFRNSCRRRALDLGLCGWVRNLKDGVVEIQAEGDELALNELRLWCERGPSAATVKRVLLSKIPVTGNDWFDVRT000000000000000000000000000000\n",
      "Score: 364.6125793457031 | Length: 90 | Different characters: 18 | Repeating 2s: 5 | Repeating 3s: 1\n",
      "MRHIHLQVFGRVQGVGFRYFTQRIAMNYNIVGTVQNVDDYVEIYAQGDDADIERFIQGVIEGASPASNVTSHQLEELELNQKLSDFRSI0000000000000000000000000000000\n",
      "Score: 338.5090026855469 | Length: 89 | Different characters: 18 | Repeating 2s: 3 | Repeating 3s: 0\n",
      "MLTTRRVRFYGRVQGINFRSNTLVKALELGVKGWIKNLPDGSVEALFSGESEQIEKLISYCVSNMPYAEVKRYDVYIEPYTEFQDFQIKR000000000000000000000000000000\n",
      "Score: 348.60211181640625 | Length: 90 | Different characters: 19 | Repeating 2s: 2 | Repeating 3s: 0\n",
      "MSQTLRVIVTVQGRVQGVGYRAACADMARALGLRGWVRNRRDGAVEAFLAGPEPNVLRMQAWMEEGPDLALVTQLRTTPGDIEPLPPGFEVRPTV0000000000000000000000000\n",
      "Score: 364.1476745605469 | Length: 95 | Different characters: 18 | Repeating 2s: 5 | Repeating 3s: 0\n",
      "MSQKSYLFNVKGKVQRVGFRFHTAHNALKLGLTGYARNQEDGSVEVLVCGSKDKINQFLEWLQVGPQLARVDSIKQEETQWQELTDFKMY000000000000000000000000000000\n",
      "Score: 334.65020751953125 | Length: 90 | Different characters: 20 | Repeating 2s: 1 | Repeating 3s: 0\n",
      "MAIRCEKFVVSGIVQGVGFRYHTSHQGLKLNLVGYAKNLYNGDVEVIACGEPLKIEEFAKWLEQGPKTARVDELKREEITCREYQGFEIL000000000000000000000000000000\n",
      "Score: 358.81768798828125 | Length: 90 | Different characters: 20 | Repeating 2s: 3 | Repeating 3s: 0\n",
      "MARICLHAYVGGRVQGVGFRQATREEADRLELDGWVRNLDDGRVEVVWEGEEDRAKALERWLGRGPRHAEVSAVEVEQMPLQGIAGFVVRR00000000000000000000000000000\n",
      "Score: 346.5341796875 | Length: 91 | Different characters: 20 | Repeating 2s: 7 | Repeating 3s: 0\n",
      "MEKQCSKFIVSGHVQGVGFRYHTSHQGLKLGLTGYAKNLNNGDVEVVACGTPERLEELYLWLQEGPKTASVRQVRRLSSELEHDYQGFEIL00000000000000000000000000000\n",
      "Score: 353.0675964355469 | Length: 91 | Different characters: 20 | Repeating 2s: 5 | Repeating 3s: 0\n",
      "MGLARLHAIVEGEVQGVGFRRYVQIHAVRLGLKGYAKNLPDGTVEVVAEGYEESIQQFLNYLWKGPPLALVTKVTHKLESYKGEFTSFDTY00000000000000000000000000000\n",
      "Score: 333.5227966308594 | Length: 91 | Different characters: 19 | Repeating 2s: 5 | Repeating 3s: 0\n",
      "MGTASDAAALVTRLVRVRGRVQGIGYREACVRRARALGVTGWVRNRMDASVEAMLQGLPLQLEAMCAWLDEGMPAALVEGMEVIEVPAPFPRFDRFEQLPTL000000000000000000\n",
      "Score: 369.1530456542969 | Length: 102 | Different characters: 18 | Repeating 2s: 4 | Repeating 3s: 1\n",
      "MPRLVALVKGRVQGVGYRAFAQKKALELGLSGYAENLPDGRVEVVAEGPKEALELFLHHLKQGPRLARVEAVEVQWGEEAGLKGFHVY00000000000000000000000000000000\n",
      "Score: 353.4852600097656 | Length: 88 | Different characters: 17 | Repeating 2s: 4 | Repeating 3s: 0\n",
      "MIALEIYVSGNVQGVGFRYFTRRVARELGIKGYVKNLPDGRVYIYAVGEELTLDKFLSAVKSGPPLATVRGVEVKKAEIENYESFEVAY0000000000000000000000000000000\n",
      "Score: 319.7507019042969 | Length: 89 | Different characters: 17 | Repeating 2s: 4 | Repeating 3s: 0\n",
      "MSGDDLDERIETYYVRVRGVVQGVGFRHATVREAHALKLRGWVANLDDGSVEAMLQGSAPQIDRMLAWLRHGPPAAHVTEVTFEEHRTDKRFERFQQH0000000000000000000000\n",
      "Score: 379.2711181640625 | Length: 98 | Different characters: 19 | Repeating 2s: 8 | Repeating 3s: 0\n",
      "MQAARFIFTGVVQGVFFRASTRERALALQLRGHARNQADGSVEVVAAGSAAALEALEHWLWQGSPASKVASVTRTPCAIPTTEAFVTG00000000000000000000000000000000\n",
      "Score: 342.4012756347656 | Length: 88 | Different characters: 19 | Repeating 2s: 8 | Repeating 3s: 1\n",
      "MRLTALVSGTVQGVGYRRYVQRHARDLGLSGSAENLPDGRVEVVAEGPPEHLERLLHWLRRGPPHARVADVQTQYSEATGLRDFHVY000000000000000000000000000000000\n",
      "Score: 366.577880859375 | Length: 87 | Different characters: 17 | Repeating 2s: 6 | Repeating 3s: 0\n",
      "MSAEPEVRLTAWVHGRVQGVGFRWWTRSRALELGLTGFAANKPDGRVQVVAQGSREECERLLGLLEGGDTPGRVDKVIADWSDAREQITGFHER00000000000000000000000000\n",
      "Score: 398.9861755371094 | Length: 94 | Different characters: 19 | Repeating 2s: 7 | Repeating 3s: 0\n",
      "MSRNELDERIETYYVRVRGVVQGVGFRHATVREAHALKLRGWVANLEDGTVEAMIQGSGAQIDRMLAWLRHGPPAARVTEVTFEERQTERRFERFQQQ0000000000000000000000\n",
      "Score: 364.455078125 | Length: 98 | Different characters: 19 | Repeating 2s: 8 | Repeating 3s: 1\n",
      "MSRNELDERIETYYVRVRGVVQGVGFRHATVREAHALKLRGWVANLEDGSVEAMIQGPGAQIDRMLAWLRHGPPAARVTEVTFEERHVERRFERFQQQ0000000000000000000000\n",
      "Score: 369.8393249511719 | Length: 98 | Different characters: 19 | Repeating 2s: 8 | Repeating 3s: 1\n",
      "MDDVVRQIVIRGRVQGVGFRYWTMREAIRLGVAGWVRNRRDGSVEALFAGPADAVADMVARCRNGPGAARVDAVEDQPVAANAEKMIRPGERFSQLPTV000000000000000000000\n",
      "Score: 366.0758056640625 | Length: 99 | Different characters: 19 | Repeating 2s: 5 | Repeating 3s: 0\n",
      "MSNVCIIAWVYGRVQGVGFRYTTQHEAQRLGLTGYAKNMDDGSVEVVACGDAAQVEKLIKWLKEGGPRSARVDKILTEPHSPRETLTGFSIRY000000000000000000000000000\n",
      "Score: 347.8038635253906 | Length: 93 | Different characters: 20 | Repeating 2s: 6 | Repeating 3s: 0\n",
      "MQALFIKISGRVHGVGFRYFTYKLANKMKIKGYVRNAEDGSVEIHAEAPEEILVEFLKAVSIGPPMATVISVKYERVAGQNFTSFDIVP0000000000000000000000000000000\n",
      "Score: 327.5007629394531 | Length: 89 | Different characters: 18 | Repeating 2s: 2 | Repeating 3s: 0\n",
      "MIRKEFLVSGRVQGVGFRFFCKYQASLLSLTGYAENLDDGQVLIEVQGDESSIRKFKTKILNGNGFSRVISIDEKDLTVDTREKRFSTY0000000000000000000000000000000\n",
      "Score: 344.881103515625 | Length: 89 | Different characters: 17 | Repeating 2s: 4 | Repeating 3s: 0\n",
      "MSKVCIIAWVYGRVQGVGFRYTTQYEAKRLGLTGYAKNLDDGSVEVVACGEEGQVEKLMQWLKSGGPRSARVERVLSEPHHPSGELTDFRIR0000000000000000000000000000\n",
      "Score: 349.8345031738281 | Length: 92 | Different characters: 20 | Repeating 2s: 7 | Repeating 3s: 0\n",
      "MPNSTPQSQLIRAHVFVTGRVQGVGFRYSTVDTASQLGLTGWVRNLPDGRVEAVFEGVRDIVEDMVRWCHAGPPAAVVQDVAVEYEEPEGLRGFEVKRLVK0000000000000000000\n",
      "Score: 389.6014404296875 | Length: 101 | Different characters: 20 | Repeating 2s: 4 | Repeating 3s: 0\n",
      "MTINRWHLLVSGKVQGVYYRASTEQKARELGLTGWVRNLPDGRVEIVAEGEPLQLKALHEWCHEGPERAVVDEVAAQELPATQEFTDFRTTH0000000000000000000000000000\n",
      "Score: 338.5308837890625 | Length: 92 | Different characters: 20 | Repeating 2s: 5 | Repeating 3s: 0\n",
      "MQAARFVVSGVVQGVWYRASTRQRAVALGLVGHARNQADGSVEVVAAGSAAALDALEAWLWQGPPAATVAAVTRTACAVPPTEDFVTG00000000000000000000000000000000\n",
      "Score: 342.46368408203125 | Length: 88 | Different characters: 18 | Repeating 2s: 11 | Repeating 3s: 1\n",
      "MSKIYIVAYVYGVVQGVGFRYSTQRQAQQLGVTGYAKNCDDGSVEVVASGNPQAVERLMEWIRQGGPRGARVDRLLTEPYPPTPFETFSIRY0000000000000000000000000000\n",
      "Score: 343.769287109375 | Length: 92 | Different characters: 19 | Repeating 2s: 7 | Repeating 3s: 0\n",
      "MHDADARLTAWVLGTVQGVGFRWWVYSQAKELALAGSASNLVDGRVCVVAEGPKHLCEELLRRLSAHDHSGRPGRVDTVVERWSSPKGEVGFRTR0000000000000000000000000\n",
      "Score: 358.02874755859375 | Length: 95 | Different characters: 19 | Repeating 2s: 7 | Repeating 3s: 0\n",
      "MIRLVTMRGRVQGVGFRAFVEFQATGLDLEGWVRNRRDGSVEALFSGPADAVEAMIALCRQGPSAAHVAALADEEAHPDQLRLRRAGERFSGLPTV000000000000000000000000\n",
      "Score: 366.4705810546875 | Length: 96 | Different characters: 18 | Repeating 2s: 5 | Repeating 3s: 0\n",
      "MDKETLRALHVIVKGRVQGVGFRYWTRSLAKSLNVKGRVRNLADYSVEIIAEADTDTLGEFVYALKHEHPYARVESLNSEEVRARGYTDFRIEV00000000000000000000000000\n",
      "Score: 350.7599792480469 | Length: 94 | Different characters: 19 | Repeating 2s: 2 | Repeating 3s: 0\n",
      "MSDAHMETVHVIVKGKVQGVGYRHAAVRRAHMLGVTGWVQNLPDGTVEAVVQGTADQVDHMLEWLRRGPPAAQVRELASERSFEEKRYKHFAQL00000000000000000000000000\n",
      "Score: 378.0667724609375 | Length: 94 | Different characters: 19 | Repeating 2s: 7 | Repeating 3s: 0\n",
      "MKPIRVKVKVNGRVQGVGFRHFTYKTAISLELTGWVRNLEDGCVEAVAEGPRQQVEEWLAALKKGPPASKVAGLTIQREIVEGVFERFEVRF0000000000000000000000000000\n",
      "Score: 342.01708984375 | Length: 92 | Different characters: 20 | Repeating 2s: 5 | Repeating 3s: 0\n",
      "MIRKEFLVSGRVQGVGFRFFCKYQASLLSLTGYAENLDDGQVLIEVQGDESSIRKFKTKILNGNGFSRVISIDEKDLTVDTREKRFSTY0000000000000000000000000000000\n",
      "Score: 344.881103515625 | Length: 89 | Different characters: 17 | Repeating 2s: 4 | Repeating 3s: 0\n",
      "MSNVCTIAWIYGRVQGVGFRYTTQHEAQRLGLTGYAKNMDDGSVEVVACGDEAQVEKLIKWLKEGGPRSARVDKILTEPHSPHETLTDFSIRY000000000000000000000000000\n",
      "Score: 345.31817626953125 | Length: 93 | Different characters: 20 | Repeating 2s: 4 | Repeating 3s: 0\n",
      "MSLVRAHFLVKGFVQGVGFRYFVLRQAAALQLNGWVRNRYNGSVEGVVEGPEAEVKEFLDRCRRGPAWAEVKEVKVQYEEPRGETTFRIRSSV000000000000000000000000000\n",
      "Score: 335.99261474609375 | Length: 93 | Different characters: 20 | Repeating 2s: 7 | Repeating 3s: 1\n",
      "MSAPDVRLTAWVHGWVQGVGFRWWTRCRALELGLTGYAANHADGRVLVVAQGPRAACQKLLQLLQGDTTPGRVAKVVADWSQSTEQITGFSER000000000000000000000000000\n",
      "Score: 377.8611755371094 | Length: 93 | Different characters: 20 | Repeating 2s: 8 | Repeating 3s: 0\n",
      "MMKRVHVYVKGKVQGVFFRAHTRKAALRFHVNGWVRNLPNGRVEAVFEGRSPEVNALIDWCRQGPSHAIVEHLDVCEETYTGEFDDFRILYDERAS000000000000000000000000\n",
      "Score: 380.3782958984375 | Length: 96 | Different characters: 20 | Repeating 2s: 5 | Repeating 3s: 0\n",
      "MARICLHAYVGGRVQGVGFRQSTRDEAERLGLDGWVRNLEDGRVEVLWEGEEEQVKALQRWLERGPRRARVAGVEVEALPLQGIAGFIVRR00000000000000000000000000000\n",
      "Score: 343.52197265625 | Length: 91 | Different characters: 20 | Repeating 2s: 5 | Repeating 3s: 1\n",
      "MQTTRYRVEGKVQGVYFRASTQREAQAQGLTGWVCNCEDGAVELVATGTAQQHAKLAAWLACGPPMARVDRVIQTDEPLVLFDGFDIHY0000000000000000000000000000000\n",
      "Score: 337.9512939453125 | Length: 89 | Different characters: 20 | Repeating 2s: 4 | Repeating 3s: 0\n",
      "MAIRCEKFVVSGIVQGVGFRYHTSHQGLKLNLVGYAKNLYNGDVEVIACGEPPKIEEFAKWLEQGPKTARVDELKREEITCREYQGFEIL000000000000000000000000000000\n",
      "Score: 358.5027160644531 | Length: 90 | Different characters: 20 | Repeating 2s: 4 | Repeating 3s: 0\n",
      "MSQICVKASVKGIVQGVGFRFHTAHEGLQGGLSGYAMNLPDGSVEVLACGSEANVNKLLAWLESGPKTSRVDNIDAEIIEWRHIDGFEIK000000000000000000000000000000\n",
      "Score: 345.8959655761719 | Length: 90 | Different characters: 20 | Repeating 2s: 3 | Repeating 3s: 0\n",
      "MQSDKDKTFDSWLVKAIGRVQGVGYRDACIRYARAQDITGWVRNRVDGSVELMLQGSKEQLADMCRWLRDGIPAAHVEKLEVSKVPPPSPRLNRFDRLPNL0000000000000000000\n",
      "Score: 382.4244384765625 | Length: 101 | Different characters: 20 | Repeating 2s: 3 | Repeating 3s: 1\n",
      "MTLIHYHAIITGRVQGVGFRYFVQGEAVNRGMKGWVRNTDEGHVELKVEGEQQEVLDFLKTVRKGSPFSKVTDMQMEQLPEFAHYQDFRIKG0000000000000000000000000000\n",
      "Score: 348.7532653808594 | Length: 92 | Different characters: 19 | Repeating 2s: 2 | Repeating 3s: 0\n",
      "MAGSEGLMSVDYEVSGRVQGVFFRKYTQSEAKRLGLVGWVRNTSHGTVQGQAQGPAARVRELQEWLRKIGSPQSRISRAEFTNEKEIAALEHTDFQIRK000000000000000000000\n",
      "Score: 361.5765075683594 | Length: 99 | Different characters: 19 | Repeating 2s: 3 | Repeating 3s: 0\n",
      "MEGVPSVRDSLVRARILVRGVVQGVFFRASMREEALRLGLSGWVRNLPDGESVEAVVEGRGDAVERIICWCLRGPPAARVRELRVELEPYKGEFRGFEIRY0000000000000000000\n",
      "Score: 377.263916015625 | Length: 101 | Different characters: 18 | Repeating 2s: 7 | Repeating 3s: 0\n",
      "MQAARFIFTGVVQGVFFRASTRERALALQLRGHARNQADGSVEVVAAGSAAALEALEHWLWQGSPASKVASVTRTPCAIPTTEAFVTG00000000000000000000000000000000\n",
      "Score: 342.4012756347656 | Length: 88 | Different characters: 19 | Repeating 2s: 8 | Repeating 3s: 1\n",
      "MHDRCLKAWVTGRVQGVGFRAATRDQALTAGVTGYARNLPDGRVEVLLCGESSAVDRVVRWLWQGPPASRVTHVECEQAEDPPPGTFELG000000000000000000000000000000\n",
      "Score: 339.98388671875 | Length: 90 | Different characters: 19 | Repeating 2s: 7 | Repeating 3s: 1\n",
      "MMSKVCTIAWVHGTVQGVGFRYSTQREALQLGLTGYARNLDDGSVEVVACGEADNIEQLIAWLKAGGPRSARVEKVFTEPHQPDREYDKFSIRY00000000000000000000000000\n",
      "Score: 359.1059265136719 | Length: 94 | Different characters: 20 | Repeating 2s: 4 | Repeating 3s: 0\n",
      "MTQKEKNETCIHVTVSGKVQGVFFRESVRKKAEELQLTGWVKNLSHGDVELVACGERDSIMILTEWLWEGPPQAAVSNVNWEEIVVEDYSDFRVR0000000000000000000000000\n",
      "Score: 392.76422119140625 | Length: 95 | Different characters: 20 | Repeating 2s: 7 | Repeating 3s: 0\n",
      "MGSGVRVRVIVKGIVQGVGFRSFIRRHATALGLTGYVRNLPDGESVEIVVSGPEDRVNELIKLAKRGPPAAVVDSVEVEPYEGVEDFTGFSVRYD0000000000000000000000000\n",
      "Score: 351.7501525878906 | Length: 95 | Different characters: 18 | Repeating 2s: 5 | Repeating 3s: 0\n",
      "MLQYHMIADGRVQGVGFRYFVQMEADRHKVAGWVKNRDDGRVEILAEGPEESLKQFAEAVRKGSPFSNVTGVTIEESHRLKGYRTFSISY000000000000000000000000000000\n",
      "Score: 330.7656555175781 | Length: 90 | Different characters: 19 | Repeating 2s: 3 | Repeating 3s: 0\n",
      "MTKDRRAALVRITGRVQGVCFRDWTREEAEKLGLDGWVRNESDGSVTALIAGPDGAVSRMLENFWKGPPGASIADVASEVASSVEAPAGFRITR00000000000000000000000000\n",
      "Score: 363.6680908203125 | Length: 94 | Different characters: 18 | Repeating 2s: 5 | Repeating 3s: 0\n",
      "MSAEPEVRLTAWVHGRVQGVGFRWWTRSRALELGLTGFAANKPDGRVQVVAQGSREDCERLLGLLEGGDTPGRVDKVIADWSDAREQITGFHER00000000000000000000000000\n",
      "Score: 400.67755126953125 | Length: 94 | Different characters: 19 | Repeating 2s: 6 | Repeating 3s: 0\n",
      "MEMARAHLFIRGKVQGVFFRQSMKEVATRNGVRGWVRNRSDGRTVEAVLEGPRDAVLKVIEWARVGPPGARVEDVEVRWEEYKGEFQDFRILPTF0000000000000000000000000\n",
      "Score: 367.2401123046875 | Length: 95 | Different characters: 19 | Repeating 2s: 3 | Repeating 3s: 0\n",
      "MAEGDTLVSVDYEIFGKVQGVFFRKYTQAEGKKLGLVGWVQNTDRGTVQGQLQGPVSKVRFMQQWLETRGSPKSHIDRANFNNEKVIANLDYSDFQIVK000000000000000000000\n",
      "Score: 377.89154052734375 | Length: 99 | Different characters: 19 | Repeating 2s: 4 | Repeating 3s: 0\n",
      "MTICVRVRVSGRVQGVGYRYYTTTHAKALGVKGWIRNLPGGGVEAVLEGERKSVGELLGLMKSGPSGAMVSGMEIAEVECKGHDDFKIIY000000000000000000000000000000\n",
      "Score: 357.5438537597656 | Length: 90 | Different characters: 20 | Repeating 2s: 8 | Repeating 3s: 2\n",
      "MARDTAILRVTGFVQGVGFRYTTKHVAYKYDISGTVKNLDDGSVEIHAIAEEENLNKFIDAIKKGPSPGCRIEHVYIYKGAPVEDRKTFDIVY000000000000000000000000000\n",
      "Score: 379.35540771484375 | Length: 93 | Different characters: 19 | Repeating 2s: 5 | Repeating 3s: 1\n"
     ]
    }
   ],
   "source": [
    "scores = discriminator_score(sess, train_data)\n",
    "for index, example in enumerate(train_data):\n",
    "    print_seq_stats(example, scores[index])"
   ]
  },
  {
   "cell_type": "code",
   "execution_count": 49,
   "metadata": {},
   "outputs": [
    {
     "name": "stdout",
     "output_type": "stream",
     "text": [
      "5\n"
     ]
    }
   ],
   "source": [
    "repeating_amino_acids_in_row(\"MARDTAILRVTGFVQGVGFRYTTKHVAYKYDISGTVKNLDDGSVEIHAIAEEENLNKFIDAIKKGPSPGCRIEHVYIYKGAPVEDRKTFDIVY\")"
   ]
  },
  {
   "cell_type": "code",
   "execution_count": 50,
   "metadata": {},
   "outputs": [
    {
     "name": "stdout",
     "output_type": "stream",
     "text": [
      "21\n"
     ]
    }
   ],
   "source": [
    "repeating_amino_acids_in_row(\"MKAARARLYYYGVVQGVYYRYYRYYYTYYQRYGYVGWYWVRRDREVVVVVQQQWQQCDELLKRWLRYTQPRARDTDVDWYEYQGDDQYYYVE\")"
   ]
  },
  {
   "cell_type": "code",
   "execution_count": null,
   "metadata": {},
   "outputs": [],
   "source": []
  }
 ],
 "metadata": {
  "kernelspec": {
   "display_name": "Python 3",
   "language": "python",
   "name": "python3"
  },
  "language_info": {
   "codemirror_mode": {
    "name": "ipython",
    "version": 3
   },
   "file_extension": ".py",
   "mimetype": "text/x-python",
   "name": "python",
   "nbconvert_exporter": "python",
   "pygments_lexer": "ipython3",
   "version": "3.7.0"
  }
 },
 "nbformat": 4,
 "nbformat_minor": 2
}
