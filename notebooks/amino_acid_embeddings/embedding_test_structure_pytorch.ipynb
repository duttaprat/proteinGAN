{
 "cells": [
  {
   "cell_type": "code",
   "execution_count": 1,
   "metadata": {},
   "outputs": [
    {
     "name": "stderr",
     "output_type": "stream",
     "text": [
      "c:\\users\\donatas\\appdata\\local\\programs\\python\\python36\\lib\\importlib\\_bootstrap.py:219: RuntimeWarning: cymem.cymem.Pool size changed, may indicate binary incompatibility. Expected 48 from C header, got 64 from PyObject\n",
      "  return f(*args, **kwds)\n",
      "c:\\users\\donatas\\appdata\\local\\programs\\python\\python36\\lib\\importlib\\_bootstrap.py:219: RuntimeWarning: cymem.cymem.Address size changed, may indicate binary incompatibility. Expected 24 from C header, got 40 from PyObject\n",
      "  return f(*args, **kwds)\n"
     ]
    }
   ],
   "source": [
    "import torch\n",
    "import torch.nn as nn\n",
    "import torch.nn.functional as F\n",
    "import torch.optim as optim\n",
    "from torch.utils.data import Dataset, DataLoader\n",
    "import numpy as np\n",
    "import json\n",
    "import fastai\n",
    "from random import randint\n",
    "from fastai.text import SortishSampler\n",
    "from fastai.basic_data import DataBunch"
   ]
  },
  {
   "cell_type": "code",
   "execution_count": 2,
   "metadata": {},
   "outputs": [],
   "source": [
    "ROOT = \"../../data/protein/structure/secondary_structure/\"\n",
    "DATA_PATH = ROOT+\"sample_1_kmers\"\n",
    "EMBEDDING_PATH = \"../../data/protein/classification/data_sources/protVec_100d_3grams.csv\"\n",
    "MODEL_PATH = \"../../weights/protein/structure/secondary_structure/1_kmers/\"\n",
    "SEQUENCE_LENGTH=729\n",
    "NUM_CLASSES = 9"
   ]
  },
  {
   "cell_type": "code",
   "execution_count": 3,
   "metadata": {},
   "outputs": [],
   "source": [
    "features = np.array([16, 32, 64, 128, 256])\n",
    "num_workers = 0 # On cloud 8\n",
    "batch_size = 16"
   ]
  },
  {
   "cell_type": "code",
   "execution_count": 4,
   "metadata": {},
   "outputs": [
    {
     "data": {
      "text/plain": [
       "array([ 16,  32,  64, 128, 256])"
      ]
     },
     "execution_count": 4,
     "metadata": {},
     "output_type": "execute_result"
    }
   ],
   "source": [
    "features"
   ]
  },
  {
   "cell_type": "code",
   "execution_count": 5,
   "metadata": {},
   "outputs": [],
   "source": [
    "class EnzymeDataSet(Dataset):\n",
    "    \"\"\"Face Landmarks dataset.\"\"\"\n",
    "\n",
    "    def __init__(self, data, transform=None):\n",
    "        self.data = data\n",
    "\n",
    "    def __len__(self):\n",
    "        return len(self.data)\n",
    "\n",
    "    def __getitem__(self, idx):\n",
    "        row = self.data[idx]\n",
    "        return np.int64(row[0]), np.int64(row[1])"
   ]
  },
  {
   "cell_type": "code",
   "execution_count": 6,
   "metadata": {},
   "outputs": [],
   "source": [
    "embeddings = np.random.uniform(low=-1, high=1, size=[21, 100])\n",
    "#embeddings = np.loadtxt(open(EMBEDDING_PATH, \"rb\"), delimiter=\"\\t\", skiprows=1, usecols=[i for i in range(1,101)])"
   ]
  },
  {
   "cell_type": "code",
   "execution_count": 7,
   "metadata": {},
   "outputs": [],
   "source": [
    "train = np.load(DATA_PATH+\"/train/data.npy\")\n",
    "val = np.load(DATA_PATH+\"/val/data.npy\")\n",
    "test = np.load(DATA_PATH+\"/test/data.npy\")"
   ]
  },
  {
   "cell_type": "code",
   "execution_count": 8,
   "metadata": {},
   "outputs": [
    {
     "data": {
      "text/plain": [
       "8063"
      ]
     },
     "execution_count": 8,
     "metadata": {},
     "output_type": "execute_result"
    }
   ],
   "source": [
    "len(train)"
   ]
  },
  {
   "cell_type": "code",
   "execution_count": 9,
   "metadata": {},
   "outputs": [],
   "source": [
    "train_sampler = SortishSampler(train, key=lambda x: len(train[x][0]), bs=batch_size//2)\n",
    "val_sampler = SortishSampler(val, key=lambda x: len(val[x][0]), bs=batch_size//2)\n",
    "test_sampler = SortishSampler(test, key=lambda x: len(test[x][0]), bs=batch_size//2)"
   ]
  },
  {
   "cell_type": "code",
   "execution_count": 10,
   "metadata": {},
   "outputs": [],
   "source": [
    "def pad_tensor(seq, label, length):\n",
    "    seq_len = len(seq)\n",
    "    to_pad = length - seq_len\n",
    "    end_padding = randint(0, to_pad)\n",
    "    begin_padding = to_pad - end_padding\n",
    "    seq = np.pad(seq, mode=\"constant\", pad_width=(begin_padding,end_padding))\n",
    "    label = np.pad(label, mode=\"constant\", pad_width=(begin_padding,end_padding))\n",
    "    return seq,label"
   ]
  },
  {
   "cell_type": "code",
   "execution_count": 11,
   "metadata": {},
   "outputs": [],
   "source": [
    "def pad_collate(samples, random=True):\n",
    "    \"Function that collect samples and adds padding.\"\n",
    "    max_len = max(64 ,max(map(lambda x: len(x[0]), samples)))\n",
    "    batch = list(map(lambda x: pad_tensor(x[0], x[1], max_len), samples))\n",
    "    # stack all\n",
    "    x = torch.stack([torch.from_numpy(b[0]) for b in batch], 0)\n",
    "    y = torch.stack([torch.from_numpy(b[1]) for b in batch], 0)\n",
    "    return x, y"
   ]
  },
  {
   "cell_type": "code",
   "execution_count": 12,
   "metadata": {
    "scrolled": false
   },
   "outputs": [],
   "source": [
    "train_ds = EnzymeDataSet(train)\n",
    "val_ds = EnzymeDataSet(val)\n",
    "test_ds = EnzymeDataSet(test)"
   ]
  },
  {
   "cell_type": "code",
   "execution_count": 13,
   "metadata": {
    "scrolled": true
   },
   "outputs": [],
   "source": [
    "dls = [DataLoader(*o, num_workers=num_workers) for o in\n",
    "       zip((train_ds, val_ds, test_ds), (batch_size,batch_size*2,batch_size*2), \n",
    "           (False,False,False), (train_sampler, val_sampler, test_sampler))]\n",
    "data = DataBunch(*dls, collate_fn=pad_collate)"
   ]
  },
  {
   "cell_type": "code",
   "execution_count": 14,
   "metadata": {},
   "outputs": [],
   "source": [
    "class UnetDown(nn.Module):\n",
    "\n",
    "    def __init__(self, num_inputs, num_outputs, kernel_size, strides, dilation_rate=1, dropout=0.2, act=F.selu, pool=True):\n",
    "        super(UnetDown, self).__init__()\n",
    "        self.act = act\n",
    "        self.conv1 = nn.Conv1d(num_inputs, num_inputs, kernel_size, stride=1, dilation = 1)\n",
    "        self.conv2 = nn.Conv1d(num_inputs, num_inputs, kernel_size, stride=1, dilation = dilation_rate)\n",
    "        self.pool = nn.Conv1d(num_inputs, num_outputs, kernel_size, stride=strides, dilation = 1)\n",
    "        self.bn1 = nn.BatchNorm1d(num_inputs)\n",
    "        self.bn2 = nn.BatchNorm1d(num_inputs)\n",
    "        self.to_pool = pool\n",
    "        before = (kernel_size -1) // 2\n",
    "        after = (kernel_size -1) - before\n",
    "        self.padding = nn.ReflectionPad1d((before,after))\n",
    "        stride_padding = (strides - 1) // 2\n",
    "        self.padding_stride = nn.ReflectionPad1d((before-stride_padding, after -((strides - 1)-stride_padding)))\n",
    "        \n",
    "    def forward(self, x):\n",
    "        out = self.conv1(self.padding(x))\n",
    "        out = self.act(self.bn1(out))\n",
    "        out = self.conv2(self.padding(out))\n",
    "        before_pooling = self.act(self.bn2(out))\n",
    "        if self.to_pool:\n",
    "            out = self.pool(self.padding_stride(before_pooling))\n",
    "            return out, before_pooling\n",
    "        else:\n",
    "            return before_pooling"
   ]
  },
  {
   "cell_type": "code",
   "execution_count": 15,
   "metadata": {},
   "outputs": [],
   "source": [
    "class UnetUp(nn.Module):\n",
    "    def __init__(self,  num_inputs, num_outputs, kernel_size, strides, dilation_rate=1, dropout=0.2, act=F.relu):\n",
    "        super(UnetUp, self).__init__()\n",
    "        self.act = act\n",
    "        self.up = nn.ConvTranspose1d(num_inputs, num_outputs, kernel_size, stride=strides, dilation = 1, padding=2)\n",
    "        self.conv1 = nn.Conv1d(num_outputs*2, num_outputs, kernel_size, stride=1, dilation = dilation_rate, padding=2)\n",
    "        self.conv2 = nn.Conv1d(num_outputs, num_outputs, kernel_size, stride=1, dilation = 1, padding=2)\n",
    "        \n",
    "        self.bn1 = nn.BatchNorm1d(num_outputs)\n",
    "        self.bn2 = nn.BatchNorm1d(num_outputs)\n",
    "        \n",
    "    def forward(self, x, across):      \n",
    "        out = self.up(x)\n",
    "        #print(x.shape, out.shape, across.shape)\n",
    "        if out.shape[2] != across.shape[2]:\n",
    "            padding = abs(out.shape[2] - across.shape[2])            \n",
    "            out = nn.ReflectionPad1d((padding//2, padding - (padding//2)))(out)\n",
    "\n",
    "        out = torch.cat([out, across], 1)\n",
    "\n",
    "        out = self.conv1(out)\n",
    "        out = self.act(self.bn1(out))\n",
    "        out = self.conv2(out)\n",
    "        out = self.act(self.bn2(out))\n",
    "        return out"
   ]
  },
  {
   "cell_type": "code",
   "execution_count": 16,
   "metadata": {},
   "outputs": [],
   "source": [
    "class Unet(nn.Module):\n",
    "    def __init__(self):\n",
    "        super(Unet, self).__init__()\n",
    "        \n",
    "        #Encoder\n",
    "        self.embedding = nn.Embedding(embeddings.shape[0], embeddings.shape[1])\n",
    "        #self.embedding.from_pretrained(torch.from_numpy(embeddings)) \n",
    "        self.emb_cov = nn.Conv1d(embeddings.shape[1], features[0], 1)\n",
    "        self.unet_down1 = UnetDown(features[0], features[1], 5, 2)   \n",
    "        self.unet_down2 = UnetDown(features[1], features[2], 5, 2)  \n",
    "        self.unet_down3 = UnetDown(features[2], features[3], 5, 2)\n",
    "        self.unet_down4 = UnetDown(features[3], features[4], 5, 2)        \n",
    "        \n",
    "        self.center = UnetDown(features[4], features[4], 5, 1, pool=False)        \n",
    "        #Decoder\n",
    "        self.unet_block1 = UnetUp(features[4], features[3], 5, 2)   \n",
    "        self.unet_block2 = UnetUp(features[3], features[2], 5, 2)  \n",
    "        self.unet_block3 = UnetUp(features[2], features[1], 5, 2)\n",
    "        self.unet_block4 = UnetUp(features[1], features[0], 5, 2)\n",
    "        self.classification = nn.Conv1d(features[0], NUM_CLASSES, 1)\n",
    "\n",
    "    def forward(self, x):\n",
    "        embedded_seq = self.embedding(x)\n",
    "        embedded_seq.transpose_(1, 2)\n",
    "        embedded_seq = self.emb_cov(embedded_seq)\n",
    "        d1, before_pooling1 = self.unet_down1(embedded_seq)\n",
    "        d2, before_pooling2 = self.unet_down2(d1)\n",
    "        d3, before_pooling3 = self.unet_down3(d2)   \n",
    "        d4, before_pooling4 = self.unet_down4(d3)\n",
    "        \n",
    "        c = self.center(d4)\n",
    "        \n",
    "        u1 = self.unet_block1(c, before_pooling4)\n",
    "        u2 = self.unet_block2(u1, before_pooling3)\n",
    "        u3 = self.unet_block3(u2, before_pooling2) \n",
    "        u4 = self.unet_block4(u3, before_pooling1) \n",
    "        output = self.classification(u4)\n",
    "        return output"
   ]
  },
  {
   "cell_type": "code",
   "execution_count": 17,
   "metadata": {},
   "outputs": [],
   "source": [
    "def accuracy(input, targs):\n",
    "    \"Compute accuracy with `targs` when `input` is bs * n_classes.\"\n",
    "    mask = (targs > 0)\n",
    "    targs = targs.masked_select(mask)\n",
    "    input = input.argmax(dim=1)\n",
    "    input = input.masked_select(mask)\n",
    "    return (input==targs).float().mean()"
   ]
  },
  {
   "cell_type": "code",
   "execution_count": 18,
   "metadata": {
    "scrolled": true
   },
   "outputs": [],
   "source": [
    "unet = Unet().cuda()"
   ]
  },
  {
   "cell_type": "code",
   "execution_count": 19,
   "metadata": {
    "scrolled": true
   },
   "outputs": [],
   "source": [
    "criterion = nn.CrossEntropyLoss(weight=torch.tensor([0.0001, 1, 1, 1, 1, 1, 1, 1, 1]).cuda())\n",
    "optimizer = optim.Adam(unet.parameters(), lr=0.001)"
   ]
  },
  {
   "cell_type": "code",
   "execution_count": 20,
   "metadata": {},
   "outputs": [],
   "source": [
    "learner = fastai.basic_train.Learner(data, unet, \n",
    "        loss_func=criterion, \n",
    "        metrics=accuracy, \n",
    "        path=None, \n",
    "        model_dir='models')"
   ]
  },
  {
   "cell_type": "code",
   "execution_count": 44,
   "metadata": {
    "scrolled": false
   },
   "outputs": [
    {
     "name": "stdout",
     "output_type": "stream",
     "text": [
      "Total time: 07:21\n",
      "epoch  train_loss  valid_loss  accuracy\n",
      "1      1.153437    1.247020    0.549264  (01:28)\n",
      "2      1.155325    1.153033    0.581796  (01:27)\n",
      "3      1.136606    1.144357    0.585312  (01:27)\n",
      "4      1.121035    1.115583    0.597874  (01:28)\n",
      "5      1.116804    1.098015    0.605238  (01:28)\n",
      "\n"
     ]
    }
   ],
   "source": [
    "learner.fit_one_cycle(5)"
   ]
  },
  {
   "cell_type": "code",
   "execution_count": 45,
   "metadata": {},
   "outputs": [
    {
     "data": {
      "image/png": "[encoded data removed]",
      "text/plain": [
       "<Figure size 432x288 with 1 Axes>"
      ]
     },
     "metadata": {},
     "output_type": "display_data"
    }
   ],
   "source": [
    "learner.recorder.plot()"
   ]
  },
  {
   "cell_type": "code",
   "execution_count": 46,
   "metadata": {},
   "outputs": [],
   "source": [
    "preds, truth = learner.get_preds(is_test=True, n_batch=1)"
   ]
  },
  {
   "cell_type": "code",
   "execution_count": 47,
   "metadata": {},
   "outputs": [
    {
     "data": {
      "text/plain": [
       "tensor(0.5709)"
      ]
     },
     "execution_count": 47,
     "metadata": {},
     "output_type": "execute_result"
    }
   ],
   "source": [
    "accuracy(preds, truth)"
   ]
  },
  {
   "cell_type": "code",
   "execution_count": 48,
   "metadata": {},
   "outputs": [
    {
     "name": "stdout",
     "output_type": "stream",
     "text": [
      "0.5907144832624498\n"
     ]
    }
   ],
   "source": [
    "acc = []\n",
    "min_element = 0\n",
    "min_score = 1\n",
    "s = [0, 0, 0, 0, 0, 0, 0, 0, 0]\n",
    "s_t = [0, 0, 0, 0, 0, 0, 0, 0, 0]\n",
    "for row in range(len(truth)):\n",
    "\n",
    "    a = preds.argmax(dim=1)[row]\n",
    "    correct = 0\n",
    "    actual = 0\n",
    "    for i, t in enumerate(truth[row]):\n",
    "        s[t] = s[t]+1\n",
    "        if t != 0: # and t != 1:\n",
    "            actual += 1\n",
    "            if a[i] == t:        \n",
    "                correct += 1\n",
    "                s_t[t] = s_t[t]+1\n",
    "    score = correct/actual\n",
    "    if min_score > score:\n",
    "        min_score = score\n",
    "        min_element = row\n",
    "    acc.append(score)\n",
    "\n",
    "print(np.mean(acc))"
   ]
  },
  {
   "cell_type": "code",
   "execution_count": 49,
   "metadata": {},
   "outputs": [
    {
     "name": "stderr",
     "output_type": "stream",
     "text": [
      "c:\\users\\donatas\\appdata\\local\\programs\\python\\python36\\lib\\site-packages\\ipykernel_launcher.py:1: RuntimeWarning: invalid value encountered in true_divide\n",
      "  \"\"\"Entry point for launching an IPython kernel.\n"
     ]
    },
    {
     "data": {
      "text/plain": [
       "array([0.      , 0.      , 0.576728, 0.704385, 0.044444, 0.793362,      nan, 0.042005, 0.353723])"
      ]
     },
     "execution_count": 49,
     "metadata": {},
     "output_type": "execute_result"
    }
   ],
   "source": [
    "np.array(s_t)/np.array(s)"
   ]
  },
  {
   "cell_type": "code",
   "execution_count": 50,
   "metadata": {},
   "outputs": [
    {
     "data": {
      "text/plain": [
       "([0, 0, 1368, 1494, 18, 2223, 0, 31, 399],\n",
       " [13348, 126, 2372, 2121, 405, 2802, 0, 738, 1128])"
      ]
     },
     "execution_count": 50,
     "metadata": {},
     "output_type": "execute_result"
    }
   ],
   "source": [
    "s_t, s"
   ]
  },
  {
   "cell_type": "code",
   "execution_count": 51,
   "metadata": {},
   "outputs": [
    {
     "name": "stdout",
     "output_type": "stream",
     "text": [
      "0.3132530120481928\n"
     ]
    },
    {
     "data": {
      "text/plain": [
       "(tensor([2, 2, 2, 2, 2, 2, 2, 2, 2, 2, 2, 2, 2, 2, 2, 3, 3, 3, 3, 3, 3, 3, 8, 7,\n",
       "         2, 2, 2, 2, 2, 5, 5, 5, 5, 5, 2, 8, 2, 2, 3, 3, 3, 3, 3, 3, 3, 3, 3, 3,\n",
       "         2, 8, 8, 2, 2, 2, 5, 3, 3, 3, 3, 3, 8, 7, 2, 2, 2, 2, 3, 8, 8, 2, 3, 3,\n",
       "         3, 3, 2, 2, 8, 2, 2, 2, 2, 2, 2, 2, 3, 3, 2, 2, 2, 2, 2, 2, 2, 2, 2, 2,\n",
       "         2, 0, 0, 0, 0, 0, 0, 0, 0, 0, 0, 0, 0, 0, 0, 0, 0, 0, 0, 0, 0, 0, 0, 0,\n",
       "         0, 0, 0, 0, 0, 0, 0, 0, 0, 0, 0, 0, 0, 0, 0, 0, 0, 0, 0, 0, 0, 0, 0, 0,\n",
       "         0, 0, 0, 0, 0, 0, 0, 0, 0, 0, 0, 0, 0, 0, 0, 0, 0, 0, 0, 0, 0, 0, 0, 0,\n",
       "         0, 0, 0, 0, 0, 0, 0, 0, 0, 0, 0, 0, 0, 0, 0, 0, 0, 0, 0, 0, 0, 0, 0, 0,\n",
       "         0, 0, 0, 0, 0, 0, 0, 0, 0, 0, 0, 0, 0, 0, 0, 0, 0, 0, 0, 0, 0, 0, 0, 0,\n",
       "         0, 0, 0, 0, 0, 0, 0, 0, 0, 0, 0, 0, 0, 0, 0, 0, 0, 0, 0, 0, 0, 0, 0, 0,\n",
       "         0, 0, 0, 0, 0, 0, 0, 0, 0, 0, 0, 0, 0, 0, 0, 0, 0, 0, 0, 0, 0, 0, 0, 0,\n",
       "         0, 0, 0, 0, 0, 0, 0, 0, 0, 0, 0, 0, 0, 0, 0, 0, 0, 0, 0, 0, 0, 0, 0, 0,\n",
       "         0, 0, 0, 0, 0, 0, 0, 0, 0, 0, 0, 0, 0, 0, 0, 0, 0, 0, 0, 0, 0, 0, 0, 0,\n",
       "         0, 0, 0, 0, 0, 0, 0, 0, 0, 0, 0, 0, 0, 0, 0, 0, 0, 0, 0, 0, 0, 0, 0, 0,\n",
       "         0, 0, 0, 0, 0, 0, 0, 0, 0, 0, 0, 0, 0, 0, 0, 0, 0, 0, 0, 0, 0, 0, 0, 0,\n",
       "         0, 0, 0, 0, 0, 0, 0, 0, 0, 0, 0, 0, 0, 0, 0, 0, 0, 0, 0, 0, 0, 0, 0, 0,\n",
       "         0, 0, 0, 0, 0, 0, 0, 0, 0, 0, 0, 0, 0, 0, 0, 0, 0, 0, 0, 0, 0, 0, 0, 0,\n",
       "         0, 0, 0, 0, 0, 0, 0, 0, 0, 0, 0, 0, 0, 0, 0, 0, 0, 0, 0, 0, 0, 0, 0, 0,\n",
       "         0, 0, 0, 0, 0, 0, 0, 0, 0, 0, 0, 0, 0, 0, 0, 0, 0, 0, 0, 0, 0, 0, 0, 0,\n",
       "         0, 0, 0, 0, 0, 0, 0, 0, 0, 0, 0, 0, 0, 0, 0, 0, 0, 0, 0, 0, 0, 0, 0, 0,\n",
       "         0, 0, 0, 0, 0, 0, 0, 0, 0, 0, 0, 0, 0, 0, 0, 0, 0, 0, 0, 0, 0, 0, 0, 0,\n",
       "         0, 0, 0, 0, 0, 0, 0, 0, 0, 0, 0, 0, 0, 0, 0, 0, 0, 0, 0, 0, 0, 0, 0, 0,\n",
       "         0, 0, 0, 0, 0, 0, 0, 0, 0, 0, 0, 0, 0, 0, 0, 0, 0, 0, 0, 0, 0, 0, 0, 0,\n",
       "         0, 0, 0, 0, 0, 0, 0, 0, 0, 0, 0, 0, 0, 0, 0, 0, 0, 0, 0, 0, 0, 0, 0, 0,\n",
       "         0, 0, 0, 0, 0, 0, 0, 0, 0, 0, 0, 0, 0, 0, 0, 0, 0, 0, 0, 0, 0, 0, 0, 0,\n",
       "         0, 0, 0, 0, 0, 0, 0, 0, 0, 0, 0, 0, 0, 0, 0, 0, 0, 0, 0, 0, 0, 0, 0, 0,\n",
       "         0, 0, 0, 0, 0, 0, 0, 0, 0, 0, 0, 0, 0, 0, 0, 0, 0, 0, 0, 0, 0, 0, 0, 0,\n",
       "         0, 0, 0, 0, 0, 0, 0, 0, 0, 0, 0, 0, 0, 0, 0, 0, 0, 0, 0, 0, 0, 0, 0, 0,\n",
       "         0, 0, 0, 0, 0, 0, 0, 0, 0, 0, 0, 0, 0, 0, 0, 0, 0, 0, 0, 0, 0, 0, 0, 0,\n",
       "         0, 0, 0, 0, 0, 0, 0, 0, 0, 0, 0, 0, 0, 0, 0, 0, 0, 0, 0, 0, 2, 2, 2, 2]),\n",
       " tensor([0, 0, 0, 0, 0, 0, 0, 2, 2, 2, 2, 2, 1, 2, 2, 2, 2, 2, 1, 2, 2, 2, 7, 2,\n",
       "         2, 7, 2, 7, 2, 7, 7, 7, 7, 8, 8, 7, 7, 7, 3, 3, 3, 3, 3, 3, 4, 4, 4, 2,\n",
       "         2, 7, 7, 3, 3, 3, 3, 2, 7, 7, 7, 2, 2, 8, 8, 8, 8, 1, 2, 2, 7, 5, 5, 5,\n",
       "         5, 5, 5, 5, 5, 5, 8, 2, 2, 2, 2, 2, 3, 3, 3, 3, 2, 2, 0, 0, 0, 0, 0, 0,\n",
       "         0, 0, 0, 0, 0, 0, 0, 0, 0, 0, 0, 0, 0, 0, 0, 0, 0, 0, 0, 0, 0, 0, 0, 0,\n",
       "         0, 0, 0, 0, 0, 0, 0, 0, 0, 0, 0, 0, 0, 0, 0, 0, 0, 0, 0, 0, 0, 0, 0, 0,\n",
       "         0, 0, 0, 0, 0, 0, 0, 0, 0, 0, 0, 0, 0, 0, 0, 0, 0, 0, 0, 0, 0, 0, 0, 0,\n",
       "         0, 0, 0, 0, 0, 0, 0, 0, 0, 0, 0, 0, 0, 0, 0, 0, 0, 0, 0, 0, 0, 0, 0, 0,\n",
       "         0, 0, 0, 0, 0, 0, 0, 0, 0, 0, 0, 0, 0, 0, 0, 0, 0, 0, 0, 0, 0, 0, 0, 0,\n",
       "         0, 0, 0, 0, 0, 0, 0, 0, 0, 0, 0, 0, 0, 0, 0, 0, 0, 0, 0, 0, 0, 0, 0, 0,\n",
       "         0, 0, 0, 0, 0, 0, 0, 0, 0, 0, 0, 0, 0, 0, 0, 0, 0, 0, 0, 0, 0, 0, 0, 0,\n",
       "         0, 0, 0, 0, 0, 0, 0, 0, 0, 0, 0, 0, 0, 0, 0, 0, 0, 0, 0, 0, 0, 0, 0, 0,\n",
       "         0, 0, 0, 0, 0, 0, 0, 0, 0, 0, 0, 0, 0, 0, 0, 0, 0, 0, 0, 0, 0, 0, 0, 0,\n",
       "         0, 0, 0, 0, 0, 0, 0, 0, 0, 0, 0, 0, 0, 0, 0, 0, 0, 0, 0, 0, 0, 0, 0, 0,\n",
       "         0, 0, 0, 0, 0, 0, 0, 0, 0, 0, 0, 0, 0, 0, 0, 0, 0, 0, 0, 0, 0, 0, 0, 0,\n",
       "         0, 0, 0, 0, 0, 0, 0, 0, 0, 0, 0, 0, 0, 0, 0, 0, 0, 0, 0, 0, 0, 0, 0, 0,\n",
       "         0, 0, 0, 0, 0, 0, 0, 0, 0, 0, 0, 0, 0, 0, 0, 0, 0, 0, 0, 0, 0, 0, 0, 0,\n",
       "         0, 0, 0, 0, 0, 0, 0, 0, 0, 0, 0, 0, 0, 0, 0, 0, 0, 0, 0, 0, 0, 0, 0, 0,\n",
       "         0, 0, 0, 0, 0, 0, 0, 0, 0, 0, 0, 0, 0, 0, 0, 0, 0, 0, 0, 0, 0, 0, 0, 0,\n",
       "         0, 0, 0, 0, 0, 0, 0, 0, 0, 0, 0, 0, 0, 0, 0, 0, 0, 0, 0, 0, 0, 0, 0, 0,\n",
       "         0, 0, 0, 0, 0, 0, 0, 0, 0, 0, 0, 0, 0, 0, 0, 0, 0, 0, 0, 0, 0, 0, 0, 0,\n",
       "         0, 0, 0, 0, 0, 0, 0, 0, 0, 0, 0, 0, 0, 0, 0, 0, 0, 0, 0, 0, 0, 0, 0, 0,\n",
       "         0, 0, 0, 0, 0, 0, 0, 0, 0, 0, 0, 0, 0, 0, 0, 0, 0, 0, 0, 0, 0, 0, 0, 0,\n",
       "         0, 0, 0, 0, 0, 0, 0, 0, 0, 0, 0, 0, 0, 0, 0, 0, 0, 0, 0, 0, 0, 0, 0, 0,\n",
       "         0, 0, 0, 0, 0, 0, 0, 0, 0, 0, 0, 0, 0, 0, 0, 0, 0, 0, 0, 0, 0, 0, 0, 0,\n",
       "         0, 0, 0, 0, 0, 0, 0, 0, 0, 0, 0, 0, 0, 0, 0, 0, 0, 0, 0, 0, 0, 0, 0, 0,\n",
       "         0, 0, 0, 0, 0, 0, 0, 0, 0, 0, 0, 0, 0, 0, 0, 0, 0, 0, 0, 0, 0, 0, 0, 0,\n",
       "         0, 0, 0, 0, 0, 0, 0, 0, 0, 0, 0, 0, 0, 0, 0, 0, 0, 0, 0, 0, 0, 0, 0, 0,\n",
       "         0, 0, 0, 0, 0, 0, 0, 0, 0, 0, 0, 0, 0, 0, 0, 0, 0, 0, 0, 0, 0, 0, 0, 0,\n",
       "         0, 0, 0, 0, 0, 0, 0, 0, 0, 0, 0, 0, 0, 0, 0, 0, 0, 0, 0, 0, 0, 0, 0, 0]))"
      ]
     },
     "execution_count": 51,
     "metadata": {},
     "output_type": "execute_result"
    }
   ],
   "source": [
    "print(min_score)\n",
    "preds.argmax(dim=1)[min_element], truth[min_element]"
   ]
  },
  {
   "cell_type": "code",
   "execution_count": null,
   "metadata": {},
   "outputs": [],
   "source": []
  }
 ],
 "metadata": {
  "kernelspec": {
   "display_name": "Python 3",
   "language": "python",
   "name": "python3"
  },
  "language_info": {
   "codemirror_mode": {
    "name": "ipython",
    "version": 3
   },
   "file_extension": ".py",
   "mimetype": "text/x-python",
   "name": "python",
   "nbconvert_exporter": "python",
   "pygments_lexer": "ipython3",
   "version": "3.6.6"
  }
 },
 "nbformat": 4,
 "nbformat_minor": 2
}
