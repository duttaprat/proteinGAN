{
 "cells": [
  {
   "cell_type": "code",
   "execution_count": 1,
   "metadata": {
    "scrolled": false
   },
   "outputs": [
    {
     "name": "stderr",
     "output_type": "stream",
     "text": [
      "c:\\users\\donatas\\appdata\\local\\programs\\python\\python36\\lib\\importlib\\_bootstrap.py:219: RuntimeWarning: cymem.cymem.Pool size changed, may indicate binary incompatibility. Expected 48 from C header, got 64 from PyObject\n",
      "  return f(*args, **kwds)\n",
      "c:\\users\\donatas\\appdata\\local\\programs\\python\\python36\\lib\\importlib\\_bootstrap.py:219: RuntimeWarning: cymem.cymem.Address size changed, may indicate binary incompatibility. Expected 24 from C header, got 40 from PyObject\n",
      "  return f(*args, **kwds)\n"
     ]
    }
   ],
   "source": [
    "import torch\n",
    "import torch.nn as nn\n",
    "import torch.nn.functional as F\n",
    "import torch.optim as optim\n",
    "from torch.utils.data import Dataset, DataLoader\n",
    "import numpy as np\n",
    "import json\n",
    "import fastai\n",
    "import math\n",
    "from functools import partial\n",
    "\n",
    "import glob\n",
    "import os\n",
    "import pandas as pd\n",
    "from common.bio.constants import *\n",
    "from tqdm import tqdm\n",
    "\n",
    "from fastprogress.fastprogress import NBProgressBar\n",
    "from fastai.basic_train import loss_batch\n",
    "from fastai.basic_data import to_device\n",
    "from fastai.torch_core import to_np\n",
    "import sys\n",
    "sys.path.append(\"..\")\n",
    "from utils import *"
   ]
  },
  {
   "cell_type": "code",
   "execution_count": 2,
   "metadata": {},
   "outputs": [],
   "source": [
    "ROOT = \"../../data/protein/classification/sample_512/\"\n",
    "DATA_PATH = ROOT+\"1_kmers\"\n",
    "MODEL_PATH = \"../../weights/protein/classification/sample_512/test\"\n",
    "SEQUENCE_LENGTH=512\n",
    "VOCAB_SIZE=20\n",
    "BERT_CONFIG_FILE = \"../../../bert/config/bert_config_file.json\"\n",
    "BERT_WEIGHTS = \"../../../bert_pytorch/weights/tpu\""
   ]
  },
  {
   "cell_type": "code",
   "execution_count": 21,
   "metadata": {
    "scrolled": true
   },
   "outputs": [],
   "source": [
    "# ROOT = \"../../data/protein/embedding/\"\n",
    "# file_path = ROOT + \"data_sources/unreviewed.gz\"\n",
    "# data = pd.read_csv(file_path, sep='\\t', header=(0), skipinitialspace=True).drop(\"Entry\", axis=1)\n",
    "# data = data.rename(columns={\"Sequence\" :\"sequence\"})\n",
    "# data.sequence = data.sequence.str.strip()\n",
    "\n",
    "# for amino_acid in ['B','O','U','X','Z' ]:\n",
    "#     data = data[~data[\"sequence\"].str.contains(amino_acid)]\n",
    "\n",
    "# data[\"sequence\"] = data.sequence.apply(lambda x: [ AMINO_ACID_TO_ID[c] for c in x])\n",
    "# data.values.shape\n",
    "# np.save(\"../../data/protein/classification/sample_512/1_kmers/unreviewed/data.npy\",data.values)"
   ]
  },
  {
   "cell_type": "code",
   "execution_count": 3,
   "metadata": {},
   "outputs": [],
   "source": [
    "epochs = 1\n",
    "num_workers = 8 # On cloud 8\n",
    "batch_size = 64"
   ]
  },
  {
   "cell_type": "markdown",
   "metadata": {},
   "source": [
    "## Input"
   ]
  },
  {
   "cell_type": "code",
   "execution_count": 4,
   "metadata": {},
   "outputs": [],
   "source": [
    "class BertDataSet(Dataset):\n",
    "    \"\"\"Face Landmarks dataset.\"\"\"\n",
    "\n",
    "    def __init__(self, path_or_data, seq_length, vocab_size=20, records_to_test = 1000000):\n",
    "        #self.data = np.load(path)[:records_to_test]\n",
    "        if isinstance(path_or_data, str):\n",
    "            self.data = np.load(path_or_data)[2]\n",
    "        else: \n",
    "            self.data = path_or_data\n",
    "        self.seq_length = seq_length\n",
    "        self.vocab_size = vocab_size\n",
    "\n",
    "    def __len__(self):\n",
    "        return len(self.data)\n",
    "\n",
    "    def __getitem__(self, idx):\n",
    "        row = self.data[idx]\n",
    "#         seq = np.asarray(row[-1])\n",
    "        seq = row\n",
    "        length = (0 == seq).argmax(axis=0) if (0 in seq) else len(seq)\n",
    "        mask = np.ones(length)\n",
    "        masked_seq = np.copy(seq)        \n",
    "        indicies = np.sort(np.random.randint(0, length-1, 20))\n",
    "        np.put(masked_seq, indicies, 21)\n",
    "#         seq, mask, masked_seq = self.pad([seq, mask, masked_seq], self.seq_length-length)\n",
    "        mask = self.pad([mask], self.seq_length-length)[0]\n",
    "        label = np.take(seq, indicies)\n",
    "        output = self.to_int64([masked_seq, mask, indicies, seq, label])\n",
    "        return output[0:4], output[4]\n",
    "    \n",
    "    def pad(self, items_to_pad, pad_width):\n",
    "        for i in range(len(items_to_pad)):\n",
    "            items_to_pad[i] = np.pad(items_to_pad[i], mode=\"constant\", pad_width=(0,pad_width))        \n",
    "        return items_to_pad\n",
    "        \n",
    "    def to_int64(self, items_to_convert):\n",
    "        for i in range(len(items_to_convert)):\n",
    "            items_to_convert[i] = np.int64(items_to_convert[i])\n",
    "        return items_to_convert\n",
    "        "
   ]
  },
  {
   "cell_type": "code",
   "execution_count": 75,
   "metadata": {
    "scrolled": true
   },
   "outputs": [],
   "source": [
    "def validate_ds(test_ds):\n",
    "    (masked_seq, mask, indicies, seq), label = test_ds.__getitem__(1)\n",
    "    assert (0 == masked_seq).argmax(axis=0) == (0 == mask).argmax(axis=0)\n",
    "    assert len(masked_seq) == 512\n",
    "    assert len(mask) == 512\n",
    "    assert len(indicies) == 20\n",
    "    assert len(seq) == 512\n",
    "    assert len(label) == 20"
   ]
  },
  {
   "cell_type": "markdown",
   "metadata": {},
   "source": [
    "## Model"
   ]
  },
  {
   "cell_type": "code",
   "execution_count": 7,
   "metadata": {},
   "outputs": [
    {
     "name": "stdout",
     "output_type": "stream",
     "text": [
      "Better speed can be achieved with apex installed from https://www.github.com/nvidia/apex.\n"
     ]
    }
   ],
   "source": [
    "from pytorch_pretrained_bert.modeling import *\n",
    "class BertTest(nn.Module):\n",
    "    def __init__(self, config):\n",
    "        super(BertTest, self).__init__()\n",
    "        self.bert = BertForPreTraining(config)\n",
    "        \n",
    "    def forward(self, masked_seq, attention_mask, indicies, masked_lm_labels, token_ids=None):\n",
    "        prediction_scores, _ = self.bert(masked_seq, \n",
    "                                         token_type_ids=token_ids, \n",
    "                                         attention_mask=attention_mask, \n",
    "                                         masked_lm_labels=masked_lm_labels)\n",
    "        return prediction_scores"
   ]
  },
  {
   "cell_type": "code",
   "execution_count": 8,
   "metadata": {
    "scrolled": true
   },
   "outputs": [
    {
     "data": {
      "text/plain": [
       "BertTest(\n",
       "  (bert): BertForPreTraining(\n",
       "    (bert): BertModel(\n",
       "      (embeddings): BertEmbeddings(\n",
       "        (word_embeddings): Embedding(22, 512)\n",
       "        (position_embeddings): Embedding(512, 512)\n",
       "        (token_type_embeddings): Embedding(16, 512)\n",
       "        (LayerNorm): BertLayerNorm()\n",
       "        (dropout): Dropout(p=0.1)\n",
       "      )\n",
       "      (encoder): BertEncoder(\n",
       "        (layer): ModuleList(\n",
       "          (0): BertLayer(\n",
       "            (attention): BertAttention(\n",
       "              (self): BertSelfAttention(\n",
       "                (query): Linear(in_features=512, out_features=512, bias=True)\n",
       "                (key): Linear(in_features=512, out_features=512, bias=True)\n",
       "                (value): Linear(in_features=512, out_features=512, bias=True)\n",
       "                (dropout): Dropout(p=0.1)\n",
       "              )\n",
       "              (output): BertSelfOutput(\n",
       "                (dense): Linear(in_features=512, out_features=512, bias=True)\n",
       "                (LayerNorm): BertLayerNorm()\n",
       "                (dropout): Dropout(p=0.1)\n",
       "              )\n",
       "            )\n",
       "            (intermediate): BertIntermediate(\n",
       "              (dense): Linear(in_features=512, out_features=2048, bias=True)\n",
       "            )\n",
       "            (output): BertOutput(\n",
       "              (dense): Linear(in_features=2048, out_features=512, bias=True)\n",
       "              (LayerNorm): BertLayerNorm()\n",
       "              (dropout): Dropout(p=0.1)\n",
       "            )\n",
       "          )\n",
       "          (1): BertLayer(\n",
       "            (attention): BertAttention(\n",
       "              (self): BertSelfAttention(\n",
       "                (query): Linear(in_features=512, out_features=512, bias=True)\n",
       "                (key): Linear(in_features=512, out_features=512, bias=True)\n",
       "                (value): Linear(in_features=512, out_features=512, bias=True)\n",
       "                (dropout): Dropout(p=0.1)\n",
       "              )\n",
       "              (output): BertSelfOutput(\n",
       "                (dense): Linear(in_features=512, out_features=512, bias=True)\n",
       "                (LayerNorm): BertLayerNorm()\n",
       "                (dropout): Dropout(p=0.1)\n",
       "              )\n",
       "            )\n",
       "            (intermediate): BertIntermediate(\n",
       "              (dense): Linear(in_features=512, out_features=2048, bias=True)\n",
       "            )\n",
       "            (output): BertOutput(\n",
       "              (dense): Linear(in_features=2048, out_features=512, bias=True)\n",
       "              (LayerNorm): BertLayerNorm()\n",
       "              (dropout): Dropout(p=0.1)\n",
       "            )\n",
       "          )\n",
       "          (2): BertLayer(\n",
       "            (attention): BertAttention(\n",
       "              (self): BertSelfAttention(\n",
       "                (query): Linear(in_features=512, out_features=512, bias=True)\n",
       "                (key): Linear(in_features=512, out_features=512, bias=True)\n",
       "                (value): Linear(in_features=512, out_features=512, bias=True)\n",
       "                (dropout): Dropout(p=0.1)\n",
       "              )\n",
       "              (output): BertSelfOutput(\n",
       "                (dense): Linear(in_features=512, out_features=512, bias=True)\n",
       "                (LayerNorm): BertLayerNorm()\n",
       "                (dropout): Dropout(p=0.1)\n",
       "              )\n",
       "            )\n",
       "            (intermediate): BertIntermediate(\n",
       "              (dense): Linear(in_features=512, out_features=2048, bias=True)\n",
       "            )\n",
       "            (output): BertOutput(\n",
       "              (dense): Linear(in_features=2048, out_features=512, bias=True)\n",
       "              (LayerNorm): BertLayerNorm()\n",
       "              (dropout): Dropout(p=0.1)\n",
       "            )\n",
       "          )\n",
       "          (3): BertLayer(\n",
       "            (attention): BertAttention(\n",
       "              (self): BertSelfAttention(\n",
       "                (query): Linear(in_features=512, out_features=512, bias=True)\n",
       "                (key): Linear(in_features=512, out_features=512, bias=True)\n",
       "                (value): Linear(in_features=512, out_features=512, bias=True)\n",
       "                (dropout): Dropout(p=0.1)\n",
       "              )\n",
       "              (output): BertSelfOutput(\n",
       "                (dense): Linear(in_features=512, out_features=512, bias=True)\n",
       "                (LayerNorm): BertLayerNorm()\n",
       "                (dropout): Dropout(p=0.1)\n",
       "              )\n",
       "            )\n",
       "            (intermediate): BertIntermediate(\n",
       "              (dense): Linear(in_features=512, out_features=2048, bias=True)\n",
       "            )\n",
       "            (output): BertOutput(\n",
       "              (dense): Linear(in_features=2048, out_features=512, bias=True)\n",
       "              (LayerNorm): BertLayerNorm()\n",
       "              (dropout): Dropout(p=0.1)\n",
       "            )\n",
       "          )\n",
       "          (4): BertLayer(\n",
       "            (attention): BertAttention(\n",
       "              (self): BertSelfAttention(\n",
       "                (query): Linear(in_features=512, out_features=512, bias=True)\n",
       "                (key): Linear(in_features=512, out_features=512, bias=True)\n",
       "                (value): Linear(in_features=512, out_features=512, bias=True)\n",
       "                (dropout): Dropout(p=0.1)\n",
       "              )\n",
       "              (output): BertSelfOutput(\n",
       "                (dense): Linear(in_features=512, out_features=512, bias=True)\n",
       "                (LayerNorm): BertLayerNorm()\n",
       "                (dropout): Dropout(p=0.1)\n",
       "              )\n",
       "            )\n",
       "            (intermediate): BertIntermediate(\n",
       "              (dense): Linear(in_features=512, out_features=2048, bias=True)\n",
       "            )\n",
       "            (output): BertOutput(\n",
       "              (dense): Linear(in_features=2048, out_features=512, bias=True)\n",
       "              (LayerNorm): BertLayerNorm()\n",
       "              (dropout): Dropout(p=0.1)\n",
       "            )\n",
       "          )\n",
       "          (5): BertLayer(\n",
       "            (attention): BertAttention(\n",
       "              (self): BertSelfAttention(\n",
       "                (query): Linear(in_features=512, out_features=512, bias=True)\n",
       "                (key): Linear(in_features=512, out_features=512, bias=True)\n",
       "                (value): Linear(in_features=512, out_features=512, bias=True)\n",
       "                (dropout): Dropout(p=0.1)\n",
       "              )\n",
       "              (output): BertSelfOutput(\n",
       "                (dense): Linear(in_features=512, out_features=512, bias=True)\n",
       "                (LayerNorm): BertLayerNorm()\n",
       "                (dropout): Dropout(p=0.1)\n",
       "              )\n",
       "            )\n",
       "            (intermediate): BertIntermediate(\n",
       "              (dense): Linear(in_features=512, out_features=2048, bias=True)\n",
       "            )\n",
       "            (output): BertOutput(\n",
       "              (dense): Linear(in_features=2048, out_features=512, bias=True)\n",
       "              (LayerNorm): BertLayerNorm()\n",
       "              (dropout): Dropout(p=0.1)\n",
       "            )\n",
       "          )\n",
       "          (6): BertLayer(\n",
       "            (attention): BertAttention(\n",
       "              (self): BertSelfAttention(\n",
       "                (query): Linear(in_features=512, out_features=512, bias=True)\n",
       "                (key): Linear(in_features=512, out_features=512, bias=True)\n",
       "                (value): Linear(in_features=512, out_features=512, bias=True)\n",
       "                (dropout): Dropout(p=0.1)\n",
       "              )\n",
       "              (output): BertSelfOutput(\n",
       "                (dense): Linear(in_features=512, out_features=512, bias=True)\n",
       "                (LayerNorm): BertLayerNorm()\n",
       "                (dropout): Dropout(p=0.1)\n",
       "              )\n",
       "            )\n",
       "            (intermediate): BertIntermediate(\n",
       "              (dense): Linear(in_features=512, out_features=2048, bias=True)\n",
       "            )\n",
       "            (output): BertOutput(\n",
       "              (dense): Linear(in_features=2048, out_features=512, bias=True)\n",
       "              (LayerNorm): BertLayerNorm()\n",
       "              (dropout): Dropout(p=0.1)\n",
       "            )\n",
       "          )\n",
       "          (7): BertLayer(\n",
       "            (attention): BertAttention(\n",
       "              (self): BertSelfAttention(\n",
       "                (query): Linear(in_features=512, out_features=512, bias=True)\n",
       "                (key): Linear(in_features=512, out_features=512, bias=True)\n",
       "                (value): Linear(in_features=512, out_features=512, bias=True)\n",
       "                (dropout): Dropout(p=0.1)\n",
       "              )\n",
       "              (output): BertSelfOutput(\n",
       "                (dense): Linear(in_features=512, out_features=512, bias=True)\n",
       "                (LayerNorm): BertLayerNorm()\n",
       "                (dropout): Dropout(p=0.1)\n",
       "              )\n",
       "            )\n",
       "            (intermediate): BertIntermediate(\n",
       "              (dense): Linear(in_features=512, out_features=2048, bias=True)\n",
       "            )\n",
       "            (output): BertOutput(\n",
       "              (dense): Linear(in_features=2048, out_features=512, bias=True)\n",
       "              (LayerNorm): BertLayerNorm()\n",
       "              (dropout): Dropout(p=0.1)\n",
       "            )\n",
       "          )\n",
       "        )\n",
       "      )\n",
       "      (pooler): BertPooler(\n",
       "        (dense): Linear(in_features=512, out_features=512, bias=True)\n",
       "        (activation): Tanh()\n",
       "      )\n",
       "    )\n",
       "    (cls): BertPreTrainingHeads(\n",
       "      (predictions): BertLMPredictionHead(\n",
       "        (transform): BertPredictionHeadTransform(\n",
       "          (dense): Linear(in_features=512, out_features=512, bias=True)\n",
       "          (LayerNorm): BertLayerNorm()\n",
       "        )\n",
       "        (decoder): Linear(in_features=512, out_features=22, bias=False)\n",
       "      )\n",
       "      (seq_relationship): Linear(in_features=512, out_features=2, bias=True)\n",
       "    )\n",
       "  )\n",
       ")"
      ]
     },
     "execution_count": 8,
     "metadata": {},
     "output_type": "execute_result"
    }
   ],
   "source": [
    "from pytorch_pretrained_bert.modeling import BertConfig\n",
    "bert_config = BertConfig.from_json_file(BERT_CONFIG_FILE)\n",
    "bert_test = BertTest(bert_config)\n",
    "bert_test.bert.load_state_dict(torch.load(BERT_WEIGHTS, map_location='cpu'))\n",
    "bert_test.to('cuda')"
   ]
  },
  {
   "cell_type": "code",
   "execution_count": 9,
   "metadata": {
    "scrolled": true
   },
   "outputs": [
    {
     "data": {
      "text/plain": [
       "tensor([-0.0187,  0.0076, -0.1088,  0.0023, -0.0215, -0.0242, -0.0327, -0.0327,\n",
       "        -0.0119, -0.0202], device='cuda:0', grad_fn=<SliceBackward>)"
      ]
     },
     "execution_count": 9,
     "metadata": {},
     "output_type": "execute_result"
    }
   ],
   "source": [
    "bert_test.bert.bert.embeddings.word_embeddings.weight[0][:10]"
   ]
  },
  {
   "cell_type": "code",
   "execution_count": 10,
   "metadata": {
    "scrolled": true
   },
   "outputs": [
    {
     "data": {
      "text/plain": [
       "0"
      ]
     },
     "execution_count": 10,
     "metadata": {},
     "output_type": "execute_result"
    }
   ],
   "source": [
    "for n, p in bert_test.bert.named_parameters():\n",
    "    if p.requires_grad: \n",
    "        p.requires_grad=False\n",
    "sum(p.numel() for p in bert_test.parameters() if p.requires_grad)"
   ]
  },
  {
   "cell_type": "code",
   "execution_count": 161,
   "metadata": {},
   "outputs": [],
   "source": [
    "# test_ds = BertDataSet(\"../../../bert/weights/eval_full/20181217_073706_412768.npy\", SEQUENCE_LENGTH)\n",
    "seq = (np.load(\"../../../bert/weights/eval_full/20181217_073706_412768.npy\")[2][165])\n",
    "seqs = np.repeat(np.expand_dims(seq, axis=0), 16, axis=0)\n",
    "test_ds = BertDataSet(seqs, SEQUENCE_LENGTH)\n",
    "validate_ds(test_ds)\n",
    "dl = DataLoader(test_ds, batch_size=16, shuffle=False)"
   ]
  },
  {
   "cell_type": "code",
   "execution_count": 162,
   "metadata": {},
   "outputs": [],
   "source": [
    "def accuracy(input, targs):\n",
    "    n = targs.shape[0]\n",
    "    input = input.argmax(dim=-1).view(n,-1)\n",
    "    targs = targs.view(n,-1)\n",
    "    return (input==targs).float().mean(dim=1)"
   ]
  },
  {
   "cell_type": "code",
   "execution_count": 163,
   "metadata": {
    "scrolled": true
   },
   "outputs": [
    {
     "data": {
      "text/html": [
       "\n",
       "    <div>\n",
       "        <style>\n",
       "        \t/* Turns off some styling */\n",
       "        \tprogress {\n",
       "\n",
       "            \t/* gets rid of default border in Firefox and Opera. */\n",
       "            \tborder: none;\n",
       "\n",
       "            \t/* Needs to be in here for Safari polyfill so background images work as expected. */\n",
       "            \tbackground-size: auto;\n",
       "            }\n",
       "\n",
       "            .progress-bar-interrupted, .progress-bar-interrupted::-webkit-progress-bar {\n",
       "                background: #F44336;\n",
       "            }\n",
       "        </style>\n",
       "      <progress value='1' class='' max='1', style='width:300px; height:20px; vertical-align: middle;'></progress>\n",
       "      100.00% [1/1 00:04<00:00]\n",
       "    </div>\n",
       "    "
      ],
      "text/plain": [
       "<IPython.core.display.HTML object>"
      ]
     },
     "metadata": {},
     "output_type": "display_data"
    },
    {
     "data": {
      "text/plain": [
       "(tensor(2.9027, device='cuda:0'), tensor(0.0969, device='cuda:0'))"
      ]
     },
     "execution_count": 163,
     "metadata": {},
     "output_type": "execute_result"
    }
   ],
   "source": [
    "model = bert_test\n",
    "#loss_func = nn.CrossEntropyLoss(reduction='none')\n",
    "loss_func = bert_loss\n",
    "model.eval()\n",
    "xbs, ybs, preds, loss, acc = [None, None, None, None], None, None, None, None\n",
    "with torch.no_grad():\n",
    "    val_losses, val_acc, steps = [],[], 0\n",
    "    for xb,yb in NBProgressBar(dl):\n",
    "        xb, yb = to_device((xb, yb), torch.device('cuda'))\n",
    "        out = model(*xb)\n",
    "        for i in range(len(xb)):\n",
    "            xbs[i] = append(xbs[i], xb[i])\n",
    "        ybs = append(ybs, yb)\n",
    "        pred = torch.nn.functional.log_softmax(batched_index_select(out,1, xb[2]), dim=-1).reshape([-1, 20, 22])\n",
    "        preds = append(preds, pred)\n",
    "        loss = append(loss, loss_func(pred, yb, bert_config.vocab_size).mean(dim=1))\n",
    "        acc = append(acc, accuracy(pred, yb))\n",
    "        steps = steps + 1\n",
    "        if steps == 100:\n",
    "            break\n",
    "             \n",
    "loss.mean(), acc.mean()"
   ]
  },
  {
   "cell_type": "code",
   "execution_count": 164,
   "metadata": {},
   "outputs": [],
   "source": [
    "accuracies = to_np(acc)\n",
    "losses = to_np(loss)\n",
    "predictions = to_np(preds.transpose(1,2))"
   ]
  },
  {
   "cell_type": "code",
   "execution_count": 165,
   "metadata": {},
   "outputs": [],
   "source": [
    "masked_seq, mask, indicies, seq = [to_np(x) for x in xbs]"
   ]
  },
  {
   "cell_type": "code",
   "execution_count": 166,
   "metadata": {
    "scrolled": true
   },
   "outputs": [],
   "source": [
    "labels = to_np(ybs)"
   ]
  },
  {
   "cell_type": "markdown",
   "metadata": {},
   "source": [
    "## Accuracy"
   ]
  },
  {
   "cell_type": "code",
   "execution_count": 167,
   "metadata": {
    "scrolled": true
   },
   "outputs": [
    {
     "data": {
      "text/plain": [
       "{0.0: 2, 0.05: 3, 0.1: 6, 0.15: 4, 0.2: 1}"
      ]
     },
     "execution_count": 167,
     "metadata": {},
     "output_type": "execute_result"
    }
   ],
   "source": [
    "unique, counts=np.unique(accuracies, return_counts=True)\n",
    "dict(zip(unique, counts))"
   ]
  },
  {
   "cell_type": "code",
   "execution_count": 168,
   "metadata": {
    "scrolled": true
   },
   "outputs": [
    {
     "data": {
      "image/png": "[encoded data removed]",
      "text/plain": [
       "<Figure size 432x288 with 1 Axes>"
      ]
     },
     "metadata": {},
     "output_type": "display_data"
    }
   ],
   "source": [
    "import matplotlib.pyplot as plt\n",
    "plt.hist(accuracies, bins='auto')\n",
    "plt.show()"
   ]
  },
  {
   "cell_type": "markdown",
   "metadata": {},
   "source": [
    "## Losses"
   ]
  },
  {
   "cell_type": "code",
   "execution_count": 169,
   "metadata": {
    "scrolled": true
   },
   "outputs": [
    {
     "data": {
      "image/png": "[encoded data removed]",
      "text/plain": [
       "<Figure size 432x288 with 1 Axes>"
      ]
     },
     "metadata": {},
     "output_type": "display_data"
    }
   ],
   "source": [
    "import matplotlib.pyplot as plt\n",
    "plt.hist(losses, bins='auto')\n",
    "plt.show()"
   ]
  },
  {
   "cell_type": "markdown",
   "metadata": {},
   "source": [
    "## Accuracy per amino acid"
   ]
  },
  {
   "cell_type": "code",
   "execution_count": 170,
   "metadata": {},
   "outputs": [
    {
     "data": {
      "text/plain": [
       "[(array([ 1,  2,  3,  4,  5,  6,  7,  8,  9, 10, 11, 12, 13, 15, 16, 17, 18, 20], dtype=int64),),\n",
       " (array([12,  4, 22, 26, 15, 31,  6, 32, 17, 28, 14,  6, 23, 25, 26, 17,  5, 11], dtype=int64),)]"
      ]
     },
     "execution_count": 170,
     "metadata": {},
     "output_type": "execute_result"
    }
   ],
   "source": [
    "list(zip(np.unique(labels, return_counts=True)))"
   ]
  },
  {
   "cell_type": "code",
   "execution_count": 171,
   "metadata": {
    "scrolled": true
   },
   "outputs": [
    {
     "data": {
      "text/plain": [
       "({0: 41,\n",
       "  1: 23,\n",
       "  2: 12,\n",
       "  3: 15,\n",
       "  4: 23,\n",
       "  5: 16,\n",
       "  6: 10,\n",
       "  7: 19,\n",
       "  8: 14,\n",
       "  9: 9,\n",
       "  10: 6,\n",
       "  11: 10,\n",
       "  12: 11,\n",
       "  13: 17,\n",
       "  14: 13,\n",
       "  15: 14,\n",
       "  16: 19,\n",
       "  17: 26,\n",
       "  18: 33,\n",
       "  19: 21},\n",
       " {1: 12,\n",
       "  2: 4,\n",
       "  3: 22,\n",
       "  4: 26,\n",
       "  5: 15,\n",
       "  6: 31,\n",
       "  7: 6,\n",
       "  8: 32,\n",
       "  9: 17,\n",
       "  10: 28,\n",
       "  11: 14,\n",
       "  12: 6,\n",
       "  13: 23,\n",
       "  15: 25,\n",
       "  16: 26,\n",
       "  17: 17,\n",
       "  18: 5,\n",
       "  20: 11})"
      ]
     },
     "execution_count": 171,
     "metadata": {},
     "output_type": "execute_result"
    }
   ],
   "source": [
    "unique_g, counts_g = np.unique(predictions.argmax(axis=2), return_counts=True)\n",
    "unique_t, counts_t = np.unique(labels, return_counts=True)\n",
    "dict(zip(unique_g, counts_g)), dict(zip(unique_t, counts_t))"
   ]
  },
  {
   "cell_type": "code",
   "execution_count": 172,
   "metadata": {},
   "outputs": [
    {
     "data": {
      "text/plain": [
       "((16, 22, 20), (16, 20))"
      ]
     },
     "execution_count": 172,
     "metadata": {},
     "output_type": "execute_result"
    }
   ],
   "source": [
    "predictions.shape, labels.shape"
   ]
  },
  {
   "cell_type": "code",
   "execution_count": 173,
   "metadata": {
    "scrolled": true
   },
   "outputs": [
    {
     "data": {
      "text/plain": [
       "(320, 3)"
      ]
     },
     "execution_count": 173,
     "metadata": {},
     "output_type": "execute_result"
    }
   ],
   "source": [
    "data = np.column_stack((predictions.argmax(axis=1).flatten(),labels.flatten(),np.repeat(accuracies, 20, axis=0)))\n",
    "amino_acids = pd.DataFrame(data, columns=[\"Guess\", \"Actual\", \"Accuracy\"])\n",
    "amino_acids.shape"
   ]
  },
  {
   "cell_type": "code",
   "execution_count": 174,
   "metadata": {},
   "outputs": [],
   "source": [
    "amino_acids[\"Correct\"] = amino_acids[\"Guess\"] == amino_acids[\"Actual\"]"
   ]
  },
  {
   "cell_type": "code",
   "execution_count": 175,
   "metadata": {},
   "outputs": [
    {
     "data": {
      "text/html": [
       "<div>\n",
       "<style scoped>\n",
       "    .dataframe tbody tr th:only-of-type {\n",
       "        vertical-align: middle;\n",
       "    }\n",
       "\n",
       "    .dataframe tbody tr th {\n",
       "        vertical-align: top;\n",
       "    }\n",
       "\n",
       "    .dataframe thead tr th {\n",
       "        text-align: left;\n",
       "    }\n",
       "</style>\n",
       "<table border=\"1\" class=\"dataframe\">\n",
       "  <thead>\n",
       "    <tr>\n",
       "      <th></th>\n",
       "      <th colspan=\"2\" halign=\"left\">Correct</th>\n",
       "      <th>Accuracy</th>\n",
       "      <th colspan=\"2\" halign=\"left\">Correct</th>\n",
       "      <th>Accuracy</th>\n",
       "    </tr>\n",
       "    <tr>\n",
       "      <th></th>\n",
       "      <th>mean</th>\n",
       "      <th>count</th>\n",
       "      <th>mean</th>\n",
       "      <th>mean</th>\n",
       "      <th>count</th>\n",
       "      <th>mean</th>\n",
       "    </tr>\n",
       "  </thead>\n",
       "  <tbody>\n",
       "    <tr>\n",
       "      <th>1.0</th>\n",
       "      <td>0.000000</td>\n",
       "      <td>13.0</td>\n",
       "      <td>0.103846</td>\n",
       "      <td>0.000000</td>\n",
       "      <td>12</td>\n",
       "      <td>0.100000</td>\n",
       "    </tr>\n",
       "    <tr>\n",
       "      <th>2.0</th>\n",
       "      <td>0.000000</td>\n",
       "      <td>12.0</td>\n",
       "      <td>0.100000</td>\n",
       "      <td>0.000000</td>\n",
       "      <td>4</td>\n",
       "      <td>0.100000</td>\n",
       "    </tr>\n",
       "    <tr>\n",
       "      <th>3.0</th>\n",
       "      <td>0.000000</td>\n",
       "      <td>4.0</td>\n",
       "      <td>0.037500</td>\n",
       "      <td>0.000000</td>\n",
       "      <td>22</td>\n",
       "      <td>0.097727</td>\n",
       "    </tr>\n",
       "    <tr>\n",
       "      <th>4.0</th>\n",
       "      <td>0.043478</td>\n",
       "      <td>46.0</td>\n",
       "      <td>0.091304</td>\n",
       "      <td>0.076923</td>\n",
       "      <td>26</td>\n",
       "      <td>0.101923</td>\n",
       "    </tr>\n",
       "    <tr>\n",
       "      <th>5.0</th>\n",
       "      <td>0.000000</td>\n",
       "      <td>1.0</td>\n",
       "      <td>0.150000</td>\n",
       "      <td>0.000000</td>\n",
       "      <td>15</td>\n",
       "      <td>0.103333</td>\n",
       "    </tr>\n",
       "    <tr>\n",
       "      <th>6.0</th>\n",
       "      <td>0.090909</td>\n",
       "      <td>22.0</td>\n",
       "      <td>0.118182</td>\n",
       "      <td>0.064516</td>\n",
       "      <td>31</td>\n",
       "      <td>0.087097</td>\n",
       "    </tr>\n",
       "    <tr>\n",
       "      <th>7.0</th>\n",
       "      <td>NaN</td>\n",
       "      <td>NaN</td>\n",
       "      <td>NaN</td>\n",
       "      <td>0.000000</td>\n",
       "      <td>6</td>\n",
       "      <td>0.116667</td>\n",
       "    </tr>\n",
       "    <tr>\n",
       "      <th>8.0</th>\n",
       "      <td>0.400000</td>\n",
       "      <td>5.0</td>\n",
       "      <td>0.140000</td>\n",
       "      <td>0.062500</td>\n",
       "      <td>32</td>\n",
       "      <td>0.079688</td>\n",
       "    </tr>\n",
       "    <tr>\n",
       "      <th>9.0</th>\n",
       "      <td>0.066667</td>\n",
       "      <td>15.0</td>\n",
       "      <td>0.076667</td>\n",
       "      <td>0.058824</td>\n",
       "      <td>17</td>\n",
       "      <td>0.100000</td>\n",
       "    </tr>\n",
       "    <tr>\n",
       "      <th>10.0</th>\n",
       "      <td>0.113924</td>\n",
       "      <td>158.0</td>\n",
       "      <td>0.095253</td>\n",
       "      <td>0.642857</td>\n",
       "      <td>28</td>\n",
       "      <td>0.114286</td>\n",
       "    </tr>\n",
       "    <tr>\n",
       "      <th>11.0</th>\n",
       "      <td>1.000000</td>\n",
       "      <td>6.0</td>\n",
       "      <td>0.133333</td>\n",
       "      <td>0.428571</td>\n",
       "      <td>14</td>\n",
       "      <td>0.117857</td>\n",
       "    </tr>\n",
       "    <tr>\n",
       "      <th>12.0</th>\n",
       "      <td>NaN</td>\n",
       "      <td>NaN</td>\n",
       "      <td>NaN</td>\n",
       "      <td>0.000000</td>\n",
       "      <td>6</td>\n",
       "      <td>0.116667</td>\n",
       "    </tr>\n",
       "    <tr>\n",
       "      <th>13.0</th>\n",
       "      <td>0.000000</td>\n",
       "      <td>2.0</td>\n",
       "      <td>0.150000</td>\n",
       "      <td>0.000000</td>\n",
       "      <td>23</td>\n",
       "      <td>0.089130</td>\n",
       "    </tr>\n",
       "    <tr>\n",
       "      <th>15.0</th>\n",
       "      <td>0.000000</td>\n",
       "      <td>12.0</td>\n",
       "      <td>0.075000</td>\n",
       "      <td>0.000000</td>\n",
       "      <td>25</td>\n",
       "      <td>0.106000</td>\n",
       "    </tr>\n",
       "    <tr>\n",
       "      <th>16.0</th>\n",
       "      <td>0.000000</td>\n",
       "      <td>13.0</td>\n",
       "      <td>0.096154</td>\n",
       "      <td>0.000000</td>\n",
       "      <td>26</td>\n",
       "      <td>0.082692</td>\n",
       "    </tr>\n",
       "    <tr>\n",
       "      <th>17.0</th>\n",
       "      <td>0.000000</td>\n",
       "      <td>4.0</td>\n",
       "      <td>0.162500</td>\n",
       "      <td>0.000000</td>\n",
       "      <td>17</td>\n",
       "      <td>0.094118</td>\n",
       "    </tr>\n",
       "    <tr>\n",
       "      <th>18.0</th>\n",
       "      <td>0.000000</td>\n",
       "      <td>7.0</td>\n",
       "      <td>0.078571</td>\n",
       "      <td>0.000000</td>\n",
       "      <td>5</td>\n",
       "      <td>0.120000</td>\n",
       "    </tr>\n",
       "    <tr>\n",
       "      <th>20.0</th>\n",
       "      <td>NaN</td>\n",
       "      <td>NaN</td>\n",
       "      <td>NaN</td>\n",
       "      <td>0.000000</td>\n",
       "      <td>11</td>\n",
       "      <td>0.072727</td>\n",
       "    </tr>\n",
       "  </tbody>\n",
       "</table>\n",
       "</div>"
      ],
      "text/plain": [
       "       Correct         Accuracy   Correct        Accuracy\n",
       "          mean  count      mean      mean count      mean\n",
       "1.0   0.000000   13.0  0.103846  0.000000    12  0.100000\n",
       "2.0   0.000000   12.0  0.100000  0.000000     4  0.100000\n",
       "3.0   0.000000    4.0  0.037500  0.000000    22  0.097727\n",
       "4.0   0.043478   46.0  0.091304  0.076923    26  0.101923\n",
       "5.0   0.000000    1.0  0.150000  0.000000    15  0.103333\n",
       "6.0   0.090909   22.0  0.118182  0.064516    31  0.087097\n",
       "7.0        NaN    NaN       NaN  0.000000     6  0.116667\n",
       "8.0   0.400000    5.0  0.140000  0.062500    32  0.079688\n",
       "9.0   0.066667   15.0  0.076667  0.058824    17  0.100000\n",
       "10.0  0.113924  158.0  0.095253  0.642857    28  0.114286\n",
       "11.0  1.000000    6.0  0.133333  0.428571    14  0.117857\n",
       "12.0       NaN    NaN       NaN  0.000000     6  0.116667\n",
       "13.0  0.000000    2.0  0.150000  0.000000    23  0.089130\n",
       "15.0  0.000000   12.0  0.075000  0.000000    25  0.106000\n",
       "16.0  0.000000   13.0  0.096154  0.000000    26  0.082692\n",
       "17.0  0.000000    4.0  0.162500  0.000000    17  0.094118\n",
       "18.0  0.000000    7.0  0.078571  0.000000     5  0.120000\n",
       "20.0       NaN    NaN       NaN  0.000000    11  0.072727"
      ]
     },
     "execution_count": 175,
     "metadata": {},
     "output_type": "execute_result"
    }
   ],
   "source": [
    "pd.concat([amino_acids.groupby(by=\"Guess\").agg({\"Correct\":['mean','count'], \"Accuracy\": [\"mean\"]}), \n",
    "           amino_acids.groupby(by=\"Actual\").agg({\"Correct\":['mean','count'], \"Accuracy\": [\"mean\"]})]\n",
    "          ,axis=1)"
   ]
  },
  {
   "cell_type": "code",
   "execution_count": 176,
   "metadata": {},
   "outputs": [
    {
     "data": {
      "text/plain": [
       "31"
      ]
     },
     "execution_count": 176,
     "metadata": {},
     "output_type": "execute_result"
    }
   ],
   "source": [
    "amino_acids['Correct'].sum()"
   ]
  },
  {
   "cell_type": "code",
   "execution_count": 177,
   "metadata": {},
   "outputs": [
    {
     "name": "stderr",
     "output_type": "stream",
     "text": [
      "c:\\users\\donatas\\appdata\\local\\programs\\python\\python36\\lib\\site-packages\\ipykernel_launcher.py:2: FutureWarning: using a dict on a Series for aggregation\n",
      "is deprecated and will be removed in a future version\n",
      "  \n"
     ]
    },
    {
     "data": {
      "text/html": [
       "<div>\n",
       "<style scoped>\n",
       "    .dataframe tbody tr th:only-of-type {\n",
       "        vertical-align: middle;\n",
       "    }\n",
       "\n",
       "    .dataframe tbody tr th {\n",
       "        vertical-align: top;\n",
       "    }\n",
       "\n",
       "    .dataframe thead th {\n",
       "        text-align: right;\n",
       "    }\n",
       "</style>\n",
       "<table border=\"1\" class=\"dataframe\">\n",
       "  <thead>\n",
       "    <tr style=\"text-align: right;\">\n",
       "      <th></th>\n",
       "      <th>Guess</th>\n",
       "      <th>Actual</th>\n",
       "      <th>code_count</th>\n",
       "    </tr>\n",
       "  </thead>\n",
       "  <tbody>\n",
       "    <tr>\n",
       "      <th>0</th>\n",
       "      <td>10.0</td>\n",
       "      <td>8.0</td>\n",
       "      <td>18</td>\n",
       "    </tr>\n",
       "    <tr>\n",
       "      <th>1</th>\n",
       "      <td>10.0</td>\n",
       "      <td>16.0</td>\n",
       "      <td>18</td>\n",
       "    </tr>\n",
       "    <tr>\n",
       "      <th>2</th>\n",
       "      <td>10.0</td>\n",
       "      <td>13.0</td>\n",
       "      <td>13</td>\n",
       "    </tr>\n",
       "    <tr>\n",
       "      <th>3</th>\n",
       "      <td>10.0</td>\n",
       "      <td>4.0</td>\n",
       "      <td>12</td>\n",
       "    </tr>\n",
       "    <tr>\n",
       "      <th>4</th>\n",
       "      <td>10.0</td>\n",
       "      <td>6.0</td>\n",
       "      <td>12</td>\n",
       "    </tr>\n",
       "    <tr>\n",
       "      <th>5</th>\n",
       "      <td>10.0</td>\n",
       "      <td>3.0</td>\n",
       "      <td>11</td>\n",
       "    </tr>\n",
       "    <tr>\n",
       "      <th>6</th>\n",
       "      <td>2.0</td>\n",
       "      <td>15.0</td>\n",
       "      <td>11</td>\n",
       "    </tr>\n",
       "    <tr>\n",
       "      <th>7</th>\n",
       "      <td>10.0</td>\n",
       "      <td>17.0</td>\n",
       "      <td>10</td>\n",
       "    </tr>\n",
       "    <tr>\n",
       "      <th>8</th>\n",
       "      <td>6.0</td>\n",
       "      <td>5.0</td>\n",
       "      <td>9</td>\n",
       "    </tr>\n",
       "    <tr>\n",
       "      <th>9</th>\n",
       "      <td>4.0</td>\n",
       "      <td>9.0</td>\n",
       "      <td>8</td>\n",
       "    </tr>\n",
       "    <tr>\n",
       "      <th>10</th>\n",
       "      <td>10.0</td>\n",
       "      <td>1.0</td>\n",
       "      <td>8</td>\n",
       "    </tr>\n",
       "    <tr>\n",
       "      <th>11</th>\n",
       "      <td>10.0</td>\n",
       "      <td>11.0</td>\n",
       "      <td>7</td>\n",
       "    </tr>\n",
       "    <tr>\n",
       "      <th>12</th>\n",
       "      <td>10.0</td>\n",
       "      <td>15.0</td>\n",
       "      <td>6</td>\n",
       "    </tr>\n",
       "    <tr>\n",
       "      <th>13</th>\n",
       "      <td>16.0</td>\n",
       "      <td>9.0</td>\n",
       "      <td>6</td>\n",
       "    </tr>\n",
       "    <tr>\n",
       "      <th>14</th>\n",
       "      <td>4.0</td>\n",
       "      <td>6.0</td>\n",
       "      <td>6</td>\n",
       "    </tr>\n",
       "    <tr>\n",
       "      <th>15</th>\n",
       "      <td>10.0</td>\n",
       "      <td>5.0</td>\n",
       "      <td>6</td>\n",
       "    </tr>\n",
       "    <tr>\n",
       "      <th>16</th>\n",
       "      <td>10.0</td>\n",
       "      <td>20.0</td>\n",
       "      <td>6</td>\n",
       "    </tr>\n",
       "    <tr>\n",
       "      <th>17</th>\n",
       "      <td>4.0</td>\n",
       "      <td>10.0</td>\n",
       "      <td>6</td>\n",
       "    </tr>\n",
       "    <tr>\n",
       "      <th>18</th>\n",
       "      <td>4.0</td>\n",
       "      <td>3.0</td>\n",
       "      <td>5</td>\n",
       "    </tr>\n",
       "    <tr>\n",
       "      <th>19</th>\n",
       "      <td>4.0</td>\n",
       "      <td>8.0</td>\n",
       "      <td>5</td>\n",
       "    </tr>\n",
       "  </tbody>\n",
       "</table>\n",
       "</div>"
      ],
      "text/plain": [
       "    Guess  Actual  code_count\n",
       "0    10.0     8.0          18\n",
       "1    10.0    16.0          18\n",
       "2    10.0    13.0          13\n",
       "3    10.0     4.0          12\n",
       "4    10.0     6.0          12\n",
       "5    10.0     3.0          11\n",
       "6     2.0    15.0          11\n",
       "7    10.0    17.0          10\n",
       "8     6.0     5.0           9\n",
       "9     4.0     9.0           8\n",
       "10   10.0     1.0           8\n",
       "11   10.0    11.0           7\n",
       "12   10.0    15.0           6\n",
       "13   16.0     9.0           6\n",
       "14    4.0     6.0           6\n",
       "15   10.0     5.0           6\n",
       "16   10.0    20.0           6\n",
       "17    4.0    10.0           6\n",
       "18    4.0     3.0           5\n",
       "19    4.0     8.0           5"
      ]
     },
     "execution_count": 177,
     "metadata": {},
     "output_type": "execute_result"
    }
   ],
   "source": [
    "df_top_freq = amino_acids[~amino_acids['Correct']].groupby([\"Guess\", \"Actual\"])['Correct'].agg(\n",
    "    {\"code_count\": len}).sort_values(\n",
    "    \"code_count\", ascending=False).head(20).reset_index()\n",
    "df_top_freq"
   ]
  },
  {
   "cell_type": "code",
   "execution_count": 178,
   "metadata": {},
   "outputs": [
    {
     "name": "stderr",
     "output_type": "stream",
     "text": [
      "c:\\users\\donatas\\appdata\\local\\programs\\python\\python36\\lib\\site-packages\\ipykernel_launcher.py:2: FutureWarning: using a dict on a Series for aggregation\n",
      "is deprecated and will be removed in a future version\n",
      "  \n"
     ]
    },
    {
     "data": {
      "text/html": [
       "<div>\n",
       "<style scoped>\n",
       "    .dataframe tbody tr th:only-of-type {\n",
       "        vertical-align: middle;\n",
       "    }\n",
       "\n",
       "    .dataframe tbody tr th {\n",
       "        vertical-align: top;\n",
       "    }\n",
       "\n",
       "    .dataframe thead th {\n",
       "        text-align: right;\n",
       "    }\n",
       "</style>\n",
       "<table border=\"1\" class=\"dataframe\">\n",
       "  <thead>\n",
       "    <tr style=\"text-align: right;\">\n",
       "      <th></th>\n",
       "      <th>index</th>\n",
       "      <th>code_count</th>\n",
       "    </tr>\n",
       "  </thead>\n",
       "  <tbody>\n",
       "  </tbody>\n",
       "</table>\n",
       "</div>"
      ],
      "text/plain": [
       "Empty DataFrame\n",
       "Columns: [index, code_count]\n",
       "Index: []"
      ]
     },
     "execution_count": 178,
     "metadata": {},
     "output_type": "execute_result"
    }
   ],
   "source": [
    "df_top_freq = amino_acids[(~amino_acids['Correct']) & (amino_acids['Accuracy'] >= 0.5)].groupby([\"Guess\", \"Actual\"])['Correct'].agg(\n",
    "    {\"code_count\": len}).sort_values(\n",
    "    \"code_count\", ascending=False).head(11).reset_index()\n",
    "df_top_freq"
   ]
  },
  {
   "cell_type": "code",
   "execution_count": 180,
   "metadata": {
    "scrolled": true
   },
   "outputs": [
    {
     "name": "stderr",
     "output_type": "stream",
     "text": [
      "c:\\users\\donatas\\appdata\\local\\programs\\python\\python36\\lib\\site-packages\\ipykernel_launcher.py:2: FutureWarning: using a dict on a Series for aggregation\n",
      "is deprecated and will be removed in a future version\n",
      "  \n"
     ]
    },
    {
     "data": {
      "text/html": [
       "<div>\n",
       "<style scoped>\n",
       "    .dataframe tbody tr th:only-of-type {\n",
       "        vertical-align: middle;\n",
       "    }\n",
       "\n",
       "    .dataframe tbody tr th {\n",
       "        vertical-align: top;\n",
       "    }\n",
       "\n",
       "    .dataframe thead th {\n",
       "        text-align: right;\n",
       "    }\n",
       "</style>\n",
       "<table border=\"1\" class=\"dataframe\">\n",
       "  <thead>\n",
       "    <tr style=\"text-align: right;\">\n",
       "      <th></th>\n",
       "      <th>Guess</th>\n",
       "      <th>Actual</th>\n",
       "      <th>code_count</th>\n",
       "    </tr>\n",
       "  </thead>\n",
       "  <tbody>\n",
       "    <tr>\n",
       "      <th>0</th>\n",
       "      <td>10.0</td>\n",
       "      <td>8.0</td>\n",
       "      <td>17</td>\n",
       "    </tr>\n",
       "    <tr>\n",
       "      <th>1</th>\n",
       "      <td>10.0</td>\n",
       "      <td>16.0</td>\n",
       "      <td>16</td>\n",
       "    </tr>\n",
       "    <tr>\n",
       "      <th>2</th>\n",
       "      <td>10.0</td>\n",
       "      <td>13.0</td>\n",
       "      <td>13</td>\n",
       "    </tr>\n",
       "    <tr>\n",
       "      <th>3</th>\n",
       "      <td>10.0</td>\n",
       "      <td>6.0</td>\n",
       "      <td>12</td>\n",
       "    </tr>\n",
       "    <tr>\n",
       "      <th>4</th>\n",
       "      <td>10.0</td>\n",
       "      <td>4.0</td>\n",
       "      <td>12</td>\n",
       "    </tr>\n",
       "    <tr>\n",
       "      <th>5</th>\n",
       "      <td>10.0</td>\n",
       "      <td>3.0</td>\n",
       "      <td>10</td>\n",
       "    </tr>\n",
       "    <tr>\n",
       "      <th>6</th>\n",
       "      <td>2.0</td>\n",
       "      <td>15.0</td>\n",
       "      <td>10</td>\n",
       "    </tr>\n",
       "    <tr>\n",
       "      <th>7</th>\n",
       "      <td>6.0</td>\n",
       "      <td>5.0</td>\n",
       "      <td>9</td>\n",
       "    </tr>\n",
       "    <tr>\n",
       "      <th>8</th>\n",
       "      <td>10.0</td>\n",
       "      <td>17.0</td>\n",
       "      <td>9</td>\n",
       "    </tr>\n",
       "    <tr>\n",
       "      <th>9</th>\n",
       "      <td>10.0</td>\n",
       "      <td>1.0</td>\n",
       "      <td>8</td>\n",
       "    </tr>\n",
       "    <tr>\n",
       "      <th>10</th>\n",
       "      <td>4.0</td>\n",
       "      <td>9.0</td>\n",
       "      <td>7</td>\n",
       "    </tr>\n",
       "  </tbody>\n",
       "</table>\n",
       "</div>"
      ],
      "text/plain": [
       "    Guess  Actual  code_count\n",
       "0    10.0     8.0          17\n",
       "1    10.0    16.0          16\n",
       "2    10.0    13.0          13\n",
       "3    10.0     6.0          12\n",
       "4    10.0     4.0          12\n",
       "5    10.0     3.0          10\n",
       "6     2.0    15.0          10\n",
       "7     6.0     5.0           9\n",
       "8    10.0    17.0           9\n",
       "9    10.0     1.0           8\n",
       "10    4.0     9.0           7"
      ]
     },
     "execution_count": 180,
     "metadata": {},
     "output_type": "execute_result"
    }
   ],
   "source": [
    "df_top_freq = amino_acids[(~amino_acids['Correct']) & (amino_acids['Accuracy'] < 0.2)].groupby([\"Guess\", \"Actual\"])['Correct'].agg(\n",
    "    {\"code_count\": len}).sort_values(\n",
    "    \"code_count\", ascending=False).head(11).reset_index()\n",
    "df_top_freq"
   ]
  },
  {
   "cell_type": "code",
   "execution_count": 181,
   "metadata": {
    "scrolled": true
   },
   "outputs": [
    {
     "name": "stderr",
     "output_type": "stream",
     "text": [
      "c:\\users\\donatas\\appdata\\local\\programs\\python\\python36\\lib\\site-packages\\ipykernel_launcher.py:2: FutureWarning: using a dict on a Series for aggregation\n",
      "is deprecated and will be removed in a future version\n",
      "  \n"
     ]
    },
    {
     "data": {
      "text/html": [
       "<div>\n",
       "<style scoped>\n",
       "    .dataframe tbody tr th:only-of-type {\n",
       "        vertical-align: middle;\n",
       "    }\n",
       "\n",
       "    .dataframe tbody tr th {\n",
       "        vertical-align: top;\n",
       "    }\n",
       "\n",
       "    .dataframe thead th {\n",
       "        text-align: right;\n",
       "    }\n",
       "</style>\n",
       "<table border=\"1\" class=\"dataframe\">\n",
       "  <thead>\n",
       "    <tr style=\"text-align: right;\">\n",
       "      <th></th>\n",
       "      <th>Guess</th>\n",
       "      <th>Actual</th>\n",
       "      <th>code_count</th>\n",
       "    </tr>\n",
       "  </thead>\n",
       "  <tbody>\n",
       "    <tr>\n",
       "      <th>0</th>\n",
       "      <td>10.0</td>\n",
       "      <td>10.0</td>\n",
       "      <td>18</td>\n",
       "    </tr>\n",
       "    <tr>\n",
       "      <th>1</th>\n",
       "      <td>11.0</td>\n",
       "      <td>11.0</td>\n",
       "      <td>6</td>\n",
       "    </tr>\n",
       "    <tr>\n",
       "      <th>2</th>\n",
       "      <td>4.0</td>\n",
       "      <td>4.0</td>\n",
       "      <td>2</td>\n",
       "    </tr>\n",
       "    <tr>\n",
       "      <th>3</th>\n",
       "      <td>6.0</td>\n",
       "      <td>6.0</td>\n",
       "      <td>2</td>\n",
       "    </tr>\n",
       "    <tr>\n",
       "      <th>4</th>\n",
       "      <td>8.0</td>\n",
       "      <td>8.0</td>\n",
       "      <td>2</td>\n",
       "    </tr>\n",
       "    <tr>\n",
       "      <th>5</th>\n",
       "      <td>9.0</td>\n",
       "      <td>9.0</td>\n",
       "      <td>1</td>\n",
       "    </tr>\n",
       "  </tbody>\n",
       "</table>\n",
       "</div>"
      ],
      "text/plain": [
       "   Guess  Actual  code_count\n",
       "0   10.0    10.0          18\n",
       "1   11.0    11.0           6\n",
       "2    4.0     4.0           2\n",
       "3    6.0     6.0           2\n",
       "4    8.0     8.0           2\n",
       "5    9.0     9.0           1"
      ]
     },
     "execution_count": 181,
     "metadata": {},
     "output_type": "execute_result"
    }
   ],
   "source": [
    "df_top_freq = amino_acids[(amino_acids['Correct']) & (amino_acids['Accuracy'] < 1.5)].groupby([\"Guess\", \"Actual\"])['Correct'].agg(\n",
    "    {\"code_count\": len}).sort_values(\n",
    "    \"code_count\", ascending=False).head(20).reset_index()\n",
    "df_top_freq"
   ]
  },
  {
   "cell_type": "markdown",
   "metadata": {},
   "source": [
    "## Analysis"
   ]
  },
  {
   "cell_type": "code",
   "execution_count": 182,
   "metadata": {
    "scrolled": true
   },
   "outputs": [
    {
     "data": {
      "text/plain": [
       "(0.0, 0.2)"
      ]
     },
     "execution_count": 182,
     "metadata": {},
     "output_type": "execute_result"
    }
   ],
   "source": [
    "worst = np.argmin(accuracies)\n",
    "best = np.argmax(accuracies)\n",
    "accuracies[worst], accuracies[best]"
   ]
  },
  {
   "cell_type": "code",
   "execution_count": 214,
   "metadata": {},
   "outputs": [],
   "source": [
    "def get_table(index):\n",
    "    print(\"Accuracy:{} | Loss: {}\".format(accuracies[index], losses[index]))\n",
    "    in_seq, original = \"\", \"\"\n",
    "    for i, a in enumerate(masked_seq[index]):\n",
    "        if a == 0:\n",
    "            break\n",
    "        if a == 21:\n",
    "            position = np.argwhere(indicies[index] == i)[0][0]\n",
    "            in_seq = in_seq + \"(\"+ID_TO_AMINO_ACID[predictions[index].argmax(axis=0)[position]]+\")\"\n",
    "            original = original + \"(\"+ID_TO_AMINO_ACID[seq[index][i]]+\")\"\n",
    "        else:\n",
    "            in_seq = in_seq + ID_TO_AMINO_ACID[a]\n",
    "            original = original + ID_TO_AMINO_ACID[seq[index][i]]\n",
    "\n",
    "    print(in_seq) \n",
    "    print(original)\n",
    "    data = list(zip(labels[index], predictions[index].argmax(axis=0), \n",
    "                    np.transpose(predictions[index].argsort(axis=0))[:, ::-1],\n",
    "                    np.sort(np.transpose(predictions[index]))[:, ::-1]))\n",
    "    df = pd.DataFrame(data, columns=['Correct', 'Guess', 'Other guess', 'Probs'], index=indicies[index]) \n",
    "    df = df[~df.index.duplicated(keep='first')]\n",
    "    return df.sort_index()"
   ]
  },
  {
   "cell_type": "code",
   "execution_count": 200,
   "metadata": {},
   "outputs": [
    {
     "data": {
      "text/plain": [
       "15"
      ]
     },
     "execution_count": 200,
     "metadata": {},
     "output_type": "execute_result"
    }
   ],
   "source": [
    "len(np.where(accuracies <0.2)[0])"
   ]
  },
  {
   "cell_type": "code",
   "execution_count": 201,
   "metadata": {},
   "outputs": [
    {
     "data": {
      "text/plain": [
       "0"
      ]
     },
     "execution_count": 201,
     "metadata": {},
     "output_type": "execute_result"
    }
   ],
   "source": [
    "len(np.where(accuracies >0.7)[0])"
   ]
  },
  {
   "cell_type": "code",
   "execution_count": 202,
   "metadata": {},
   "outputs": [
    {
     "data": {
      "text/plain": [
       "64.0"
      ]
     },
     "execution_count": 202,
     "metadata": {},
     "output_type": "execute_result"
    }
   ],
   "source": [
    "arr = seq[np.where(accuracies <0.2)]\n",
    "(arr ==0).argmax(axis=1).mean()"
   ]
  },
  {
   "cell_type": "code",
   "execution_count": 203,
   "metadata": {},
   "outputs": [
    {
     "name": "stderr",
     "output_type": "stream",
     "text": [
      "c:\\users\\donatas\\appdata\\local\\programs\\python\\python36\\lib\\site-packages\\ipykernel_launcher.py:2: RuntimeWarning: Mean of empty slice.\n",
      "  \n",
      "c:\\users\\donatas\\appdata\\local\\programs\\python\\python36\\lib\\site-packages\\numpy\\core\\_methods.py:85: RuntimeWarning: invalid value encountered in double_scalars\n",
      "  ret = ret.dtype.type(ret / rcount)\n"
     ]
    },
    {
     "data": {
      "text/plain": [
       "nan"
      ]
     },
     "execution_count": 203,
     "metadata": {},
     "output_type": "execute_result"
    }
   ],
   "source": [
    "arr = seq[np.where(accuracies >0.8)]\n",
    "(arr ==0).argmax(axis=1).mean()"
   ]
  },
  {
   "cell_type": "code",
   "execution_count": 204,
   "metadata": {},
   "outputs": [
    {
     "data": {
      "text/plain": [
       "2.9129055"
      ]
     },
     "execution_count": 204,
     "metadata": {},
     "output_type": "execute_result"
    }
   ],
   "source": [
    "losses[np.where(accuracies <0.2)].mean()"
   ]
  },
  {
   "cell_type": "code",
   "execution_count": 205,
   "metadata": {},
   "outputs": [
    {
     "name": "stderr",
     "output_type": "stream",
     "text": [
      "c:\\users\\donatas\\appdata\\local\\programs\\python\\python36\\lib\\site-packages\\ipykernel_launcher.py:1: RuntimeWarning: Mean of empty slice.\n",
      "  \"\"\"Entry point for launching an IPython kernel.\n",
      "c:\\users\\donatas\\appdata\\local\\programs\\python\\python36\\lib\\site-packages\\numpy\\core\\_methods.py:85: RuntimeWarning: invalid value encountered in true_divide\n",
      "  ret = ret.dtype.type(ret / rcount)\n"
     ]
    },
    {
     "data": {
      "text/plain": [
       "nan"
      ]
     },
     "execution_count": 205,
     "metadata": {},
     "output_type": "execute_result"
    }
   ],
   "source": [
    "losses[np.where(accuracies >0.8)].mean()"
   ]
  },
  {
   "cell_type": "code",
   "execution_count": 206,
   "metadata": {},
   "outputs": [
    {
     "data": {
      "text/plain": [
       "array([2.722157, 2.693942, 2.777917, 2.922022, 2.749659, 2.797064, 3.086044, 3.123373, 2.898413, 3.072436, 2.874888,\n",
       "       2.796643, 3.180427, 2.979404, 2.857519, 2.911334], dtype=float32)"
      ]
     },
     "execution_count": 206,
     "metadata": {},
     "output_type": "execute_result"
    }
   ],
   "source": [
    "losses"
   ]
  },
  {
   "cell_type": "code",
   "execution_count": 207,
   "metadata": {
    "scrolled": true
   },
   "outputs": [
    {
     "data": {
      "text/plain": [
       "(array([ 1,  0,  4,  2, 11,  5, 14, 10,  8, 15], dtype=int64),\n",
       " array([14, 10,  8, 15,  3, 13,  9,  6,  7, 12], dtype=int64))"
      ]
     },
     "execution_count": 207,
     "metadata": {},
     "output_type": "execute_result"
    }
   ],
   "source": [
    "losses.argsort(axis=0)[:10], losses.argsort(axis=0)[-10:]"
   ]
  },
  {
   "cell_type": "code",
   "execution_count": 208,
   "metadata": {
    "scrolled": false
   },
   "outputs": [
    {
     "data": {
      "text/plain": [
       "(array([3.123373, 2.857519, 2.898413, 3.072436, 3.180427], dtype=float32),\n",
       " array([2.722157, 2.922022, 2.796643, 2.979404, 2.749659], dtype=float32))"
      ]
     },
     "execution_count": 208,
     "metadata": {},
     "output_type": "execute_result"
    }
   ],
   "source": [
    "losses[accuracies.argsort(axis=0)[:5]], losses[accuracies.argsort(axis=0)[-5:]]"
   ]
  },
  {
   "cell_type": "code",
   "execution_count": 209,
   "metadata": {
    "scrolled": true
   },
   "outputs": [
    {
     "data": {
      "text/plain": [
       "'MKGSIPIDRLRPFCKRPFCGVSPREGELTAIDMLPAITNLSGASDYHSYTTIGKLMEIFGEDLQ'"
      ]
     },
     "execution_count": 209,
     "metadata": {},
     "output_type": "execute_result"
    }
   ],
   "source": [
    "\"\".join([ID_TO_AMINO_ACID[x] for x in  seq[0] if x != 0])"
   ]
  },
  {
   "cell_type": "code",
   "execution_count": 210,
   "metadata": {},
   "outputs": [
    {
     "name": "stdout",
     "output_type": "stream",
     "text": [
      "1:\t44.44352674484253(2.693942070007324)\t14:\t38.04754614830017(2.8575189113616943)\n",
      "0:\t45.57690191268921(2.7221567630767822)\t10:\t42.538243532180786(2.8748879432678223)\n",
      "4:\t48.10298824310303(2.749659299850464)\t8:\t48.733280420303345(2.8984131813049316)\n",
      "2:\t39.21921920776367(2.7779171466827393)\t15:\t47.39623403549194(2.9113335609436035)\n",
      "11:\t52.40676140785217(2.796642780303955)\t3:\t39.85677671432495(2.9220223426818848)\n",
      "5:\t47.4201226234436(2.7970643043518066)\t13:\t41.88158893585205(2.9794042110443115)\n",
      "14:\t38.04754614830017(2.8575189113616943)\t9:\t55.01259922981262(3.0724363327026367)\n",
      "10:\t42.538243532180786(2.8748879432678223)\t6:\t38.34930205345154(3.0860438346862793)\n",
      "8:\t48.733280420303345(2.8984131813049316)\t7:\t41.908713817596436(3.123373031616211)\n",
      "15:\t47.39623403549194(2.9113335609436035)\t12:\t58.77290201187134(3.180426836013794)\n"
     ]
    }
   ],
   "source": [
    "for i in zip(losses.argsort(axis=0)[:10], losses.argsort(axis=0)[-10:]):#range(256):\n",
    "    good = np.sort(np.transpose(predictions[i[0]]))[:, ::-1]\n",
    "    bad = np.sort(np.transpose(predictions[i[1]]))[:, ::-1]\n",
    "    g, b = 0, 0\n",
    "    for p in zip(good, bad):\n",
    "        g += p[0][0]-p[0][-3]    \n",
    "        b += p[1][0]-p[1][-3]\n",
    "    print(\"{}:\\t{}({})\\t{}:\\t{}({})\".format(i[0],g, losses[i[0]], i[1], b, losses[i[1]]))"
   ]
  },
  {
   "cell_type": "code",
   "execution_count": 211,
   "metadata": {
    "scrolled": true
   },
   "outputs": [
    {
     "ename": "IndexError",
     "evalue": "index 72 is out of bounds for axis 0 with size 16",
     "output_type": "error",
     "traceback": [
      "\u001b[1;31m---------------------------------------------------------------------------\u001b[0m",
      "\u001b[1;31mIndexError\u001b[0m                                Traceback (most recent call last)",
      "\u001b[1;32m<ipython-input-211-00292243004e>\u001b[0m in \u001b[0;36m<module>\u001b[1;34m()\u001b[0m\n\u001b[1;32m----> 1\u001b[1;33m \u001b[0mps\u001b[0m \u001b[1;33m=\u001b[0m \u001b[0mnp\u001b[0m\u001b[1;33m.\u001b[0m\u001b[0msort\u001b[0m\u001b[1;33m(\u001b[0m\u001b[0mnp\u001b[0m\u001b[1;33m.\u001b[0m\u001b[0mtranspose\u001b[0m\u001b[1;33m(\u001b[0m\u001b[0mpredictions\u001b[0m\u001b[1;33m[\u001b[0m\u001b[1;36m72\u001b[0m\u001b[1;33m]\u001b[0m\u001b[1;33m)\u001b[0m\u001b[1;33m)\u001b[0m\u001b[1;33m[\u001b[0m\u001b[1;33m:\u001b[0m\u001b[1;33m,\u001b[0m \u001b[1;33m:\u001b[0m\u001b[1;33m:\u001b[0m\u001b[1;33m-\u001b[0m\u001b[1;36m1\u001b[0m\u001b[1;33m]\u001b[0m\u001b[1;33m\u001b[0m\u001b[0m\n\u001b[0m\u001b[0;32m      2\u001b[0m \u001b[1;32mfor\u001b[0m \u001b[0mp\u001b[0m \u001b[1;32min\u001b[0m \u001b[0mps\u001b[0m\u001b[1;33m:\u001b[0m\u001b[1;33m\u001b[0m\u001b[0m\n\u001b[0;32m      3\u001b[0m     \u001b[0mprint\u001b[0m\u001b[1;33m(\u001b[0m\u001b[0mp\u001b[0m\u001b[1;33m)\u001b[0m\u001b[1;33m\u001b[0m\u001b[0m\n",
      "\u001b[1;31mIndexError\u001b[0m: index 72 is out of bounds for axis 0 with size 16"
     ]
    }
   ],
   "source": [
    "ps = np.sort(np.transpose(predictions[72]))[:, ::-1]\n",
    "for p in ps:\n",
    "    print(p) "
   ]
  },
  {
   "cell_type": "code",
   "execution_count": 212,
   "metadata": {},
   "outputs": [
    {
     "data": {
      "text/plain": [
       "array([11, 15, 15, 13,  9,  5, 13,  4,  4,  3,  8,  6,  7, 20, 17, 17,  9,  6,  6,  4], dtype=int64)"
      ]
     },
     "execution_count": 212,
     "metadata": {},
     "output_type": "execute_result"
    }
   ],
   "source": [
    "labels[0]"
   ]
  },
  {
   "cell_type": "code",
   "execution_count": 219,
   "metadata": {
    "scrolled": true
   },
   "outputs": [
    {
     "name": "stdout",
     "output_type": "stream",
     "text": [
      "Accuracy:0.05000000074505806 | Loss: 2.8984131813049316\n",
      "MK(K)(E)IPIDRL(C)PFCK(K)PF(R)(V)V(L)PREG(K)LT(L)I(E)MLP(D)(G)TNLS(L)ASDY(L)S(L)TT(L)GKLM(E)IFG(L)D(E)Q\n",
      "MK(G)(S)IPIDRL(R)PFCK(R)PF(C)(G)V(S)PREG(E)LT(A)I(D)MLP(A)(I)TNLS(G)ASDY(H)S(Y)TT(I)GKLM(E)IFG(E)D(L)Q\n"
     ]
    },
    {
     "data": {
      "text/html": [
       "<div>\n",
       "<style scoped>\n",
       "    .dataframe tbody tr th:only-of-type {\n",
       "        vertical-align: middle;\n",
       "    }\n",
       "\n",
       "    .dataframe tbody tr th {\n",
       "        vertical-align: top;\n",
       "    }\n",
       "\n",
       "    .dataframe thead th {\n",
       "        text-align: right;\n",
       "    }\n",
       "</style>\n",
       "<table border=\"1\" class=\"dataframe\">\n",
       "  <thead>\n",
       "    <tr style=\"text-align: right;\">\n",
       "      <th></th>\n",
       "      <th>Correct</th>\n",
       "      <th>Guess</th>\n",
       "      <th>Other guess</th>\n",
       "      <th>Probs</th>\n",
       "    </tr>\n",
       "  </thead>\n",
       "  <tbody>\n",
       "    <tr>\n",
       "      <th>2</th>\n",
       "      <td>6</td>\n",
       "      <td>9</td>\n",
       "      <td>[9, 8, 10, 17, 15, 4, 18, 14, 16, 12, 1, 13, 3, 5, 6, 20, 7, 11, 2, 19, 0, 21]</td>\n",
       "      <td>[-2.161846, -2.3660054, -2.484343, -2.5732088, -2.7046714, -2.7320461, -2.757495, -2.8644655, -2.9394841, -2.9729848, -3.005692, -3.0494637, -3.288355, -3.3935883, -3.5898254, -3.6358106, -3.7230043, -4.272665, -4.717212, -5.103966, -15.350222, -25.248905]</td>\n",
       "    </tr>\n",
       "    <tr>\n",
       "      <th>3</th>\n",
       "      <td>16</td>\n",
       "      <td>4</td>\n",
       "      <td>[4, 17, 9, 16, 15, 10, 8, 18, 14, 3, 13, 12, 1, 5, 6, 20, 7, 11, 19, 2, 0, 21]</td>\n",
       "      <td>[-2.4481502, -2.4486775, -2.453438, -2.6229954, -2.631579, -2.657053, -2.7361379, -2.8432095, -2.9046307, -2.9338567, -2.9709249, -3.0151207, -3.0625894, -3.4226704, -3.4315739, -3.5421965, -3.7348325, -4.423193, -4.6617866, -4.697073, -14.90118, -24.778065]</td>\n",
       "    </tr>\n",
       "    <tr>\n",
       "      <th>10</th>\n",
       "      <td>15</td>\n",
       "      <td>2</td>\n",
       "      <td>[2, 16, 10, 9, 12, 17, 8, 3, 15, 7, 18, 4, 13, 1, 5, 6, 14, 20, 11, 19, 0, 21]</td>\n",
       "      <td>[-0.39869595, -3.4481764, -3.6816726, -3.6943436, -3.7970574, -3.8629532, -3.956674, -3.965528, -3.9925818, -4.0372643, -4.043504, -4.064602, -4.1170835, -4.134452, -4.1587214, -4.1592526, -4.3973794, -4.4973884, -5.364932, -5.825633, -16.199604, -25.19328]</td>\n",
       "    </tr>\n",
       "    <tr>\n",
       "      <th>15</th>\n",
       "      <td>15</td>\n",
       "      <td>9</td>\n",
       "      <td>[9, 10, 15, 17, 16, 1, 12, 8, 18, 4, 14, 6, 7, 3, 5, 13, 20, 11, 2, 19, 0, 21]</td>\n",
       "      <td>[-2.3397639, -2.518086, -2.5465515, -2.5830731, -2.6904655, -2.7316456, -2.796101, -2.8031263, -2.8160787, -2.8850808, -2.9072967, -3.0196738, -3.3079615, -3.343719, -3.5550966, -3.6213145, -3.6784596, -3.9426134, -4.1251283, -4.914423, -15.758324, -25.497993]</td>\n",
       "    </tr>\n",
       "    <tr>\n",
       "      <th>18</th>\n",
       "      <td>2</td>\n",
       "      <td>15</td>\n",
       "      <td>[15, 18, 4, 10, 17, 16, 9, 8, 1, 6, 5, 2, 3, 14, 13, 20, 12, 7, 11, 19, 0, 21]</td>\n",
       "      <td>[-2.492938, -2.5132852, -2.557705, -2.597162, -2.670879, -2.7037654, -2.715176, -2.7769492, -2.9157047, -3.11164, -3.2050796, -3.2075534, -3.210122, -3.2237096, -3.242401, -3.3668418, -3.468071, -3.6212554, -4.050143, -4.5080023, -16.085867, -25.533327]</td>\n",
       "    </tr>\n",
       "    <tr>\n",
       "      <th>19</th>\n",
       "      <td>6</td>\n",
       "      <td>18</td>\n",
       "      <td>[18, 10, 8, 4, 1, 15, 16, 6, 9, 13, 17, 5, 3, 14, 12, 20, 11, 7, 2, 19, 0, 21]</td>\n",
       "      <td>[-2.3195903, -2.3372796, -2.4557767, -2.756186, -2.7583292, -2.8096285, -2.8270516, -2.83424, -2.85786, -2.9539278, -2.9790416, -2.980548, -3.1888506, -3.3192644, -3.4506106, -3.4724932, -3.9067333, -4.0645304, -4.225898, -4.509468, -16.315063, -25.809944]</td>\n",
       "    </tr>\n",
       "    <tr>\n",
       "      <th>21</th>\n",
       "      <td>16</td>\n",
       "      <td>10</td>\n",
       "      <td>[10, 18, 8, 16, 17, 9, 3, 4, 15, 1, 12, 5, 13, 14, 20, 7, 6, 2, 11, 19, 0, 21]</td>\n",
       "      <td>[-2.269531, -2.5899591, -2.641214, -2.6992972, -2.714488, -2.7215004, -2.8356915, -2.854641, -2.907102, -2.9918394, -2.9957566, -3.0437443, -3.2483268, -3.3007154, -3.3738618, -3.4128628, -3.547686, -3.6042254, -3.756857, -4.597297, -15.839695, -25.561462]</td>\n",
       "    </tr>\n",
       "    <tr>\n",
       "      <th>26</th>\n",
       "      <td>4</td>\n",
       "      <td>9</td>\n",
       "      <td>[9, 4, 15, 6, 16, 10, 17, 18, 1, 12, 3, 8, 14, 5, 20, 13, 7, 11, 2, 19, 0, 21]</td>\n",
       "      <td>[-2.075098, -2.3699386, -2.4362755, -2.7367558, -2.7753286, -2.7909696, -2.8378265, -2.9207416, -2.959702, -2.9738002, -3.0129516, -3.0136688, -3.0730908, -3.5904572, -3.648286, -3.6917717, -3.8225412, -4.001025, -4.219747, -4.4510107, -14.946052, -25.041084]</td>\n",
       "    </tr>\n",
       "    <tr>\n",
       "      <th>29</th>\n",
       "      <td>1</td>\n",
       "      <td>10</td>\n",
       "      <td>[10, 18, 1, 8, 4, 15, 17, 16, 9, 6, 13, 5, 3, 14, 12, 20, 7, 11, 2, 19, 0, 21]</td>\n",
       "      <td>[-2.2975287, -2.4287214, -2.6682596, -2.6863127, -2.7112937, -2.7297149, -2.7831564, -2.812387, -2.8845224, -2.9178445, -3.011689, -3.0989592, -3.1036594, -3.3734143, -3.4891365, -3.514495, -3.7073896, -3.931967, -3.949253, -4.33157, -15.763117, -25.332615]</td>\n",
       "    </tr>\n",
       "    <tr>\n",
       "      <th>31</th>\n",
       "      <td>3</td>\n",
       "      <td>4</td>\n",
       "      <td>[4, 6, 10, 1, 18, 16, 15, 13, 3, 9, 17, 8, 14, 5, 2, 12, 20, 7, 11, 19, 0, 21]</td>\n",
       "      <td>[-2.5033655, -2.5266109, -2.6054454, -2.6209834, -2.6376, -2.670042, -2.7699552, -2.8769348, -2.8969734, -2.915197, -2.954794, -3.0726895, -3.1889913, -3.2545314, -3.4318843, -3.478609, -3.5808768, -3.8075259, -4.076428, -4.2597637, -15.524316, -25.263823]</td>\n",
       "    </tr>\n",
       "    <tr>\n",
       "      <th>35</th>\n",
       "      <td>1</td>\n",
       "      <td>3</td>\n",
       "      <td>[3, 4, 16, 6, 10, 9, 1, 17, 18, 15, 13, 12, 8, 14, 5, 2, 7, 20, 11, 19, 0, 21]</td>\n",
       "      <td>[-2.5377164, -2.5413227, -2.5586648, -2.5907907, -2.6427894, -2.7051532, -2.7233799, -2.862245, -2.8874228, -2.8915906, -2.9134672, -3.006658, -3.141157, -3.3294191, -3.3399355, -3.6206229, -3.7228687, -3.7944057, -4.129016, -4.6007886, -15.59291, -25.30646]</td>\n",
       "    </tr>\n",
       "    <tr>\n",
       "      <th>36</th>\n",
       "      <td>8</td>\n",
       "      <td>6</td>\n",
       "      <td>[6, 10, 16, 4, 9, 1, 18, 3, 15, 17, 8, 12, 13, 5, 14, 7, 20, 11, 2, 19, 0, 21]</td>\n",
       "      <td>[-2.0934477, -2.5456958, -2.6467013, -2.729, -2.7388701, -2.755889, -2.8297968, -2.9145286, -2.9266748, -2.9627593, -3.06614, -3.0980577, -3.1414726, -3.2821357, -3.2983377, -3.6435113, -3.645387, -3.8246286, -3.8421519, -4.560698, -15.892345, -25.36166]</td>\n",
       "    </tr>\n",
       "    <tr>\n",
       "      <th>41</th>\n",
       "      <td>6</td>\n",
       "      <td>10</td>\n",
       "      <td>[10, 8, 18, 16, 5, 1, 9, 17, 4, 2, 15, 13, 6, 3, 12, 14, 20, 7, 11, 19, 0, 21]</td>\n",
       "      <td>[-2.2137702, -2.4052677, -2.513003, -2.7749195, -2.8823586, -2.9115038, -2.9192944, -2.934579, -3.0083592, -3.0449147, -3.058912, -3.0635343, -3.1164591, -3.1336641, -3.3494031, -3.355958, -3.5195324, -3.7810533, -3.7937295, -4.1252203, -15.708891, -25.281063]</td>\n",
       "    </tr>\n",
       "    <tr>\n",
       "      <th>46</th>\n",
       "      <td>7</td>\n",
       "      <td>10</td>\n",
       "      <td>[10, 18, 8, 16, 13, 1, 6, 5, 4, 15, 17, 3, 9, 14, 20, 12, 2, 11, 7, 19, 0, 21]</td>\n",
       "      <td>[-2.0746179, -2.5457778, -2.6295629, -2.6715007, -2.69293, -2.763287, -2.7765841, -2.8392906, -2.9055371, -2.9891682, -3.0689886, -3.1100454, -3.1172051, -3.450862, -3.4974444, -3.6213095, -3.917728, -3.9247615, -3.9293628, -4.212138, -15.919649, -25.491627]</td>\n",
       "    </tr>\n",
       "    <tr>\n",
       "      <th>48</th>\n",
       "      <td>20</td>\n",
       "      <td>10</td>\n",
       "      <td>[10, 16, 1, 18, 6, 9, 13, 15, 4, 8, 17, 3, 5, 12, 14, 20, 7, 11, 2, 19, 0, 21]</td>\n",
       "      <td>[-2.3426533, -2.6192007, -2.624937, -2.6788106, -2.702416, -2.719348, -2.719999, -2.795026, -2.8068378, -2.8385496, -2.8884676, -3.041902, -3.2553992, -3.303904, -3.3486867, -3.7083406, -3.7738435, -3.842315, -4.193539, -4.3227887, -16.193018, -25.536036]</td>\n",
       "    </tr>\n",
       "    <tr>\n",
       "      <th>51</th>\n",
       "      <td>8</td>\n",
       "      <td>10</td>\n",
       "      <td>[10, 8, 18, 1, 5, 9, 15, 16, 17, 6, 13, 4, 3, 20, 12, 11, 14, 7, 19, 2, 0, 21]</td>\n",
       "      <td>[-1.7710047, -2.3696253, -2.411233, -2.4997077, -2.6594563, -2.9657855, -2.9945087, -3.0484164, -3.1005514, -3.1526136, -3.3102317, -3.3351269, -3.4805257, -3.4828475, -3.5529165, -3.6031442, -3.6782482, -4.060493, -4.2263327, -4.498905, -16.157991, -25.53462]</td>\n",
       "    </tr>\n",
       "    <tr>\n",
       "      <th>56</th>\n",
       "      <td>4</td>\n",
       "      <td>4</td>\n",
       "      <td>[4, 9, 15, 1, 3, 16, 6, 14, 17, 12, 10, 18, 13, 8, 7, 5, 11, 20, 2, 19, 0, 21]</td>\n",
       "      <td>[-1.8822181, -2.1134088, -2.4232907, -2.483008, -2.508925, -2.5780656, -2.8388548, -2.8833103, -3.012551, -3.0997164, -3.2189364, -3.5312607, -3.6080177, -3.8034792, -4.0592937, -4.1637187, -4.2663918, -4.416773, -5.1725783, -5.184159, -15.616995, -25.86323]</td>\n",
       "    </tr>\n",
       "    <tr>\n",
       "      <th>60</th>\n",
       "      <td>4</td>\n",
       "      <td>10</td>\n",
       "      <td>[10, 8, 18, 4, 9, 6, 15, 5, 1, 16, 3, 20, 17, 14, 12, 13, 11, 2, 19, 7, 0, 21]</td>\n",
       "      <td>[-2.282323, -2.4098587, -2.4541135, -2.4974785, -2.589336, -2.624043, -2.838344, -2.9923027, -3.0445273, -3.0816975, -3.0867152, -3.1826706, -3.3138046, -3.3572745, -3.4698963, -3.668367, -3.7319264, -4.0108094, -4.066698, -4.1384106, -15.447157, -25.37454]</td>\n",
       "    </tr>\n",
       "    <tr>\n",
       "      <th>62</th>\n",
       "      <td>10</td>\n",
       "      <td>4</td>\n",
       "      <td>[4, 9, 10, 16, 8, 18, 6, 15, 3, 12, 1, 13, 17, 14, 5, 20, 7, 11, 2, 19, 0, 21]</td>\n",
       "      <td>[-2.2958417, -2.5036056, -2.5477495, -2.6558561, -2.7490647, -2.796185, -2.8161426, -2.818415, -2.9045877, -2.9591286, -2.9897053, -3.062232, -3.0729952, -3.1487675, -3.231989, -3.5434835, -3.8946745, -4.1367106, -4.2600517, -4.364299, -14.39142, -24.894098]</td>\n",
       "    </tr>\n",
       "  </tbody>\n",
       "</table>\n",
       "</div>"
      ],
      "text/plain": [
       "    Correct  Guess                                                                     Other guess                                                                                                                                                                                                                                                                 Probs\n",
       "2         6      9  [9, 8, 10, 17, 15, 4, 18, 14, 16, 12, 1, 13, 3, 5, 6, 20, 7, 11, 2, 19, 0, 21]      [-2.161846, -2.3660054, -2.484343, -2.5732088, -2.7046714, -2.7320461, -2.757495, -2.8644655, -2.9394841, -2.9729848, -3.005692, -3.0494637, -3.288355, -3.3935883, -3.5898254, -3.6358106, -3.7230043, -4.272665, -4.717212, -5.103966, -15.350222, -25.248905]\n",
       "3        16      4  [4, 17, 9, 16, 15, 10, 8, 18, 14, 3, 13, 12, 1, 5, 6, 20, 7, 11, 19, 2, 0, 21]    [-2.4481502, -2.4486775, -2.453438, -2.6229954, -2.631579, -2.657053, -2.7361379, -2.8432095, -2.9046307, -2.9338567, -2.9709249, -3.0151207, -3.0625894, -3.4226704, -3.4315739, -3.5421965, -3.7348325, -4.423193, -4.6617866, -4.697073, -14.90118, -24.778065]\n",
       "10       15      2  [2, 16, 10, 9, 12, 17, 8, 3, 15, 7, 18, 4, 13, 1, 5, 6, 14, 20, 11, 19, 0, 21]     [-0.39869595, -3.4481764, -3.6816726, -3.6943436, -3.7970574, -3.8629532, -3.956674, -3.965528, -3.9925818, -4.0372643, -4.043504, -4.064602, -4.1170835, -4.134452, -4.1587214, -4.1592526, -4.3973794, -4.4973884, -5.364932, -5.825633, -16.199604, -25.19328]\n",
       "15       15      9  [9, 10, 15, 17, 16, 1, 12, 8, 18, 4, 14, 6, 7, 3, 5, 13, 20, 11, 2, 19, 0, 21]  [-2.3397639, -2.518086, -2.5465515, -2.5830731, -2.6904655, -2.7316456, -2.796101, -2.8031263, -2.8160787, -2.8850808, -2.9072967, -3.0196738, -3.3079615, -3.343719, -3.5550966, -3.6213145, -3.6784596, -3.9426134, -4.1251283, -4.914423, -15.758324, -25.497993]\n",
       "18        2     15  [15, 18, 4, 10, 17, 16, 9, 8, 1, 6, 5, 2, 3, 14, 13, 20, 12, 7, 11, 19, 0, 21]         [-2.492938, -2.5132852, -2.557705, -2.597162, -2.670879, -2.7037654, -2.715176, -2.7769492, -2.9157047, -3.11164, -3.2050796, -3.2075534, -3.210122, -3.2237096, -3.242401, -3.3668418, -3.468071, -3.6212554, -4.050143, -4.5080023, -16.085867, -25.533327]\n",
       "19        6     18  [18, 10, 8, 4, 1, 15, 16, 6, 9, 13, 17, 5, 3, 14, 12, 20, 11, 7, 2, 19, 0, 21]      [-2.3195903, -2.3372796, -2.4557767, -2.756186, -2.7583292, -2.8096285, -2.8270516, -2.83424, -2.85786, -2.9539278, -2.9790416, -2.980548, -3.1888506, -3.3192644, -3.4506106, -3.4724932, -3.9067333, -4.0645304, -4.225898, -4.509468, -16.315063, -25.809944]\n",
       "21       16     10  [10, 18, 8, 16, 17, 9, 3, 4, 15, 1, 12, 5, 13, 14, 20, 7, 6, 2, 11, 19, 0, 21]      [-2.269531, -2.5899591, -2.641214, -2.6992972, -2.714488, -2.7215004, -2.8356915, -2.854641, -2.907102, -2.9918394, -2.9957566, -3.0437443, -3.2483268, -3.3007154, -3.3738618, -3.4128628, -3.547686, -3.6042254, -3.756857, -4.597297, -15.839695, -25.561462]\n",
       "26        4      9  [9, 4, 15, 6, 16, 10, 17, 18, 1, 12, 3, 8, 14, 5, 20, 13, 7, 11, 2, 19, 0, 21]   [-2.075098, -2.3699386, -2.4362755, -2.7367558, -2.7753286, -2.7909696, -2.8378265, -2.9207416, -2.959702, -2.9738002, -3.0129516, -3.0136688, -3.0730908, -3.5904572, -3.648286, -3.6917717, -3.8225412, -4.001025, -4.219747, -4.4510107, -14.946052, -25.041084]\n",
       "29        1     10  [10, 18, 1, 8, 4, 15, 17, 16, 9, 6, 13, 5, 3, 14, 12, 20, 7, 11, 2, 19, 0, 21]     [-2.2975287, -2.4287214, -2.6682596, -2.6863127, -2.7112937, -2.7297149, -2.7831564, -2.812387, -2.8845224, -2.9178445, -3.011689, -3.0989592, -3.1036594, -3.3734143, -3.4891365, -3.514495, -3.7073896, -3.931967, -3.949253, -4.33157, -15.763117, -25.332615]\n",
       "31        3      4  [4, 6, 10, 1, 18, 16, 15, 13, 3, 9, 17, 8, 14, 5, 2, 12, 20, 7, 11, 19, 0, 21]      [-2.5033655, -2.5266109, -2.6054454, -2.6209834, -2.6376, -2.670042, -2.7699552, -2.8769348, -2.8969734, -2.915197, -2.954794, -3.0726895, -3.1889913, -3.2545314, -3.4318843, -3.478609, -3.5808768, -3.8075259, -4.076428, -4.2597637, -15.524316, -25.263823]\n",
       "35        1      3  [3, 4, 16, 6, 10, 9, 1, 17, 18, 15, 13, 12, 8, 14, 5, 2, 7, 20, 11, 19, 0, 21]    [-2.5377164, -2.5413227, -2.5586648, -2.5907907, -2.6427894, -2.7051532, -2.7233799, -2.862245, -2.8874228, -2.8915906, -2.9134672, -3.006658, -3.141157, -3.3294191, -3.3399355, -3.6206229, -3.7228687, -3.7944057, -4.129016, -4.6007886, -15.59291, -25.30646]\n",
       "36        8      6  [6, 10, 16, 4, 9, 1, 18, 3, 15, 17, 8, 12, 13, 5, 14, 7, 20, 11, 2, 19, 0, 21]        [-2.0934477, -2.5456958, -2.6467013, -2.729, -2.7388701, -2.755889, -2.8297968, -2.9145286, -2.9266748, -2.9627593, -3.06614, -3.0980577, -3.1414726, -3.2821357, -3.2983377, -3.6435113, -3.645387, -3.8246286, -3.8421519, -4.560698, -15.892345, -25.36166]\n",
       "41        6     10  [10, 8, 18, 16, 5, 1, 9, 17, 4, 2, 15, 13, 6, 3, 12, 14, 20, 7, 11, 19, 0, 21]  [-2.2137702, -2.4052677, -2.513003, -2.7749195, -2.8823586, -2.9115038, -2.9192944, -2.934579, -3.0083592, -3.0449147, -3.058912, -3.0635343, -3.1164591, -3.1336641, -3.3494031, -3.355958, -3.5195324, -3.7810533, -3.7937295, -4.1252203, -15.708891, -25.281063]\n",
       "46        7     10  [10, 18, 8, 16, 13, 1, 6, 5, 4, 15, 17, 3, 9, 14, 20, 12, 2, 11, 7, 19, 0, 21]    [-2.0746179, -2.5457778, -2.6295629, -2.6715007, -2.69293, -2.763287, -2.7765841, -2.8392906, -2.9055371, -2.9891682, -3.0689886, -3.1100454, -3.1172051, -3.450862, -3.4974444, -3.6213095, -3.917728, -3.9247615, -3.9293628, -4.212138, -15.919649, -25.491627]\n",
       "48       20     10  [10, 16, 1, 18, 6, 9, 13, 15, 4, 8, 17, 3, 5, 12, 14, 20, 7, 11, 2, 19, 0, 21]       [-2.3426533, -2.6192007, -2.624937, -2.6788106, -2.702416, -2.719348, -2.719999, -2.795026, -2.8068378, -2.8385496, -2.8884676, -3.041902, -3.2553992, -3.303904, -3.3486867, -3.7083406, -3.7738435, -3.842315, -4.193539, -4.3227887, -16.193018, -25.536036]\n",
       "51        8     10  [10, 8, 18, 1, 5, 9, 15, 16, 17, 6, 13, 4, 3, 20, 12, 11, 14, 7, 19, 2, 0, 21]  [-1.7710047, -2.3696253, -2.411233, -2.4997077, -2.6594563, -2.9657855, -2.9945087, -3.0484164, -3.1005514, -3.1526136, -3.3102317, -3.3351269, -3.4805257, -3.4828475, -3.5529165, -3.6031442, -3.6782482, -4.060493, -4.2263327, -4.498905, -16.157991, -25.53462]\n",
       "56        4      4  [4, 9, 15, 1, 3, 16, 6, 14, 17, 12, 10, 18, 13, 8, 7, 5, 11, 20, 2, 19, 0, 21]    [-1.8822181, -2.1134088, -2.4232907, -2.483008, -2.508925, -2.5780656, -2.8388548, -2.8833103, -3.012551, -3.0997164, -3.2189364, -3.5312607, -3.6080177, -3.8034792, -4.0592937, -4.1637187, -4.2663918, -4.416773, -5.1725783, -5.184159, -15.616995, -25.86323]\n",
       "60        4     10  [10, 8, 18, 4, 9, 6, 15, 5, 1, 16, 3, 20, 17, 14, 12, 13, 11, 2, 19, 7, 0, 21]     [-2.282323, -2.4098587, -2.4541135, -2.4974785, -2.589336, -2.624043, -2.838344, -2.9923027, -3.0445273, -3.0816975, -3.0867152, -3.1826706, -3.3138046, -3.3572745, -3.4698963, -3.668367, -3.7319264, -4.0108094, -4.066698, -4.1384106, -15.447157, -25.37454]\n",
       "62       10      4  [4, 9, 10, 16, 8, 18, 6, 15, 3, 12, 1, 13, 17, 14, 5, 20, 7, 11, 2, 19, 0, 21]    [-2.2958417, -2.5036056, -2.5477495, -2.6558561, -2.7490647, -2.796185, -2.8161426, -2.818415, -2.9045877, -2.9591286, -2.9897053, -3.062232, -3.0729952, -3.1487675, -3.231989, -3.5434835, -3.8946745, -4.1367106, -4.2600517, -4.364299, -14.39142, -24.894098]"
      ]
     },
     "execution_count": 219,
     "metadata": {},
     "output_type": "execute_result"
    }
   ],
   "source": [
    "pd.set_option('display.width', 1000)\n",
    "pd.set_option('max_colwidth', 350)\n",
    "get_table(8)"
   ]
  },
  {
   "cell_type": "code",
   "execution_count": 160,
   "metadata": {},
   "outputs": [
    {
     "data": {
      "text/plain": [
       "'MKGSIPIDRLRPFCKRPFCGVSPREGELTAIDMLPAITNLSGASDYHSYTTIGKLMEIFGEDLQ'"
      ]
     },
     "execution_count": 160,
     "metadata": {},
     "output_type": "execute_result"
    }
   ],
   "source": [
    "\"\".join([ID_TO_AMINO_ACID[x] for x in  seq[165] if x != 0])"
   ]
  },
  {
   "cell_type": "code",
   "execution_count": 155,
   "metadata": {
    "scrolled": false
   },
   "outputs": [
    {
     "name": "stdout",
     "output_type": "stream",
     "text": [
      "Accuracy:0.0 | Loss: 2.791093349456787\n",
      "MDAFW(N)HPA(L)IMTGY(L)SV(I)(L)LCLIVS(L)AIFEAVTRYKNWQ(K)IKNGNMAVAFATGGKIL(L)IC(G)IF(L)Y(L)(L)EKNNSL(S)EMLGWGLFG(I)ILLIIAYLLYEFLTPSFKIDEEI(K)KD(I)RSVGFISFAISIGL(L)FVIGASIS\n",
      "MDAFW(Q)HPA(Q)IMTGY(V)SV(Y)(V)LCLIVS(V)AIFEAVTRYKNWQ(V)IKNGNMAVAFATGGKIL(M)IC(E)IF(G)Y(N)(R)EKNNSL(S)EMLGWGLFG(I)ILLIIAYLLYEFLTPSFKIDEEI(I)KD(P)RSVGFISFAISIGL(F)FVIGASIS\n"
     ]
    },
    {
     "data": {
      "text/html": [
       "<div>\n",
       "<style scoped>\n",
       "    .dataframe tbody tr th:only-of-type {\n",
       "        vertical-align: middle;\n",
       "    }\n",
       "\n",
       "    .dataframe tbody tr th {\n",
       "        vertical-align: top;\n",
       "    }\n",
       "\n",
       "    .dataframe thead th {\n",
       "        text-align: right;\n",
       "    }\n",
       "</style>\n",
       "<table border=\"1\" class=\"dataframe\">\n",
       "  <thead>\n",
       "    <tr style=\"text-align: right;\">\n",
       "      <th></th>\n",
       "      <th>Correct</th>\n",
       "      <th>Guess</th>\n",
       "      <th>Other guess</th>\n",
       "      <th>Probs</th>\n",
       "    </tr>\n",
       "  </thead>\n",
       "  <tbody>\n",
       "    <tr>\n",
       "      <th>5</th>\n",
       "      <td>14</td>\n",
       "      <td>12</td>\n",
       "      <td>[12, 16, 9, 17, 10, 8, 4, 6, 1, 14, 5, 3, 7, 20, 18, 15, 13, 11, 19, 2, 0, 21]</td>\n",
       "      <td>[-2.1374023, -2.190068, -2.5391212, -2.574875, -2.5845456, -2.8990297, -2.9157543, -2.949281, -2.9606757, -2.9725416, -2.9934478, -3.2311285, -3.2751791, -3.317665, -3.4573436, -3.6205783, -3.8340738, -3.9437509, -4.6014175, -6.1963863, -15.698446, -25.177477]</td>\n",
       "    </tr>\n",
       "    <tr>\n",
       "      <th>9</th>\n",
       "      <td>18</td>\n",
       "      <td>10</td>\n",
       "      <td>[10, 8, 16, 5, 18, 1, 12, 17, 6, 4, 20, 3, 9, 13, 14, 19, 11, 7, 15, 2, 0, 21]</td>\n",
       "      <td>[-2.211784, -2.3861666, -2.499728, -2.6900442, -2.6927207, -2.7367468, -2.7539363, -2.7609649, -2.9088345, -2.9456482, -3.0396113, -3.1459825, -3.3476293, -3.4335349, -3.4674325, -3.6847844, -3.7149343, -3.7477016, -4.026226, -6.4084983, -16.16112, -25.389069]</td>\n",
       "    </tr>\n",
       "    <tr>\n",
       "      <th>15</th>\n",
       "      <td>20</td>\n",
       "      <td>10</td>\n",
       "      <td>[10, 8, 5, 18, 1, 6, 16, 20, 17, 11, 19, 12, 13, 14, 9, 15, 7, 4, 2, 3, 0, 21]</td>\n",
       "      <td>[-1.6575978, -1.7245874, -2.1361995, -2.3363554, -2.6071758, -2.7029285, -2.9779508, -3.1185484, -3.3021278, -3.3801742, -3.9283814, -4.0962076, -4.435183, -4.4736414, -4.498886, -4.560456, -4.6127214, -4.8889947, -4.9772224, -5.481381, -16.958084, -25.74029]</td>\n",
       "    </tr>\n",
       "    <tr>\n",
       "      <th>18</th>\n",
       "      <td>18</td>\n",
       "      <td>8</td>\n",
       "      <td>[8, 10, 6, 1, 5, 18, 16, 17, 11, 20, 19, 2, 13, 12, 7, 14, 4, 9, 15, 3, 0, 21]</td>\n",
       "      <td>[-1.7685897, -1.8608055, -1.9762883, -2.1186106, -2.2741704, -2.3223753, -2.886808, -3.1840045, -3.4330392, -3.6306288, -4.418706, -4.437964, -4.539037, -4.91996, -5.276505, -5.6898785, -6.0865703, -6.120774, -6.1367826, -6.69337, -17.20144, -25.393553]</td>\n",
       "    </tr>\n",
       "    <tr>\n",
       "      <th>19</th>\n",
       "      <td>18</td>\n",
       "      <td>10</td>\n",
       "      <td>[10, 8, 1, 6, 18, 5, 16, 17, 11, 20, 2, 19, 13, 12, 7, 14, 4, 3, 9, 15, 0, 21]</td>\n",
       "      <td>[-1.8161569, -1.8309407, -2.0542867, -2.0904405, -2.3033733, -2.368734, -2.6989331, -3.030467, -3.3485096, -3.726574, -4.1753516, -4.5218835, -4.687522, -4.8265767, -5.5690255, -5.7978306, -5.939721, -6.4701414, -6.5493507, -6.86331, -16.671413, -24.97321]</td>\n",
       "    </tr>\n",
       "    <tr>\n",
       "      <th>26</th>\n",
       "      <td>11</td>\n",
       "      <td>10</td>\n",
       "      <td>[10, 8, 5, 6, 18, 1, 20, 11, 16, 17, 19, 12, 2, 13, 7, 14, 9, 4, 15, 3, 0, 21]</td>\n",
       "      <td>[-1.868231, -1.8999608, -2.0201793, -2.228946, -2.3897371, -2.5487092, -2.5657783, -3.1329212, -3.1541004, -3.2434783, -3.6963072, -4.467374, -4.480093, -4.686426, -4.8581533, -5.096354, -5.436931, -5.721961, -5.835699, -5.9959145, -16.34401, -25.143934]</td>\n",
       "    </tr>\n",
       "    <tr>\n",
       "      <th>40</th>\n",
       "      <td>4</td>\n",
       "      <td>9</td>\n",
       "      <td>[9, 4, 3, 12, 16, 6, 10, 17, 8, 1, 18, 5, 14, 15, 20, 7, 13, 11, 19, 2, 0, 21]</td>\n",
       "      <td>[-2.1259487, -2.1463912, -2.4962301, -2.6005974, -2.7280416, -2.8655047, -2.8693244, -2.8858647, -2.9402752, -2.9431772, -3.0933397, -3.2271745, -3.3028057, -3.3548262, -3.5207274, -3.6910074, -3.8887234, -4.060398, -4.1173706, -6.491976, -16.239397, -25.851992]</td>\n",
       "    </tr>\n",
       "    <tr>\n",
       "      <th>58</th>\n",
       "      <td>6</td>\n",
       "      <td>10</td>\n",
       "      <td>[10, 1, 6, 8, 18, 16, 5, 17, 13, 11, 20, 19, 12, 4, 2, 14, 3, 7, 9, 15, 0, 21]</td>\n",
       "      <td>[-1.774698, -2.0288343, -2.0997074, -2.1888034, -2.3932881, -2.459503, -2.6041594, -2.800123, -3.213758, -3.5338318, -3.8343344, -4.330834, -4.4507866, -4.553462, -4.732847, -5.1215873, -5.411292, -5.8917446, -5.9309025, -6.2995567, -16.748394, -24.828592]</td>\n",
       "    </tr>\n",
       "    <tr>\n",
       "      <th>61</th>\n",
       "      <td>12</td>\n",
       "      <td>6</td>\n",
       "      <td>[6, 10, 1, 16, 8, 5, 18, 17, 13, 11, 20, 19, 12, 2, 14, 4, 3, 7, 9, 15, 0, 21]</td>\n",
       "      <td>[-1.6833415, -1.8531373, -2.068792, -2.3575003, -2.534967, -2.6813283, -2.7063856, -3.0326233, -3.1736135, -3.4416995, -3.451909, -4.0201526, -4.3079967, -4.591907, -4.9648314, -5.0921755, -5.377765, -5.5535007, -5.934186, -6.011484, -16.396772, -24.255526]</td>\n",
       "    </tr>\n",
       "    <tr>\n",
       "      <th>64</th>\n",
       "      <td>15</td>\n",
       "      <td>10</td>\n",
       "      <td>[10, 8, 6, 5, 1, 16, 18, 20, 17, 12, 11, 13, 7, 19, 14, 9, 4, 15, 3, 2, 0, 21]</td>\n",
       "      <td>[-1.8753903, -2.3324318, -2.3464837, -2.381751, -2.4086127, -2.5580924, -2.6559587, -2.7036953, -3.1239183, -3.4025214, -3.4665046, -3.569748, -3.8295293, -3.8721304, -4.0262523, -4.1043444, -4.345113, -4.4212403, -4.424912, -5.041051, -15.588857, -24.245949]</td>\n",
       "    </tr>\n",
       "    <tr>\n",
       "      <th>66</th>\n",
       "      <td>16</td>\n",
       "      <td>10</td>\n",
       "      <td>[10, 8, 5, 18, 1, 20, 16, 6, 17, 11, 12, 19, 9, 14, 7, 13, 4, 15, 3, 2, 0, 21]</td>\n",
       "      <td>[-1.5579588, -1.8393235, -2.1150343, -2.4900365, -2.6617923, -2.8941555, -2.9280488, -2.9686785, -3.2977912, -3.4380605, -3.8233278, -4.0761113, -4.13273, -4.2165093, -4.379027, -4.4298005, -4.488487, -4.5882173, -4.8784256, -5.349346, -15.921951, -24.852293]</td>\n",
       "    </tr>\n",
       "    <tr>\n",
       "      <th>67</th>\n",
       "      <td>8</td>\n",
       "      <td>10</td>\n",
       "      <td>[10, 8, 5, 1, 18, 16, 17, 6, 20, 11, 12, 9, 14, 13, 4, 7, 15, 3, 19, 2, 0, 21]</td>\n",
       "      <td>[-1.8164976, -1.9692459, -2.3423219, -2.479369, -2.4912138, -2.6673367, -2.9187376, -2.965106, -3.1674876, -3.2911165, -3.4350045, -3.5336435, -3.8877184, -3.924294, -3.9455426, -4.0898395, -4.2850685, -4.3424673, -4.4376364, -5.41189, -15.612919, -25.095533]</td>\n",
       "    </tr>\n",
       "    <tr>\n",
       "      <th>74</th>\n",
       "      <td>13</td>\n",
       "      <td>16</td>\n",
       "      <td>[16, 10, 6, 8, 17, 1, 5, 12, 18, 13, 9, 20, 19, 14, 11, 15, 3, 4, 7, 2, 0, 21]</td>\n",
       "      <td>[-2.159021, -2.3678906, -2.4238813, -2.5502744, -2.6037664, -2.707994, -2.7145677, -2.7181225, -2.8387294, -3.0105627, -3.0469358, -3.3875566, -3.5426934, -3.584073, -3.7035418, -3.8233948, -3.87965, -3.9545698, -3.9890704, -7.181825, -14.518614, -23.519619]</td>\n",
       "    </tr>\n",
       "    <tr>\n",
       "      <th>84</th>\n",
       "      <td>5</td>\n",
       "      <td>8</td>\n",
       "      <td>[8, 10, 6, 18, 5, 1, 16, 17, 20, 13, 11, 12, 19, 2, 4, 14, 9, 3, 7, 15, 0, 21]</td>\n",
       "      <td>[-1.8989594, -1.9394066, -1.9782169, -2.2496831, -2.3158603, -2.3527274, -2.6109447, -2.8656154, -3.538801, -3.6920092, -3.7952914, -4.204616, -4.585148, -4.612063, -4.9475517, -5.0791583, -5.174513, -5.61787, -5.867218, -6.450457, -16.257303, -24.74329]</td>\n",
       "    </tr>\n",
       "    <tr>\n",
       "      <th>108</th>\n",
       "      <td>1</td>\n",
       "      <td>9</td>\n",
       "      <td>[9, 10, 8, 4, 16, 18, 12, 1, 15, 5, 17, 6, 3, 20, 13, 14, 11, 19, 7, 2, 0, 21]</td>\n",
       "      <td>[-2.0722926, -2.4988627, -2.5116076, -2.5914934, -2.598318, -2.8541903, -2.9102097, -2.9189196, -2.9358017, -2.940792, -3.0756478, -3.0798337, -3.1920884, -3.2661366, -3.380427, -3.5802984, -3.7908423, -4.1536903, -4.158881, -6.059717, -15.445487, -24.87695]</td>\n",
       "    </tr>\n",
       "    <tr>\n",
       "      <th>111</th>\n",
       "      <td>12</td>\n",
       "      <td>8</td>\n",
       "      <td>[8, 10, 1, 18, 9, 16, 5, 6, 20, 17, 11, 15, 12, 4, 19, 14, 13, 3, 7, 2, 0, 21]</td>\n",
       "      <td>[-2.1069777, -2.166947, -2.2443314, -2.6086636, -2.685584, -2.77296, -2.8155358, -2.9319713, -3.0014026, -3.0870285, -3.1989613, -3.2572646, -3.3163652, -3.6117601, -3.6656694, -3.8292277, -4.006028, -4.031631, -4.201252, -5.465159, -16.682156, -25.410593]</td>\n",
       "    </tr>\n",
       "    <tr>\n",
       "      <th>126</th>\n",
       "      <td>16</td>\n",
       "      <td>10</td>\n",
       "      <td>[10, 8, 18, 1, 6, 5, 16, 17, 11, 20, 2, 19, 12, 13, 14, 7, 15, 9, 4, 3, 0, 21]</td>\n",
       "      <td>[-1.7688706, -1.920021, -2.1819742, -2.2556138, -2.3505259, -2.5405078, -2.5998888, -2.9672709, -3.1192408, -3.2544875, -4.040041, -4.1639724, -4.3218465, -4.8143, -4.9409504, -5.065323, -5.4139338, -5.549966, -5.5672126, -6.0208454, -16.061611, -24.493225]</td>\n",
       "    </tr>\n",
       "  </tbody>\n",
       "</table>\n",
       "</div>"
      ],
      "text/plain": [
       "     Correct  Guess                                                                     Other guess                                                                                                                                                                                                                                                                   Probs\n",
       "5         14     12  [12, 16, 9, 17, 10, 8, 4, 6, 1, 14, 5, 3, 7, 20, 18, 15, 13, 11, 19, 2, 0, 21]    [-2.1374023, -2.190068, -2.5391212, -2.574875, -2.5845456, -2.8990297, -2.9157543, -2.949281, -2.9606757, -2.9725416, -2.9934478, -3.2311285, -3.2751791, -3.317665, -3.4573436, -3.6205783, -3.8340738, -3.9437509, -4.6014175, -6.1963863, -15.698446, -25.177477]\n",
       "9         18     10  [10, 8, 16, 5, 18, 1, 12, 17, 6, 4, 20, 3, 9, 13, 14, 19, 11, 7, 15, 2, 0, 21]    [-2.211784, -2.3861666, -2.499728, -2.6900442, -2.6927207, -2.7367468, -2.7539363, -2.7609649, -2.9088345, -2.9456482, -3.0396113, -3.1459825, -3.3476293, -3.4335349, -3.4674325, -3.6847844, -3.7149343, -3.7477016, -4.026226, -6.4084983, -16.16112, -25.389069]\n",
       "15        20     10  [10, 8, 5, 18, 1, 6, 16, 20, 17, 11, 19, 12, 13, 14, 9, 15, 7, 4, 2, 3, 0, 21]     [-1.6575978, -1.7245874, -2.1361995, -2.3363554, -2.6071758, -2.7029285, -2.9779508, -3.1185484, -3.3021278, -3.3801742, -3.9283814, -4.0962076, -4.435183, -4.4736414, -4.498886, -4.560456, -4.6127214, -4.8889947, -4.9772224, -5.481381, -16.958084, -25.74029]\n",
       "18        18      8  [8, 10, 6, 1, 5, 18, 16, 17, 11, 20, 19, 2, 13, 12, 7, 14, 4, 9, 15, 3, 0, 21]           [-1.7685897, -1.8608055, -1.9762883, -2.1186106, -2.2741704, -2.3223753, -2.886808, -3.1840045, -3.4330392, -3.6306288, -4.418706, -4.437964, -4.539037, -4.91996, -5.276505, -5.6898785, -6.0865703, -6.120774, -6.1367826, -6.69337, -17.20144, -25.393553]\n",
       "19        18     10  [10, 8, 1, 6, 18, 5, 16, 17, 11, 20, 2, 19, 13, 12, 7, 14, 4, 3, 9, 15, 0, 21]        [-1.8161569, -1.8309407, -2.0542867, -2.0904405, -2.3033733, -2.368734, -2.6989331, -3.030467, -3.3485096, -3.726574, -4.1753516, -4.5218835, -4.687522, -4.8265767, -5.5690255, -5.7978306, -5.939721, -6.4701414, -6.5493507, -6.86331, -16.671413, -24.97321]\n",
       "26        11     10  [10, 8, 5, 6, 18, 1, 20, 11, 16, 17, 19, 12, 2, 13, 7, 14, 9, 4, 15, 3, 0, 21]          [-1.868231, -1.8999608, -2.0201793, -2.228946, -2.3897371, -2.5487092, -2.5657783, -3.1329212, -3.1541004, -3.2434783, -3.6963072, -4.467374, -4.480093, -4.686426, -4.8581533, -5.096354, -5.436931, -5.721961, -5.835699, -5.9959145, -16.34401, -25.143934]\n",
       "40         4      9  [9, 4, 3, 12, 16, 6, 10, 17, 8, 1, 18, 5, 14, 15, 20, 7, 13, 11, 19, 2, 0, 21]  [-2.1259487, -2.1463912, -2.4962301, -2.6005974, -2.7280416, -2.8655047, -2.8693244, -2.8858647, -2.9402752, -2.9431772, -3.0933397, -3.2271745, -3.3028057, -3.3548262, -3.5207274, -3.6910074, -3.8887234, -4.060398, -4.1173706, -6.491976, -16.239397, -25.851992]\n",
       "58         6     10  [10, 1, 6, 8, 18, 16, 5, 17, 13, 11, 20, 19, 12, 4, 2, 14, 3, 7, 9, 15, 0, 21]        [-1.774698, -2.0288343, -2.0997074, -2.1888034, -2.3932881, -2.459503, -2.6041594, -2.800123, -3.213758, -3.5338318, -3.8343344, -4.330834, -4.4507866, -4.553462, -4.732847, -5.1215873, -5.411292, -5.8917446, -5.9309025, -6.2995567, -16.748394, -24.828592]\n",
       "61        12      6  [6, 10, 1, 16, 8, 5, 18, 17, 13, 11, 20, 19, 12, 2, 14, 4, 3, 7, 9, 15, 0, 21]       [-1.6833415, -1.8531373, -2.068792, -2.3575003, -2.534967, -2.6813283, -2.7063856, -3.0326233, -3.1736135, -3.4416995, -3.451909, -4.0201526, -4.3079967, -4.591907, -4.9648314, -5.0921755, -5.377765, -5.5535007, -5.934186, -6.011484, -16.396772, -24.255526]\n",
       "64        15     10  [10, 8, 6, 5, 1, 16, 18, 20, 17, 12, 11, 13, 7, 19, 14, 9, 4, 15, 3, 2, 0, 21]     [-1.8753903, -2.3324318, -2.3464837, -2.381751, -2.4086127, -2.5580924, -2.6559587, -2.7036953, -3.1239183, -3.4025214, -3.4665046, -3.569748, -3.8295293, -3.8721304, -4.0262523, -4.1043444, -4.345113, -4.4212403, -4.424912, -5.041051, -15.588857, -24.245949]\n",
       "66        16     10  [10, 8, 5, 18, 1, 20, 16, 6, 17, 11, 12, 19, 9, 14, 7, 13, 4, 15, 3, 2, 0, 21]     [-1.5579588, -1.8393235, -2.1150343, -2.4900365, -2.6617923, -2.8941555, -2.9280488, -2.9686785, -3.2977912, -3.4380605, -3.8233278, -4.0761113, -4.13273, -4.2165093, -4.379027, -4.4298005, -4.488487, -4.5882173, -4.8784256, -5.349346, -15.921951, -24.852293]\n",
       "67         8     10  [10, 8, 5, 1, 18, 16, 17, 6, 20, 11, 12, 9, 14, 13, 4, 7, 15, 3, 19, 2, 0, 21]     [-1.8164976, -1.9692459, -2.3423219, -2.479369, -2.4912138, -2.6673367, -2.9187376, -2.965106, -3.1674876, -3.2911165, -3.4350045, -3.5336435, -3.8877184, -3.924294, -3.9455426, -4.0898395, -4.2850685, -4.3424673, -4.4376364, -5.41189, -15.612919, -25.095533]\n",
       "74        13     16  [16, 10, 6, 8, 17, 1, 5, 12, 18, 13, 9, 20, 19, 14, 11, 15, 3, 4, 7, 2, 0, 21]      [-2.159021, -2.3678906, -2.4238813, -2.5502744, -2.6037664, -2.707994, -2.7145677, -2.7181225, -2.8387294, -3.0105627, -3.0469358, -3.3875566, -3.5426934, -3.584073, -3.7035418, -3.8233948, -3.87965, -3.9545698, -3.9890704, -7.181825, -14.518614, -23.519619]\n",
       "84         5      8  [8, 10, 6, 18, 5, 1, 16, 17, 20, 13, 11, 12, 19, 2, 4, 14, 9, 3, 7, 15, 0, 21]          [-1.8989594, -1.9394066, -1.9782169, -2.2496831, -2.3158603, -2.3527274, -2.6109447, -2.8656154, -3.538801, -3.6920092, -3.7952914, -4.204616, -4.585148, -4.612063, -4.9475517, -5.0791583, -5.174513, -5.61787, -5.867218, -6.450457, -16.257303, -24.74329]\n",
       "108        1      9  [9, 10, 8, 4, 16, 18, 12, 1, 15, 5, 17, 6, 3, 20, 13, 14, 11, 19, 7, 2, 0, 21]      [-2.0722926, -2.4988627, -2.5116076, -2.5914934, -2.598318, -2.8541903, -2.9102097, -2.9189196, -2.9358017, -2.940792, -3.0756478, -3.0798337, -3.1920884, -3.2661366, -3.380427, -3.5802984, -3.7908423, -4.1536903, -4.158881, -6.059717, -15.445487, -24.87695]\n",
       "111       12      8  [8, 10, 1, 18, 9, 16, 5, 6, 20, 17, 11, 15, 12, 4, 19, 14, 13, 3, 7, 2, 0, 21]        [-2.1069777, -2.166947, -2.2443314, -2.6086636, -2.685584, -2.77296, -2.8155358, -2.9319713, -3.0014026, -3.0870285, -3.1989613, -3.2572646, -3.3163652, -3.6117601, -3.6656694, -3.8292277, -4.006028, -4.031631, -4.201252, -5.465159, -16.682156, -25.410593]\n",
       "126       16     10  [10, 8, 18, 1, 6, 5, 16, 17, 11, 20, 2, 19, 12, 13, 14, 7, 15, 9, 4, 3, 0, 21]       [-1.7688706, -1.920021, -2.1819742, -2.2556138, -2.3505259, -2.5405078, -2.5998888, -2.9672709, -3.1192408, -3.2544875, -4.040041, -4.1639724, -4.3218465, -4.8143, -4.9409504, -5.065323, -5.4139338, -5.549966, -5.5672126, -6.0208454, -16.061611, -24.493225]"
      ]
     },
     "execution_count": 155,
     "metadata": {},
     "output_type": "execute_result"
    }
   ],
   "source": [
    "get_table(113)"
   ]
  },
  {
   "cell_type": "code",
   "execution_count": 150,
   "metadata": {},
   "outputs": [],
   "source": [
    "from Bio import Seq\n",
    "from Bio.Blast import NCBIWWW\n",
    "from Bio.Blast import NCBIXML\n",
    "\n",
    "seq_string=\"MSRSSPDQLTRFLAQVQGRPKKGLSQNFLIDGNILRKILAVSCVEAGDWVLEIGPGFGALTEVLVNQGAHVVALEKDPMFEETLKQLPIDLEITDACKYPLSQLEEKGWQGKGRVVANLPYHITTPLLTKLFLEVPNQWKTVTVMMQDEVARRITAQPGGKEYGSLTIFLQFFADVRYAFKVSPGCFFPKPQVSSAVVHMTVKETFPLETSLHQKFFSLTRAAFGQRRKLLANALKDLYPKELVFSALNQLNFSEKTRPETLSLNEYLQLFHLLSSNA\"\n",
    "seq_string = seq_string.replace('0', '')\n",
    "testSeq = Seq.Seq(seq_string)"
   ]
  },
  {
   "cell_type": "code",
   "execution_count": 324,
   "metadata": {},
   "outputs": [],
   "source": [
    "fasta = ('>\\n' + '\\n>\\n'.join([\"\".join([ID_TO_AMINO_ACID[x] for x in  seq[i] if x != 0]) for i in losses.argsort(axis=0)[-20:-1]]))"
   ]
  },
  {
   "cell_type": "code",
   "execution_count": 325,
   "metadata": {},
   "outputs": [
    {
     "data": {
      "text/plain": [
       "array([11,  8, 13,  6, ...,  0,  0,  0,  0], dtype=int64)"
      ]
     },
     "execution_count": 325,
     "metadata": {},
     "output_type": "execute_result"
    }
   ],
   "source": [
    "losses.argsort(axis=0)[20:40][3]\n",
    "seq[469]"
   ]
  },
  {
   "cell_type": "code",
   "execution_count": 326,
   "metadata": {
    "scrolled": true
   },
   "outputs": [
    {
     "name": "stdout",
     "output_type": "stream",
     "text": [
      ">\n",
      "MLDELRAEKNFPSKPYDSLKNKSEFDRVYQRGFKKHNSFFSLFVLDASKEPSHFKNPFFCRLKDTEKSCLLGLSVSKKVGNAVKRNLIKRRLRSLVLKHASLCQGFALVFVPKKDCERLDFLTLEKHFLEMLISIKGYMNKKEKGTNHTYAKP\n",
      ">\n",
      "MTNVSGVDFQLRSVPLLSRVGADRADRLRTDMEAAAAGWPGAALLRVDSRNRVLVANGRVLLGAAIELADKPPPEAVFLGRVEGGRHVWAVRAALQPIADPDIPAEAVDLRGLGRIMDDTSSQLVSSASALLNWHDNARFSALDGAPTKPARAGWSRVNPITGHEEFPRIDPAVICLVHDGADRAVLARQAAWPERMFSLLAGFVEAGESFEVCVAREIREEIGLTVRDVRYLGSQQWPFPRSLMVGFHALGDPDEEFSFSDGEIAEAAWFTRDEVRAALAAGDWSSASESKLLLPGSISIARVIIESWAACE\n",
      ">\n",
      "MDPTLLALGALALSGAAATVAGCAEDLESDVGSQSNPNSQVQLGPQMGNIHRYFNKAISGEPVSYGLYVAAAGATAWALMGMNLNPILAIIVGSAVAALVHGAYSVSAFLGRIVGQSKNFGQPVYMDVMMGHLGPIVGHGFIAVFCMLFAAYLAVNALGNPFPLPLVALIFGITVGAIGSSTGDVHYGAEREYQKYAFGGGIPVANQGDIDIMAETGIRNGLDSSYFCSKLGGPLTGLAFGLIIFLDGWRSILGNIIGGDLITKAAIAIVVGLIVVITTLLLNRKIEVYARNKFGPYTDR\n",
      ">\n",
      "MVNTGRLGFVKLGAGIKEDRMAFSYMPGFGNDFETETLPGSLPQGRNSPQRPAYGLYAEQLSGSPFTAPRGTNERSWLYRIRPSVKHTGRFKAASYPLWKTAPNVGDHELALGQYRWNPVPMPKEPTDFIQGMRSITTAGDVLGQTGMAAHVYVANRSMVDDHFFNADGELLVVPQVGALRFVTEMGVIELRPGEIAVLPRGLVFKAELVDKDVRGYVCENYGAKLTLPDRGPIGANCLANPRDFKTPCAWFEEKETPCRLIVKWCGNFHVTEIGHSPLDVVAWHGNYAPYKYDLATFSPVGAILFDHPDPSIFTVLTAPSGEEGTANIDFVIFPPRWLVAEDTFRPPWYHRNIMSEFMGLIHGQYDAKEEGFVPGGISLHNLMLAHGPDAPGFEKASRADLKPVKLDNTMAFMFETRFPQMLTRYGAELETRQDNYIDCWADLKKRFNGTPEGDWS\n",
      ">\n",
      "MIYDFLLSLGFISRIPINIKVKAFEVRVKRLPIYFPLVGYIPGILFFFGGSFENFLLKILFLILGYYFFDLFHFDGFLDTLDGFLNQSSKEKRLEIMSKGDVGPFAVFFGTLYVVVFWTLYLEIPPITFIYSSVFGRYSMNLLMFFSKPAKKTGLGALFFPFQKKNLLFSSFFLLPLLFSMKYFFISYVVTVVFSYLMSIVSNSKIGGVTGDVLGGACLMTNGLLLVVLGVV\n",
      ">\n",
      "MPSLSKEAALVHDALVARGLETPLRPPMDELDNETRKSLIAGHMTEIMQLLNLDLSDDSLMETPHRIAKMYVDEIFAGLDYANFPKITLIENKMKVDEMVTVRDITLTSTCEHHFVTIDGKATVAYIPKDSVIGLSKINRIVQFFAQRPQVQERLTQQILTALQTLLGTNNVAVSIDAVHYCVKARGIRDATSATTTTSLGGLFKSSQNTRQEFLRAVRHHP\n",
      ">\n",
      "MKAGIIYNEGKPLAVELAAHVRRILELQGWEVHMATGIGGILGYSRPDSPVCHTPIDQLVPPGFDASMAFAVVLGGDGTVLSAFRQLAPCEIPLLTINTGHLGFLTEGYVADLEPALDQVLRGDYTIEDRTMLTVQVLRDQTVIWEALSLNEMVIHKEPLTGMCHFEVDVGAHARVDIAADGLILSTPTGSTAYALSAGGPVITPGVAALQLVPICPHSLASRALVFSNSEPVWIYPANPFKHLILVVDGNAGCYIQPEDQVFVQRAPYRARFIRLRAPEFFHVLQQKLGWGLPHVAKPRAKKSTDS\n",
      ">\n",
      "MAALRRALIILAHSEKTSFNYAMKEAAVEALQRKGWEVAVSDLYAMKFDPIISRKDITGALKDPENFQYPAESALAYKESRLSPDIVTEQKKVEEADLLIFQFPLQWFGVPAILKGWFERVFTGGFAYTYAAMYDKGPFQNKKAVLSITTGGSESMYSLKGIHGDMNIILWPIQSGTLHFCGFQVLEPQLTYGIGHTPPDVRTEILAGWKKRLENIWDETPLYFAPSSLFDLNFQAGFLLKKEIEDEQKNNKYGLSVGHHLGKPIPTDNQIKARK\n",
      ">\n",
      "MPSMIVVGGQWGDEGKGSIIAYLALHDEPEIIARGGVGTNAGHSVFINGKKYAVRQLPTGFMQRKARLLVGAGVLVDPEVFFHELEHLKDFNVKERVGIDYRCAIIEPKHKELDRSNGYLHGKIGTTGSGCGPANADRVMRKAKQAKDIKELEPYLTDVAAEVNDALDEGALVLVEGTQGFGLSLYYGTYPYVTSKDVTASSVAADVGIGPTRVDEVIVVFKSFPTRVGAGPFPTEMPMEEADRLGLVEYGTVTGRRRRVGWFDFEMARYSARVNGATMLAVTMLDKYDKEAFGVTDYDKLPRKAKEFIEEIEEKVGVPVGLIKTGPELEHIIDRRDTI\n",
      ">\n",
      "MTAPSQVLKIRRPDDWHLHLRDGDMLKTVVPYTSEIYGRAIVMPNLAPPVTTVEAAVAYRQRILDAVPAGHDFTPLMTCYLTDSLDPNELERGFNEGVFTAAKLYPANATTNSSHGVTSVDAIMPVLERMEKIGMPLLVHGEVTHADIDIFDREARFIESVMEPLRQRLTALKVVFEHITTKDAADYVRDGNERLAATITPQHLMFNRNHMLVGGVRPHLYCLPILKRNIHQQALRELVASGFNRVFLGTDSAPHARHRKESSCGCAGCFNAPTALGSYATVFEEMNALQYFEAFCSVNGPQFYGLPVNDTFIELVREEQQVAESIALTDDTLVPFLAGETVRWSVKQ\n",
      ">\n",
      "MKFIVIKIGGSTLSDMHPSIINNIKHLRSNNIYPIIVHGGGPFINEALSNQQIEPHFVNGLRVTDKATMTITKHTLIADVNTALVAQFNQHQCSAIGLCGLDAQLFEITSFDQQYGYVGVPTALNKDALQYLCTKFVPIINSIGFNNHDGEFYNINADTLAYFIASSLKAPIYVLSNIAGVLINDVVIPQLPLVDIHQYIEHGDIYGGMIPKVLDAKNAIENGCPKVIIASGNKPNIIESIYNNDFVGTTILNS\n",
      ">\n",
      "MIVTTKIQDMQTMMQQYRLEGKTIGFVPTMGYLHEGHIALLKKAREENDIVALSVFVNPLQFGPNEDFARYPRDIERDERIAKENGVDVFFCPSVEEMYPHPLSVQVTVKERVDVLCGKSRPGHFDGVATVLTKLFHIVMPTRAYFGMKDAQQVAVVDGLIRDFHFPIELVAVPTVREEDGLAKSSRNVYLSPEERKEAPALYQALQQAKTAIENGERNPETICALVKNYIQTHTHAEIDYVEVYSYPDLKPLEKLHGKVIIAVAVRFASARLIDNITLDIV\n",
      ">\n",
      "MRCDRVWINARLATLAPGRQGLGIVEDGVVACLGGRIAYAGPAAAAPTFEAAESIDVDGRWITPGLIDPHTHLVFAGDRAHEFELRLAGASYEEIARAGGGIVSTMRATRAASEAELIAAALPRLDALLAEGVTTVEIKSGYGLSLDDELKSLRAARALADIRRVGVTTTFLGAHALPPEYRDDEDGYVDLVCQTMIPAIAARGLADAVDGFCEGIGFSPAQIRRVFDAAKAHGLPVKLHAEQLSNLSGAALAAEYNALSADHLEHLDAAGIAAMAASGTVATLLPGAYYFTRETLVPPIAALRAAGVPMALATDCNPGTSPLTSPLLVMNMAATLFRMTVEECLAGVTREAARALGLLADRGTLEAGKACDLAIWDVERPAELVYRMGFNPLHARVWRGL\n",
      ">\n",
      "MVRVSVPATSANLGPGFDTLGVALELRNVIEMDETGIDDVVIEVEGAGAGALEDPGRNMVYQAARLVFQRLGYEPNGLLIREKVAIPVARGMGSSAAAIVGGLVAANALVQKRTGGPGLDREELLRMAVAIEGHPDNVTPALLGGFTVSCMDPDRGPLYLCFPPPRGLRAVVVMPEVQIKGRKTEQSRGVLPAQVSLRDAVYNLNRTALLVAAVAQGRTDLLRVAMQDRLHQPYRAALVPGMRSVFEAALSAGALGVALSGAGPSVIALVAESAEPVALAMEAAFQWAGSNARSLTMDLAREGARVLSGPGREQDMLDRPPHWG\n",
      ">\n",
      "MADLDDIKDGKDFGIGIPQQNPAFTLKGSGSLDWGMQSRLARIFNPKTNRTVMLAFDHGYFQGPTTGLERIDINIAPLFEYADVLMCTRGILRSVVPAAANRPVVLRASGANSILTDLSNEAVAVAMEDAVRLNACAVAAQVYIGTEHEHQSIKNIIQLIDQGMRYGMPTMAVTGVGKDMVRDQRYFSLASRIAAEMGAQVIKTYYVDSGFERIAAGCPVPIVIAGGKKLPERDALEMCYQAIDQGASGVDMGRNIFQSDAPIAMLKAVHAIVHKNENAAAAYQLFLHEQN\n",
      ">\n",
      "MSRSSPDQLTRFLAQVQGRPKKGLSQNFLIDGNILRKILAVSCVEAGDWVLEIGPGFGALTEVLVNQGAHVVALEKDPMFEETLKQLPIDLEITDACKYPLSQLEEKGWQGKGRVVANLPYHITTPLLTKLFLEVPNQWKTVTVMMQDEVARRITAQPGGKEYGSLTIFLQFFADVRYAFKVSPGCFFPKPQVSSAVVHMTVKETFPLETSLHQKFFSLTRAAFGQRRKLLANALKDLYPKELVFSALNQLNFSEKTRPETLSLNEYLQLFHLLSSNA\n",
      ">\n",
      "MVSIPRGFRDFPPPMMILRKRVLSKIEEIFRRYGFDPIETPSLEYWETVKGKLGEEAENKLMFIFPDFFSKEWYTLRYELTFPLARYVAMHPETPLPFKRYHIGNVWRHEEPQKGRYREFLQCDADIVGSPYPEADAEVISVNIDAMKSFDFENFRVRLNDRRLLTGVFEEELGINNPFPIYRAIDKLDKIGVDGVKGELARLGAHESLIGRIMELISTRGSFNEISNTFRRIENDKVKVALDHLEEIFSIVSDDRLVFDLSLVRGLDYYTGPVFETSVSEPRIGSLAGGGRYDRLIGLYSGKDVPATGVSLGVERLIDAGLELGIFDLSERSYTDVFIVSVRRENWRYAWRISRILRERGFSTSLDLMRRSQSAQREYANKIGAKVIAFVGPSEEETETVTLYSRDLRKTVKISELIDSLREFLSVS\n",
      ">\n",
      "MNKHNKSADALSLYLVTDSALCADKGLIETVLAAIDGGVTLVQLRDKHASDEALYTTACELKEAIAGRVPLVINDKVQIAHKAKLDGAHIGQGDLSVKQARNILGHDAWLGLSINTLAQLQQTHHHHLDLLDYVGLGPVFATATKQDHAEPIGLEGLSTLSKASVLPTVAIGGINHANARQVYQTGCHGIAVVSAICAADDPKQAAELLIAQR\n",
      ">\n",
      "MMEWIDENSSLFVPPVCNKLMYGEGQLKIMFVGGPNTRKDYHLEEGEELFFQVKGDMCLKVLEKGKPKDIIIKEGEMFLLPSRFNHSPQRFENTVGLVIERERLPEEIDGLRYFCEDGVTVLWEKFFHCTDLTQIAPVIKEFFESEEHKTGKPSKESSCSINVDTETELMEPFPLKQWLKDNKDSYRSGSMAIFEKGEFKVHAHGSGEQEGHSQGEMWFWQLEGKATVNVDEITRELNKNDVLMITAGSDFRVKREEGSVGLSITVDSLANK\n"
     ]
    }
   ],
   "source": [
    "print(fasta)"
   ]
  },
  {
   "cell_type": "code",
   "execution_count": 327,
   "metadata": {
    "scrolled": true
   },
   "outputs": [],
   "source": [
    "result_handle = NCBIWWW.qblast(program=\"blastp\", database=\"nr\", perc_ident=95, sequence=fasta)"
   ]
  },
  {
   "cell_type": "code",
   "execution_count": 328,
   "metadata": {},
   "outputs": [
    {
     "name": "stdout",
     "output_type": "stream",
     "text": [
      "[]\n"
     ]
    }
   ],
   "source": [
    "all_titles = \"\"\n",
    "identities = []\n",
    "blast_records = NCBIXML.parse(result_handle)\n",
    "for blast_record in blast_records:\n",
    "    for alignment in blast_record.alignments:\n",
    "        for hsp in alignment.hsps:\n",
    "            identities.append(hsp.identities/hsp.align_length)\n",
    "print(identities)"
   ]
  },
  {
   "cell_type": "code",
   "execution_count": 329,
   "metadata": {
    "scrolled": true
   },
   "outputs": [
    {
     "ename": "ZeroDivisionError",
     "evalue": "division by zero",
     "output_type": "error",
     "traceback": [
      "\u001b[1;31m---------------------------------------------------------------------------\u001b[0m",
      "\u001b[1;31mZeroDivisionError\u001b[0m                         Traceback (most recent call last)",
      "\u001b[1;32m<ipython-input-329-ca3049316ba6>\u001b[0m in \u001b[0;36m<module>\u001b[1;34m()\u001b[0m\n\u001b[1;32m----> 1\u001b[1;33m \u001b[0msum\u001b[0m\u001b[1;33m(\u001b[0m\u001b[0midentities\u001b[0m\u001b[1;33m)\u001b[0m\u001b[1;33m/\u001b[0m\u001b[0mlen\u001b[0m\u001b[1;33m(\u001b[0m\u001b[0midentities\u001b[0m\u001b[1;33m)\u001b[0m\u001b[1;33m\u001b[0m\u001b[0m\n\u001b[0m",
      "\u001b[1;31mZeroDivisionError\u001b[0m: division by zero"
     ]
    }
   ],
   "source": [
    "sum(identities)/len(identities)"
   ]
  },
  {
   "cell_type": "code",
   "execution_count": 248,
   "metadata": {},
   "outputs": [
    {
     "data": {
      "text/plain": [
       "8.7"
      ]
     },
     "execution_count": 248,
     "metadata": {},
     "output_type": "execute_result"
    }
   ],
   "source": [
    "sum(counts)/len(counts)"
   ]
  },
  {
   "cell_type": "code",
   "execution_count": 214,
   "metadata": {
    "scrolled": true
   },
   "outputs": [
    {
     "ename": "TypeError",
     "evalue": "object of type 'generator' has no len()",
     "output_type": "error",
     "traceback": [
      "\u001b[1;31m---------------------------------------------------------------------------\u001b[0m",
      "\u001b[1;31mTypeError\u001b[0m                                 Traceback (most recent call last)",
      "\u001b[1;32m<ipython-input-214-c8e09658b55f>\u001b[0m in \u001b[0;36m<module>\u001b[1;34m()\u001b[0m\n\u001b[1;32m----> 1\u001b[1;33m \u001b[0mlen\u001b[0m\u001b[1;33m(\u001b[0m\u001b[0mblast_records\u001b[0m\u001b[1;33m)\u001b[0m\u001b[1;33m\u001b[0m\u001b[0m\n\u001b[0m",
      "\u001b[1;31mTypeError\u001b[0m: object of type 'generator' has no len()"
     ]
    }
   ],
   "source": [
    "len(blast_records)"
   ]
  },
  {
   "cell_type": "code",
   "execution_count": 184,
   "metadata": {},
   "outputs": [
    {
     "data": {
      "text/plain": [
       "1"
      ]
     },
     "execution_count": 184,
     "metadata": {},
     "output_type": "execute_result"
    }
   ],
   "source": [
    "len(alignment.hsps)"
   ]
  },
  {
   "cell_type": "code",
   "execution_count": 185,
   "metadata": {},
   "outputs": [
    {
     "data": {
      "text/plain": [
       "211"
      ]
     },
     "execution_count": 185,
     "metadata": {},
     "output_type": "execute_result"
    }
   ],
   "source": [
    "len(\"MNQGAHVVALEKDSMLEETLKQLPIHLEITDACKYPLSQLQDQGWQGKGRVVANLPYHITTPLLRKLFLEAPNQWKTVTVMIQDEVARRITAQPGGKEYGSLTIFLQFFVDVHYAFKVSPGCFLPKPQVASAVVHMTVKENFPLEEPLRTKFFSLTRAAFGQRRKLLANALKDLYPKERVFEALSQLHFSDKTRPETLSLDDYLKLFYLLS\")"
   ]
  },
  {
   "cell_type": "code",
   "execution_count": 186,
   "metadata": {},
   "outputs": [
    {
     "data": {
      "text/plain": [
       "'gi|1190732764|emb|SGA33502.1| dimethyladenosine transferase [Chlamydia abortus]'"
      ]
     },
     "execution_count": 186,
     "metadata": {},
     "output_type": "execute_result"
    }
   ],
   "source": [
    "alignment.title"
   ]
  },
  {
   "cell_type": "code",
   "execution_count": 189,
   "metadata": {
    "scrolled": true
   },
   "outputs": [
    {
     "data": {
      "text/plain": [
       "211"
      ]
     },
     "execution_count": 189,
     "metadata": {},
     "output_type": "execute_result"
    }
   ],
   "source": [
    "hsp.align_length"
   ]
  },
  {
   "cell_type": "code",
   "execution_count": 188,
   "metadata": {},
   "outputs": [
    {
     "name": "stdout",
     "output_type": "stream",
     "text": [
      "****Alignment****\n",
      "Identity: 183\n",
      "Score: 978.0\n",
      "e value: 9.83642e-132\n",
      "VNQGAHVVALEKDPMFEETLKQLPIDLEITDACKYPLSQLEEKGWQGKGRVVANLPYHITTPLLTKLFLEVPNQWKTVTVMMQDEVARRITAQPGGKEYGSLTIFLQFFADVRYAFKVSPGCFFPKPQVSSAVVHMTVKETFPLETSLHQKFFSLTRAAFGQRRKLLANALKDLYPKELVFSALNQLNFSEKTRPETLSLNEYLQLFHLLS\n",
      "+NQGAHVVALEKD M EETLKQLPI LEITDACKYPLSQL+++GWQGKGRVVANLPYHITTPLL KLFLE PNQWKTVTVM+QDEVARRITAQPGGKEYGSLTIFLQFF DV YAFKVSPGCF PKPQV+SAVVHMTVKE FPLE  L  KFFSLTRAAFGQRRKLLANALKDLYPKE VF AL+QL+FS+KTRPETLSL++YL+LF+LLS\n",
      "MNQGAHVVALEKDSMLEETLKQLPIHLEITDACKYPLSQLQDQGWQGKGRVVANLPYHITTPLLRKLFLEAPNQWKTVTVMIQDEVARRITAQPGGKEYGSLTIFLQFFVDVHYAFKVSPGCFLPKPQVASAVVHMTVKENFPLEEPLRTKFFSLTRAAFGQRRKLLANALKDLYPKERVFEALSQLHFSDKTRPETLSLDDYLKLFYLLS\n"
     ]
    }
   ],
   "source": [
    "        for hsp in alignment.hsps:\n",
    "            print('****Alignment****')\n",
    "            print('Identity:', hsp.identities)\n",
    "            print('Score:', hsp.score)\n",
    "            print('e value:', hsp.expect)\n",
    "            print(hsp.query)\n",
    "            print(hsp.match)\n",
    "            print(hsp.sbjct)"
   ]
  },
  {
   "cell_type": "code",
   "execution_count": null,
   "metadata": {},
   "outputs": [],
   "source": []
  }
 ],
 "metadata": {
  "kernelspec": {
   "display_name": "Python 3",
   "language": "python",
   "name": "python3"
  },
  "language_info": {
   "codemirror_mode": {
    "name": "ipython",
    "version": 3
   },
   "file_extension": ".py",
   "mimetype": "text/x-python",
   "name": "python",
   "nbconvert_exporter": "python",
   "pygments_lexer": "ipython3",
   "version": "3.6.6"
  }
 },
 "nbformat": 4,
 "nbformat_minor": 2
}
