{
 "cells": [
  {
   "cell_type": "code",
   "execution_count": 1,
   "metadata": {},
   "outputs": [],
   "source": [
    "import torch\n",
    "import torch.nn as nn\n",
    "import torch.nn.functional as F\n",
    "import torch.optim as optim\n",
    "from torch.utils.data import Dataset, DataLoader\n",
    "import numpy as np\n",
    "import json\n",
    "import fastai\n",
    "import math"
   ]
  },
  {
   "cell_type": "code",
   "execution_count": 2,
   "metadata": {},
   "outputs": [],
   "source": [
    "ROOT = \"../../data/protein/classification/full_750/\"\n",
    "DATA_PATH = ROOT+\"3_kmers\"\n",
    "EMBEDDING_PATH = \"../../data/protein/classification/data_sources/protVec_100d_3grams.csv\"\n",
    "MODEL_PATH = \"../../weights/protein/classification/full_750/3_kmers\"\n",
    "SEQUENCE_LENGTH=748"
   ]
  },
  {
   "cell_type": "code",
   "execution_count": 3,
   "metadata": {},
   "outputs": [],
   "source": [
    "num_workers = 8 # On cloud 8\n",
    "batch_size = 256"
   ]
  },
  {
   "cell_type": "code",
   "execution_count": 4,
   "metadata": {
    "scrolled": true
   },
   "outputs": [],
   "source": [
    "with open(ROOT+\"classToIndex.json\") as f:\n",
    "    data = json.load(f)\n",
    "NUM_CLASSES = max(data.values())+1"
   ]
  },
  {
   "cell_type": "code",
   "execution_count": 5,
   "metadata": {},
   "outputs": [],
   "source": [
    "class EnzymeDataSet(Dataset):\n",
    "    \"\"\"Face Landmarks dataset.\"\"\"\n",
    "\n",
    "    def __init__(self, path, seq_length, is_test=True, vocal_size=20, transform=None):\n",
    "        self.data = np.load(path)\n",
    "        self.seq_length = seq_length\n",
    "        self.is_test = is_test\n",
    "        self.vocal_size = vocal_size\n",
    "\n",
    "    def __len__(self):\n",
    "        return len(self.data)\n",
    "\n",
    "    def __getitem__(self, idx):\n",
    "        row = self.data[idx]\n",
    "        if not self.is_test:\n",
    "            mutations = int(len(row)*0.05)\n",
    "            np.put(row, np.random.randint(0, len(row)-1, mutations), np.random.randint(1, vocal_size, mutations))\n",
    "        end_padding = self.seq_length-len(row[0])\n",
    "        seq = np.pad(row[0], mode=\"constant\", pad_width=(0,end_padding))\n",
    "        return np.int64(seq), row[1]"
   ]
  },
  {
   "cell_type": "code",
   "execution_count": 6,
   "metadata": {},
   "outputs": [],
   "source": [
    "embeddings = np.loadtxt(open(EMBEDDING_PATH, \"rb\"), delimiter=\"\\t\", skiprows=1, usecols=[i for i in range(1,101)])"
   ]
  },
  {
   "cell_type": "code",
   "execution_count": 7,
   "metadata": {},
   "outputs": [],
   "source": [
    "vocal_size = min(8001, embeddings.shape[0])"
   ]
  },
  {
   "cell_type": "code",
   "execution_count": 8,
   "metadata": {
    "scrolled": false
   },
   "outputs": [],
   "source": [
    "train_ds = EnzymeDataSet(ROOT+\"3_kmers/train/data.npy\", 748, is_test=False, vocal_size=vocal_size)\n",
    "val_ds = EnzymeDataSet(ROOT+\"3_kmers/val/data.npy\", 748)\n",
    "test_ds = EnzymeDataSet(ROOT+\"3_kmers/test/data.npy\", 748)"
   ]
  },
  {
   "cell_type": "code",
   "execution_count": 9,
   "metadata": {
    "scrolled": true
   },
   "outputs": [],
   "source": [
    "def gelu(x):\n",
    "    return 0.5 * x * (1 + torch.tanh(math.sqrt(2 / math.pi) * (x + 0.044715 * torch.pow(x, 3))))"
   ]
  },
  {
   "cell_type": "code",
   "execution_count": 10,
   "metadata": {},
   "outputs": [],
   "source": [
    "class ResnetIdentityBlock(nn.Module):\n",
    "\n",
    "    def __init__(self, num_inputs, num_outputs, kernel_size, strides, dilation_rate=1, dropout=0.2, downsample = True, \n",
    "                 act=F.relu):\n",
    "        super(ResnetIdentityBlock, self).__init__()\n",
    "        self.act = act\n",
    "        self.conv1 = nn.Conv1d(num_inputs, num_outputs, kernel_size, stride=strides, dilation =1)\n",
    "        self.conv2 = nn.Conv1d(num_outputs, num_outputs, kernel_size, stride=1, dilation =dilation_rate)\n",
    "        self.padding = nn.ReflectionPad1d((1,1))\n",
    "        self.bn1 = nn.BatchNorm1d(num_inputs)\n",
    "        self.bn2 = nn.BatchNorm1d(num_outputs)\n",
    "        if downsample:            \n",
    "            self.downsample = nn.Conv1d(num_inputs, num_outputs, kernel_size, stride=strides, dilation = 1)\n",
    "        \n",
    "    def forward(self, x):\n",
    "        residual = x\n",
    "\n",
    "        out = self.act(self.bn1(x))\n",
    "        out = self.conv1(out)\n",
    "        out = self.padding(out)\n",
    "        out = self.act(self.bn2(out))\n",
    "        out = self.conv2(out)\n",
    "        if self.downsample is not None:\n",
    "            residual = self.downsample(residual)\n",
    "        out += residual     \n",
    "        return out"
   ]
  },
  {
   "cell_type": "code",
   "execution_count": 11,
   "metadata": {},
   "outputs": [],
   "source": [
    "class EnzymeClassifier(nn.Module):\n",
    "    def __init__(self):\n",
    "        super(EnzymeClassifier, self).__init__()\n",
    "        self.embedding = nn.Embedding(embeddings.shape[0], embeddings.shape[1])\n",
    "        self.embedding.from_pretrained(torch.from_numpy(embeddings)) \n",
    "        self.resnet_block1 = ResnetIdentityBlock(embeddings.shape[1], 128, 3, 2)\n",
    "        self.resnet_block2 = ResnetIdentityBlock(128, 128, 3, 2)   \n",
    "        self.resnet_block3 = ResnetIdentityBlock(128, 256, 3, 2)  \n",
    "#         self.resnet_block4 = ResnetIdentityBlock(512, NUM_CLASSES, 3, 2)\n",
    "#         self.bn = nn.BatchNorm1d(NUM_CLASSES)\n",
    "#         self.out = torch.nn.Linear(1024, NUM_CLASSES)\n",
    "        self.resnet_block4 = ResnetIdentityBlock(256, 512, 3, 2)\n",
    "        self.bn = nn.BatchNorm1d(NUM_CLASSES)\n",
    "        self.final_conv = nn.Conv1d(512, NUM_CLASSES, 1)\n",
    "\n",
    "    def forward(self, x):\n",
    "        embedded_seq = self.embedding(x)\n",
    "        embedded_seq.transpose_(1, 2)\n",
    "        h1 = self.resnet_block1(embedded_seq)\n",
    "        h2 = self.resnet_block2(h1)    \n",
    "        h3 = self.resnet_block3(h2)   \n",
    "        h4 = self.resnet_block4(h3)\n",
    "        out = self.bn(self.final_conv(F.relu(h4)))\n",
    "        \n",
    "        out = torch.mean(out, dim=2)\n",
    "        \n",
    "        return out"
   ]
  },
  {
   "cell_type": "code",
   "execution_count": 12,
   "metadata": {
    "scrolled": true
   },
   "outputs": [],
   "source": [
    "enzymeClassifier = EnzymeClassifier().cuda()"
   ]
  },
  {
   "cell_type": "code",
   "execution_count": 13,
   "metadata": {
    "scrolled": true
   },
   "outputs": [],
   "source": [
    "criterion = nn.CrossEntropyLoss()\n",
    "optimizer = optim.Adam(enzymeClassifier.parameters(), lr=0.001)"
   ]
  },
  {
   "cell_type": "code",
   "execution_count": 14,
   "metadata": {
    "scrolled": false
   },
   "outputs": [
    {
     "data": {
      "text/plain": [
       "3603317"
      ]
     },
     "execution_count": 14,
     "metadata": {},
     "output_type": "execute_result"
    }
   ],
   "source": [
    "sum(p.numel() for p in enzymeClassifier.parameters() if p.requires_grad)"
   ]
  },
  {
   "cell_type": "code",
   "execution_count": 15,
   "metadata": {},
   "outputs": [],
   "source": [
    "data = fastai.basic_data.DataBunch.create(train_ds=train_ds, valid_ds=val_ds, test_ds=test_ds, bs=batch_size, num_workers=num_workers)\n",
    "learner = fastai.basic_train.Learner(data, enzymeClassifier, \n",
    "        loss_func=criterion, \n",
    "        metrics=fastai.accuracy, \n",
    "        path=None, \n",
    "        model_dir='models')"
   ]
  },
  {
   "cell_type": "code",
   "execution_count": 16,
   "metadata": {
    "scrolled": true
   },
   "outputs": [
    {
     "data": {
      "text/plain": [
       "Learner(data=<fastai.basic_data.DataBunch object at 0x7fce268a2588>, model=EnzymeClassifier(\n",
       "  (embedding): Embedding(9048, 100)\n",
       "  (resnet_block1): ResnetIdentityBlock(\n",
       "    (conv1): Conv1d(100, 128, kernel_size=(3,), stride=(2,))\n",
       "    (conv2): Conv1d(128, 128, kernel_size=(3,), stride=(1,))\n",
       "    (padding): ReflectionPad1d((1, 1))\n",
       "    (bn1): BatchNorm1d(100, eps=1e-05, momentum=0.1, affine=True, track_running_stats=True)\n",
       "    (bn2): BatchNorm1d(128, eps=1e-05, momentum=0.1, affine=True, track_running_stats=True)\n",
       "    (downsample): Conv1d(100, 128, kernel_size=(3,), stride=(2,))\n",
       "  )\n",
       "  (resnet_block2): ResnetIdentityBlock(\n",
       "    (conv1): Conv1d(128, 128, kernel_size=(3,), stride=(2,))\n",
       "    (conv2): Conv1d(128, 128, kernel_size=(3,), stride=(1,))\n",
       "    (padding): ReflectionPad1d((1, 1))\n",
       "    (bn1): BatchNorm1d(128, eps=1e-05, momentum=0.1, affine=True, track_running_stats=True)\n",
       "    (bn2): BatchNorm1d(128, eps=1e-05, momentum=0.1, affine=True, track_running_stats=True)\n",
       "    (downsample): Conv1d(128, 128, kernel_size=(3,), stride=(2,))\n",
       "  )\n",
       "  (resnet_block3): ResnetIdentityBlock(\n",
       "    (conv1): Conv1d(128, 256, kernel_size=(3,), stride=(2,))\n",
       "    (conv2): Conv1d(256, 256, kernel_size=(3,), stride=(1,))\n",
       "    (padding): ReflectionPad1d((1, 1))\n",
       "    (bn1): BatchNorm1d(128, eps=1e-05, momentum=0.1, affine=True, track_running_stats=True)\n",
       "    (bn2): BatchNorm1d(256, eps=1e-05, momentum=0.1, affine=True, track_running_stats=True)\n",
       "    (downsample): Conv1d(128, 256, kernel_size=(3,), stride=(2,))\n",
       "  )\n",
       "  (resnet_block4): ResnetIdentityBlock(\n",
       "    (conv1): Conv1d(256, 512, kernel_size=(3,), stride=(2,))\n",
       "    (conv2): Conv1d(512, 512, kernel_size=(3,), stride=(1,))\n",
       "    (padding): ReflectionPad1d((1, 1))\n",
       "    (bn1): BatchNorm1d(256, eps=1e-05, momentum=0.1, affine=True, track_running_stats=True)\n",
       "    (bn2): BatchNorm1d(512, eps=1e-05, momentum=0.1, affine=True, track_running_stats=True)\n",
       "    (downsample): Conv1d(256, 512, kernel_size=(3,), stride=(2,))\n",
       "  )\n",
       "  (bn): BatchNorm1d(879, eps=1e-05, momentum=0.1, affine=True, track_running_stats=True)\n",
       "  (final_conv): Conv1d(512, 879, kernel_size=(1,), stride=(1,))\n",
       "), opt_func=functools.partial(<class 'torch.optim.adam.Adam'>, betas=(0.9, 0.99)), loss_func=CrossEntropyLoss(), metrics=[<function accuracy at 0x7fcea5f1e730>], true_wd=True, bn_wd=True, wd=0.01, train_bn=True, path=PosixPath('.'), model_dir='models', callback_fns=[<class 'fastai.basic_train.Recorder'>], callbacks=[], layer_groups=[Sequential(\n",
       "  (0): Embedding(9048, 100)\n",
       "  (1): Conv1d(100, 128, kernel_size=(3,), stride=(2,))\n",
       "  (2): Conv1d(128, 128, kernel_size=(3,), stride=(1,))\n",
       "  (3): ReflectionPad1d((1, 1))\n",
       "  (4): BatchNorm1d(100, eps=1e-05, momentum=0.1, affine=True, track_running_stats=True)\n",
       "  (5): BatchNorm1d(128, eps=1e-05, momentum=0.1, affine=True, track_running_stats=True)\n",
       "  (6): Conv1d(100, 128, kernel_size=(3,), stride=(2,))\n",
       "  (7): Conv1d(128, 128, kernel_size=(3,), stride=(2,))\n",
       "  (8): Conv1d(128, 128, kernel_size=(3,), stride=(1,))\n",
       "  (9): ReflectionPad1d((1, 1))\n",
       "  (10): BatchNorm1d(128, eps=1e-05, momentum=0.1, affine=True, track_running_stats=True)\n",
       "  (11): BatchNorm1d(128, eps=1e-05, momentum=0.1, affine=True, track_running_stats=True)\n",
       "  (12): Conv1d(128, 128, kernel_size=(3,), stride=(2,))\n",
       "  (13): Conv1d(128, 256, kernel_size=(3,), stride=(2,))\n",
       "  (14): Conv1d(256, 256, kernel_size=(3,), stride=(1,))\n",
       "  (15): ReflectionPad1d((1, 1))\n",
       "  (16): BatchNorm1d(128, eps=1e-05, momentum=0.1, affine=True, track_running_stats=True)\n",
       "  (17): BatchNorm1d(256, eps=1e-05, momentum=0.1, affine=True, track_running_stats=True)\n",
       "  (18): Conv1d(128, 256, kernel_size=(3,), stride=(2,))\n",
       "  (19): Conv1d(256, 512, kernel_size=(3,), stride=(2,))\n",
       "  (20): Conv1d(512, 512, kernel_size=(3,), stride=(1,))\n",
       "  (21): ReflectionPad1d((1, 1))\n",
       "  (22): BatchNorm1d(256, eps=1e-05, momentum=0.1, affine=True, track_running_stats=True)\n",
       "  (23): BatchNorm1d(512, eps=1e-05, momentum=0.1, affine=True, track_running_stats=True)\n",
       "  (24): Conv1d(256, 512, kernel_size=(3,), stride=(2,))\n",
       "  (25): BatchNorm1d(879, eps=1e-05, momentum=0.1, affine=True, track_running_stats=True)\n",
       "  (26): Conv1d(512, 879, kernel_size=(1,), stride=(1,))\n",
       ")])"
      ]
     },
     "execution_count": 16,
     "metadata": {},
     "output_type": "execute_result"
    }
   ],
   "source": [
    "learner"
   ]
  },
  {
   "cell_type": "code",
   "execution_count": null,
   "metadata": {
    "scrolled": false
   },
   "outputs": [
    {
     "data": {
      "text/html": [
       "\n",
       "    <div>\n",
       "        <style>\n",
       "        \t/* Turns off some styling */\n",
       "        \tprogress {\n",
       "\n",
       "            \t/* gets rid of default border in Firefox and Opera. */\n",
       "            \tborder: none;\n",
       "\n",
       "            \t/* Needs to be in here for Safari polyfill so background images work as expected. */\n",
       "            \tbackground-size: auto;\n",
       "            }\n",
       "\n",
       "            .progress-bar-interrupted, .progress-bar-interrupted::-webkit-progress-bar {\n",
       "                background: #F44336;\n",
       "            }\n",
       "        </style>\n",
       "      <progress value='2' class='' max='10', style='width:300px; height:20px; vertical-align: middle;'></progress>\n",
       "      20.00% [2/10 05:17<21:08]\n",
       "    </div>\n",
       "    \n",
       "<table style='width:300px; margin-bottom:10px'>\n",
       "  <tr>\n",
       "    <th>epoch</th>\n",
       "    <th>train_loss</th>\n",
       "    <th>valid_loss</th>\n",
       "    <th>accuracy</th>\n",
       "  </tr>\n",
       "  <tr>\n",
       "    <th>1</th>\n",
       "    <th>5.694957</th>\n",
       "    <th>5.442441</th>\n",
       "    <th>0.216990</th>\n",
       "  </tr>\n",
       "  <tr>\n",
       "    <th>2</th>\n",
       "    <th>3.693374</th>\n",
       "    <th>3.451525</th>\n",
       "    <th>0.522042</th>\n",
       "  </tr>\n",
       "  <tr>\n",
       "\n",
       "  </tr>\n",
       "</table>\n",
       "\n",
       "\n",
       "    <div>\n",
       "        <style>\n",
       "        \t/* Turns off some styling */\n",
       "        \tprogress {\n",
       "\n",
       "            \t/* gets rid of default border in Firefox and Opera. */\n",
       "            \tborder: none;\n",
       "\n",
       "            \t/* Needs to be in here for Safari polyfill so background images work as expected. */\n",
       "            \tbackground-size: auto;\n",
       "            }\n",
       "\n",
       "            .progress-bar-interrupted, .progress-bar-interrupted::-webkit-progress-bar {\n",
       "                background: #F44336;\n",
       "            }\n",
       "        </style>\n",
       "      <progress value='496' class='' max='513', style='width:300px; height:20px; vertical-align: middle;'></progress>\n",
       "      96.69% [496/513 02:28<00:05 2.0556]\n",
       "    </div>\n",
       "    "
      ],
      "text/plain": [
       "<IPython.core.display.HTML object>"
      ]
     },
     "metadata": {},
     "output_type": "display_data"
    }
   ],
   "source": [
    "learner.fit_one_cycle(10)"
   ]
  },
  {
   "cell_type": "code",
   "execution_count": null,
   "metadata": {},
   "outputs": [],
   "source": [
    "learner.fit(1)"
   ]
  },
  {
   "cell_type": "code",
   "execution_count": null,
   "metadata": {},
   "outputs": [],
   "source": [
    "preds, truth =learner.get_preds(is_test=True)"
   ]
  },
  {
   "cell_type": "code",
   "execution_count": null,
   "metadata": {},
   "outputs": [],
   "source": [
    "fastai.accuracy(preds, truth)"
   ]
  },
  {
   "cell_type": "code",
   "execution_count": null,
   "metadata": {},
   "outputs": [],
   "source": []
  }
 ],
 "metadata": {
  "kernelspec": {
   "display_name": "Python 3",
   "language": "python",
   "name": "python3"
  },
  "language_info": {
   "codemirror_mode": {
    "name": "ipython",
    "version": 3
   },
   "file_extension": ".py",
   "mimetype": "text/x-python",
   "name": "python",
   "nbconvert_exporter": "python",
   "pygments_lexer": "ipython3",
   "version": "3.6.5"
  }
 },
 "nbformat": 4,
 "nbformat_minor": 2
}
