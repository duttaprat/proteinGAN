{
 "cells": [
  {
   "cell_type": "code",
   "execution_count": 2,
   "metadata": {},
   "outputs": [
    {
     "name": "stderr",
     "output_type": "stream",
     "text": [
      "c:\\users\\donatas\\appdata\\local\\programs\\python\\python36\\lib\\importlib\\_bootstrap.py:219: RuntimeWarning: cymem.cymem.Pool size changed, may indicate binary incompatibility. Expected 48 from C header, got 64 from PyObject\n",
      "  return f(*args, **kwds)\n",
      "c:\\users\\donatas\\appdata\\local\\programs\\python\\python36\\lib\\importlib\\_bootstrap.py:219: RuntimeWarning: cymem.cymem.Address size changed, may indicate binary incompatibility. Expected 24 from C header, got 40 from PyObject\n",
      "  return f(*args, **kwds)\n"
     ]
    }
   ],
   "source": [
    "import torch\n",
    "import torch.nn as nn\n",
    "import torch.nn.functional as F\n",
    "import torch.optim as optim\n",
    "from torch.utils.data import Dataset, DataLoader\n",
    "import numpy as np\n",
    "import json\n",
    "import fastai"
   ]
  },
  {
   "cell_type": "code",
   "execution_count": 3,
   "metadata": {},
   "outputs": [],
   "source": [
    "ROOT = \"../../data/protein/classification/full_750/\"\n",
    "DATA_PATH = ROOT+\"3_kmers\"\n",
    "EMBEDDING_PATH = \"../../data/protein/classification/data_sources/protVec_100d_3grams.csv\"\n",
    "MODEL_PATH = \"../../weights/protein/classification/full_750/3_kmers\"\n",
    "SEQUENCE_LENGTH=748"
   ]
  },
  {
   "cell_type": "code",
   "execution_count": 4,
   "metadata": {
    "scrolled": true
   },
   "outputs": [],
   "source": [
    "with open(ROOT+\"classToIndex.json\") as f:\n",
    "    data = json.load(f)\n",
    "NUM_CLASSES = max(data.values())+1"
   ]
  },
  {
   "cell_type": "code",
   "execution_count": 5,
   "metadata": {},
   "outputs": [],
   "source": [
    "class EnzymeDataSet(Dataset):\n",
    "    \"\"\"Face Landmarks dataset.\"\"\"\n",
    "\n",
    "    def __init__(self, path, seq_length, transform=None):\n",
    "        self.data = np.load(path)\n",
    "        self.seq_length = seq_length\n",
    "\n",
    "    def __len__(self):\n",
    "        return len(self.data)\n",
    "\n",
    "    def __getitem__(self, idx):\n",
    "        row = self.data[idx]\n",
    "        end_padding = self.seq_length-len(row[0])\n",
    "        seq = np.pad(row[0], mode=\"constant\", pad_width=(0,end_padding))\n",
    "        return seq, row[1]"
   ]
  },
  {
   "cell_type": "code",
   "execution_count": 6,
   "metadata": {},
   "outputs": [],
   "source": [
    "embeddings = np.loadtxt(open(EMBEDDING_PATH, \"rb\"), delimiter=\"\\t\", skiprows=1, usecols=[i for i in range(1,101)])\n"
   ]
  },
  {
   "cell_type": "code",
   "execution_count": 7,
   "metadata": {
    "scrolled": false
   },
   "outputs": [],
   "source": [
    "enzymeDataSet = EnzymeDataSet(ROOT+\"3_kmers/test/data.npy\", 748)"
   ]
  },
  {
   "cell_type": "code",
   "execution_count": 8,
   "metadata": {
    "scrolled": true
   },
   "outputs": [],
   "source": [
    "iterator = torch.utils.data.DataLoader(dataset=enzymeDataSet, batch_size=2, shuffle=True)"
   ]
  },
  {
   "cell_type": "code",
   "execution_count": 9,
   "metadata": {},
   "outputs": [],
   "source": [
    "class ResnetIdentityBlock(nn.Module):\n",
    "\n",
    "    def __init__(self, num_inputs, num_outputs, kernel_size, strides, dilation_rate=1, dropout=0.2, downsample = True, \n",
    "                 act=F.relu):\n",
    "        super(ResnetIdentityBlock, self).__init__()\n",
    "        self.act = act\n",
    "        self.conv1 = nn.Conv1d(num_inputs, num_outputs, kernel_size, stride=strides, dilation =1)\n",
    "        self.conv2 = nn.Conv1d(num_outputs, num_outputs, kernel_size, stride=1, dilation =dilation_rate)\n",
    "        self.conv3 = nn.Conv1d(num_inputs, num_outputs, kernel_size, stride=strides, dilation =1)\n",
    "        self.dropout1 = nn.Dropout(dropout)\n",
    "        self.dropout2 = nn.Dropout(dropout)\n",
    "        self.padding = nn.ReflectionPad1d((2,2))\n",
    "        self.bn1 = nn.BatchNorm1d(num_outputs)\n",
    "        self.bn2 = nn.BatchNorm1d(num_outputs)\n",
    "        if downsample:            \n",
    "            self.downsample = nn.Conv1d(num_inputs, num_outputs, kernel_size, stride=strides, dilation =1)\n",
    "        \n",
    "    def forward(self, x):\n",
    "        residual = x\n",
    "\n",
    "        out = self.conv1(x)\n",
    "        out = self.bn1(out)\n",
    "        out = self.act(out)\n",
    "        out = self.dropout1(out)\n",
    "        out = self.padding(out)\n",
    "        out = self.conv2(out)\n",
    "        out = self.bn2(out)\n",
    "        out = self.dropout2(out)\n",
    "        if self.downsample is not None:\n",
    "            residual = self.downsample(residual)\n",
    "\n",
    "        out += residual\n",
    "        out = self.act(out)\n",
    "        \n",
    "        return out"
   ]
  },
  {
   "cell_type": "code",
   "execution_count": 10,
   "metadata": {},
   "outputs": [],
   "source": [
    "class EnzymeClassifier(nn.Module):\n",
    "    def __init__(self):\n",
    "        super(EnzymeClassifier, self).__init__()\n",
    "        self.embedding = nn.Embedding(embeddings.shape[0], embeddings.shape[1])\n",
    "        self.embedding.from_pretrained(torch.from_numpy(embeddings)) \n",
    "        self.resnet_block1 = ResnetIdentityBlock(embeddings.shape[1], 128, 5, 3)\n",
    "        self.resnet_block2 = ResnetIdentityBlock(128, 256, 5, 3)   \n",
    "        self.resnet_block3 = ResnetIdentityBlock(256, 512, 5, 3)  \n",
    "        self.resnet_block4 = ResnetIdentityBlock(512, 1024, 5, 3)\n",
    "        self.out = torch.nn.Linear(1024, NUM_CLASSES)\n",
    "        self.softmax = nn.Softmax(1)\n",
    "\n",
    "    def forward(self, x):\n",
    "        x = x.long().cuda()\n",
    "        embedded_seq = self.embedding(x)\n",
    "        embedded_seq.transpose_(1, 2)\n",
    "        h1 = self.resnet_block1(embedded_seq)\n",
    "        h2 = self.resnet_block2(h1)    \n",
    "        h3 = self.resnet_block3(h2)   \n",
    "        h4 = self.resnet_block4(h3)\n",
    "        flat = torch.sum(h4, dim=2)\n",
    "        out = self.out(flat)\n",
    "        return self.softmax(out)"
   ]
  },
  {
   "cell_type": "code",
   "execution_count": 11,
   "metadata": {
    "scrolled": true
   },
   "outputs": [],
   "source": [
    "enzymeClassifier = EnzymeClassifier().cuda()"
   ]
  },
  {
   "cell_type": "code",
   "execution_count": 12,
   "metadata": {
    "scrolled": true
   },
   "outputs": [],
   "source": [
    "criterion = nn.CrossEntropyLoss()\n",
    "optimizer = optim.Adam(enzymeClassifier.parameters(), lr=0.001)"
   ]
  },
  {
   "cell_type": "code",
   "execution_count": 13,
   "metadata": {},
   "outputs": [],
   "source": [
    "data = fastai.basic_data.DataBunch.create(enzymeDataSet, enzymeDataSet, test_ds=None, bs=16, num_workers=0)\n",
    "learner = fastai.basic_train.Learner(data, enzymeClassifier, \n",
    "        loss_func=criterion, \n",
    "        metrics=None, \n",
    "        path=None, \n",
    "        model_dir='models')"
   ]
  },
  {
   "cell_type": "code",
   "execution_count": 17,
   "metadata": {
    "scrolled": false
   },
   "outputs": [
    {
     "name": "stdout",
     "output_type": "stream",
     "text": [
      "Total time: 12:12\n",
      "epoch  train_loss  valid_loss\n",
      "1      6.944083    6.943697    (12:12)\n",
      "\n"
     ]
    }
   ],
   "source": [
    "learner.fit(1)"
   ]
  },
  {
   "cell_type": "code",
   "execution_count": 14,
   "metadata": {},
   "outputs": [],
   "source": [
    "learner"
   ]
  }
 ],
 "metadata": {
  "kernelspec": {
   "display_name": "Python 3",
   "language": "python",
   "name": "python3"
  },
  "language_info": {
   "codemirror_mode": {
    "name": "ipython",
    "version": 3
   },
   "file_extension": ".py",
   "mimetype": "text/x-python",
   "name": "python",
   "nbconvert_exporter": "python",
   "pygments_lexer": "ipython3",
   "version": "3.6.6"
  }
 },
 "nbformat": 4,
 "nbformat_minor": 2
}
