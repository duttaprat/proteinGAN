{
 "cells": [
  {
   "cell_type": "code",
   "execution_count": 18,
   "metadata": {},
   "outputs": [],
   "source": [
    "import pandas as pd\n",
    "from collections import Counter\n",
    "from common.bio import amino_acid"
   ]
  },
  {
   "cell_type": "code",
   "execution_count": 13,
   "metadata": {},
   "outputs": [],
   "source": [
    "proteins = pd.read_csv(\"../../data/protein/embedding/data_sources/uniprot-reviewed%3Ayes+fragment%3Ano+length%3A%5B64+TO+512%5D.tab.gz\", sep=\"\\t\")"
   ]
  },
  {
   "cell_type": "code",
   "execution_count": 14,
   "metadata": {},
   "outputs": [
    {
     "data": {
      "text/plain": [
       "Index(['Entry', 'Sequence'], dtype='object')"
      ]
     },
     "execution_count": 14,
     "metadata": {},
     "output_type": "execute_result"
    }
   ],
   "source": [
    "proteins.columns"
   ]
  },
  {
   "cell_type": "code",
   "execution_count": 19,
   "metadata": {},
   "outputs": [],
   "source": [
    "proteins = amino_acid.filter_non_standard_amino_acids(proteins, 'Sequence')"
   ]
  },
  {
   "cell_type": "code",
   "execution_count": 22,
   "metadata": {},
   "outputs": [],
   "source": [
    "results = Counter(proteins['Sequence'].str.cat())"
   ]
  },
  {
   "cell_type": "code",
   "execution_count": 21,
   "metadata": {},
   "outputs": [],
   "source": [
    "#proteins['Sequence'].apply(Counter)"
   ]
  },
  {
   "cell_type": "code",
   "execution_count": 42,
   "metadata": {
    "scrolled": true
   },
   "outputs": [],
   "source": [
    "biggest = results.most_common()[0][1]\n",
    "smallest = results.most_common()[-1][1]"
   ]
  },
  {
   "cell_type": "code",
   "execution_count": 44,
   "metadata": {},
   "outputs": [
    {
     "name": "stdout",
     "output_type": "stream",
     "text": [
      "1 = A: 1.1168977972511265\n",
      "2 = C: 7.36655997701934\n",
      "3 = D: 1.8101100139308348\n",
      "4 = E: 1.4832999000117937\n",
      "5 = F: 2.507010287734586\n",
      "6 = G: 1.3234521600857543\n",
      "7 = H: 4.318121166689646\n",
      "8 = I: 1.5834917870778222\n",
      "9 = K: 1.68990440457771\n",
      "10 = L: 1.0\n",
      "11 = M: 3.8689010728540754\n",
      "12 = N: 2.5327106444997054\n",
      "13 = P: 2.160608041610007\n",
      "14 = Q: 2.6259922964911455\n",
      "15 = R: 1.7431289062140696\n",
      "16 = S: 1.5986010712576648\n",
      "17 = T: 1.8629396155605888\n",
      "18 = V: 1.3700821538312231\n",
      "19 = W: 9.134113833412167\n",
      "20 = Y: 3.365889577496334\n"
     ]
    }
   ],
   "source": [
    "for i, key in enumerate(sorted(results.keys())):\n",
    "    print (\"%i = %s: %s\" % (i+1, key, biggest/results[key]))"
   ]
  },
  {
   "cell_type": "code",
   "execution_count": 35,
   "metadata": {},
   "outputs": [
    {
     "data": {
      "text/plain": [
       "dict_keys(['M', 'S', 'A', 'V', 'G', 'C', 'T', 'D', 'P', 'W', 'E', 'F', 'L', 'Q', 'Y', 'N', 'R', 'K', 'I', 'H'])"
      ]
     },
     "execution_count": 35,
     "metadata": {},
     "output_type": "execute_result"
    }
   ],
   "source": [
    "results.keys()"
   ]
  },
  {
   "cell_type": "code",
   "execution_count": null,
   "metadata": {},
   "outputs": [],
   "source": []
  }
 ],
 "metadata": {
  "kernelspec": {
   "display_name": "Python 3",
   "language": "python",
   "name": "python3"
  },
  "language_info": {
   "codemirror_mode": {
    "name": "ipython",
    "version": 3
   },
   "file_extension": ".py",
   "mimetype": "text/x-python",
   "name": "python",
   "nbconvert_exporter": "python",
   "pygments_lexer": "ipython3",
   "version": "3.6.6"
  }
 },
 "nbformat": 4,
 "nbformat_minor": 2
}
