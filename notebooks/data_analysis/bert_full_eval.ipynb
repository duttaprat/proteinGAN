{
 "cells": [
  {
   "cell_type": "code",
   "execution_count": 1,
   "metadata": {},
   "outputs": [],
   "source": [
    "import numpy as np\n",
    "import pandas as pd\n",
    "import glob\n",
    "import os\n",
    "import pandas as pd\n",
    "from common.bio.constants import ID_TO_AMINO_ACID\n",
    "from tqdm import tqdm\n",
    "import multiprocessing as mp\n",
    "import time\n",
    "import tensorflow as tf"
   ]
  },
  {
   "cell_type": "markdown",
   "metadata": {},
   "source": [
    "## Reading results from file"
   ]
  },
  {
   "cell_type": "code",
   "execution_count": 2,
   "metadata": {},
   "outputs": [],
   "source": [
    "ROOT=\"../../../bert/weights/eval_full/\"\n",
    "list_of_files = glob.glob(ROOT+ \"*.npy\") # * means all if need specific format then *.csv"
   ]
  },
  {
   "cell_type": "markdown",
   "metadata": {},
   "source": [
    "## Preprocessing"
   ]
  },
  {
   "cell_type": "code",
   "execution_count": 3,
   "metadata": {},
   "outputs": [],
   "source": [
    "def preprocess_score(scores):\n",
    "    scores = np.reshape(scores, [-1,20])\n",
    "#     scores = np.mean(scores, axis =1)\n",
    "    return scores"
   ]
  },
  {
   "cell_type": "code",
   "execution_count": 4,
   "metadata": {},
   "outputs": [],
   "source": [
    "from datetime import datetime, timedelta\n",
    "\n",
    "def get_files_per_hour(list_of_files):\n",
    "    latest_file = max(list_of_files, key=os.path.getctime)\n",
    "    oldest_file = min(list_of_files, key=os.path.getctime)\n",
    "    start = datetime.strptime((os.path.basename(oldest_file).split(\".\")[0]), '%Y%m%d_%H%M%S_%f')- timedelta(hours=1)\n",
    "    finish = datetime.strptime((os.path.basename(latest_file).split(\".\")[0]), '%Y%m%d_%H%M%S_%f')\n",
    "\n",
    "    while start <= finish:\n",
    "        start = start + timedelta(hours=1)\n",
    "        yield start.strftime(\"%Y%m%d_%H*\")\n",
    "    "
   ]
  },
  {
   "cell_type": "code",
   "execution_count": 5,
   "metadata": {},
   "outputs": [],
   "source": [
    "def get_data_from_files(pattern):\n",
    "    sequences, scores = None, None\n",
    "    list_of_files = glob.glob(ROOT+ \"/\" + pattern+\"*.npy\") \n",
    "    for file in list_of_files:\n",
    "        if sequences is None:\n",
    "            scores,_,sequences = np.load(file)\n",
    "            scores = preprocess_score(scores)\n",
    "        else:\n",
    "            s,_,seqs = np.load(file)\n",
    "            sequences = np.append(sequences,seqs, axis=0)\n",
    "            scores = np.append(scores, preprocess_score(s), axis=0)\n",
    "    return sequences, scores"
   ]
  },
  {
   "cell_type": "markdown",
   "metadata": {},
   "source": [
    "## Storing"
   ]
  },
  {
   "cell_type": "code",
   "execution_count": 6,
   "metadata": {},
   "outputs": [],
   "source": [
    "def save_as_tfrecords(data, file_id, options=tf.python_io.TFRecordOptions(tf.python_io.TFRecordCompressionType.GZIP), \n",
    "                      extension=\"tfrecords.gz\"):\n",
    "    try:\n",
    "        threading_start = time.time()\n",
    "        filename = \"{}{}.{}\".format(PATH,str(file_id), extension)\n",
    "        with tf.python_io.TFRecordWriter(filename,options) as writer:\n",
    "            for row in data:\n",
    "                row = row[np.nonzero(row)]\n",
    "                example = tf.train.Example(features = tf.train.Features(\n",
    "                    feature={\n",
    "                        'length': tf.train.Feature(int64_list=tf.train.Int64List(value=[len(row)])),\n",
    "                        'seq': tf.train.Feature(int64_list=tf.train.Int64List(value=row))\n",
    "                    }\n",
    "                ))\n",
    "                writer.write(example.SerializeToString())\n",
    "        print(\"Data was stored in {} (Took: {}s)\".format(filename, time.time() - threading_start))\n",
    "        sys.stdout.flush()\n",
    "    except Exception as e:\n",
    "        print(\"Something went wrong went writting in to tfrecords file\")\n",
    "        print(e)\n",
    "        sys.stdout.flush()"
   ]
  },
  {
   "cell_type": "code",
   "execution_count": 13,
   "metadata": {},
   "outputs": [],
   "source": [
    "def save_as_multithreaded(path, store_func):\n",
    "    os.makedirs(path, exist_ok=True)\n",
    "    threading_start = time.time()\n",
    "    list_of_files = glob.glob(ROOT+ \"*.npy\") \n",
    "    files_patterns = get_files_per_hour(list_of_files)\n",
    "    has_next = True\n",
    "    while has_next:\n",
    "            pool = mp.Pool(mp.cpu_count())\n",
    "            try:\n",
    "                results = []\n",
    "                for i in range(mp.cpu_count()):\n",
    "                    pattern = next(files_patterns)\n",
    "                    sequences, scores = get_data_from_files(pattern)\n",
    "#                     data = sequences[np.where(scores > 2.5)]\n",
    "                    data = sequences, scores\n",
    "                    results.append(pool.apply_async(store_func, [data, pattern]))\n",
    "                output = [p.get() for p in results]\n",
    "                pool.terminate()\n",
    "                pool.join()\n",
    "            except Exception as e:\n",
    "                print(e)\n",
    "                print(\"Waiting for threads to finish\")\n",
    "                output = [p.get() for p in results]\n",
    "                pool.terminate()\n",
    "                pool.join()\n",
    "                print(\"Exiting loop\")\n",
    "                break\n",
    "    print(\"Completed all threads in {} seconds\".format(time.time() - threading_start))"
   ]
  },
  {
   "cell_type": "code",
   "execution_count": 10,
   "metadata": {},
   "outputs": [],
   "source": [
    "def save_as_npz(data, pattern):\n",
    "    try:\n",
    "        np.savez_compressed(os.path.join(ROOT, pattern), seq=data[0], scores=data[1])\n",
    "        threading_start = time.time()\n",
    "        print(\"Data was stored in {}({} rows) (Took: {}s)\".format(filename, len(data[1]),time.time() - threading_start))\n",
    "        sys.stdout.flush()\n",
    "    except Exception as e:\n",
    "        print(\"Something went wrong went writting in to tfrecords file\")\n",
    "        print(e)\n",
    "        sys.stdout.flush()\n"
   ]
  },
  {
   "cell_type": "code",
   "execution_count": null,
   "metadata": {
    "scrolled": true
   },
   "outputs": [
    {
     "name": "stdout",
     "output_type": "stream",
     "text": [
      "'>' not supported between instances of 'NoneType' and 'float'\n",
      "Waiting for threads to finish\n"
     ]
    }
   ],
   "source": [
    "save_as_multithreaded(\"../../data/protein/embedding/hard\", save_as_npz)"
   ]
  },
  {
   "cell_type": "markdown",
   "metadata": {},
   "source": [
    "## Analysis"
   ]
  },
  {
   "cell_type": "code",
   "execution_count": 22,
   "metadata": {
    "scrolled": false
   },
   "outputs": [
    {
     "data": {
      "text/plain": [
       "'MTVEARVDRRAVPVHDDLDAGHRVSGAADSHFGCVVRSFSTMFPARRFGGGALAVYLDGRPVVDVWTGWSDRGGDRPWSADSAPMVFSATKGMAATVIHRLADRGLVDYEAPVAEYWPEFGANGKANLTVRDVMRHAAGLSGLRGARSEDLLDHVVMEERLAAAAPGRLLGKSAYHALTFGWLMSGLARGVTGKGMRALIREELAEPLGTDGLYLGRPPAGAPTRVAEIIAPQNLVRNPLLSCVTRKVANELSGGFRSMYFPGMVAAVQGDTPLLDAEIPAANGVATARGLARMYGAIANGGEVDGIRFLSREMVAGLTGRRSLRPDRNLFMPLAFHLGYHSLPIGNVMPGFGHVGLGGSLGWTDPPSGLAFSLVHNRLLTPFVMTDHAAFVALYALIRNAAEKARKRGFEPVTEFGAPYFQPGAVAG'"
      ]
     },
     "execution_count": 22,
     "metadata": {},
     "output_type": "execute_result"
    }
   ],
   "source": [
    "\"\".join([ID_TO_AMINO_ACID[x] for x in  sequences[0] if x != 0])"
   ]
  },
  {
   "cell_type": "code",
   "execution_count": 21,
   "metadata": {},
   "outputs": [
    {
     "data": {
      "text/plain": [
       "(5120,)"
      ]
     },
     "execution_count": 21,
     "metadata": {},
     "output_type": "execute_result"
    }
   ],
   "source": [
    "scores.shape"
   ]
  },
  {
   "cell_type": "code",
   "execution_count": 100,
   "metadata": {},
   "outputs": [
    {
     "data": {
      "text/plain": [
       "array([0.85874426, 0.8723316 , 1.7435211 , 0.9066566 , 1.7519985 ,\n",
       "       1.2749206 , 0.9214524 , 1.9551178 , 0.63511056, 2.0029273 ],\n",
       "      dtype=float32)"
      ]
     },
     "execution_count": 100,
     "metadata": {},
     "output_type": "execute_result"
    }
   ],
   "source": [
    "scores[[210,  46,   3, 162,  86, 184, 135, 189,  80,  53]]\n",
    "# (array([210,  46,   3, 162,  86], dtype=int64),\n",
    "#  array([123, 136, 138, 118,  22], dtype=int64))"
   ]
  },
  {
   "cell_type": "code",
   "execution_count": 101,
   "metadata": {},
   "outputs": [
    {
     "data": {
      "text/plain": [
       "array([2.5441122, 2.888978 , 2.7500596, 2.771639 , 2.7904115, 2.992539 ,\n",
       "       2.569421 , 2.8541427, 2.8504214, 2.9498117], dtype=float32)"
      ]
     },
     "execution_count": 101,
     "metadata": {},
     "output_type": "execute_result"
    }
   ],
   "source": [
    "scores[[142,  24, 117, 137, 128, 123, 136, 138, 118,  22]]"
   ]
  },
  {
   "cell_type": "code",
   "execution_count": 103,
   "metadata": {},
   "outputs": [
    {
     "data": {
      "text/plain": [
       "(array([336,  80, 466, 210, 302,  46, 418, 162, 391, 135], dtype=int64),\n",
       " array([506, 250, 147, 403,  63, 319, 204, 460, 171, 427], dtype=int64))"
      ]
     },
     "execution_count": 103,
     "metadata": {},
     "output_type": "execute_result"
    }
   ],
   "source": [
    "scores.argsort(axis=0)[:10], scores.argsort(axis=0)[-10:]"
   ]
  },
  {
   "cell_type": "code",
   "execution_count": 108,
   "metadata": {},
   "outputs": [],
   "source": [
    "a_scores = [5.763989448547363,16.34835720062256,16.912442684173584,41.02971601486206,5.302796363830566,5.70671272277832,25.228277683258057,7.146716117858887,5.096601486206055,3.9381494522094727,12.996936798095703,9.719063758850098,3.5146589279174805,3.3181838989257812,3.999410629272461,15.865331172943115,5.400596618652344,8.180281162261963,13.174888134002686,11.942434310913086,22.709521293640137,15.048619270324707,4.226090431213379,11.418336391448975,6.203150749206543,8.175767421722412,43.127867221832275,9.926605224609375,44.87994194030762,18.72093391418457,9.535984516143799,3.790769577026367,9.873002529144287,28.970005989074707,9.007229328155518,4.817741394042969,12.549857139587402,3.652944564819336,16.239166259765625,22.187833309173584,4.388591766357422,18.096747875213623,12.497518062591553,7.754159927368164,5.7018232345581055,5.385113716125488,31.97294521331787,6.330876350402832,25.328668117523193,6.5586442947387695,8.033462524414062,17.22890615463257,6.064653396606445,25.55495595932007,22.334675788879395,7.816396713256836,3.3266677856445312,4.149695873260498,15.471694946289062,6.731616020202637,9.297334671020508,25.512556552886963,5.05133056640625,4.916384696960449,6.1556243896484375,27.4039626121521,18.870399475097656,3.659233570098877,22.16541051864624,6.014122009277344,29.155909538269043,24.865150928497314,6.148896217346191,4.456441879272461,36.230844020843506,21.893184661865234,4.679718017578125,8.474009037017822,17.973877906799316,10.448594093322754,32.776719093322754,10.42057991027832,6.495640754699707,5.384268283843994,9.843405723571777,2.1211185455322266,35.047926902770996,9.187013149261475,3.6614198684692383,6.333958625793457,7.550034999847412,13.512449264526367,20.336669921875,4.178987979888916,3.365877628326416,21.484695434570312,7.349902153015137,9.73277997970581,25.623199939727783,9.450332164764404,15.263635158538818,23.229173183441162,20.681382656097412,4.582851409912109,20.545052528381348,2.867743492126465,11.519810676574707,20.407901763916016,3.23898983001709,18.20640468597412,5.586087703704834,10.088312149047852,19.812275409698486,4.547212600708008,26.56522512435913,30.005449295043945,37.34163856506348,8.872427940368652,5.690378189086914,45.78540325164795,9.842347145080566,38.25021409988403,7.921853542327881,3.9880475997924805,7.606886386871338,11.440752029418945,24.917625427246094,10.747987747192383,3.1897478103637695,3.3536224365234375,7.165192604064941,4.481685638427734,26.078386306762695,10.525011539459229,3.2045955657958984,34.19850778579712,5.21912956237793,6.198361396789551,5.190456390380859,5.720827579498291,17.15915822982788,13.962836265563965,6.191702365875244,6.513998031616211,26.759228229522705,23.074337482452393,4.451974868774414,5.091446876525879,14.548539161682129,16.64423418045044,5.378070831298828,21.36000156402588,3.6596765518188477,7.9518232345581055,4.218654632568359,6.371386528015137,9.05506944656372,7.523493766784668,14.402921199798584,5.650209426879883,7.506370544433594,16.435704231262207,29.36879062652588,6.972742080688477,6.135900497436523,7.812517166137695,30.80285358428955,19.008928298950195,22.563151836395264,9.925041675567627,8.549678802490234,4.409868240356445,7.124042987823486,10.693761348724365,10.838569164276123,7.467924118041992,3.3315248489379883,10.90412425994873,8.984777450561523,9.5506272315979,11.115557670593262,4.262716293334961,8.036658763885498,18.585110664367676,27.57838726043701,4.624139785766602,18.324599266052246,8.86291217803955,20.439035415649414,35.062543869018555,9.112467765808105,24.089383125305176,23.790390968322754,16.31876850128174,3.7423229217529297,9.917150020599365,17.03303861618042,12.932655334472656,17.178348541259766,10.088364601135254,4.725707054138184,4.925791263580322,6.185546875,6.976569175720215,3.702641487121582,9.513192176818848,10.202939510345459,4.839154243469238,6.771781921386719,9.581177234649658,30.46738576889038,24.702009677886963,17.939661502838135,7.759855270385742,12.423149108886719,7.261037826538086,4.9377241134643555,4.556290626525879,5.789980411529541,10.63567066192627,9.840155124664307,8.37946605682373,3.245781898498535,14.573859691619873,12.270698070526123,7.986940860748291,7.5322041511535645,4.5632524490356445,12.521952152252197,5.322998046875,5.59165096282959,3.4178380966186523,7.896445274353027,8.388476371765137,17.809837818145752,10.974207878112793,10.277129650115967,7.909133434295654,20.99509334564209,5.896093368530273,14.895615577697754,7.073772430419922,12.100501537322998,13.862523555755615,7.526375770568848,5.502490997314453,10.848763465881348,31.82371997833252,6.382550239562988,15.99025821685791,4.569219589233398,9.46271276473999,4.057765007019043,5.025197982788086,21.002982139587402,12.877090454101562]"
   ]
  },
  {
   "cell_type": "code",
   "execution_count": 109,
   "metadata": {},
   "outputs": [],
   "source": [
    "o_scores = scores[:256]"
   ]
  },
  {
   "cell_type": "code",
   "execution_count": 113,
   "metadata": {},
   "outputs": [],
   "source": [
    "df = pd.DataFrame([o_scores, a_scores]).transpose()"
   ]
  },
  {
   "cell_type": "code",
   "execution_count": 122,
   "metadata": {},
   "outputs": [
    {
     "data": {
      "text/html": [
       "<div>\n",
       "<style scoped>\n",
       "    .dataframe tbody tr th:only-of-type {\n",
       "        vertical-align: middle;\n",
       "    }\n",
       "\n",
       "    .dataframe tbody tr th {\n",
       "        vertical-align: top;\n",
       "    }\n",
       "\n",
       "    .dataframe thead th {\n",
       "        text-align: right;\n",
       "    }\n",
       "</style>\n",
       "<table border=\"1\" class=\"dataframe\">\n",
       "  <thead>\n",
       "    <tr style=\"text-align: right;\">\n",
       "      <th></th>\n",
       "      <th>0</th>\n",
       "      <th>1</th>\n",
       "    </tr>\n",
       "  </thead>\n",
       "  <tbody>\n",
       "    <tr>\n",
       "      <th>4</th>\n",
       "      <td>2.979533</td>\n",
       "      <td>5.302796</td>\n",
       "    </tr>\n",
       "    <tr>\n",
       "      <th>5</th>\n",
       "      <td>2.579096</td>\n",
       "      <td>5.706713</td>\n",
       "    </tr>\n",
       "    <tr>\n",
       "      <th>7</th>\n",
       "      <td>2.550770</td>\n",
       "      <td>7.146716</td>\n",
       "    </tr>\n",
       "    <tr>\n",
       "      <th>8</th>\n",
       "      <td>2.544019</td>\n",
       "      <td>5.096601</td>\n",
       "    </tr>\n",
       "    <tr>\n",
       "      <th>9</th>\n",
       "      <td>2.887515</td>\n",
       "      <td>3.938149</td>\n",
       "    </tr>\n",
       "    <tr>\n",
       "      <th>12</th>\n",
       "      <td>2.765860</td>\n",
       "      <td>3.514659</td>\n",
       "    </tr>\n",
       "    <tr>\n",
       "      <th>13</th>\n",
       "      <td>2.876865</td>\n",
       "      <td>3.318184</td>\n",
       "    </tr>\n",
       "    <tr>\n",
       "      <th>14</th>\n",
       "      <td>2.845802</td>\n",
       "      <td>3.999411</td>\n",
       "    </tr>\n",
       "    <tr>\n",
       "      <th>16</th>\n",
       "      <td>2.547663</td>\n",
       "      <td>5.400597</td>\n",
       "    </tr>\n",
       "    <tr>\n",
       "      <th>18</th>\n",
       "      <td>2.582014</td>\n",
       "      <td>13.174888</td>\n",
       "    </tr>\n",
       "    <tr>\n",
       "      <th>22</th>\n",
       "      <td>2.949812</td>\n",
       "      <td>4.226090</td>\n",
       "    </tr>\n",
       "    <tr>\n",
       "      <th>24</th>\n",
       "      <td>2.888978</td>\n",
       "      <td>6.203151</td>\n",
       "    </tr>\n",
       "    <tr>\n",
       "      <th>27</th>\n",
       "      <td>2.812789</td>\n",
       "      <td>9.926605</td>\n",
       "    </tr>\n",
       "    <tr>\n",
       "      <th>31</th>\n",
       "      <td>2.744304</td>\n",
       "      <td>3.790770</td>\n",
       "    </tr>\n",
       "    <tr>\n",
       "      <th>34</th>\n",
       "      <td>2.905043</td>\n",
       "      <td>9.007229</td>\n",
       "    </tr>\n",
       "    <tr>\n",
       "      <th>35</th>\n",
       "      <td>2.688325</td>\n",
       "      <td>4.817741</td>\n",
       "    </tr>\n",
       "    <tr>\n",
       "      <th>36</th>\n",
       "      <td>2.842984</td>\n",
       "      <td>12.549857</td>\n",
       "    </tr>\n",
       "    <tr>\n",
       "      <th>37</th>\n",
       "      <td>2.885865</td>\n",
       "      <td>3.652945</td>\n",
       "    </tr>\n",
       "    <tr>\n",
       "      <th>39</th>\n",
       "      <td>2.566461</td>\n",
       "      <td>22.187833</td>\n",
       "    </tr>\n",
       "    <tr>\n",
       "      <th>40</th>\n",
       "      <td>2.899333</td>\n",
       "      <td>4.388592</td>\n",
       "    </tr>\n",
       "    <tr>\n",
       "      <th>43</th>\n",
       "      <td>2.556618</td>\n",
       "      <td>7.754160</td>\n",
       "    </tr>\n",
       "    <tr>\n",
       "      <th>44</th>\n",
       "      <td>2.723052</td>\n",
       "      <td>5.701823</td>\n",
       "    </tr>\n",
       "    <tr>\n",
       "      <th>45</th>\n",
       "      <td>2.894643</td>\n",
       "      <td>5.385114</td>\n",
       "    </tr>\n",
       "    <tr>\n",
       "      <th>47</th>\n",
       "      <td>2.724143</td>\n",
       "      <td>6.330876</td>\n",
       "    </tr>\n",
       "    <tr>\n",
       "      <th>49</th>\n",
       "      <td>2.604289</td>\n",
       "      <td>6.558644</td>\n",
       "    </tr>\n",
       "    <tr>\n",
       "      <th>50</th>\n",
       "      <td>2.555000</td>\n",
       "      <td>8.033463</td>\n",
       "    </tr>\n",
       "    <tr>\n",
       "      <th>52</th>\n",
       "      <td>2.670947</td>\n",
       "      <td>6.064653</td>\n",
       "    </tr>\n",
       "    <tr>\n",
       "      <th>55</th>\n",
       "      <td>2.724607</td>\n",
       "      <td>7.816397</td>\n",
       "    </tr>\n",
       "    <tr>\n",
       "      <th>56</th>\n",
       "      <td>3.022531</td>\n",
       "      <td>3.326668</td>\n",
       "    </tr>\n",
       "    <tr>\n",
       "      <th>57</th>\n",
       "      <td>2.768328</td>\n",
       "      <td>4.149696</td>\n",
       "    </tr>\n",
       "    <tr>\n",
       "      <th>...</th>\n",
       "      <td>...</td>\n",
       "      <td>...</td>\n",
       "    </tr>\n",
       "    <tr>\n",
       "      <th>203</th>\n",
       "      <td>2.743215</td>\n",
       "      <td>6.976569</td>\n",
       "    </tr>\n",
       "    <tr>\n",
       "      <th>204</th>\n",
       "      <td>3.121183</td>\n",
       "      <td>3.702641</td>\n",
       "    </tr>\n",
       "    <tr>\n",
       "      <th>206</th>\n",
       "      <td>2.792338</td>\n",
       "      <td>10.202940</td>\n",
       "    </tr>\n",
       "    <tr>\n",
       "      <th>208</th>\n",
       "      <td>2.590846</td>\n",
       "      <td>6.771782</td>\n",
       "    </tr>\n",
       "    <tr>\n",
       "      <th>209</th>\n",
       "      <td>2.610511</td>\n",
       "      <td>9.581177</td>\n",
       "    </tr>\n",
       "    <tr>\n",
       "      <th>213</th>\n",
       "      <td>2.598457</td>\n",
       "      <td>7.759855</td>\n",
       "    </tr>\n",
       "    <tr>\n",
       "      <th>215</th>\n",
       "      <td>2.730442</td>\n",
       "      <td>7.261038</td>\n",
       "    </tr>\n",
       "    <tr>\n",
       "      <th>216</th>\n",
       "      <td>2.645692</td>\n",
       "      <td>4.937724</td>\n",
       "    </tr>\n",
       "    <tr>\n",
       "      <th>217</th>\n",
       "      <td>2.836891</td>\n",
       "      <td>4.556291</td>\n",
       "    </tr>\n",
       "    <tr>\n",
       "      <th>218</th>\n",
       "      <td>2.767646</td>\n",
       "      <td>5.789980</td>\n",
       "    </tr>\n",
       "    <tr>\n",
       "      <th>219</th>\n",
       "      <td>2.654698</td>\n",
       "      <td>10.635671</td>\n",
       "    </tr>\n",
       "    <tr>\n",
       "      <th>220</th>\n",
       "      <td>2.834375</td>\n",
       "      <td>9.840155</td>\n",
       "    </tr>\n",
       "    <tr>\n",
       "      <th>222</th>\n",
       "      <td>2.717194</td>\n",
       "      <td>3.245782</td>\n",
       "    </tr>\n",
       "    <tr>\n",
       "      <th>224</th>\n",
       "      <td>2.505387</td>\n",
       "      <td>12.270698</td>\n",
       "    </tr>\n",
       "    <tr>\n",
       "      <th>226</th>\n",
       "      <td>2.896715</td>\n",
       "      <td>7.532204</td>\n",
       "    </tr>\n",
       "    <tr>\n",
       "      <th>227</th>\n",
       "      <td>2.725903</td>\n",
       "      <td>4.563252</td>\n",
       "    </tr>\n",
       "    <tr>\n",
       "      <th>228</th>\n",
       "      <td>2.556894</td>\n",
       "      <td>12.521952</td>\n",
       "    </tr>\n",
       "    <tr>\n",
       "      <th>229</th>\n",
       "      <td>2.683682</td>\n",
       "      <td>5.322998</td>\n",
       "    </tr>\n",
       "    <tr>\n",
       "      <th>230</th>\n",
       "      <td>2.798980</td>\n",
       "      <td>5.591651</td>\n",
       "    </tr>\n",
       "    <tr>\n",
       "      <th>231</th>\n",
       "      <td>2.738173</td>\n",
       "      <td>3.417838</td>\n",
       "    </tr>\n",
       "    <tr>\n",
       "      <th>232</th>\n",
       "      <td>2.522867</td>\n",
       "      <td>7.896445</td>\n",
       "    </tr>\n",
       "    <tr>\n",
       "      <th>233</th>\n",
       "      <td>2.887621</td>\n",
       "      <td>8.388476</td>\n",
       "    </tr>\n",
       "    <tr>\n",
       "      <th>236</th>\n",
       "      <td>2.591747</td>\n",
       "      <td>10.277130</td>\n",
       "    </tr>\n",
       "    <tr>\n",
       "      <th>239</th>\n",
       "      <td>2.728478</td>\n",
       "      <td>5.896093</td>\n",
       "    </tr>\n",
       "    <tr>\n",
       "      <th>241</th>\n",
       "      <td>2.668979</td>\n",
       "      <td>7.073772</td>\n",
       "    </tr>\n",
       "    <tr>\n",
       "      <th>248</th>\n",
       "      <td>2.570154</td>\n",
       "      <td>6.382550</td>\n",
       "    </tr>\n",
       "    <tr>\n",
       "      <th>250</th>\n",
       "      <td>3.051447</td>\n",
       "      <td>4.569220</td>\n",
       "    </tr>\n",
       "    <tr>\n",
       "      <th>252</th>\n",
       "      <td>2.666413</td>\n",
       "      <td>4.057765</td>\n",
       "    </tr>\n",
       "    <tr>\n",
       "      <th>253</th>\n",
       "      <td>2.934995</td>\n",
       "      <td>5.025198</td>\n",
       "    </tr>\n",
       "    <tr>\n",
       "      <th>254</th>\n",
       "      <td>2.593583</td>\n",
       "      <td>21.002982</td>\n",
       "    </tr>\n",
       "  </tbody>\n",
       "</table>\n",
       "<p>127 rows × 2 columns</p>\n",
       "</div>"
      ],
      "text/plain": [
       "            0          1\n",
       "4    2.979533   5.302796\n",
       "5    2.579096   5.706713\n",
       "7    2.550770   7.146716\n",
       "8    2.544019   5.096601\n",
       "9    2.887515   3.938149\n",
       "12   2.765860   3.514659\n",
       "13   2.876865   3.318184\n",
       "14   2.845802   3.999411\n",
       "16   2.547663   5.400597\n",
       "18   2.582014  13.174888\n",
       "22   2.949812   4.226090\n",
       "24   2.888978   6.203151\n",
       "27   2.812789   9.926605\n",
       "31   2.744304   3.790770\n",
       "34   2.905043   9.007229\n",
       "35   2.688325   4.817741\n",
       "36   2.842984  12.549857\n",
       "37   2.885865   3.652945\n",
       "39   2.566461  22.187833\n",
       "40   2.899333   4.388592\n",
       "43   2.556618   7.754160\n",
       "44   2.723052   5.701823\n",
       "45   2.894643   5.385114\n",
       "47   2.724143   6.330876\n",
       "49   2.604289   6.558644\n",
       "50   2.555000   8.033463\n",
       "52   2.670947   6.064653\n",
       "55   2.724607   7.816397\n",
       "56   3.022531   3.326668\n",
       "57   2.768328   4.149696\n",
       "..        ...        ...\n",
       "203  2.743215   6.976569\n",
       "204  3.121183   3.702641\n",
       "206  2.792338  10.202940\n",
       "208  2.590846   6.771782\n",
       "209  2.610511   9.581177\n",
       "213  2.598457   7.759855\n",
       "215  2.730442   7.261038\n",
       "216  2.645692   4.937724\n",
       "217  2.836891   4.556291\n",
       "218  2.767646   5.789980\n",
       "219  2.654698  10.635671\n",
       "220  2.834375   9.840155\n",
       "222  2.717194   3.245782\n",
       "224  2.505387  12.270698\n",
       "226  2.896715   7.532204\n",
       "227  2.725903   4.563252\n",
       "228  2.556894  12.521952\n",
       "229  2.683682   5.322998\n",
       "230  2.798980   5.591651\n",
       "231  2.738173   3.417838\n",
       "232  2.522867   7.896445\n",
       "233  2.887621   8.388476\n",
       "236  2.591747  10.277130\n",
       "239  2.728478   5.896093\n",
       "241  2.668979   7.073772\n",
       "248  2.570154   6.382550\n",
       "250  3.051447   4.569220\n",
       "252  2.666413   4.057765\n",
       "253  2.934995   5.025198\n",
       "254  2.593583  21.002982\n",
       "\n",
       "[127 rows x 2 columns]"
      ]
     },
     "execution_count": 122,
     "metadata": {},
     "output_type": "execute_result"
    }
   ],
   "source": [
    "df[(df[0] > 2.5)]"
   ]
  }
 ],
 "metadata": {
  "kernelspec": {
   "display_name": "Python 3",
   "language": "python",
   "name": "python3"
  },
  "language_info": {
   "codemirror_mode": {
    "name": "ipython",
    "version": 3
   },
   "file_extension": ".py",
   "mimetype": "text/x-python",
   "name": "python",
   "nbconvert_exporter": "python",
   "pygments_lexer": "ipython3",
   "version": "3.6.6"
  }
 },
 "nbformat": 4,
 "nbformat_minor": 2
}
